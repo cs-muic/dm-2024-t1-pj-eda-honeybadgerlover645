{
 "cells": [
  {
   "cell_type": "code",
   "execution_count": 2,
   "metadata": {},
   "outputs": [],
   "source": [
    "! pip install plotly --quiet\n",
    "! pip install pyarrow --quiet\n",
    "\n",
    "import duckdb\n",
    "import pandas as pd\n",
    "import seaborn as sns\n",
    "import matplotlib.pyplot as plt\n",
    "import plotly.express as px"
   ]
  },
  {
   "cell_type": "code",
   "execution_count": 39,
   "metadata": {},
   "outputs": [
    {
     "name": "stdout",
     "output_type": "stream",
     "text": [
      "Index(['GlobalEventID', 'Day', 'MonthYear', 'Year', 'FractionDate',\n",
      "       'Actor1Code', 'Actor1Name', 'Actor1CountryCode', 'Actor1KnownGroupCode',\n",
      "       'Actor2Code', 'Actor2Name', 'Actor2CountryCode', 'Actor2KnownGroupCode',\n",
      "       'IsRootEvent', 'EventCode', 'EventBaseCode', 'EventRootCode',\n",
      "       'QuadClass', 'GoldsteinScale', 'NumMentions', 'NumSources',\n",
      "       'NumArticles', 'AvgTone', 'Actor1Geo_Type', 'Actor1Geo_CountryCode',\n",
      "       'Actor2Geo_Type', 'Actor2Geo_CountryCode', 'ActionGeo_Type',\n",
      "       'ActionGeo_CountryCode', 'SOURCEURL'],\n",
      "      dtype='object')\n",
      "Index(['Open', 'High', 'Low', 'Close', 'Adj Close', 'Volume', 'Sector',\n",
      "       'Stock', 'Date'],\n",
      "      dtype='object')\n"
     ]
    }
   ],
   "source": [
    "con_gdelt = duckdb.connect('eda-ddb/eda-gdelt.ddb')\n",
    "print(con_gdelt.execute(\"SELECT * FROM gdelt LIMIT 1\").fetch_df().columns)\n",
    "\n",
    "con_yfinance = duckdb.connect('eda-ddb/eda-yfinance.ddb')\n",
    "print(con_yfinance.execute(\"SELECT * FROM yfinance LIMIT 1\").fetch_df().columns)"
   ]
  },
  {
   "cell_type": "code",
   "execution_count": 55,
   "metadata": {},
   "outputs": [
    {
     "data": {
      "text/html": [
       "<div>\n",
       "<style scoped>\n",
       "    .dataframe tbody tr th:only-of-type {\n",
       "        vertical-align: middle;\n",
       "    }\n",
       "\n",
       "    .dataframe tbody tr th {\n",
       "        vertical-align: top;\n",
       "    }\n",
       "\n",
       "    .dataframe thead th {\n",
       "        text-align: right;\n",
       "    }\n",
       "</style>\n",
       "<table border=\"1\" class=\"dataframe\">\n",
       "  <thead>\n",
       "    <tr style=\"text-align: right;\">\n",
       "      <th></th>\n",
       "      <th>GlobalEventID</th>\n",
       "      <th>EventDate</th>\n",
       "      <th>AvgTone</th>\n",
       "      <th>GoldsteinScale</th>\n",
       "      <th>NumMentions</th>\n",
       "    </tr>\n",
       "  </thead>\n",
       "  <tbody>\n",
       "    <tr>\n",
       "      <th>0</th>\n",
       "      <td>813415804</td>\n",
       "      <td>2019-01-01</td>\n",
       "      <td>0.607903</td>\n",
       "      <td>1.9</td>\n",
       "      <td>8.0</td>\n",
       "    </tr>\n",
       "    <tr>\n",
       "      <th>1</th>\n",
       "      <td>813415805</td>\n",
       "      <td>2019-01-01</td>\n",
       "      <td>2.501833</td>\n",
       "      <td>4.0</td>\n",
       "      <td>48.0</td>\n",
       "    </tr>\n",
       "    <tr>\n",
       "      <th>2</th>\n",
       "      <td>813415806</td>\n",
       "      <td>2019-01-01</td>\n",
       "      <td>3.339186</td>\n",
       "      <td>1.9</td>\n",
       "      <td>192.0</td>\n",
       "    </tr>\n",
       "    <tr>\n",
       "      <th>3</th>\n",
       "      <td>813415807</td>\n",
       "      <td>2019-01-01</td>\n",
       "      <td>-1.510989</td>\n",
       "      <td>3.5</td>\n",
       "      <td>20.0</td>\n",
       "    </tr>\n",
       "    <tr>\n",
       "      <th>4</th>\n",
       "      <td>813415808</td>\n",
       "      <td>2019-01-01</td>\n",
       "      <td>-3.867403</td>\n",
       "      <td>-2.0</td>\n",
       "      <td>4.0</td>\n",
       "    </tr>\n",
       "    <tr>\n",
       "      <th>...</th>\n",
       "      <td>...</td>\n",
       "      <td>...</td>\n",
       "      <td>...</td>\n",
       "      <td>...</td>\n",
       "      <td>...</td>\n",
       "    </tr>\n",
       "    <tr>\n",
       "      <th>56081412</th>\n",
       "      <td>962072061</td>\n",
       "      <td>2019-12-31</td>\n",
       "      <td>-12.032086</td>\n",
       "      <td>-5.0</td>\n",
       "      <td>6.0</td>\n",
       "    </tr>\n",
       "    <tr>\n",
       "      <th>56081413</th>\n",
       "      <td>962072062</td>\n",
       "      <td>2019-12-31</td>\n",
       "      <td>-10.223642</td>\n",
       "      <td>0.0</td>\n",
       "      <td>10.0</td>\n",
       "    </tr>\n",
       "    <tr>\n",
       "      <th>56081414</th>\n",
       "      <td>962072063</td>\n",
       "      <td>2019-12-31</td>\n",
       "      <td>-12.032086</td>\n",
       "      <td>-5.0</td>\n",
       "      <td>2.0</td>\n",
       "    </tr>\n",
       "    <tr>\n",
       "      <th>56081415</th>\n",
       "      <td>962072064</td>\n",
       "      <td>2019-12-31</td>\n",
       "      <td>-12.032086</td>\n",
       "      <td>-5.0</td>\n",
       "      <td>4.0</td>\n",
       "    </tr>\n",
       "    <tr>\n",
       "      <th>56081416</th>\n",
       "      <td>962072065</td>\n",
       "      <td>2019-12-31</td>\n",
       "      <td>-12.032086</td>\n",
       "      <td>-5.0</td>\n",
       "      <td>2.0</td>\n",
       "    </tr>\n",
       "  </tbody>\n",
       "</table>\n",
       "<p>56081417 rows × 5 columns</p>\n",
       "</div>"
      ],
      "text/plain": [
       "          GlobalEventID  EventDate    AvgTone  GoldsteinScale  NumMentions\n",
       "0             813415804 2019-01-01   0.607903             1.9          8.0\n",
       "1             813415805 2019-01-01   2.501833             4.0         48.0\n",
       "2             813415806 2019-01-01   3.339186             1.9        192.0\n",
       "3             813415807 2019-01-01  -1.510989             3.5         20.0\n",
       "4             813415808 2019-01-01  -3.867403            -2.0          4.0\n",
       "...                 ...        ...        ...             ...          ...\n",
       "56081412      962072061 2019-12-31 -12.032086            -5.0          6.0\n",
       "56081413      962072062 2019-12-31 -10.223642             0.0         10.0\n",
       "56081414      962072063 2019-12-31 -12.032086            -5.0          2.0\n",
       "56081415      962072064 2019-12-31 -12.032086            -5.0          4.0\n",
       "56081416      962072065 2019-12-31 -12.032086            -5.0          2.0\n",
       "\n",
       "[56081417 rows x 5 columns]"
      ]
     },
     "execution_count": 55,
     "metadata": {},
     "output_type": "execute_result"
    }
   ],
   "source": [
    "con_gdelt.execute(\"\"\"\n",
    "CREATE OR REPLACE TABLE gdelt_clean AS\n",
    "SELECT GlobalEventID, \n",
    "       STRPTIME(CAST(Day AS VARCHAR), '%Y%m%d') AS EventDate, \n",
    "       AvgTone, GoldsteinScale, NumMentions\n",
    "FROM gdelt\n",
    "WHERE Year = 2019\n",
    "\"\"\")\n",
    "\n",
    "gdelt_df = con_gdelt.execute(\"SELECT * FROM gdelt_clean\").fetch_df()\n",
    "gdelt_df"
   ]
  },
  {
   "cell_type": "code",
   "execution_count": 44,
   "metadata": {},
   "outputs": [
    {
     "data": {
      "text/html": [
       "<div>\n",
       "<style scoped>\n",
       "    .dataframe tbody tr th:only-of-type {\n",
       "        vertical-align: middle;\n",
       "    }\n",
       "\n",
       "    .dataframe tbody tr th {\n",
       "        vertical-align: top;\n",
       "    }\n",
       "\n",
       "    .dataframe thead th {\n",
       "        text-align: right;\n",
       "    }\n",
       "</style>\n",
       "<table border=\"1\" class=\"dataframe\">\n",
       "  <thead>\n",
       "    <tr style=\"text-align: right;\">\n",
       "      <th></th>\n",
       "      <th>Date</th>\n",
       "      <th>Close</th>\n",
       "      <th>Stock</th>\n",
       "      <th>Sector</th>\n",
       "    </tr>\n",
       "  </thead>\n",
       "  <tbody>\n",
       "    <tr>\n",
       "      <th>0</th>\n",
       "      <td>2019-01-02</td>\n",
       "      <td>39.480000</td>\n",
       "      <td>AAPL</td>\n",
       "      <td>tech</td>\n",
       "    </tr>\n",
       "    <tr>\n",
       "      <th>1</th>\n",
       "      <td>2019-01-03</td>\n",
       "      <td>35.547501</td>\n",
       "      <td>AAPL</td>\n",
       "      <td>tech</td>\n",
       "    </tr>\n",
       "    <tr>\n",
       "      <th>2</th>\n",
       "      <td>2019-01-04</td>\n",
       "      <td>37.064999</td>\n",
       "      <td>AAPL</td>\n",
       "      <td>tech</td>\n",
       "    </tr>\n",
       "    <tr>\n",
       "      <th>3</th>\n",
       "      <td>2019-01-07</td>\n",
       "      <td>36.982498</td>\n",
       "      <td>AAPL</td>\n",
       "      <td>tech</td>\n",
       "    </tr>\n",
       "    <tr>\n",
       "      <th>4</th>\n",
       "      <td>2019-01-08</td>\n",
       "      <td>37.687500</td>\n",
       "      <td>AAPL</td>\n",
       "      <td>tech</td>\n",
       "    </tr>\n",
       "    <tr>\n",
       "      <th>...</th>\n",
       "      <td>...</td>\n",
       "      <td>...</td>\n",
       "      <td>...</td>\n",
       "      <td>...</td>\n",
       "    </tr>\n",
       "    <tr>\n",
       "      <th>6395</th>\n",
       "      <td>2019-12-24</td>\n",
       "      <td>61.279999</td>\n",
       "      <td>VZ</td>\n",
       "      <td>telecom</td>\n",
       "    </tr>\n",
       "    <tr>\n",
       "      <th>6396</th>\n",
       "      <td>2019-12-26</td>\n",
       "      <td>61.290001</td>\n",
       "      <td>VZ</td>\n",
       "      <td>telecom</td>\n",
       "    </tr>\n",
       "    <tr>\n",
       "      <th>6397</th>\n",
       "      <td>2019-12-27</td>\n",
       "      <td>61.529999</td>\n",
       "      <td>VZ</td>\n",
       "      <td>telecom</td>\n",
       "    </tr>\n",
       "    <tr>\n",
       "      <th>6398</th>\n",
       "      <td>2019-12-30</td>\n",
       "      <td>61.209999</td>\n",
       "      <td>VZ</td>\n",
       "      <td>telecom</td>\n",
       "    </tr>\n",
       "    <tr>\n",
       "      <th>6399</th>\n",
       "      <td>2019-12-31</td>\n",
       "      <td>61.400002</td>\n",
       "      <td>VZ</td>\n",
       "      <td>telecom</td>\n",
       "    </tr>\n",
       "  </tbody>\n",
       "</table>\n",
       "<p>6400 rows × 4 columns</p>\n",
       "</div>"
      ],
      "text/plain": [
       "           Date      Close Stock   Sector\n",
       "0    2019-01-02  39.480000  AAPL     tech\n",
       "1    2019-01-03  35.547501  AAPL     tech\n",
       "2    2019-01-04  37.064999  AAPL     tech\n",
       "3    2019-01-07  36.982498  AAPL     tech\n",
       "4    2019-01-08  37.687500  AAPL     tech\n",
       "...         ...        ...   ...      ...\n",
       "6395 2019-12-24  61.279999    VZ  telecom\n",
       "6396 2019-12-26  61.290001    VZ  telecom\n",
       "6397 2019-12-27  61.529999    VZ  telecom\n",
       "6398 2019-12-30  61.209999    VZ  telecom\n",
       "6399 2019-12-31  61.400002    VZ  telecom\n",
       "\n",
       "[6400 rows x 4 columns]"
      ]
     },
     "execution_count": 44,
     "metadata": {},
     "output_type": "execute_result"
    }
   ],
   "source": [
    "query = \"\"\"\n",
    "SELECT Date, Close, Stock, Sector\n",
    "FROM yfinance\n",
    "WHERE Date BETWEEN '2019-01-01' AND '2019-12-31'\n",
    "\"\"\"\n",
    "yfinance_df = con_yfinance.execute(query).fetch_df()\n",
    "yfinance_df['Date'] = pd.to_datetime(yfinance_df['Date'])\n",
    "yfinance_df"
   ]
  },
  {
   "cell_type": "markdown",
   "metadata": {},
   "source": [
    "---"
   ]
  },
  {
   "cell_type": "code",
   "execution_count": 26,
   "metadata": {},
   "outputs": [],
   "source": [
    "# Connect to DuckDB (create a single connection)\n",
    "con = duckdb.connect('eda-ddb/eda-gdelt.ddb')\n",
    "\n",
    "# Load and aggregate GDELT data by month for 2019\n",
    "gdelt_monthly_df = con.execute(\"\"\"\n",
    "    SELECT \n",
    "        STRFTIME(STRPTIME(CAST(Day AS VARCHAR), '%Y%m%d'), '%Y-%m') AS Month,\n",
    "        COUNT(GlobalEventID) AS EventCount,\n",
    "        AVG(AvgTone) AS AvgTone\n",
    "    FROM gdelt\n",
    "    WHERE STRPTIME(CAST(Day AS VARCHAR), '%Y%m%d') BETWEEN '2019-01-01' AND '2019-12-31'\n",
    "    GROUP BY Month\n",
    "\"\"\").fetch_df()\n",
    "\n",
    "# Close the GDELT connection\n",
    "con.close()\n"
   ]
  },
  {
   "cell_type": "code",
   "execution_count": 32,
   "metadata": {},
   "outputs": [],
   "source": [
    "# Connect to Yahoo Finance database\n",
    "con_yfinance = duckdb.connect('eda-ddb/eda-yfinance.ddb')\n",
    "\n",
    "# Load and aggregate Yahoo Finance data by month for 2019\n",
    "yfinance_monthly_df = con_yfinance.execute(\"\"\"\n",
    "    SELECT \n",
    "        STRFTIME(Date, '%Y-%m') AS Month,\n",
    "        Stock,\n",
    "        Sector,\n",
    "        AVG(Close) AS AvgClose\n",
    "    FROM yfinance \n",
    "    WHERE Date BETWEEN '2019-01-01' AND '2019-12-31'\n",
    "    GROUP BY Month, Stock, Sector\n",
    "\"\"\").fetch_df()\n",
    "\n",
    "\n",
    "# Close the Yahoo Finance connection\n",
    "con_yfinance.close()\n"
   ]
  },
  {
   "cell_type": "code",
   "execution_count": 33,
   "metadata": {},
   "outputs": [],
   "source": [
    "# Merge the datasets on Month\n",
    "merged_monthly_df = pd.merge(gdelt_monthly_df, yfinance_monthly_df, on='Month', how='inner')"
   ]
  },
  {
   "cell_type": "code",
   "execution_count": 63,
   "metadata": {},
   "outputs": [
    {
     "data": {
      "application/vnd.plotly.v1+json": {
       "config": {
        "plotlyServerURL": "https://plot.ly"
       },
       "data": [
        {
         "hovertemplate": "Stock=DE<br>EventCount=%{x}<br>AvgClose=%{y}<extra></extra>",
         "legendgroup": "DE",
         "marker": {
          "color": "#636efa",
          "symbol": "circle"
         },
         "mode": "markers",
         "name": "DE",
         "orientation": "v",
         "showlegend": true,
         "type": "scatter",
         "x": [
          4825131,
          4295029,
          4759937,
          5183275,
          4648432,
          4027833,
          4743531,
          4580762,
          4828190,
          4585870,
          4948972,
          4654455
         ],
         "xaxis": "x",
         "y": [
          170.49913024902344,
          175.4740005493164,
          162.85894775390625,
          159.46285720098587,
          155.62699966430665,
          171.04571387881325,
          157.30714343843005,
          162.5885009765625,
          163.96571422758558,
          151.90818231756037,
          147.66727170077237,
          165.5295444835316
         ],
         "yaxis": "y"
        },
        {
         "hovertemplate": "Stock=XOM<br>EventCount=%{x}<br>AvgClose=%{y}<extra></extra>",
         "legendgroup": "XOM",
         "marker": {
          "color": "#EF553B",
          "symbol": "circle"
         },
         "mode": "markers",
         "name": "XOM",
         "orientation": "v",
         "showlegend": true,
         "type": "scatter",
         "x": [
          4825131,
          4295029,
          4759937,
          5183275,
          4648432,
          4027833,
          4743531,
          4580762,
          4828190,
          4585870,
          4948972,
          4654455
         ],
         "xaxis": "x",
         "y": [
          68.40478250254755,
          69.68599929809571,
          76.7705262836657,
          80.39666711716424,
          75.14349899291992,
          69.45666685558501,
          71.61428578694661,
          71.54850006103516,
          81.58666628882999,
          69.42636316472834,
          75.48727243596858,
          75.88090896606445
         ],
         "yaxis": "y"
        },
        {
         "hovertemplate": "Stock=MA<br>EventCount=%{x}<br>AvgClose=%{y}<extra></extra>",
         "legendgroup": "MA",
         "marker": {
          "color": "#00cc96",
          "symbol": "circle"
         },
         "mode": "markers",
         "name": "MA",
         "orientation": "v",
         "showlegend": true,
         "type": "scatter",
         "x": [
          4825131,
          4295029,
          4759937,
          5183275,
          4648432,
          4027833,
          4743531,
          4580762,
          4828190,
          4585870,
          4948972,
          4654455
         ],
         "xaxis": "x",
         "y": [
          272.1256528108016,
          280.7015014648438,
          219.4657914011102,
          229.2728554861886,
          260.367000579834,
          293.87952096121654,
          197.0914292108445,
          276.60749969482424,
          240.98380897158668,
          274.0545473965731,
          249.8968172940341,
          276.1427279385653
         ],
         "yaxis": "y"
        },
        {
         "hovertemplate": "Stock=V<br>EventCount=%{x}<br>AvgClose=%{y}<extra></extra>",
         "legendgroup": "V",
         "marker": {
          "color": "#ab63fa",
          "symbol": "circle"
         },
         "mode": "markers",
         "name": "V",
         "orientation": "v",
         "showlegend": true,
         "type": "scatter",
         "x": [
          4825131,
          4295029,
          4759937,
          5183275,
          4648432,
          4027833,
          4743531,
          4580762,
          4828190,
          4585870,
          4948972,
          4654455
         ],
         "xaxis": "x",
         "y": [
          175.7800001061481,
          180.22399978637696,
          143.58157910798727,
          152.26095363071985,
          169.635001373291,
          184.92618960425966,
          136.44238063267298,
          177.1884994506836,
          159.87809462774368,
          177.59227267178622,
          162.05727178400213,
          179.48500061035156
         ],
         "yaxis": "y"
        },
        {
         "hovertemplate": "Stock=NEM<br>EventCount=%{x}<br>AvgClose=%{y}<extra></extra>",
         "legendgroup": "NEM",
         "marker": {
          "color": "#FFA15A",
          "symbol": "circle"
         },
         "mode": "markers",
         "name": "NEM",
         "orientation": "v",
         "showlegend": true,
         "type": "scatter",
         "x": [
          4825131,
          4295029,
          4759937,
          5183275,
          4648432,
          4027833,
          4743531,
          4580762,
          4828190,
          4585870,
          4948972,
          4654455
         ],
         "xaxis": "x",
         "y": [
          38.4143474413001,
          37.85150012969971,
          34.27842090004369,
          34.203333355131605,
          36.274000358581546,
          40.99381001790365,
          33.190952573503765,
          39.16949977874756,
          34.39666666303362,
          38.74636372652921,
          30.96909089521928,
          38.66136308149858
         ],
         "yaxis": "y"
        },
        {
         "hovertemplate": "Stock=PFE<br>EventCount=%{x}<br>AvgClose=%{y}<extra></extra>",
         "legendgroup": "PFE",
         "marker": {
          "color": "#19d3f3",
          "symbol": "circle"
         },
         "mode": "markers",
         "name": "PFE",
         "orientation": "v",
         "showlegend": true,
         "type": "scatter",
         "x": [
          4825131,
          4295029,
          4759937,
          5183275,
          4648432,
          4027833,
          4743531,
          4580762,
          4828190,
          4585870,
          4948972,
          4654455
         ],
         "xaxis": "x",
         "y": [
          34.550779093866765,
          35.66982879638672,
          40.22720477455541,
          39.90421967279343,
          40.81214427947998,
          36.740760803222656,
          40.030721936907085,
          34.61053123474121,
          39.16282599312918,
          33.7735033902255,
          39.227617957375266,
          40.54812864823775
         ],
         "yaxis": "y"
        },
        {
         "hovertemplate": "Stock=T<br>EventCount=%{x}<br>AvgClose=%{y}<extra></extra>",
         "legendgroup": "T",
         "marker": {
          "color": "#FF6692",
          "symbol": "circle"
         },
         "mode": "markers",
         "name": "T",
         "orientation": "v",
         "showlegend": true,
         "type": "scatter",
         "x": [
          4825131,
          4295029,
          4759937,
          5183275,
          4648432,
          4027833,
          4743531,
          4580762,
          4828190,
          4585870,
          4948972,
          4654455
         ],
         "xaxis": "x",
         "y": [
          28.46873780955439,
          29.118957901000975,
          22.873668168720446,
          23.110703513735817,
          24.39539270401001,
          29.085743313743954,
          23.015033994402206,
          28.094410705566407,
          23.96345856076195,
          26.173098043961957,
          23.63121396845037,
          25.358074708418414
         ],
         "yaxis": "y"
        },
        {
         "hovertemplate": "Stock=PG<br>EventCount=%{x}<br>AvgClose=%{y}<extra></extra>",
         "legendgroup": "PG",
         "marker": {
          "color": "#B6E880",
          "symbol": "circle"
         },
         "mode": "markers",
         "name": "PG",
         "orientation": "v",
         "showlegend": true,
         "type": "scatter",
         "x": [
          4825131,
          4295029,
          4759937,
          5183275,
          4648432,
          4027833,
          4743531,
          4580762,
          4828190,
          4585870,
          4948972,
          4654455
         ],
         "xaxis": "x",
         "y": [
          121.61565233313519,
          120.72950019836426,
          98.71473693847656,
          101.02952503022694,
          109.42049980163574,
          124.70523834228516,
          92.41428520565941,
          122.39899978637695,
          104.74095335460845,
          117.89409117265181,
          105.77272761951794,
          114.5790918523615
         ],
         "yaxis": "y"
        },
        {
         "hovertemplate": "Stock=JPM<br>EventCount=%{x}<br>AvgClose=%{y}<extra></extra>",
         "legendgroup": "JPM",
         "marker": {
          "color": "#FF97FF",
          "symbol": "circle"
         },
         "mode": "markers",
         "name": "JPM",
         "orientation": "v",
         "showlegend": true,
         "type": "scatter",
         "x": [
          4825131,
          4295029,
          4759937,
          5183275,
          4648432,
          4027833,
          4743531,
          4580762,
          4828190,
          4585870,
          4948972,
          4654455
         ],
         "xaxis": "x",
         "y": [
          119.56043508778448,
          129.98100051879882,
          104.00999972694798,
          103.26714361281623,
          109.52600059509277,
          136.13095092773438,
          101.88000015985398,
          116.67150115966797,
          109.96380978538876,
          108.41272735595703,
          111.19954508001155,
          114.56727253306995
         ],
         "yaxis": "y"
        },
        {
         "hovertemplate": "Stock=VZ<br>EventCount=%{x}<br>AvgClose=%{y}<extra></extra>",
         "legendgroup": "VZ",
         "marker": {
          "color": "#FECB52",
          "symbol": "circle"
         },
         "mode": "markers",
         "name": "VZ",
         "orientation": "v",
         "showlegend": true,
         "type": "scatter",
         "x": [
          4825131,
          4295029,
          4759937,
          5183275,
          4648432,
          4027833,
          4743531,
          4580762,
          4828190,
          4585870,
          4948972,
          4654455
         ],
         "xaxis": "x",
         "y": [
          60.15347837365192,
          59.716499710083006,
          55.132104773270456,
          57.99476223900204,
          57.29950065612793,
          61.07142838977632,
          56.625238327752974,
          59.72099990844727,
          58.11380985804966,
          56.31999969482422,
          57.44000018726695,
          56.92318205399947
         ],
         "yaxis": "y"
        },
        {
         "hovertemplate": "Stock=ADM<br>EventCount=%{x}<br>AvgClose=%{y}<extra></extra>",
         "legendgroup": "ADM",
         "marker": {
          "color": "#636efa",
          "symbol": "circle"
         },
         "mode": "markers",
         "name": "ADM",
         "orientation": "v",
         "showlegend": true,
         "type": "scatter",
         "x": [
          4825131,
          4295029,
          4759937,
          5183275,
          4648432,
          4027833,
          4743531,
          4580762,
          4828190,
          4585870,
          4948972,
          4654455
         ],
         "xaxis": "x",
         "y": [
          40.24391307001529,
          42.954500389099124,
          42.419999975907174,
          42.617142813546316,
          40.39850006103516,
          44.98142860049293,
          43.21809478033157,
          40.42800025939941,
          42.82666669573103,
          37.91045414317738,
          40.96090871637518,
          41.12409123507413
         ],
         "yaxis": "y"
        },
        {
         "hovertemplate": "Stock=CTVA<br>EventCount=%{x}<br>AvgClose=%{y}<extra></extra>",
         "legendgroup": "CTVA",
         "marker": {
          "color": "#EF553B",
          "symbol": "circle"
         },
         "mode": "markers",
         "name": "CTVA",
         "orientation": "v",
         "showlegend": true,
         "type": "scatter",
         "x": [
          4825131,
          4295029,
          4648432,
          4027833,
          4580762,
          4585870,
          4948972,
          4654455
         ],
         "xaxis": "x",
         "y": [
          26.45000001658564,
          25.889499855041503,
          26.905999851226806,
          27.062380926949636,
          28.72299976348877,
          29.9759088863026,
          28.406999588012695,
          28.01681813326749
         ],
         "yaxis": "y"
        },
        {
         "hovertemplate": "Stock=CVX<br>EventCount=%{x}<br>AvgClose=%{y}<extra></extra>",
         "legendgroup": "CVX",
         "marker": {
          "color": "#00cc96",
          "symbol": "circle"
         },
         "mode": "markers",
         "name": "CVX",
         "orientation": "v",
         "showlegend": true,
         "type": "scatter",
         "x": [
          4825131,
          4295029,
          4759937,
          5183275,
          4648432,
          4027833,
          4743531,
          4580762,
          4828190,
          4585870,
          4948972,
          4654455
         ],
         "xaxis": "x",
         "y": [
          115.63434799857761,
          119.50999908447265,
          119.07210580926193,
          123.68761880057198,
          121.74600067138672,
          118.49571482340495,
          112.24095262799945,
          121.22700004577636,
          122.13619014195034,
          118.48409028486772,
          118.9995443170721,
          124.61363636363636
         ],
         "yaxis": "y"
        },
        {
         "hovertemplate": "Stock=PEP<br>EventCount=%{x}<br>AvgClose=%{y}<extra></extra>",
         "legendgroup": "PEP",
         "marker": {
          "color": "#ab63fa",
          "symbol": "circle"
         },
         "mode": "markers",
         "name": "PEP",
         "orientation": "v",
         "showlegend": true,
         "type": "scatter",
         "x": [
          4825131,
          4295029,
          4759937,
          5183275,
          4648432,
          4027833,
          4743531,
          4580762,
          4828190,
          4585870,
          4948972,
          4654455
         ],
         "xaxis": "x",
         "y": [
          137.1030432659647,
          134.1705009460449,
          114.44105288856908,
          118.10761878603981,
          132.45650100708008,
          136.82000005812873,
          109.36523837134952,
          136.1444999694824,
          124.11095283144996,
          130.8172728798606,
          128.21636442704633,
          131.89136435768822
         ],
         "yaxis": "y"
        },
        {
         "hovertemplate": "Stock=KO<br>EventCount=%{x}<br>AvgClose=%{y}<extra></extra>",
         "legendgroup": "KO",
         "marker": {
          "color": "#FFA15A",
          "symbol": "circle"
         },
         "mode": "markers",
         "name": "KO",
         "orientation": "v",
         "showlegend": true,
         "type": "scatter",
         "x": [
          4825131,
          4295029,
          4759937,
          5183275,
          4648432,
          4027833,
          4743531,
          4580762,
          4828190,
          4585870,
          4948972,
          4654455
         ],
         "xaxis": "x",
         "y": [
          53.897826153299086,
          52.89050006866455,
          47.171578658254525,
          45.82428577968052,
          51.15399990081787,
          54.449999491373696,
          47.355714343843005,
          54.554499816894534,
          47.21952365693592,
          53.722727515480734,
          48.77090904929421,
          52.460909063165836
         ],
         "yaxis": "y"
        },
        {
         "hovertemplate": "Stock=JNJ<br>EventCount=%{x}<br>AvgClose=%{y}<extra></extra>",
         "legendgroup": "JNJ",
         "marker": {
          "color": "#19d3f3",
          "symbol": "circle"
         },
         "mode": "markers",
         "name": "JNJ",
         "orientation": "v",
         "showlegend": true,
         "type": "scatter",
         "x": [
          4825131,
          4295029,
          4759937,
          5183275,
          4648432,
          4027833,
          4743531,
          4580762,
          4828190,
          4585870,
          4948972,
          4654455
         ],
         "xaxis": "x",
         "y": [
          130.87826007345447,
          133.87150115966796,
          134.61000061035156,
          138.2961912609282,
          139.4800003051758,
          142.52857171921502,
          129.0009529477074,
          129.7880012512207,
          137.74666704450334,
          130.44681791825727,
          138.10090845281428,
          134.8172739202326
         ],
         "yaxis": "y"
        },
        {
         "hovertemplate": "Stock=FCX<br>EventCount=%{x}<br>AvgClose=%{y}<extra></extra>",
         "legendgroup": "FCX",
         "marker": {
          "color": "#FF6692",
          "symbol": "circle"
         },
         "mode": "markers",
         "name": "FCX",
         "orientation": "v",
         "showlegend": true,
         "type": "scatter",
         "x": [
          4825131,
          4295029,
          4759937,
          5183275,
          4648432,
          4027833,
          4743531,
          4580762,
          4828190,
          4585870,
          4948972,
          4654455
         ],
         "xaxis": "x",
         "y": [
          9.46217391801917,
          11.13200011253357,
          12.397368380897923,
          12.590476172310966,
          10.864999961853027,
          12.493809518359956,
          11.335238138834635,
          9.996499919891358,
          13.34190473102388,
          9.471363631161777,
          10.726818128065629,
          11.310000029477207
         ],
         "yaxis": "y"
        },
        {
         "hovertemplate": "Stock=MSFT<br>EventCount=%{x}<br>AvgClose=%{y}<extra></extra>",
         "legendgroup": "MSFT",
         "marker": {
          "color": "#B6E880",
          "symbol": "circle"
         },
         "mode": "markers",
         "name": "MSFT",
         "orientation": "v",
         "showlegend": true,
         "type": "scatter",
         "x": [
          4825131,
          4295029,
          4759937,
          5183275,
          4648432,
          4027833,
          4743531,
          4580762,
          4828190,
          4585870,
          4948972,
          4654455
         ],
         "xaxis": "x",
         "y": [
          139.22913062054178,
          148.09550018310546,
          107.92789419073807,
          115.13381013416108,
          131.99400062561034,
          154.17952473958334,
          104.13523828415643,
          138.1155014038086,
          122.79476238432385,
          136.3763628872958,
          126.34636306762695,
          138.102727023038
         ],
         "yaxis": "y"
        },
        {
         "hovertemplate": "Stock=DOW<br>EventCount=%{x}<br>AvgClose=%{y}<extra></extra>",
         "legendgroup": "DOW",
         "marker": {
          "color": "#FF97FF",
          "symbol": "circle"
         },
         "mode": "markers",
         "name": "DOW",
         "orientation": "v",
         "showlegend": true,
         "type": "scatter",
         "x": [
          4825131,
          4295029,
          5183275,
          4648432,
          4027833,
          4580762,
          4828190,
          4585870,
          4948972,
          4654455
         ],
         "xaxis": "x",
         "y": [
          47.34260857623556,
          54.343499946594235,
          49.744999408721924,
          50.27300033569336,
          53.850952511742,
          46.413500022888186,
          56.79000000726609,
          44.03590861233798,
          51.29590918801048,
          49.94590915333141
         ],
         "yaxis": "y"
        },
        {
         "hovertemplate": "Stock=AAPL<br>EventCount=%{x}<br>AvgClose=%{y}<extra></extra>",
         "legendgroup": "AAPL",
         "marker": {
          "color": "#FECB52",
          "symbol": "circle"
         },
         "mode": "markers",
         "name": "AAPL",
         "orientation": "v",
         "showlegend": true,
         "type": "scatter",
         "x": [
          4825131,
          4295029,
          4759937,
          5183275,
          4648432,
          4027833,
          4743531,
          4580762,
          4828190,
          4585870,
          4948972,
          4654455
         ],
         "xaxis": "x",
         "y": [
          58.82163022912067,
          65.63012580871582,
          42.93197330675627,
          45.823452540806365,
          48.24225006103516,
          69.13142758324032,
          38.54154750279018,
          54.49874973297119,
          50.12904775710333,
          51.23943190141158,
          47.81840913945978,
          51.30409102006392
         ],
         "yaxis": "y"
        },
        {
         "hovertemplate": "Stock=BP<br>EventCount=%{x}<br>AvgClose=%{y}<extra></extra>",
         "legendgroup": "BP",
         "marker": {
          "color": "#636efa",
          "symbol": "circle"
         },
         "mode": "markers",
         "name": "BP",
         "orientation": "v",
         "showlegend": true,
         "type": "scatter",
         "x": [
          4825131,
          4295029,
          4759937,
          5183275,
          4648432,
          4027833,
          4743531,
          4580762,
          4828190,
          4585870,
          4948972,
          4654455
         ],
         "xaxis": "x",
         "y": [
          37.755651722783625,
          38.838500022888184,
          42.38631579750463,
          43.42809568132673,
          41.55550060272217,
          37.381428673153835,
          40.122380937848774,
          38.07399978637695,
          44.39999989100865,
          36.961363705721766,
          41.99136387218129,
          40.23045470497825
         ],
         "yaxis": "y"
        },
        {
         "hovertemplate": "Stock=COP<br>EventCount=%{x}<br>AvgClose=%{y}<extra></extra>",
         "legendgroup": "COP",
         "marker": {
          "color": "#EF553B",
          "symbol": "circle"
         },
         "mode": "markers",
         "name": "COP",
         "orientation": "v",
         "showlegend": true,
         "type": "scatter",
         "x": [
          4825131,
          4295029,
          4759937,
          5183275,
          4648432,
          4027833,
          4743531,
          4580762,
          4828190,
          4585870,
          4948972,
          4654455
         ],
         "xaxis": "x",
         "y": [
          55.24217406563137,
          58.74850006103516,
          68.81894723992599,
          67.49238041469029,
          59.60050010681152,
          62.74285725184849,
          65.66142908732097,
          57.532999992370605,
          65.63238107590448,
          53.11181779341264,
          61.38909062472257,
          60.14363618330522
         ],
         "yaxis": "y"
        },
        {
         "hovertemplate": "Stock=ABBV<br>EventCount=%{x}<br>AvgClose=%{y}<extra></extra>",
         "legendgroup": "ABBV",
         "marker": {
          "color": "#00cc96",
          "symbol": "circle"
         },
         "mode": "markers",
         "name": "ABBV",
         "orientation": "v",
         "showlegend": true,
         "type": "scatter",
         "x": [
          4825131,
          4295029,
          4759937,
          5183275,
          4648432,
          4027833,
          4743531,
          4580762,
          4828190,
          4585870,
          4948972,
          4654455
         ],
         "xaxis": "x",
         "y": [
          75.65130515720533,
          85.99800033569336,
          79.85420989990234,
          79.66809481666202,
          76.09199905395508,
          88.24952334449405,
          85.71761903308686,
          70.6109992980957,
          80.77904728480748,
          65.5113634629683,
          78.79954494129528,
          69.74272779984908
         ],
         "yaxis": "y"
        },
        {
         "hovertemplate": "Stock=NVDA<br>EventCount=%{x}<br>AvgClose=%{y}<extra></extra>",
         "legendgroup": "NVDA",
         "marker": {
          "color": "#ab63fa",
          "symbol": "circle"
         },
         "mode": "markers",
         "name": "NVDA",
         "orientation": "v",
         "showlegend": true,
         "type": "scatter",
         "x": [
          4825131,
          4295029,
          4759937,
          5183275,
          4648432,
          4027833,
          4743531,
          4580762,
          4828190,
          4585870,
          4948972,
          4654455
         ],
         "xaxis": "x",
         "y": [
          4.766673938087795,
          5.265625047683716,
          3.829513148257607,
          4.1831071603865855,
          3.741712510585785,
          5.616297608330136,
          3.624845232282366,
          4.431499981880188,
          4.678511869339716,
          4.009386366063898,
          3.9989432204853403,
          4.19955680587075
         ],
         "yaxis": "y"
        },
        {
         "hovertemplate": "Stock=TMUS<br>EventCount=%{x}<br>AvgClose=%{y}<extra></extra>",
         "legendgroup": "TMUS",
         "marker": {
          "color": "#FFA15A",
          "symbol": "circle"
         },
         "mode": "markers",
         "name": "TMUS",
         "orientation": "v",
         "showlegend": true,
         "type": "scatter",
         "x": [
          4825131,
          4295029,
          4759937,
          5183275,
          4648432,
          4027833,
          4743531,
          4580762,
          4828190,
          4585870,
          4948972,
          4654455
         ],
         "xaxis": "x",
         "y": [
          80.02956523065981,
          79.13550033569337,
          70.57578960217927,
          71.80952308291481,
          75.51149940490723,
          76.75476183210101,
          67.55809602283296,
          79.19999923706055,
          72.27333359491257,
          77.52636441317472,
          75.06727253306995,
          78.43000065196644
         ],
         "yaxis": "y"
        }
       ],
       "layout": {
        "autosize": false,
        "height": 800,
        "legend": {
         "title": {
          "text": "Stock"
         },
         "tracegroupgap": 0
        },
        "margin": {
         "b": 100,
         "l": 50,
         "pad": 4,
         "r": 50,
         "t": 100
        },
        "paper_bgcolor": "LightSteelBlue",
        "template": {
         "data": {
          "bar": [
           {
            "error_x": {
             "color": "#2a3f5f"
            },
            "error_y": {
             "color": "#2a3f5f"
            },
            "marker": {
             "line": {
              "color": "#E5ECF6",
              "width": 0.5
             },
             "pattern": {
              "fillmode": "overlay",
              "size": 10,
              "solidity": 0.2
             }
            },
            "type": "bar"
           }
          ],
          "barpolar": [
           {
            "marker": {
             "line": {
              "color": "#E5ECF6",
              "width": 0.5
             },
             "pattern": {
              "fillmode": "overlay",
              "size": 10,
              "solidity": 0.2
             }
            },
            "type": "barpolar"
           }
          ],
          "carpet": [
           {
            "aaxis": {
             "endlinecolor": "#2a3f5f",
             "gridcolor": "white",
             "linecolor": "white",
             "minorgridcolor": "white",
             "startlinecolor": "#2a3f5f"
            },
            "baxis": {
             "endlinecolor": "#2a3f5f",
             "gridcolor": "white",
             "linecolor": "white",
             "minorgridcolor": "white",
             "startlinecolor": "#2a3f5f"
            },
            "type": "carpet"
           }
          ],
          "choropleth": [
           {
            "colorbar": {
             "outlinewidth": 0,
             "ticks": ""
            },
            "type": "choropleth"
           }
          ],
          "contour": [
           {
            "colorbar": {
             "outlinewidth": 0,
             "ticks": ""
            },
            "colorscale": [
             [
              0,
              "#0d0887"
             ],
             [
              0.1111111111111111,
              "#46039f"
             ],
             [
              0.2222222222222222,
              "#7201a8"
             ],
             [
              0.3333333333333333,
              "#9c179e"
             ],
             [
              0.4444444444444444,
              "#bd3786"
             ],
             [
              0.5555555555555556,
              "#d8576b"
             ],
             [
              0.6666666666666666,
              "#ed7953"
             ],
             [
              0.7777777777777778,
              "#fb9f3a"
             ],
             [
              0.8888888888888888,
              "#fdca26"
             ],
             [
              1,
              "#f0f921"
             ]
            ],
            "type": "contour"
           }
          ],
          "contourcarpet": [
           {
            "colorbar": {
             "outlinewidth": 0,
             "ticks": ""
            },
            "type": "contourcarpet"
           }
          ],
          "heatmap": [
           {
            "colorbar": {
             "outlinewidth": 0,
             "ticks": ""
            },
            "colorscale": [
             [
              0,
              "#0d0887"
             ],
             [
              0.1111111111111111,
              "#46039f"
             ],
             [
              0.2222222222222222,
              "#7201a8"
             ],
             [
              0.3333333333333333,
              "#9c179e"
             ],
             [
              0.4444444444444444,
              "#bd3786"
             ],
             [
              0.5555555555555556,
              "#d8576b"
             ],
             [
              0.6666666666666666,
              "#ed7953"
             ],
             [
              0.7777777777777778,
              "#fb9f3a"
             ],
             [
              0.8888888888888888,
              "#fdca26"
             ],
             [
              1,
              "#f0f921"
             ]
            ],
            "type": "heatmap"
           }
          ],
          "heatmapgl": [
           {
            "colorbar": {
             "outlinewidth": 0,
             "ticks": ""
            },
            "colorscale": [
             [
              0,
              "#0d0887"
             ],
             [
              0.1111111111111111,
              "#46039f"
             ],
             [
              0.2222222222222222,
              "#7201a8"
             ],
             [
              0.3333333333333333,
              "#9c179e"
             ],
             [
              0.4444444444444444,
              "#bd3786"
             ],
             [
              0.5555555555555556,
              "#d8576b"
             ],
             [
              0.6666666666666666,
              "#ed7953"
             ],
             [
              0.7777777777777778,
              "#fb9f3a"
             ],
             [
              0.8888888888888888,
              "#fdca26"
             ],
             [
              1,
              "#f0f921"
             ]
            ],
            "type": "heatmapgl"
           }
          ],
          "histogram": [
           {
            "marker": {
             "pattern": {
              "fillmode": "overlay",
              "size": 10,
              "solidity": 0.2
             }
            },
            "type": "histogram"
           }
          ],
          "histogram2d": [
           {
            "colorbar": {
             "outlinewidth": 0,
             "ticks": ""
            },
            "colorscale": [
             [
              0,
              "#0d0887"
             ],
             [
              0.1111111111111111,
              "#46039f"
             ],
             [
              0.2222222222222222,
              "#7201a8"
             ],
             [
              0.3333333333333333,
              "#9c179e"
             ],
             [
              0.4444444444444444,
              "#bd3786"
             ],
             [
              0.5555555555555556,
              "#d8576b"
             ],
             [
              0.6666666666666666,
              "#ed7953"
             ],
             [
              0.7777777777777778,
              "#fb9f3a"
             ],
             [
              0.8888888888888888,
              "#fdca26"
             ],
             [
              1,
              "#f0f921"
             ]
            ],
            "type": "histogram2d"
           }
          ],
          "histogram2dcontour": [
           {
            "colorbar": {
             "outlinewidth": 0,
             "ticks": ""
            },
            "colorscale": [
             [
              0,
              "#0d0887"
             ],
             [
              0.1111111111111111,
              "#46039f"
             ],
             [
              0.2222222222222222,
              "#7201a8"
             ],
             [
              0.3333333333333333,
              "#9c179e"
             ],
             [
              0.4444444444444444,
              "#bd3786"
             ],
             [
              0.5555555555555556,
              "#d8576b"
             ],
             [
              0.6666666666666666,
              "#ed7953"
             ],
             [
              0.7777777777777778,
              "#fb9f3a"
             ],
             [
              0.8888888888888888,
              "#fdca26"
             ],
             [
              1,
              "#f0f921"
             ]
            ],
            "type": "histogram2dcontour"
           }
          ],
          "mesh3d": [
           {
            "colorbar": {
             "outlinewidth": 0,
             "ticks": ""
            },
            "type": "mesh3d"
           }
          ],
          "parcoords": [
           {
            "line": {
             "colorbar": {
              "outlinewidth": 0,
              "ticks": ""
             }
            },
            "type": "parcoords"
           }
          ],
          "pie": [
           {
            "automargin": true,
            "type": "pie"
           }
          ],
          "scatter": [
           {
            "fillpattern": {
             "fillmode": "overlay",
             "size": 10,
             "solidity": 0.2
            },
            "type": "scatter"
           }
          ],
          "scatter3d": [
           {
            "line": {
             "colorbar": {
              "outlinewidth": 0,
              "ticks": ""
             }
            },
            "marker": {
             "colorbar": {
              "outlinewidth": 0,
              "ticks": ""
             }
            },
            "type": "scatter3d"
           }
          ],
          "scattercarpet": [
           {
            "marker": {
             "colorbar": {
              "outlinewidth": 0,
              "ticks": ""
             }
            },
            "type": "scattercarpet"
           }
          ],
          "scattergeo": [
           {
            "marker": {
             "colorbar": {
              "outlinewidth": 0,
              "ticks": ""
             }
            },
            "type": "scattergeo"
           }
          ],
          "scattergl": [
           {
            "marker": {
             "colorbar": {
              "outlinewidth": 0,
              "ticks": ""
             }
            },
            "type": "scattergl"
           }
          ],
          "scattermapbox": [
           {
            "marker": {
             "colorbar": {
              "outlinewidth": 0,
              "ticks": ""
             }
            },
            "type": "scattermapbox"
           }
          ],
          "scatterpolar": [
           {
            "marker": {
             "colorbar": {
              "outlinewidth": 0,
              "ticks": ""
             }
            },
            "type": "scatterpolar"
           }
          ],
          "scatterpolargl": [
           {
            "marker": {
             "colorbar": {
              "outlinewidth": 0,
              "ticks": ""
             }
            },
            "type": "scatterpolargl"
           }
          ],
          "scatterternary": [
           {
            "marker": {
             "colorbar": {
              "outlinewidth": 0,
              "ticks": ""
             }
            },
            "type": "scatterternary"
           }
          ],
          "surface": [
           {
            "colorbar": {
             "outlinewidth": 0,
             "ticks": ""
            },
            "colorscale": [
             [
              0,
              "#0d0887"
             ],
             [
              0.1111111111111111,
              "#46039f"
             ],
             [
              0.2222222222222222,
              "#7201a8"
             ],
             [
              0.3333333333333333,
              "#9c179e"
             ],
             [
              0.4444444444444444,
              "#bd3786"
             ],
             [
              0.5555555555555556,
              "#d8576b"
             ],
             [
              0.6666666666666666,
              "#ed7953"
             ],
             [
              0.7777777777777778,
              "#fb9f3a"
             ],
             [
              0.8888888888888888,
              "#fdca26"
             ],
             [
              1,
              "#f0f921"
             ]
            ],
            "type": "surface"
           }
          ],
          "table": [
           {
            "cells": {
             "fill": {
              "color": "#EBF0F8"
             },
             "line": {
              "color": "white"
             }
            },
            "header": {
             "fill": {
              "color": "#C8D4E3"
             },
             "line": {
              "color": "white"
             }
            },
            "type": "table"
           }
          ]
         },
         "layout": {
          "annotationdefaults": {
           "arrowcolor": "#2a3f5f",
           "arrowhead": 0,
           "arrowwidth": 1
          },
          "autotypenumbers": "strict",
          "coloraxis": {
           "colorbar": {
            "outlinewidth": 0,
            "ticks": ""
           }
          },
          "colorscale": {
           "diverging": [
            [
             0,
             "#8e0152"
            ],
            [
             0.1,
             "#c51b7d"
            ],
            [
             0.2,
             "#de77ae"
            ],
            [
             0.3,
             "#f1b6da"
            ],
            [
             0.4,
             "#fde0ef"
            ],
            [
             0.5,
             "#f7f7f7"
            ],
            [
             0.6,
             "#e6f5d0"
            ],
            [
             0.7,
             "#b8e186"
            ],
            [
             0.8,
             "#7fbc41"
            ],
            [
             0.9,
             "#4d9221"
            ],
            [
             1,
             "#276419"
            ]
           ],
           "sequential": [
            [
             0,
             "#0d0887"
            ],
            [
             0.1111111111111111,
             "#46039f"
            ],
            [
             0.2222222222222222,
             "#7201a8"
            ],
            [
             0.3333333333333333,
             "#9c179e"
            ],
            [
             0.4444444444444444,
             "#bd3786"
            ],
            [
             0.5555555555555556,
             "#d8576b"
            ],
            [
             0.6666666666666666,
             "#ed7953"
            ],
            [
             0.7777777777777778,
             "#fb9f3a"
            ],
            [
             0.8888888888888888,
             "#fdca26"
            ],
            [
             1,
             "#f0f921"
            ]
           ],
           "sequentialminus": [
            [
             0,
             "#0d0887"
            ],
            [
             0.1111111111111111,
             "#46039f"
            ],
            [
             0.2222222222222222,
             "#7201a8"
            ],
            [
             0.3333333333333333,
             "#9c179e"
            ],
            [
             0.4444444444444444,
             "#bd3786"
            ],
            [
             0.5555555555555556,
             "#d8576b"
            ],
            [
             0.6666666666666666,
             "#ed7953"
            ],
            [
             0.7777777777777778,
             "#fb9f3a"
            ],
            [
             0.8888888888888888,
             "#fdca26"
            ],
            [
             1,
             "#f0f921"
            ]
           ]
          },
          "colorway": [
           "#636efa",
           "#EF553B",
           "#00cc96",
           "#ab63fa",
           "#FFA15A",
           "#19d3f3",
           "#FF6692",
           "#B6E880",
           "#FF97FF",
           "#FECB52"
          ],
          "font": {
           "color": "#2a3f5f"
          },
          "geo": {
           "bgcolor": "white",
           "lakecolor": "white",
           "landcolor": "#E5ECF6",
           "showlakes": true,
           "showland": true,
           "subunitcolor": "white"
          },
          "hoverlabel": {
           "align": "left"
          },
          "hovermode": "closest",
          "mapbox": {
           "style": "light"
          },
          "paper_bgcolor": "white",
          "plot_bgcolor": "#E5ECF6",
          "polar": {
           "angularaxis": {
            "gridcolor": "white",
            "linecolor": "white",
            "ticks": ""
           },
           "bgcolor": "#E5ECF6",
           "radialaxis": {
            "gridcolor": "white",
            "linecolor": "white",
            "ticks": ""
           }
          },
          "scene": {
           "xaxis": {
            "backgroundcolor": "#E5ECF6",
            "gridcolor": "white",
            "gridwidth": 2,
            "linecolor": "white",
            "showbackground": true,
            "ticks": "",
            "zerolinecolor": "white"
           },
           "yaxis": {
            "backgroundcolor": "#E5ECF6",
            "gridcolor": "white",
            "gridwidth": 2,
            "linecolor": "white",
            "showbackground": true,
            "ticks": "",
            "zerolinecolor": "white"
           },
           "zaxis": {
            "backgroundcolor": "#E5ECF6",
            "gridcolor": "white",
            "gridwidth": 2,
            "linecolor": "white",
            "showbackground": true,
            "ticks": "",
            "zerolinecolor": "white"
           }
          },
          "shapedefaults": {
           "line": {
            "color": "#2a3f5f"
           }
          },
          "ternary": {
           "aaxis": {
            "gridcolor": "white",
            "linecolor": "white",
            "ticks": ""
           },
           "baxis": {
            "gridcolor": "white",
            "linecolor": "white",
            "ticks": ""
           },
           "bgcolor": "#E5ECF6",
           "caxis": {
            "gridcolor": "white",
            "linecolor": "white",
            "ticks": ""
           }
          },
          "title": {
           "x": 0.05
          },
          "xaxis": {
           "automargin": true,
           "gridcolor": "white",
           "linecolor": "white",
           "ticks": "",
           "title": {
            "standoff": 15
           },
           "zerolinecolor": "white",
           "zerolinewidth": 2
          },
          "yaxis": {
           "automargin": true,
           "gridcolor": "white",
           "linecolor": "white",
           "ticks": "",
           "title": {
            "standoff": 15
           },
           "zerolinecolor": "white",
           "zerolinewidth": 2
          }
         }
        },
        "title": {
         "text": "EventCount vs AvgClose by Stock"
        },
        "width": 1000,
        "xaxis": {
         "anchor": "y",
         "domain": [
          0,
          1
         ],
         "title": {
          "text": "EventCount"
         }
        },
        "yaxis": {
         "anchor": "x",
         "domain": [
          0,
          1
         ],
         "title": {
          "text": "AvgClose"
         }
        }
       }
      }
     },
     "metadata": {},
     "output_type": "display_data"
    }
   ],
   "source": [
    "# Plot the relationship between EventCount and AvgClose by Stock\n",
    "fig = px.scatter(merged_monthly_df, x='EventCount', y='AvgClose', color='Stock', title='EventCount vs AvgClose by Stock')\n",
    "fig.update_layout(\n",
    "    autosize=False,\n",
    "    width=1000,\n",
    "    height=800,\n",
    "    margin=dict(\n",
    "        l=50,\n",
    "        r=50,\n",
    "        b=100,\n",
    "        t=100,\n",
    "        pad=4\n",
    "    ),\n",
    "    paper_bgcolor=\"LightSteelBlue\",\n",
    ")\n",
    "fig.show()"
   ]
  },
  {
   "cell_type": "code",
   "execution_count": 65,
   "metadata": {},
   "outputs": [
    {
     "data": {
      "application/vnd.plotly.v1+json": {
       "config": {
        "plotlyServerURL": "https://plot.ly"
       },
       "data": [
        {
         "hovertemplate": "Stock=DE<br>Sector=agriculture<br>EventCount=%{x}<br>AvgClose=%{y}<extra></extra>",
         "legendgroup": "DE",
         "marker": {
          "color": "#636efa",
          "symbol": "circle"
         },
         "mode": "markers",
         "name": "DE",
         "orientation": "v",
         "showlegend": true,
         "type": "scatter",
         "x": [
          4825131,
          4295029,
          4759937,
          5183275,
          4648432,
          4027833,
          4743531,
          4580762,
          4828190,
          4585870,
          4948972,
          4654455
         ],
         "xaxis": "x",
         "y": [
          170.49913024902344,
          175.4740005493164,
          162.85894775390625,
          159.46285720098587,
          155.62699966430665,
          171.04571387881325,
          157.30714343843005,
          162.5885009765625,
          163.96571422758558,
          151.90818231756037,
          147.66727170077237,
          165.5295444835316
         ],
         "yaxis": "y"
        },
        {
         "hovertemplate": "Stock=XOM<br>Sector=energy<br>EventCount=%{x}<br>AvgClose=%{y}<extra></extra>",
         "legendgroup": "XOM",
         "marker": {
          "color": "#EF553B",
          "symbol": "circle"
         },
         "mode": "markers",
         "name": "XOM",
         "orientation": "v",
         "showlegend": true,
         "type": "scatter",
         "x": [
          4825131,
          4295029,
          4759937,
          5183275,
          4648432,
          4027833,
          4743531,
          4580762,
          4828190,
          4585870,
          4948972,
          4654455
         ],
         "xaxis": "x2",
         "y": [
          68.40478250254755,
          69.68599929809571,
          76.7705262836657,
          80.39666711716424,
          75.14349899291992,
          69.45666685558501,
          71.61428578694661,
          71.54850006103516,
          81.58666628882999,
          69.42636316472834,
          75.48727243596858,
          75.88090896606445
         ],
         "yaxis": "y2"
        },
        {
         "hovertemplate": "Stock=MA<br>Sector=finance<br>EventCount=%{x}<br>AvgClose=%{y}<extra></extra>",
         "legendgroup": "MA",
         "marker": {
          "color": "#00cc96",
          "symbol": "circle"
         },
         "mode": "markers",
         "name": "MA",
         "orientation": "v",
         "showlegend": true,
         "type": "scatter",
         "x": [
          4825131,
          4295029,
          4759937,
          5183275,
          4648432,
          4027833,
          4743531,
          4580762,
          4828190,
          4585870,
          4948972,
          4654455
         ],
         "xaxis": "x3",
         "y": [
          272.1256528108016,
          280.7015014648438,
          219.4657914011102,
          229.2728554861886,
          260.367000579834,
          293.87952096121654,
          197.0914292108445,
          276.60749969482424,
          240.98380897158668,
          274.0545473965731,
          249.8968172940341,
          276.1427279385653
         ],
         "yaxis": "y3"
        },
        {
         "hovertemplate": "Stock=V<br>Sector=finance<br>EventCount=%{x}<br>AvgClose=%{y}<extra></extra>",
         "legendgroup": "V",
         "marker": {
          "color": "#ab63fa",
          "symbol": "circle"
         },
         "mode": "markers",
         "name": "V",
         "orientation": "v",
         "showlegend": true,
         "type": "scatter",
         "x": [
          4825131,
          4295029,
          4759937,
          5183275,
          4648432,
          4027833,
          4743531,
          4580762,
          4828190,
          4585870,
          4948972,
          4654455
         ],
         "xaxis": "x3",
         "y": [
          175.7800001061481,
          180.22399978637696,
          143.58157910798727,
          152.26095363071985,
          169.635001373291,
          184.92618960425966,
          136.44238063267298,
          177.1884994506836,
          159.87809462774368,
          177.59227267178622,
          162.05727178400213,
          179.48500061035156
         ],
         "yaxis": "y3"
        },
        {
         "hovertemplate": "Stock=NEM<br>Sector=materials<br>EventCount=%{x}<br>AvgClose=%{y}<extra></extra>",
         "legendgroup": "NEM",
         "marker": {
          "color": "#FFA15A",
          "symbol": "circle"
         },
         "mode": "markers",
         "name": "NEM",
         "orientation": "v",
         "showlegend": true,
         "type": "scatter",
         "x": [
          4825131,
          4295029,
          4759937,
          5183275,
          4648432,
          4027833,
          4743531,
          4580762,
          4828190,
          4585870,
          4948972,
          4654455
         ],
         "xaxis": "x4",
         "y": [
          38.4143474413001,
          37.85150012969971,
          34.27842090004369,
          34.203333355131605,
          36.274000358581546,
          40.99381001790365,
          33.190952573503765,
          39.16949977874756,
          34.39666666303362,
          38.74636372652921,
          30.96909089521928,
          38.66136308149858
         ],
         "yaxis": "y4"
        },
        {
         "hovertemplate": "Stock=PFE<br>Sector=health<br>EventCount=%{x}<br>AvgClose=%{y}<extra></extra>",
         "legendgroup": "PFE",
         "marker": {
          "color": "#19d3f3",
          "symbol": "circle"
         },
         "mode": "markers",
         "name": "PFE",
         "orientation": "v",
         "showlegend": true,
         "type": "scatter",
         "x": [
          4825131,
          4295029,
          4759937,
          5183275,
          4648432,
          4027833,
          4743531,
          4580762,
          4828190,
          4585870,
          4948972,
          4654455
         ],
         "xaxis": "x5",
         "y": [
          34.550779093866765,
          35.66982879638672,
          40.22720477455541,
          39.90421967279343,
          40.81214427947998,
          36.740760803222656,
          40.030721936907085,
          34.61053123474121,
          39.16282599312918,
          33.7735033902255,
          39.227617957375266,
          40.54812864823775
         ],
         "yaxis": "y5"
        },
        {
         "hovertemplate": "Stock=T<br>Sector=telecom<br>EventCount=%{x}<br>AvgClose=%{y}<extra></extra>",
         "legendgroup": "T",
         "marker": {
          "color": "#FF6692",
          "symbol": "circle"
         },
         "mode": "markers",
         "name": "T",
         "orientation": "v",
         "showlegend": true,
         "type": "scatter",
         "x": [
          4825131,
          4295029,
          4759937,
          5183275,
          4648432,
          4027833,
          4743531,
          4580762,
          4828190,
          4585870,
          4948972,
          4654455
         ],
         "xaxis": "x6",
         "y": [
          28.46873780955439,
          29.118957901000975,
          22.873668168720446,
          23.110703513735817,
          24.39539270401001,
          29.085743313743954,
          23.015033994402206,
          28.094410705566407,
          23.96345856076195,
          26.173098043961957,
          23.63121396845037,
          25.358074708418414
         ],
         "yaxis": "y6"
        },
        {
         "hovertemplate": "Stock=PG<br>Sector=food<br>EventCount=%{x}<br>AvgClose=%{y}<extra></extra>",
         "legendgroup": "PG",
         "marker": {
          "color": "#B6E880",
          "symbol": "circle"
         },
         "mode": "markers",
         "name": "PG",
         "orientation": "v",
         "showlegend": true,
         "type": "scatter",
         "x": [
          4825131,
          4295029,
          4759937,
          5183275,
          4648432,
          4027833,
          4743531,
          4580762,
          4828190,
          4585870,
          4948972,
          4654455
         ],
         "xaxis": "x7",
         "y": [
          121.61565233313519,
          120.72950019836426,
          98.71473693847656,
          101.02952503022694,
          109.42049980163574,
          124.70523834228516,
          92.41428520565941,
          122.39899978637695,
          104.74095335460845,
          117.89409117265181,
          105.77272761951794,
          114.5790918523615
         ],
         "yaxis": "y7"
        },
        {
         "hovertemplate": "Stock=JPM<br>Sector=finance<br>EventCount=%{x}<br>AvgClose=%{y}<extra></extra>",
         "legendgroup": "JPM",
         "marker": {
          "color": "#FF97FF",
          "symbol": "circle"
         },
         "mode": "markers",
         "name": "JPM",
         "orientation": "v",
         "showlegend": true,
         "type": "scatter",
         "x": [
          4825131,
          4295029,
          4759937,
          5183275,
          4648432,
          4027833,
          4743531,
          4580762,
          4828190,
          4585870,
          4948972,
          4654455
         ],
         "xaxis": "x3",
         "y": [
          119.56043508778448,
          129.98100051879882,
          104.00999972694798,
          103.26714361281623,
          109.52600059509277,
          136.13095092773438,
          101.88000015985398,
          116.67150115966797,
          109.96380978538876,
          108.41272735595703,
          111.19954508001155,
          114.56727253306995
         ],
         "yaxis": "y3"
        },
        {
         "hovertemplate": "Stock=VZ<br>Sector=telecom<br>EventCount=%{x}<br>AvgClose=%{y}<extra></extra>",
         "legendgroup": "VZ",
         "marker": {
          "color": "#FECB52",
          "symbol": "circle"
         },
         "mode": "markers",
         "name": "VZ",
         "orientation": "v",
         "showlegend": true,
         "type": "scatter",
         "x": [
          4825131,
          4295029,
          4759937,
          5183275,
          4648432,
          4027833,
          4743531,
          4580762,
          4828190,
          4585870,
          4948972,
          4654455
         ],
         "xaxis": "x6",
         "y": [
          60.15347837365192,
          59.716499710083006,
          55.132104773270456,
          57.99476223900204,
          57.29950065612793,
          61.07142838977632,
          56.625238327752974,
          59.72099990844727,
          58.11380985804966,
          56.31999969482422,
          57.44000018726695,
          56.92318205399947
         ],
         "yaxis": "y6"
        },
        {
         "hovertemplate": "Stock=ADM<br>Sector=agriculture<br>EventCount=%{x}<br>AvgClose=%{y}<extra></extra>",
         "legendgroup": "ADM",
         "marker": {
          "color": "#636efa",
          "symbol": "circle"
         },
         "mode": "markers",
         "name": "ADM",
         "orientation": "v",
         "showlegend": true,
         "type": "scatter",
         "x": [
          4825131,
          4295029,
          4759937,
          5183275,
          4648432,
          4027833,
          4743531,
          4580762,
          4828190,
          4585870,
          4948972,
          4654455
         ],
         "xaxis": "x",
         "y": [
          40.24391307001529,
          42.954500389099124,
          42.419999975907174,
          42.617142813546316,
          40.39850006103516,
          44.98142860049293,
          43.21809478033157,
          40.42800025939941,
          42.82666669573103,
          37.91045414317738,
          40.96090871637518,
          41.12409123507413
         ],
         "yaxis": "y"
        },
        {
         "hovertemplate": "Stock=CTVA<br>Sector=agriculture<br>EventCount=%{x}<br>AvgClose=%{y}<extra></extra>",
         "legendgroup": "CTVA",
         "marker": {
          "color": "#EF553B",
          "symbol": "circle"
         },
         "mode": "markers",
         "name": "CTVA",
         "orientation": "v",
         "showlegend": true,
         "type": "scatter",
         "x": [
          4825131,
          4295029,
          4648432,
          4027833,
          4580762,
          4585870,
          4948972,
          4654455
         ],
         "xaxis": "x",
         "y": [
          26.45000001658564,
          25.889499855041503,
          26.905999851226806,
          27.062380926949636,
          28.72299976348877,
          29.9759088863026,
          28.406999588012695,
          28.01681813326749
         ],
         "yaxis": "y"
        },
        {
         "hovertemplate": "Stock=CVX<br>Sector=energy<br>EventCount=%{x}<br>AvgClose=%{y}<extra></extra>",
         "legendgroup": "CVX",
         "marker": {
          "color": "#00cc96",
          "symbol": "circle"
         },
         "mode": "markers",
         "name": "CVX",
         "orientation": "v",
         "showlegend": true,
         "type": "scatter",
         "x": [
          4825131,
          4295029,
          4759937,
          5183275,
          4648432,
          4027833,
          4743531,
          4580762,
          4828190,
          4585870,
          4948972,
          4654455
         ],
         "xaxis": "x2",
         "y": [
          115.63434799857761,
          119.50999908447265,
          119.07210580926193,
          123.68761880057198,
          121.74600067138672,
          118.49571482340495,
          112.24095262799945,
          121.22700004577636,
          122.13619014195034,
          118.48409028486772,
          118.9995443170721,
          124.61363636363636
         ],
         "yaxis": "y2"
        },
        {
         "hovertemplate": "Stock=PEP<br>Sector=food<br>EventCount=%{x}<br>AvgClose=%{y}<extra></extra>",
         "legendgroup": "PEP",
         "marker": {
          "color": "#ab63fa",
          "symbol": "circle"
         },
         "mode": "markers",
         "name": "PEP",
         "orientation": "v",
         "showlegend": true,
         "type": "scatter",
         "x": [
          4825131,
          4295029,
          4759937,
          5183275,
          4648432,
          4027833,
          4743531,
          4580762,
          4828190,
          4585870,
          4948972,
          4654455
         ],
         "xaxis": "x7",
         "y": [
          137.1030432659647,
          134.1705009460449,
          114.44105288856908,
          118.10761878603981,
          132.45650100708008,
          136.82000005812873,
          109.36523837134952,
          136.1444999694824,
          124.11095283144996,
          130.8172728798606,
          128.21636442704633,
          131.89136435768822
         ],
         "yaxis": "y7"
        },
        {
         "hovertemplate": "Stock=KO<br>Sector=food<br>EventCount=%{x}<br>AvgClose=%{y}<extra></extra>",
         "legendgroup": "KO",
         "marker": {
          "color": "#FFA15A",
          "symbol": "circle"
         },
         "mode": "markers",
         "name": "KO",
         "orientation": "v",
         "showlegend": true,
         "type": "scatter",
         "x": [
          4825131,
          4295029,
          4759937,
          5183275,
          4648432,
          4027833,
          4743531,
          4580762,
          4828190,
          4585870,
          4948972,
          4654455
         ],
         "xaxis": "x7",
         "y": [
          53.897826153299086,
          52.89050006866455,
          47.171578658254525,
          45.82428577968052,
          51.15399990081787,
          54.449999491373696,
          47.355714343843005,
          54.554499816894534,
          47.21952365693592,
          53.722727515480734,
          48.77090904929421,
          52.460909063165836
         ],
         "yaxis": "y7"
        },
        {
         "hovertemplate": "Stock=JNJ<br>Sector=health<br>EventCount=%{x}<br>AvgClose=%{y}<extra></extra>",
         "legendgroup": "JNJ",
         "marker": {
          "color": "#19d3f3",
          "symbol": "circle"
         },
         "mode": "markers",
         "name": "JNJ",
         "orientation": "v",
         "showlegend": true,
         "type": "scatter",
         "x": [
          4825131,
          4295029,
          4759937,
          5183275,
          4648432,
          4027833,
          4743531,
          4580762,
          4828190,
          4585870,
          4948972,
          4654455
         ],
         "xaxis": "x5",
         "y": [
          130.87826007345447,
          133.87150115966796,
          134.61000061035156,
          138.2961912609282,
          139.4800003051758,
          142.52857171921502,
          129.0009529477074,
          129.7880012512207,
          137.74666704450334,
          130.44681791825727,
          138.10090845281428,
          134.8172739202326
         ],
         "yaxis": "y5"
        },
        {
         "hovertemplate": "Stock=FCX<br>Sector=materials<br>EventCount=%{x}<br>AvgClose=%{y}<extra></extra>",
         "legendgroup": "FCX",
         "marker": {
          "color": "#FF6692",
          "symbol": "circle"
         },
         "mode": "markers",
         "name": "FCX",
         "orientation": "v",
         "showlegend": true,
         "type": "scatter",
         "x": [
          4825131,
          4295029,
          4759937,
          5183275,
          4648432,
          4027833,
          4743531,
          4580762,
          4828190,
          4585870,
          4948972,
          4654455
         ],
         "xaxis": "x4",
         "y": [
          9.46217391801917,
          11.13200011253357,
          12.397368380897923,
          12.590476172310966,
          10.864999961853027,
          12.493809518359956,
          11.335238138834635,
          9.996499919891358,
          13.34190473102388,
          9.471363631161777,
          10.726818128065629,
          11.310000029477207
         ],
         "yaxis": "y4"
        },
        {
         "hovertemplate": "Stock=MSFT<br>Sector=tech<br>EventCount=%{x}<br>AvgClose=%{y}<extra></extra>",
         "legendgroup": "MSFT",
         "marker": {
          "color": "#B6E880",
          "symbol": "circle"
         },
         "mode": "markers",
         "name": "MSFT",
         "orientation": "v",
         "showlegend": true,
         "type": "scatter",
         "x": [
          4825131,
          4295029,
          4759937,
          5183275,
          4648432,
          4027833,
          4743531,
          4580762,
          4828190,
          4585870,
          4948972,
          4654455
         ],
         "xaxis": "x8",
         "y": [
          139.22913062054178,
          148.09550018310546,
          107.92789419073807,
          115.13381013416108,
          131.99400062561034,
          154.17952473958334,
          104.13523828415643,
          138.1155014038086,
          122.79476238432385,
          136.3763628872958,
          126.34636306762695,
          138.102727023038
         ],
         "yaxis": "y8"
        },
        {
         "hovertemplate": "Stock=DOW<br>Sector=materials<br>EventCount=%{x}<br>AvgClose=%{y}<extra></extra>",
         "legendgroup": "DOW",
         "marker": {
          "color": "#FF97FF",
          "symbol": "circle"
         },
         "mode": "markers",
         "name": "DOW",
         "orientation": "v",
         "showlegend": true,
         "type": "scatter",
         "x": [
          4825131,
          4295029,
          5183275,
          4648432,
          4027833,
          4580762,
          4828190,
          4585870,
          4948972,
          4654455
         ],
         "xaxis": "x4",
         "y": [
          47.34260857623556,
          54.343499946594235,
          49.744999408721924,
          50.27300033569336,
          53.850952511742,
          46.413500022888186,
          56.79000000726609,
          44.03590861233798,
          51.29590918801048,
          49.94590915333141
         ],
         "yaxis": "y4"
        },
        {
         "hovertemplate": "Stock=AAPL<br>Sector=tech<br>EventCount=%{x}<br>AvgClose=%{y}<extra></extra>",
         "legendgroup": "AAPL",
         "marker": {
          "color": "#FECB52",
          "symbol": "circle"
         },
         "mode": "markers",
         "name": "AAPL",
         "orientation": "v",
         "showlegend": true,
         "type": "scatter",
         "x": [
          4825131,
          4295029,
          4759937,
          5183275,
          4648432,
          4027833,
          4743531,
          4580762,
          4828190,
          4585870,
          4948972,
          4654455
         ],
         "xaxis": "x8",
         "y": [
          58.82163022912067,
          65.63012580871582,
          42.93197330675627,
          45.823452540806365,
          48.24225006103516,
          69.13142758324032,
          38.54154750279018,
          54.49874973297119,
          50.12904775710333,
          51.23943190141158,
          47.81840913945978,
          51.30409102006392
         ],
         "yaxis": "y8"
        },
        {
         "hovertemplate": "Stock=BP<br>Sector=energy<br>EventCount=%{x}<br>AvgClose=%{y}<extra></extra>",
         "legendgroup": "BP",
         "marker": {
          "color": "#636efa",
          "symbol": "circle"
         },
         "mode": "markers",
         "name": "BP",
         "orientation": "v",
         "showlegend": true,
         "type": "scatter",
         "x": [
          4825131,
          4295029,
          4759937,
          5183275,
          4648432,
          4027833,
          4743531,
          4580762,
          4828190,
          4585870,
          4948972,
          4654455
         ],
         "xaxis": "x2",
         "y": [
          37.755651722783625,
          38.838500022888184,
          42.38631579750463,
          43.42809568132673,
          41.55550060272217,
          37.381428673153835,
          40.122380937848774,
          38.07399978637695,
          44.39999989100865,
          36.961363705721766,
          41.99136387218129,
          40.23045470497825
         ],
         "yaxis": "y2"
        },
        {
         "hovertemplate": "Stock=COP<br>Sector=energy<br>EventCount=%{x}<br>AvgClose=%{y}<extra></extra>",
         "legendgroup": "COP",
         "marker": {
          "color": "#EF553B",
          "symbol": "circle"
         },
         "mode": "markers",
         "name": "COP",
         "orientation": "v",
         "showlegend": true,
         "type": "scatter",
         "x": [
          4825131,
          4295029,
          4759937,
          5183275,
          4648432,
          4027833,
          4743531,
          4580762,
          4828190,
          4585870,
          4948972,
          4654455
         ],
         "xaxis": "x2",
         "y": [
          55.24217406563137,
          58.74850006103516,
          68.81894723992599,
          67.49238041469029,
          59.60050010681152,
          62.74285725184849,
          65.66142908732097,
          57.532999992370605,
          65.63238107590448,
          53.11181779341264,
          61.38909062472257,
          60.14363618330522
         ],
         "yaxis": "y2"
        },
        {
         "hovertemplate": "Stock=ABBV<br>Sector=health<br>EventCount=%{x}<br>AvgClose=%{y}<extra></extra>",
         "legendgroup": "ABBV",
         "marker": {
          "color": "#00cc96",
          "symbol": "circle"
         },
         "mode": "markers",
         "name": "ABBV",
         "orientation": "v",
         "showlegend": true,
         "type": "scatter",
         "x": [
          4825131,
          4295029,
          4759937,
          5183275,
          4648432,
          4027833,
          4743531,
          4580762,
          4828190,
          4585870,
          4948972,
          4654455
         ],
         "xaxis": "x5",
         "y": [
          75.65130515720533,
          85.99800033569336,
          79.85420989990234,
          79.66809481666202,
          76.09199905395508,
          88.24952334449405,
          85.71761903308686,
          70.6109992980957,
          80.77904728480748,
          65.5113634629683,
          78.79954494129528,
          69.74272779984908
         ],
         "yaxis": "y5"
        },
        {
         "hovertemplate": "Stock=NVDA<br>Sector=tech<br>EventCount=%{x}<br>AvgClose=%{y}<extra></extra>",
         "legendgroup": "NVDA",
         "marker": {
          "color": "#ab63fa",
          "symbol": "circle"
         },
         "mode": "markers",
         "name": "NVDA",
         "orientation": "v",
         "showlegend": true,
         "type": "scatter",
         "x": [
          4825131,
          4295029,
          4759937,
          5183275,
          4648432,
          4027833,
          4743531,
          4580762,
          4828190,
          4585870,
          4948972,
          4654455
         ],
         "xaxis": "x8",
         "y": [
          4.766673938087795,
          5.265625047683716,
          3.829513148257607,
          4.1831071603865855,
          3.741712510585785,
          5.616297608330136,
          3.624845232282366,
          4.431499981880188,
          4.678511869339716,
          4.009386366063898,
          3.9989432204853403,
          4.19955680587075
         ],
         "yaxis": "y8"
        },
        {
         "hovertemplate": "Stock=TMUS<br>Sector=telecom<br>EventCount=%{x}<br>AvgClose=%{y}<extra></extra>",
         "legendgroup": "TMUS",
         "marker": {
          "color": "#FFA15A",
          "symbol": "circle"
         },
         "mode": "markers",
         "name": "TMUS",
         "orientation": "v",
         "showlegend": true,
         "type": "scatter",
         "x": [
          4825131,
          4295029,
          4759937,
          5183275,
          4648432,
          4027833,
          4743531,
          4580762,
          4828190,
          4585870,
          4948972,
          4654455
         ],
         "xaxis": "x6",
         "y": [
          80.02956523065981,
          79.13550033569337,
          70.57578960217927,
          71.80952308291481,
          75.51149940490723,
          76.75476183210101,
          67.55809602283296,
          79.19999923706055,
          72.27333359491257,
          77.52636441317472,
          75.06727253306995,
          78.43000065196644
         ],
         "yaxis": "y6"
        }
       ],
       "layout": {
        "annotations": [
         {
          "font": {},
          "showarrow": false,
          "text": "Sector=agriculture",
          "x": 0.05375,
          "xanchor": "center",
          "xref": "paper",
          "y": 1,
          "yanchor": "bottom",
          "yref": "paper"
         },
         {
          "font": {},
          "showarrow": false,
          "text": "Sector=energy",
          "x": 0.18125,
          "xanchor": "center",
          "xref": "paper",
          "y": 1,
          "yanchor": "bottom",
          "yref": "paper"
         },
         {
          "font": {},
          "showarrow": false,
          "text": "Sector=finance",
          "x": 0.30874999999999997,
          "xanchor": "center",
          "xref": "paper",
          "y": 1,
          "yanchor": "bottom",
          "yref": "paper"
         },
         {
          "font": {},
          "showarrow": false,
          "text": "Sector=materials",
          "x": 0.43625,
          "xanchor": "center",
          "xref": "paper",
          "y": 1,
          "yanchor": "bottom",
          "yref": "paper"
         },
         {
          "font": {},
          "showarrow": false,
          "text": "Sector=health",
          "x": 0.56375,
          "xanchor": "center",
          "xref": "paper",
          "y": 1,
          "yanchor": "bottom",
          "yref": "paper"
         },
         {
          "font": {},
          "showarrow": false,
          "text": "Sector=telecom",
          "x": 0.6912499999999999,
          "xanchor": "center",
          "xref": "paper",
          "y": 1,
          "yanchor": "bottom",
          "yref": "paper"
         },
         {
          "font": {},
          "showarrow": false,
          "text": "Sector=food",
          "x": 0.8187500000000001,
          "xanchor": "center",
          "xref": "paper",
          "y": 1,
          "yanchor": "bottom",
          "yref": "paper"
         },
         {
          "font": {},
          "showarrow": false,
          "text": "Sector=tech",
          "x": 0.94625,
          "xanchor": "center",
          "xref": "paper",
          "y": 1,
          "yanchor": "bottom",
          "yref": "paper"
         }
        ],
        "autosize": false,
        "height": 800,
        "legend": {
         "title": {
          "text": "Stock"
         },
         "tracegroupgap": 0
        },
        "margin": {
         "b": 100,
         "l": 50,
         "pad": 4,
         "r": 50,
         "t": 100
        },
        "paper_bgcolor": "LightSteelBlue",
        "template": {
         "data": {
          "bar": [
           {
            "error_x": {
             "color": "#2a3f5f"
            },
            "error_y": {
             "color": "#2a3f5f"
            },
            "marker": {
             "line": {
              "color": "#E5ECF6",
              "width": 0.5
             },
             "pattern": {
              "fillmode": "overlay",
              "size": 10,
              "solidity": 0.2
             }
            },
            "type": "bar"
           }
          ],
          "barpolar": [
           {
            "marker": {
             "line": {
              "color": "#E5ECF6",
              "width": 0.5
             },
             "pattern": {
              "fillmode": "overlay",
              "size": 10,
              "solidity": 0.2
             }
            },
            "type": "barpolar"
           }
          ],
          "carpet": [
           {
            "aaxis": {
             "endlinecolor": "#2a3f5f",
             "gridcolor": "white",
             "linecolor": "white",
             "minorgridcolor": "white",
             "startlinecolor": "#2a3f5f"
            },
            "baxis": {
             "endlinecolor": "#2a3f5f",
             "gridcolor": "white",
             "linecolor": "white",
             "minorgridcolor": "white",
             "startlinecolor": "#2a3f5f"
            },
            "type": "carpet"
           }
          ],
          "choropleth": [
           {
            "colorbar": {
             "outlinewidth": 0,
             "ticks": ""
            },
            "type": "choropleth"
           }
          ],
          "contour": [
           {
            "colorbar": {
             "outlinewidth": 0,
             "ticks": ""
            },
            "colorscale": [
             [
              0,
              "#0d0887"
             ],
             [
              0.1111111111111111,
              "#46039f"
             ],
             [
              0.2222222222222222,
              "#7201a8"
             ],
             [
              0.3333333333333333,
              "#9c179e"
             ],
             [
              0.4444444444444444,
              "#bd3786"
             ],
             [
              0.5555555555555556,
              "#d8576b"
             ],
             [
              0.6666666666666666,
              "#ed7953"
             ],
             [
              0.7777777777777778,
              "#fb9f3a"
             ],
             [
              0.8888888888888888,
              "#fdca26"
             ],
             [
              1,
              "#f0f921"
             ]
            ],
            "type": "contour"
           }
          ],
          "contourcarpet": [
           {
            "colorbar": {
             "outlinewidth": 0,
             "ticks": ""
            },
            "type": "contourcarpet"
           }
          ],
          "heatmap": [
           {
            "colorbar": {
             "outlinewidth": 0,
             "ticks": ""
            },
            "colorscale": [
             [
              0,
              "#0d0887"
             ],
             [
              0.1111111111111111,
              "#46039f"
             ],
             [
              0.2222222222222222,
              "#7201a8"
             ],
             [
              0.3333333333333333,
              "#9c179e"
             ],
             [
              0.4444444444444444,
              "#bd3786"
             ],
             [
              0.5555555555555556,
              "#d8576b"
             ],
             [
              0.6666666666666666,
              "#ed7953"
             ],
             [
              0.7777777777777778,
              "#fb9f3a"
             ],
             [
              0.8888888888888888,
              "#fdca26"
             ],
             [
              1,
              "#f0f921"
             ]
            ],
            "type": "heatmap"
           }
          ],
          "heatmapgl": [
           {
            "colorbar": {
             "outlinewidth": 0,
             "ticks": ""
            },
            "colorscale": [
             [
              0,
              "#0d0887"
             ],
             [
              0.1111111111111111,
              "#46039f"
             ],
             [
              0.2222222222222222,
              "#7201a8"
             ],
             [
              0.3333333333333333,
              "#9c179e"
             ],
             [
              0.4444444444444444,
              "#bd3786"
             ],
             [
              0.5555555555555556,
              "#d8576b"
             ],
             [
              0.6666666666666666,
              "#ed7953"
             ],
             [
              0.7777777777777778,
              "#fb9f3a"
             ],
             [
              0.8888888888888888,
              "#fdca26"
             ],
             [
              1,
              "#f0f921"
             ]
            ],
            "type": "heatmapgl"
           }
          ],
          "histogram": [
           {
            "marker": {
             "pattern": {
              "fillmode": "overlay",
              "size": 10,
              "solidity": 0.2
             }
            },
            "type": "histogram"
           }
          ],
          "histogram2d": [
           {
            "colorbar": {
             "outlinewidth": 0,
             "ticks": ""
            },
            "colorscale": [
             [
              0,
              "#0d0887"
             ],
             [
              0.1111111111111111,
              "#46039f"
             ],
             [
              0.2222222222222222,
              "#7201a8"
             ],
             [
              0.3333333333333333,
              "#9c179e"
             ],
             [
              0.4444444444444444,
              "#bd3786"
             ],
             [
              0.5555555555555556,
              "#d8576b"
             ],
             [
              0.6666666666666666,
              "#ed7953"
             ],
             [
              0.7777777777777778,
              "#fb9f3a"
             ],
             [
              0.8888888888888888,
              "#fdca26"
             ],
             [
              1,
              "#f0f921"
             ]
            ],
            "type": "histogram2d"
           }
          ],
          "histogram2dcontour": [
           {
            "colorbar": {
             "outlinewidth": 0,
             "ticks": ""
            },
            "colorscale": [
             [
              0,
              "#0d0887"
             ],
             [
              0.1111111111111111,
              "#46039f"
             ],
             [
              0.2222222222222222,
              "#7201a8"
             ],
             [
              0.3333333333333333,
              "#9c179e"
             ],
             [
              0.4444444444444444,
              "#bd3786"
             ],
             [
              0.5555555555555556,
              "#d8576b"
             ],
             [
              0.6666666666666666,
              "#ed7953"
             ],
             [
              0.7777777777777778,
              "#fb9f3a"
             ],
             [
              0.8888888888888888,
              "#fdca26"
             ],
             [
              1,
              "#f0f921"
             ]
            ],
            "type": "histogram2dcontour"
           }
          ],
          "mesh3d": [
           {
            "colorbar": {
             "outlinewidth": 0,
             "ticks": ""
            },
            "type": "mesh3d"
           }
          ],
          "parcoords": [
           {
            "line": {
             "colorbar": {
              "outlinewidth": 0,
              "ticks": ""
             }
            },
            "type": "parcoords"
           }
          ],
          "pie": [
           {
            "automargin": true,
            "type": "pie"
           }
          ],
          "scatter": [
           {
            "fillpattern": {
             "fillmode": "overlay",
             "size": 10,
             "solidity": 0.2
            },
            "type": "scatter"
           }
          ],
          "scatter3d": [
           {
            "line": {
             "colorbar": {
              "outlinewidth": 0,
              "ticks": ""
             }
            },
            "marker": {
             "colorbar": {
              "outlinewidth": 0,
              "ticks": ""
             }
            },
            "type": "scatter3d"
           }
          ],
          "scattercarpet": [
           {
            "marker": {
             "colorbar": {
              "outlinewidth": 0,
              "ticks": ""
             }
            },
            "type": "scattercarpet"
           }
          ],
          "scattergeo": [
           {
            "marker": {
             "colorbar": {
              "outlinewidth": 0,
              "ticks": ""
             }
            },
            "type": "scattergeo"
           }
          ],
          "scattergl": [
           {
            "marker": {
             "colorbar": {
              "outlinewidth": 0,
              "ticks": ""
             }
            },
            "type": "scattergl"
           }
          ],
          "scattermapbox": [
           {
            "marker": {
             "colorbar": {
              "outlinewidth": 0,
              "ticks": ""
             }
            },
            "type": "scattermapbox"
           }
          ],
          "scatterpolar": [
           {
            "marker": {
             "colorbar": {
              "outlinewidth": 0,
              "ticks": ""
             }
            },
            "type": "scatterpolar"
           }
          ],
          "scatterpolargl": [
           {
            "marker": {
             "colorbar": {
              "outlinewidth": 0,
              "ticks": ""
             }
            },
            "type": "scatterpolargl"
           }
          ],
          "scatterternary": [
           {
            "marker": {
             "colorbar": {
              "outlinewidth": 0,
              "ticks": ""
             }
            },
            "type": "scatterternary"
           }
          ],
          "surface": [
           {
            "colorbar": {
             "outlinewidth": 0,
             "ticks": ""
            },
            "colorscale": [
             [
              0,
              "#0d0887"
             ],
             [
              0.1111111111111111,
              "#46039f"
             ],
             [
              0.2222222222222222,
              "#7201a8"
             ],
             [
              0.3333333333333333,
              "#9c179e"
             ],
             [
              0.4444444444444444,
              "#bd3786"
             ],
             [
              0.5555555555555556,
              "#d8576b"
             ],
             [
              0.6666666666666666,
              "#ed7953"
             ],
             [
              0.7777777777777778,
              "#fb9f3a"
             ],
             [
              0.8888888888888888,
              "#fdca26"
             ],
             [
              1,
              "#f0f921"
             ]
            ],
            "type": "surface"
           }
          ],
          "table": [
           {
            "cells": {
             "fill": {
              "color": "#EBF0F8"
             },
             "line": {
              "color": "white"
             }
            },
            "header": {
             "fill": {
              "color": "#C8D4E3"
             },
             "line": {
              "color": "white"
             }
            },
            "type": "table"
           }
          ]
         },
         "layout": {
          "annotationdefaults": {
           "arrowcolor": "#2a3f5f",
           "arrowhead": 0,
           "arrowwidth": 1
          },
          "autotypenumbers": "strict",
          "coloraxis": {
           "colorbar": {
            "outlinewidth": 0,
            "ticks": ""
           }
          },
          "colorscale": {
           "diverging": [
            [
             0,
             "#8e0152"
            ],
            [
             0.1,
             "#c51b7d"
            ],
            [
             0.2,
             "#de77ae"
            ],
            [
             0.3,
             "#f1b6da"
            ],
            [
             0.4,
             "#fde0ef"
            ],
            [
             0.5,
             "#f7f7f7"
            ],
            [
             0.6,
             "#e6f5d0"
            ],
            [
             0.7,
             "#b8e186"
            ],
            [
             0.8,
             "#7fbc41"
            ],
            [
             0.9,
             "#4d9221"
            ],
            [
             1,
             "#276419"
            ]
           ],
           "sequential": [
            [
             0,
             "#0d0887"
            ],
            [
             0.1111111111111111,
             "#46039f"
            ],
            [
             0.2222222222222222,
             "#7201a8"
            ],
            [
             0.3333333333333333,
             "#9c179e"
            ],
            [
             0.4444444444444444,
             "#bd3786"
            ],
            [
             0.5555555555555556,
             "#d8576b"
            ],
            [
             0.6666666666666666,
             "#ed7953"
            ],
            [
             0.7777777777777778,
             "#fb9f3a"
            ],
            [
             0.8888888888888888,
             "#fdca26"
            ],
            [
             1,
             "#f0f921"
            ]
           ],
           "sequentialminus": [
            [
             0,
             "#0d0887"
            ],
            [
             0.1111111111111111,
             "#46039f"
            ],
            [
             0.2222222222222222,
             "#7201a8"
            ],
            [
             0.3333333333333333,
             "#9c179e"
            ],
            [
             0.4444444444444444,
             "#bd3786"
            ],
            [
             0.5555555555555556,
             "#d8576b"
            ],
            [
             0.6666666666666666,
             "#ed7953"
            ],
            [
             0.7777777777777778,
             "#fb9f3a"
            ],
            [
             0.8888888888888888,
             "#fdca26"
            ],
            [
             1,
             "#f0f921"
            ]
           ]
          },
          "colorway": [
           "#636efa",
           "#EF553B",
           "#00cc96",
           "#ab63fa",
           "#FFA15A",
           "#19d3f3",
           "#FF6692",
           "#B6E880",
           "#FF97FF",
           "#FECB52"
          ],
          "font": {
           "color": "#2a3f5f"
          },
          "geo": {
           "bgcolor": "white",
           "lakecolor": "white",
           "landcolor": "#E5ECF6",
           "showlakes": true,
           "showland": true,
           "subunitcolor": "white"
          },
          "hoverlabel": {
           "align": "left"
          },
          "hovermode": "closest",
          "mapbox": {
           "style": "light"
          },
          "paper_bgcolor": "white",
          "plot_bgcolor": "#E5ECF6",
          "polar": {
           "angularaxis": {
            "gridcolor": "white",
            "linecolor": "white",
            "ticks": ""
           },
           "bgcolor": "#E5ECF6",
           "radialaxis": {
            "gridcolor": "white",
            "linecolor": "white",
            "ticks": ""
           }
          },
          "scene": {
           "xaxis": {
            "backgroundcolor": "#E5ECF6",
            "gridcolor": "white",
            "gridwidth": 2,
            "linecolor": "white",
            "showbackground": true,
            "ticks": "",
            "zerolinecolor": "white"
           },
           "yaxis": {
            "backgroundcolor": "#E5ECF6",
            "gridcolor": "white",
            "gridwidth": 2,
            "linecolor": "white",
            "showbackground": true,
            "ticks": "",
            "zerolinecolor": "white"
           },
           "zaxis": {
            "backgroundcolor": "#E5ECF6",
            "gridcolor": "white",
            "gridwidth": 2,
            "linecolor": "white",
            "showbackground": true,
            "ticks": "",
            "zerolinecolor": "white"
           }
          },
          "shapedefaults": {
           "line": {
            "color": "#2a3f5f"
           }
          },
          "ternary": {
           "aaxis": {
            "gridcolor": "white",
            "linecolor": "white",
            "ticks": ""
           },
           "baxis": {
            "gridcolor": "white",
            "linecolor": "white",
            "ticks": ""
           },
           "bgcolor": "#E5ECF6",
           "caxis": {
            "gridcolor": "white",
            "linecolor": "white",
            "ticks": ""
           }
          },
          "title": {
           "x": 0.05
          },
          "xaxis": {
           "automargin": true,
           "gridcolor": "white",
           "linecolor": "white",
           "ticks": "",
           "title": {
            "standoff": 15
           },
           "zerolinecolor": "white",
           "zerolinewidth": 2
          },
          "yaxis": {
           "automargin": true,
           "gridcolor": "white",
           "linecolor": "white",
           "ticks": "",
           "title": {
            "standoff": 15
           },
           "zerolinecolor": "white",
           "zerolinewidth": 2
          }
         }
        },
        "title": {
         "text": "EventCount vs AvgClose by Stock and Sector (2019)"
        },
        "width": 1000,
        "xaxis": {
         "anchor": "y",
         "domain": [
          0,
          0.1075
         ],
         "title": {
          "text": "EventCount"
         }
        },
        "xaxis2": {
         "anchor": "y2",
         "domain": [
          0.1275,
          0.235
         ],
         "matches": "x",
         "title": {
          "text": "EventCount"
         }
        },
        "xaxis3": {
         "anchor": "y3",
         "domain": [
          0.255,
          0.3625
         ],
         "matches": "x",
         "title": {
          "text": "EventCount"
         }
        },
        "xaxis4": {
         "anchor": "y4",
         "domain": [
          0.3825,
          0.49
         ],
         "matches": "x",
         "title": {
          "text": "EventCount"
         }
        },
        "xaxis5": {
         "anchor": "y5",
         "domain": [
          0.51,
          0.6175
         ],
         "matches": "x",
         "title": {
          "text": "EventCount"
         }
        },
        "xaxis6": {
         "anchor": "y6",
         "domain": [
          0.6375,
          0.745
         ],
         "matches": "x",
         "title": {
          "text": "EventCount"
         }
        },
        "xaxis7": {
         "anchor": "y7",
         "domain": [
          0.765,
          0.8725
         ],
         "matches": "x",
         "title": {
          "text": "EventCount"
         }
        },
        "xaxis8": {
         "anchor": "y8",
         "domain": [
          0.8925,
          1
         ],
         "matches": "x",
         "title": {
          "text": "EventCount"
         }
        },
        "yaxis": {
         "anchor": "x",
         "domain": [
          0,
          1
         ],
         "title": {
          "text": "AvgClose"
         }
        },
        "yaxis2": {
         "anchor": "x2",
         "domain": [
          0,
          1
         ],
         "matches": "y",
         "showticklabels": false
        },
        "yaxis3": {
         "anchor": "x3",
         "domain": [
          0,
          1
         ],
         "matches": "y",
         "showticklabels": false
        },
        "yaxis4": {
         "anchor": "x4",
         "domain": [
          0,
          1
         ],
         "matches": "y",
         "showticklabels": false
        },
        "yaxis5": {
         "anchor": "x5",
         "domain": [
          0,
          1
         ],
         "matches": "y",
         "showticklabels": false
        },
        "yaxis6": {
         "anchor": "x6",
         "domain": [
          0,
          1
         ],
         "matches": "y",
         "showticklabels": false
        },
        "yaxis7": {
         "anchor": "x7",
         "domain": [
          0,
          1
         ],
         "matches": "y",
         "showticklabels": false
        },
        "yaxis8": {
         "anchor": "x8",
         "domain": [
          0,
          1
         ],
         "matches": "y",
         "showticklabels": false
        }
       }
      }
     },
     "metadata": {},
     "output_type": "display_data"
    }
   ],
   "source": [
    "# Plot the relationship between EventCount and AvgClose by Stock and Sector\n",
    "fig = px.scatter(merged_monthly_df, \n",
    "                 x='EventCount', \n",
    "                 y='AvgClose', \n",
    "                 color='Stock', \n",
    "                 facet_col='Sector', \n",
    "                 title='EventCount vs AvgClose by Stock and Sector (2019)',)\n",
    "\n",
    "fig.update_layout(\n",
    "    autosize=False,\n",
    "    width=1000,\n",
    "    height=800,\n",
    "    margin=dict(\n",
    "        l=50,\n",
    "        r=50,\n",
    "        b=100,\n",
    "        t=100,\n",
    "        pad=4\n",
    "    ),\n",
    "    paper_bgcolor=\"LightSteelBlue\",\n",
    ")\n",
    "\n",
    "fig.show()"
   ]
  }
 ],
 "metadata": {
  "kernelspec": {
   "display_name": "Python 3",
   "language": "python",
   "name": "python3"
  },
  "language_info": {
   "codemirror_mode": {
    "name": "ipython",
    "version": 3
   },
   "file_extension": ".py",
   "mimetype": "text/x-python",
   "name": "python",
   "nbconvert_exporter": "python",
   "pygments_lexer": "ipython3",
   "version": "3.12.2"
  }
 },
 "nbformat": 4,
 "nbformat_minor": 2
}
