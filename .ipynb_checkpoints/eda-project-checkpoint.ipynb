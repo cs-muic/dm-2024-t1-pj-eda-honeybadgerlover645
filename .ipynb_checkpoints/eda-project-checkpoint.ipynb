{
 "cells": [
  {
   "cell_type": "markdown",
   "id": "044d7336-876c-4286-8225-8cbd61577b3f",
   "metadata": {},
   "source": [
    "# Data Engineering EDA Project"
   ]
  },
  {
   "cell_type": "markdown",
   "id": "b651974d-c89f-4ffa-801d-584789da96d9",
   "metadata": {},
   "source": [
    "-----------------------\n",
    "By Aommy, Austin, Ling, Tath (yippee)"
   ]
  },
  {
   "cell_type": "markdown",
   "id": "4d16f69d-d599-45b3-a3f4-8fd91d3bb183",
   "metadata": {},
   "source": [
    "## Installing Dependencies"
   ]
  },
  {
   "cell_type": "markdown",
   "id": "fffb29b2-96bf-4a84-be9e-a351af7806d9",
   "metadata": {},
   "source": [
    "### Minio Object Store dependencies\n",
    "\n",
    "1. Install minio cli if not already installed.\n",
    "2. Create client\n",
    "3. Make bucket (if needed)"
   ]
  },
  {
   "cell_type": "code",
   "execution_count": 1,
   "id": "3d6e0bf2-2517-4f44-be01-b05838be2107",
   "metadata": {},
   "outputs": [
    {
     "name": "stdout",
     "output_type": "stream",
     "text": [
      "Collecting minio\n",
      "  Downloading minio-7.2.9-py3-none-any.whl.metadata (6.5 kB)\n",
      "Requirement already satisfied: certifi in /opt/anaconda3/lib/python3.11/site-packages (from minio) (2024.2.2)\n",
      "Requirement already satisfied: urllib3 in /opt/anaconda3/lib/python3.11/site-packages (from minio) (2.0.7)\n",
      "Requirement already satisfied: argon2-cffi in /opt/anaconda3/lib/python3.11/site-packages (from minio) (21.3.0)\n",
      "Collecting pycryptodome (from minio)\n",
      "  Downloading pycryptodome-3.21.0-cp36-abi3-macosx_10_9_universal2.whl.metadata (3.4 kB)\n",
      "Requirement already satisfied: typing-extensions in /opt/anaconda3/lib/python3.11/site-packages (from minio) (4.9.0)\n",
      "Requirement already satisfied: argon2-cffi-bindings in /opt/anaconda3/lib/python3.11/site-packages (from argon2-cffi->minio) (21.2.0)\n",
      "Requirement already satisfied: cffi>=1.0.1 in /opt/anaconda3/lib/python3.11/site-packages (from argon2-cffi-bindings->argon2-cffi->minio) (1.16.0)\n",
      "Requirement already satisfied: pycparser in /opt/anaconda3/lib/python3.11/site-packages (from cffi>=1.0.1->argon2-cffi-bindings->argon2-cffi->minio) (2.21)\n",
      "Downloading minio-7.2.9-py3-none-any.whl (93 kB)\n",
      "\u001b[2K   \u001b[90m━━━━━━━━━━━━━━━━━━━━━━━━━━━━━━━━━━━━━━━━\u001b[0m \u001b[32m93.9/93.9 kB\u001b[0m \u001b[31m5.0 MB/s\u001b[0m eta \u001b[36m0:00:00\u001b[0m\n",
      "\u001b[?25hDownloading pycryptodome-3.21.0-cp36-abi3-macosx_10_9_universal2.whl (2.5 MB)\n",
      "\u001b[2K   \u001b[90m━━━━━━━━━━━━━━━━━━━━━━━━━━━━━━━━━━━━━━━━\u001b[0m \u001b[32m2.5/2.5 MB\u001b[0m \u001b[31m17.1 MB/s\u001b[0m eta \u001b[36m0:00:00\u001b[0ma \u001b[36m0:00:01\u001b[0m\n",
      "\u001b[?25hInstalling collected packages: pycryptodome, minio\n",
      "Successfully installed minio-7.2.9 pycryptodome-3.21.0\n"
     ]
    }
   ],
   "source": [
    "! pip install minio"
   ]
  },
  {
   "cell_type": "code",
   "execution_count": 2,
   "id": "c171e235-c19d-4ed8-a91e-34ec8093708d",
   "metadata": {},
   "outputs": [],
   "source": [
    "import pandas as pd\n",
    "import seaborn as sb\n",
    "import matplotlib.pyplot as plt"
   ]
  },
  {
   "cell_type": "code",
   "execution_count": 7,
   "id": "fc89997d-97e2-48c0-9bc2-02392b4097c6",
   "metadata": {},
   "outputs": [],
   "source": [
    "from minio import Minio\n",
    "\n",
    "# Create client with access and secret key.\n",
    "# client = Minio(\"s3.amazonaws.com\", \"ACCESS-KEY\", \"SECRET-KEY\")\n",
    "\n",
    "# Create client with access key and secret key with specific region.\n",
    "client = Minio(\n",
    "    \"localhost:9000\",\n",
    "    access_key=\"ROOTNAME\",\n",
    "    secret_key=\"CHANGEME123\",\n",
    "    secure=False\n",
    ")\n",
    "\n",
    "if client.bucket_exists(\"eda\"):\n",
    "    print(\"Bucket exists.\")\n",
    "else:\n",
    "    client.make_bucket(\"eda\")\n",
    "    print(\"Bucket created.\")"
   ]
  },
  {
   "cell_type": "code",
   "execution_count": null,
   "id": "bc6be77b-bfa2-4b83-b241-0307b77acd4d",
   "metadata": {},
   "outputs": [],
   "source": []
  }
 ],
 "metadata": {
  "kernelspec": {
   "display_name": "Python 3 (ipykernel)",
   "language": "python",
   "name": "python3"
  },
  "language_info": {
   "codemirror_mode": {
    "name": "ipython",
    "version": 3
   },
   "file_extension": ".py",
   "mimetype": "text/x-python",
   "name": "python",
   "nbconvert_exporter": "python",
   "pygments_lexer": "ipython3",
   "version": "3.11.7"
  }
 },
 "nbformat": 4,
 "nbformat_minor": 5
}
