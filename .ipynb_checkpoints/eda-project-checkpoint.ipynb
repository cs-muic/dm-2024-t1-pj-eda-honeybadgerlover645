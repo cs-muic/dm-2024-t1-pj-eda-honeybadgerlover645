{
 "cells": [
  {
   "cell_type": "markdown",
   "id": "044d7336-876c-4286-8225-8cbd61577b3f",
   "metadata": {},
   "source": [
    "# Data Engineering EDA Project"
   ]
  },
  {
   "cell_type": "markdown",
   "id": "b651974d-c89f-4ffa-801d-584789da96d9",
   "metadata": {},
   "source": [
    "-----------------------\n",
    "By Aommy, Austin, Ling, Tath (yippee)"
   ]
  },
  {
   "cell_type": "markdown",
   "id": "4d16f69d-d599-45b3-a3f4-8fd91d3bb183",
   "metadata": {},
   "source": [
    "## Installing Dependencies"
   ]
  },
  {
   "cell_type": "markdown",
   "id": "fffb29b2-96bf-4a84-be9e-a351af7806d9",
   "metadata": {},
   "source": [
    "### Minio Object Store dependencies\n",
    "\n",
    "1. Install minio cli if not already installed.\n",
    "2. Create client\n",
    "3. Make bucket (if needed)"
   ]
  },
  {
   "cell_type": "code",
   "execution_count": 10,
   "id": "3d6e0bf2-2517-4f44-be01-b05838be2107",
   "metadata": {},
   "outputs": [],
   "source": [
    "! pip install minio --quiet"
   ]
  },
  {
   "cell_type": "code",
   "execution_count": 9,
   "id": "fc89997d-97e2-48c0-9bc2-02392b4097c6",
   "metadata": {},
   "outputs": [
    {
     "name": "stdout",
     "output_type": "stream",
     "text": [
      "Bucket exists.\n"
     ]
    }
   ],
   "source": [
    "from minio import Minio\n",
    "\n",
    "# Create client with access and secret key.\n",
    "# client = Minio(\"s3.amazonaws.com\", \"ACCESS-KEY\", \"SECRET-KEY\")\n",
    "\n",
    "# Create client with access key and secret key with specific region.\n",
    "client = Minio(\n",
    "    \"localhost:9000\",\n",
    "    access_key=\"ROOTNAME\",\n",
    "    secret_key=\"CHANGEME123\",\n",
    "    secure=False\n",
    ")\n",
    "\n",
    "if client.bucket_exists(\"eda\"):\n",
    "    print(\"Bucket exists.\")\n",
    "else:\n",
    "    client.make_bucket(\"eda\")\n",
    "    print(\"Bucket created.\")"
   ]
  },
  {
   "cell_type": "markdown",
   "id": "5926ca24-13eb-49e8-9fa1-9ac9766cc68b",
   "metadata": {},
   "source": [
    "## Importing libraries"
   ]
  },
  {
   "cell_type": "code",
   "execution_count": 2,
   "id": "c171e235-c19d-4ed8-a91e-34ec8093708d",
   "metadata": {},
   "outputs": [],
   "source": [
    "import pandas as pd\n",
    "import seaborn as sb\n",
    "import matplotlib.pyplot as plt"
   ]
  },
  {
   "cell_type": "code",
   "execution_count": null,
   "id": "bc6be77b-bfa2-4b83-b241-0307b77acd4d",
   "metadata": {},
   "outputs": [],
   "source": []
  },
  {
   "cell_type": "markdown",
   "id": "c5d74562-5f18-48c9-83a1-d001b1b67a42",
   "metadata": {},
   "source": [
    "## Data Collection"
   ]
  },
  {
   "cell_type": "code",
   "execution_count": null,
   "id": "f758ad0a-eb7d-41ff-ad99-c2c918f4b495",
   "metadata": {},
   "outputs": [],
   "source": []
  },
  {
   "cell_type": "markdown",
   "id": "b979c726-1198-4463-a966-edf552047cf0",
   "metadata": {},
   "source": [
    "## Data Processing"
   ]
  },
  {
   "cell_type": "code",
   "execution_count": null,
   "id": "998b5b96-800d-4e9c-9bcc-f40500aff3fa",
   "metadata": {},
   "outputs": [],
   "source": []
  },
  {
   "cell_type": "markdown",
   "id": "bd06d8da-17e0-4922-a602-d4dbe2916d73",
   "metadata": {},
   "source": [
    "## Data Analysis"
   ]
  },
  {
   "cell_type": "code",
   "execution_count": null,
   "id": "87013a83-952f-4452-8671-8f2397d5b25d",
   "metadata": {},
   "outputs": [],
   "source": []
  }
 ],
 "metadata": {
  "kernelspec": {
   "display_name": "Python 3 (ipykernel)",
   "language": "python",
   "name": "python3"
  },
  "language_info": {
   "codemirror_mode": {
    "name": "ipython",
    "version": 3
   },
   "file_extension": ".py",
   "mimetype": "text/x-python",
   "name": "python",
   "nbconvert_exporter": "python",
   "pygments_lexer": "ipython3",
   "version": "3.11.7"
  }
 },
 "nbformat": 4,
 "nbformat_minor": 5
}
