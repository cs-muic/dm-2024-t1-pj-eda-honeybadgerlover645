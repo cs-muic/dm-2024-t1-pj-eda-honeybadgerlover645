{
 "cells": [
  {
   "cell_type": "markdown",
   "id": "044d7336-876c-4286-8225-8cbd61577b3f",
   "metadata": {},
   "source": [
    "# Data Engineering EDA Project"
   ]
  },
  {
   "cell_type": "markdown",
   "id": "b651974d-c89f-4ffa-801d-584789da96d9",
   "metadata": {},
   "source": [
    "By Aommy, Austin, Ling, Tath (yippee)\n",
    "\n",
    "-----------------------"
   ]
  },
  {
   "cell_type": "markdown",
   "id": "4d16f69d-d599-45b3-a3f4-8fd91d3bb183",
   "metadata": {},
   "source": [
    "## Installing Dependencies"
   ]
  },
  {
   "cell_type": "markdown",
   "id": "fffb29b2-96bf-4a84-be9e-a351af7806d9",
   "metadata": {},
   "source": [
    "### Minio Object Store dependencies\n",
    "\n",
    "1. Install minio cli if not already installed.\n",
    "2. Create client\n",
    "3. Make bucket (if needed)"
   ]
  },
  {
   "cell_type": "code",
   "execution_count": 10,
   "id": "3d6e0bf2-2517-4f44-be01-b05838be2107",
   "metadata": {},
   "outputs": [],
   "source": [
    "! pip install minio --quiet"
   ]
  },
  {
   "cell_type": "code",
   "execution_count": 2,
   "id": "fc89997d-97e2-48c0-9bc2-02392b4097c6",
   "metadata": {},
   "outputs": [
    {
     "name": "stdout",
     "output_type": "stream",
     "text": [
      "Bucket exists.\n"
     ]
    }
   ],
   "source": [
    "from minio import Minio\n",
    "\n",
    "# Create client with access and secret key.\n",
    "# client = Minio(\"s3.amazonaws.com\", \"ACCESS-KEY\", \"SECRET-KEY\")\n",
    "\n",
    "# Create client with access key and secret key with specific region.\n",
    "client = Minio(\n",
    "    \"localhost:9000\",\n",
    "    access_key=\"ROOTNAME\",\n",
    "    secret_key=\"CHANGEME123\",\n",
    "    secure=False\n",
    ")\n",
    "\n",
    "if client.bucket_exists(\"eda\"):\n",
    "    print(\"Bucket exists.\")\n",
    "else:\n",
    "    client.make_bucket(\"eda\")\n",
    "    print(\"Bucket created.\")"
   ]
  },
  {
   "cell_type": "markdown",
   "id": "5926ca24-13eb-49e8-9fa1-9ac9766cc68b",
   "metadata": {},
   "source": [
    "## Importing libraries"
   ]
  },
  {
   "cell_type": "code",
   "execution_count": 23,
   "id": "c171e235-c19d-4ed8-a91e-34ec8093708d",
   "metadata": {},
   "outputs": [],
   "source": [
    "import pandas as pd\n",
    "import seaborn as sb\n",
    "import matplotlib.pyplot as plt\n",
    "\n",
    "import io\n",
    "from urllib.request import urlopen"
   ]
  },
  {
   "cell_type": "code",
   "execution_count": 7,
   "id": "bc6be77b-bfa2-4b83-b241-0307b77acd4d",
   "metadata": {},
   "outputs": [],
   "source": [
    "!pip install --quiet yfinance --upgrade --no-cache-dir"
   ]
  },
  {
   "cell_type": "markdown",
   "id": "4963f7b8-244c-4cd0-b604-474a8d409ca1",
   "metadata": {},
   "source": [
    "---------------------"
   ]
  },
  {
   "cell_type": "markdown",
   "id": "c5d74562-5f18-48c9-83a1-d001b1b67a42",
   "metadata": {},
   "source": [
    "## Data Collection"
   ]
  },
  {
   "cell_type": "markdown",
   "id": "abe33d20-323f-4209-b33e-e0572637491d",
   "metadata": {},
   "source": [
    "### Data from Global Events\n",
    "\n",
    "Installing data from http://data.gdeltproject.org/events/index.html for global event data!"
   ]
  },
  {
   "cell_type": "code",
   "execution_count": 5,
   "id": "0040aeff-ceac-4718-a4b2-65c5a2fe2e4d",
   "metadata": {
    "scrolled": true
   },
   "outputs": [
    {
     "name": "stdout",
     "output_type": "stream",
     "text": [
      "File doesn't exist!\n",
      "No file to download!\n",
      "File doesn't exist!\n",
      "No file to download!\n",
      "File doesn't exist!\n",
      "No file to download!\n",
      "File doesn't exist!\n",
      "No file to download!\n",
      "File doesn't exist!\n",
      "No file to download!\n",
      "File doesn't exist!\n",
      "No file to download!\n",
      "File doesn't exist!\n",
      "No file to download!\n",
      "File doesn't exist!\n",
      "No file to download!\n",
      "File doesn't exist!\n",
      "No file to download!\n",
      "File doesn't exist!\n",
      "Uploading file!\n",
      "created gdelt/2020/04/09.export.CSV.zip object; etag: 5cf7553a7e25189741f5f55711b3a5f2, version-id: None\n",
      "File doesn't exist!\n",
      "No file to download!\n",
      "File doesn't exist!\n",
      "No file to download!\n",
      "File doesn't exist!\n",
      "No file to download!\n",
      "File doesn't exist!\n",
      "No file to download!\n",
      "File doesn't exist!\n",
      "No file to download!\n",
      "File doesn't exist!\n",
      "No file to download!\n",
      "File doesn't exist!\n",
      "No file to download!\n",
      "File doesn't exist!\n",
      "No file to download!\n",
      "File doesn't exist!\n",
      "No file to download!\n",
      "File doesn't exist!\n",
      "No file to download!\n",
      "File doesn't exist!\n",
      "No file to download!\n",
      "File doesn't exist!\n",
      "No file to download!\n",
      "File doesn't exist!\n",
      "No file to download!\n",
      "File doesn't exist!\n",
      "No file to download!\n",
      "File doesn't exist!\n",
      "No file to download!\n",
      "File doesn't exist!\n",
      "No file to download!\n",
      "File doesn't exist!\n",
      "Uploading file!\n",
      "created gdelt/2022/08/19.export.CSV.zip object; etag: 0b6a5b7a82960a4348ff9d89e54a1448, version-id: None\n",
      "File doesn't exist!\n",
      "No file to download!\n",
      "File doesn't exist!\n",
      "No file to download!\n",
      "File doesn't exist!\n",
      "No file to download!\n",
      "File doesn't exist!\n",
      "No file to download!\n",
      "File doesn't exist!\n",
      "No file to download!\n",
      "File doesn't exist!\n",
      "No file to download!\n",
      "File doesn't exist!\n",
      "No file to download!\n",
      "File doesn't exist!\n",
      "No file to download!\n",
      "File doesn't exist!\n",
      "No file to download!\n",
      "File doesn't exist!\n",
      "No file to download!\n",
      "File doesn't exist!\n",
      "No file to download!\n",
      "File doesn't exist!\n",
      "No file to download!\n",
      "File doesn't exist!\n",
      "No file to download!\n",
      "File doesn't exist!\n",
      "No file to download!\n",
      "File doesn't exist!\n",
      "No file to download!\n",
      "File doesn't exist!\n",
      "No file to download!\n",
      "File doesn't exist!\n",
      "No file to download!\n",
      "File doesn't exist!\n",
      "No file to download!\n",
      "File doesn't exist!\n",
      "No file to download!\n",
      "File doesn't exist!\n",
      "No file to download!\n",
      "File doesn't exist!\n",
      "No file to download!\n",
      "File doesn't exist!\n",
      "No file to download!\n",
      "File doesn't exist!\n",
      "No file to download!\n",
      "File doesn't exist!\n",
      "No file to download!\n",
      "File doesn't exist!\n",
      "No file to download!\n",
      "File doesn't exist!\n",
      "No file to download!\n",
      "File doesn't exist!\n",
      "No file to download!\n",
      "File doesn't exist!\n",
      "No file to download!\n",
      "File doesn't exist!\n",
      "No file to download!\n",
      "File doesn't exist!\n",
      "No file to download!\n",
      "File doesn't exist!\n",
      "No file to download!\n",
      "File doesn't exist!\n",
      "No file to download!\n",
      "File doesn't exist!\n",
      "No file to download!\n",
      "File doesn't exist!\n",
      "No file to download!\n",
      "File doesn't exist!\n",
      "No file to download!\n",
      "File doesn't exist!\n",
      "No file to download!\n",
      "File doesn't exist!\n",
      "No file to download!\n",
      "File doesn't exist!\n",
      "No file to download!\n",
      "File doesn't exist!\n",
      "No file to download!\n",
      "File doesn't exist!\n",
      "No file to download!\n",
      "File doesn't exist!\n",
      "No file to download!\n",
      "File doesn't exist!\n",
      "No file to download!\n",
      "File doesn't exist!\n",
      "No file to download!\n",
      "File doesn't exist!\n",
      "No file to download!\n",
      "File doesn't exist!\n",
      "No file to download!\n",
      "File doesn't exist!\n",
      "No file to download!\n",
      "File doesn't exist!\n",
      "No file to download!\n",
      "File doesn't exist!\n",
      "No file to download!\n",
      "File doesn't exist!\n",
      "No file to download!\n",
      "File doesn't exist!\n",
      "No file to download!\n",
      "File doesn't exist!\n",
      "No file to download!\n",
      "File doesn't exist!\n",
      "No file to download!\n",
      "File doesn't exist!\n",
      "No file to download!\n",
      "File doesn't exist!\n",
      "No file to download!\n",
      "File doesn't exist!\n",
      "No file to download!\n",
      "File doesn't exist!\n",
      "No file to download!\n",
      "File doesn't exist!\n",
      "No file to download!\n",
      "File doesn't exist!\n",
      "No file to download!\n",
      "File doesn't exist!\n",
      "No file to download!\n",
      "File doesn't exist!\n",
      "No file to download!\n",
      "File doesn't exist!\n",
      "No file to download!\n",
      "File doesn't exist!\n",
      "No file to download!\n",
      "File doesn't exist!\n",
      "No file to download!\n",
      "File doesn't exist!\n",
      "No file to download!\n",
      "File doesn't exist!\n",
      "No file to download!\n",
      "File doesn't exist!\n",
      "No file to download!\n",
      "File doesn't exist!\n",
      "No file to download!\n",
      "File doesn't exist!\n",
      "No file to download!\n",
      "File doesn't exist!\n",
      "No file to download!\n",
      "File doesn't exist!\n",
      "No file to download!\n",
      "File doesn't exist!\n",
      "No file to download!\n",
      "File doesn't exist!\n",
      "No file to download!\n",
      "File doesn't exist!\n",
      "No file to download!\n",
      "File doesn't exist!\n",
      "No file to download!\n",
      "File doesn't exist!\n",
      "No file to download!\n",
      "File doesn't exist!\n",
      "No file to download!\n",
      "File doesn't exist!\n",
      "No file to download!\n",
      "File doesn't exist!\n",
      "No file to download!\n",
      "File doesn't exist!\n",
      "No file to download!\n",
      "File doesn't exist!\n",
      "No file to download!\n",
      "File doesn't exist!\n",
      "No file to download!\n",
      "File doesn't exist!\n",
      "No file to download!\n",
      "File doesn't exist!\n",
      "No file to download!\n",
      "File doesn't exist!\n",
      "No file to download!\n",
      "File doesn't exist!\n",
      "No file to download!\n",
      "File doesn't exist!\n",
      "No file to download!\n",
      "File doesn't exist!\n",
      "No file to download!\n",
      "File doesn't exist!\n",
      "No file to download!\n",
      "File doesn't exist!\n",
      "No file to download!\n",
      "File doesn't exist!\n",
      "No file to download!\n",
      "File doesn't exist!\n",
      "No file to download!\n",
      "File doesn't exist!\n",
      "No file to download!\n",
      "File doesn't exist!\n",
      "No file to download!\n",
      "File doesn't exist!\n",
      "No file to download!\n"
     ]
    }
   ],
   "source": [
    "for y in range(19, 25):\n",
    "    for m in range(1, 13):\n",
    "        if m < 10:\n",
    "            m = \"0\" + str(m)\n",
    "        for d in range(1, 32):\n",
    "            if d < 10:\n",
    "                d = \"0\" + str(d)\n",
    "            try:\n",
    "                response = client.get_object(\"eda\", \"gdelt/20{0}/{1}/{2}.export.CSV.zip\".format(y,m,d))\n",
    "                # Read data from response.\n",
    "            except:\n",
    "                print(\"File doesn't exist!\")\n",
    "                try:\n",
    "                    data = urlopen(\n",
    "                        \"http://data.gdeltproject.org/events/20{0}{1}{2}.export.CSV.zip\".format(y,m,d),\n",
    "                    )\n",
    "                    print(\"Uploading file!\")\n",
    "                    result = client.put_object(\n",
    "                        \"eda\", \"gdelt/20{0}/{1}/{2}.export.CSV.zip\".format(y,m,d), data, length=-1, part_size=10*1024*1024,\n",
    "                    )\n",
    "                    print(\n",
    "                        \"created {0} object; etag: {1}, version-id: {2}\".format(\n",
    "                            result.object_name, result.etag, result.version_id,\n",
    "                        ),\n",
    "                    )\n",
    "                except:\n",
    "                    print(\"No file to download!\")\n",
    "            finally:\n",
    "                response.close()\n",
    "                response.release_conn()"
   ]
  },
  {
   "cell_type": "markdown",
   "id": "fc89f093-fe2e-4cd3-9d89-e4b25ec352da",
   "metadata": {},
   "source": [
    "### Data from YahooFinance"
   ]
  },
  {
   "cell_type": "code",
   "execution_count": 30,
   "id": "c2ad4936-1ff5-482d-84c6-6e9ebf58d1ae",
   "metadata": {},
   "outputs": [],
   "source": [
    "import yfinance as yf\n",
    "\n",
    "companies = {\n",
    "    \"tech\": ['AAPL', 'MSFT', 'NVDA'],\n",
    "    \"energy\": ['XOM', 'CVX', 'BP', 'COP'],\n",
    "    \"food\": ['KO', 'PEP', 'PG'],\n",
    "    \"health\": ['JNJ', 'PFE', 'ABBV'],\n",
    "    \"finance\": ['JPM', 'V', 'MA'],\n",
    "    \"agriculture\": ['DE', 'CTVA', 'ADM'],\n",
    "    \"telecom\": ['T', 'VZ', 'TMUS'],\n",
    "    \"materials\": ['DOW', 'NEM', 'FCX']\n",
    "}"
   ]
  },
  {
   "cell_type": "code",
   "execution_count": 37,
   "id": "bfb67386-e852-4374-b895-f2dc379d3087",
   "metadata": {},
   "outputs": [
    {
     "name": "stdout",
     "output_type": "stream",
     "text": [
      "No changes to make.\n"
     ]
    }
   ],
   "source": [
    "uploaded = False\n",
    "for sector in companies:\n",
    "    for stock in companies[sector]:\n",
    "        try:\n",
    "            response = client.get_object(\"eda\", \"yfinance/{0}/{1}.snappy.parquet\".format(sector,stock))\n",
    "            # Read data from response.\n",
    "        except:\n",
    "            print(\"File doesn't exist!\")\n",
    "            data = yf.download(stock, start=\"2019-01-01\", end=\"2024-10-15\", progress=False)\n",
    "            result = client.put_object(\n",
    "                \"eda\", \"yfinance/{0}/{1}.snappy.parquet\".format(sector,stock), io.BytesIO(data.to_parquet(compression='snappy')), length=-1, part_size=10*1024*1024,\n",
    "            )\n",
    "            print(\n",
    "                \"created {0} object; etag: {1}, version-id: {2}\".format(\n",
    "                    result.object_name, result.etag, result.version_id,\n",
    "                ),\n",
    "            )\n",
    "            uploaded = True\n",
    "        finally:\n",
    "            response.close()\n",
    "            response.release_conn()\n",
    "if (not uploaded):\n",
    "    print(\"No changes to make.\")"
   ]
  },
  {
   "cell_type": "markdown",
   "id": "cf2071b3-1975-4062-934e-835bef6833af",
   "metadata": {},
   "source": [
    "----------------------"
   ]
  },
  {
   "cell_type": "markdown",
   "id": "b979c726-1198-4463-a966-edf552047cf0",
   "metadata": {},
   "source": [
    "## Data Processing"
   ]
  },
  {
   "cell_type": "code",
   "execution_count": 46,
   "id": "998b5b96-800d-4e9c-9bcc-f40500aff3fa",
   "metadata": {},
   "outputs": [
    {
     "ename": "UnicodeDecodeError",
     "evalue": "'utf-8' codec can't decode byte 0xa1 in position 15: invalid start byte",
     "output_type": "error",
     "traceback": [
      "\u001b[0;31m---------------------------------------------------------------------------\u001b[0m",
      "\u001b[0;31mUnicodeDecodeError\u001b[0m                        Traceback (most recent call last)",
      "Cell \u001b[0;32mIn[46], line 4\u001b[0m\n\u001b[1;32m      1\u001b[0m resp \u001b[38;5;241m=\u001b[39m client\u001b[38;5;241m.\u001b[39mget_object(\u001b[38;5;124m\"\u001b[39m\u001b[38;5;124meda\u001b[39m\u001b[38;5;124m\"\u001b[39m, \u001b[38;5;124m\"\u001b[39m\u001b[38;5;124mgdelt/2019/01/01.export.CSV.zip\u001b[39m\u001b[38;5;124m\"\u001b[39m)\n\u001b[1;32m      2\u001b[0m \u001b[38;5;28;01mfrom\u001b[39;00m \u001b[38;5;21;01mio\u001b[39;00m \u001b[38;5;28;01mimport\u001b[39;00m BytesIO\n\u001b[0;32m----> 4\u001b[0m df \u001b[38;5;241m=\u001b[39m pd\u001b[38;5;241m.\u001b[39mread_csv(BytesIO(resp\u001b[38;5;241m.\u001b[39mdata))\n",
      "File \u001b[0;32m/opt/anaconda3/lib/python3.11/site-packages/pandas/io/parsers/readers.py:948\u001b[0m, in \u001b[0;36mread_csv\u001b[0;34m(filepath_or_buffer, sep, delimiter, header, names, index_col, usecols, dtype, engine, converters, true_values, false_values, skipinitialspace, skiprows, skipfooter, nrows, na_values, keep_default_na, na_filter, verbose, skip_blank_lines, parse_dates, infer_datetime_format, keep_date_col, date_parser, date_format, dayfirst, cache_dates, iterator, chunksize, compression, thousands, decimal, lineterminator, quotechar, quoting, doublequote, escapechar, comment, encoding, encoding_errors, dialect, on_bad_lines, delim_whitespace, low_memory, memory_map, float_precision, storage_options, dtype_backend)\u001b[0m\n\u001b[1;32m    935\u001b[0m kwds_defaults \u001b[38;5;241m=\u001b[39m _refine_defaults_read(\n\u001b[1;32m    936\u001b[0m     dialect,\n\u001b[1;32m    937\u001b[0m     delimiter,\n\u001b[0;32m   (...)\u001b[0m\n\u001b[1;32m    944\u001b[0m     dtype_backend\u001b[38;5;241m=\u001b[39mdtype_backend,\n\u001b[1;32m    945\u001b[0m )\n\u001b[1;32m    946\u001b[0m kwds\u001b[38;5;241m.\u001b[39mupdate(kwds_defaults)\n\u001b[0;32m--> 948\u001b[0m \u001b[38;5;28;01mreturn\u001b[39;00m _read(filepath_or_buffer, kwds)\n",
      "File \u001b[0;32m/opt/anaconda3/lib/python3.11/site-packages/pandas/io/parsers/readers.py:611\u001b[0m, in \u001b[0;36m_read\u001b[0;34m(filepath_or_buffer, kwds)\u001b[0m\n\u001b[1;32m    608\u001b[0m _validate_names(kwds\u001b[38;5;241m.\u001b[39mget(\u001b[38;5;124m\"\u001b[39m\u001b[38;5;124mnames\u001b[39m\u001b[38;5;124m\"\u001b[39m, \u001b[38;5;28;01mNone\u001b[39;00m))\n\u001b[1;32m    610\u001b[0m \u001b[38;5;66;03m# Create the parser.\u001b[39;00m\n\u001b[0;32m--> 611\u001b[0m parser \u001b[38;5;241m=\u001b[39m TextFileReader(filepath_or_buffer, \u001b[38;5;241m*\u001b[39m\u001b[38;5;241m*\u001b[39mkwds)\n\u001b[1;32m    613\u001b[0m \u001b[38;5;28;01mif\u001b[39;00m chunksize \u001b[38;5;129;01mor\u001b[39;00m iterator:\n\u001b[1;32m    614\u001b[0m     \u001b[38;5;28;01mreturn\u001b[39;00m parser\n",
      "File \u001b[0;32m/opt/anaconda3/lib/python3.11/site-packages/pandas/io/parsers/readers.py:1448\u001b[0m, in \u001b[0;36mTextFileReader.__init__\u001b[0;34m(self, f, engine, **kwds)\u001b[0m\n\u001b[1;32m   1445\u001b[0m     \u001b[38;5;28mself\u001b[39m\u001b[38;5;241m.\u001b[39moptions[\u001b[38;5;124m\"\u001b[39m\u001b[38;5;124mhas_index_names\u001b[39m\u001b[38;5;124m\"\u001b[39m] \u001b[38;5;241m=\u001b[39m kwds[\u001b[38;5;124m\"\u001b[39m\u001b[38;5;124mhas_index_names\u001b[39m\u001b[38;5;124m\"\u001b[39m]\n\u001b[1;32m   1447\u001b[0m \u001b[38;5;28mself\u001b[39m\u001b[38;5;241m.\u001b[39mhandles: IOHandles \u001b[38;5;241m|\u001b[39m \u001b[38;5;28;01mNone\u001b[39;00m \u001b[38;5;241m=\u001b[39m \u001b[38;5;28;01mNone\u001b[39;00m\n\u001b[0;32m-> 1448\u001b[0m \u001b[38;5;28mself\u001b[39m\u001b[38;5;241m.\u001b[39m_engine \u001b[38;5;241m=\u001b[39m \u001b[38;5;28mself\u001b[39m\u001b[38;5;241m.\u001b[39m_make_engine(f, \u001b[38;5;28mself\u001b[39m\u001b[38;5;241m.\u001b[39mengine)\n",
      "File \u001b[0;32m/opt/anaconda3/lib/python3.11/site-packages/pandas/io/parsers/readers.py:1723\u001b[0m, in \u001b[0;36mTextFileReader._make_engine\u001b[0;34m(self, f, engine)\u001b[0m\n\u001b[1;32m   1720\u001b[0m     \u001b[38;5;28;01mraise\u001b[39;00m \u001b[38;5;167;01mValueError\u001b[39;00m(msg)\n\u001b[1;32m   1722\u001b[0m \u001b[38;5;28;01mtry\u001b[39;00m:\n\u001b[0;32m-> 1723\u001b[0m     \u001b[38;5;28;01mreturn\u001b[39;00m mapping[engine](f, \u001b[38;5;241m*\u001b[39m\u001b[38;5;241m*\u001b[39m\u001b[38;5;28mself\u001b[39m\u001b[38;5;241m.\u001b[39moptions)\n\u001b[1;32m   1724\u001b[0m \u001b[38;5;28;01mexcept\u001b[39;00m \u001b[38;5;167;01mException\u001b[39;00m:\n\u001b[1;32m   1725\u001b[0m     \u001b[38;5;28;01mif\u001b[39;00m \u001b[38;5;28mself\u001b[39m\u001b[38;5;241m.\u001b[39mhandles \u001b[38;5;129;01mis\u001b[39;00m \u001b[38;5;129;01mnot\u001b[39;00m \u001b[38;5;28;01mNone\u001b[39;00m:\n",
      "File \u001b[0;32m/opt/anaconda3/lib/python3.11/site-packages/pandas/io/parsers/c_parser_wrapper.py:93\u001b[0m, in \u001b[0;36mCParserWrapper.__init__\u001b[0;34m(self, src, **kwds)\u001b[0m\n\u001b[1;32m     90\u001b[0m \u001b[38;5;28;01mif\u001b[39;00m kwds[\u001b[38;5;124m\"\u001b[39m\u001b[38;5;124mdtype_backend\u001b[39m\u001b[38;5;124m\"\u001b[39m] \u001b[38;5;241m==\u001b[39m \u001b[38;5;124m\"\u001b[39m\u001b[38;5;124mpyarrow\u001b[39m\u001b[38;5;124m\"\u001b[39m:\n\u001b[1;32m     91\u001b[0m     \u001b[38;5;66;03m# Fail here loudly instead of in cython after reading\u001b[39;00m\n\u001b[1;32m     92\u001b[0m     import_optional_dependency(\u001b[38;5;124m\"\u001b[39m\u001b[38;5;124mpyarrow\u001b[39m\u001b[38;5;124m\"\u001b[39m)\n\u001b[0;32m---> 93\u001b[0m \u001b[38;5;28mself\u001b[39m\u001b[38;5;241m.\u001b[39m_reader \u001b[38;5;241m=\u001b[39m parsers\u001b[38;5;241m.\u001b[39mTextReader(src, \u001b[38;5;241m*\u001b[39m\u001b[38;5;241m*\u001b[39mkwds)\n\u001b[1;32m     95\u001b[0m \u001b[38;5;28mself\u001b[39m\u001b[38;5;241m.\u001b[39munnamed_cols \u001b[38;5;241m=\u001b[39m \u001b[38;5;28mself\u001b[39m\u001b[38;5;241m.\u001b[39m_reader\u001b[38;5;241m.\u001b[39munnamed_cols\n\u001b[1;32m     97\u001b[0m \u001b[38;5;66;03m# error: Cannot determine type of 'names'\u001b[39;00m\n",
      "File \u001b[0;32mparsers.pyx:579\u001b[0m, in \u001b[0;36mpandas._libs.parsers.TextReader.__cinit__\u001b[0;34m()\u001b[0m\n",
      "File \u001b[0;32mparsers.pyx:668\u001b[0m, in \u001b[0;36mpandas._libs.parsers.TextReader._get_header\u001b[0;34m()\u001b[0m\n",
      "File \u001b[0;32mparsers.pyx:879\u001b[0m, in \u001b[0;36mpandas._libs.parsers.TextReader._tokenize_rows\u001b[0;34m()\u001b[0m\n",
      "File \u001b[0;32mparsers.pyx:890\u001b[0m, in \u001b[0;36mpandas._libs.parsers.TextReader._check_tokenize_status\u001b[0;34m()\u001b[0m\n",
      "File \u001b[0;32mparsers.pyx:2050\u001b[0m, in \u001b[0;36mpandas._libs.parsers.raise_parser_error\u001b[0;34m()\u001b[0m\n",
      "\u001b[0;31mUnicodeDecodeError\u001b[0m: 'utf-8' codec can't decode byte 0xa1 in position 15: invalid start byte"
     ]
    }
   ],
   "source": [
    "resp = client.get_object(\"eda\", \"gdelt/2019/01/01.export.CSV.zip\")\n",
    "from io import BytesIO\n",
    "\n",
    "df = pd.read_csv(BytesIO(resp.data))"
   ]
  },
  {
   "cell_type": "code",
   "execution_count": null,
   "id": "7985e490-be6a-4b06-810f-9df637c474d8",
   "metadata": {},
   "outputs": [],
   "source": [
    "urlopen(\"http://data.gdeltproject.org/events/20{0}{1}{2}.export.CSV.zip\".format(19,'01','01'),)"
   ]
  },
  {
   "cell_type": "markdown",
   "id": "a21664d7-a2d7-402b-b878-f60dff89e1ee",
   "metadata": {},
   "source": [
    "----------------------"
   ]
  },
  {
   "cell_type": "markdown",
   "id": "bd06d8da-17e0-4922-a602-d4dbe2916d73",
   "metadata": {},
   "source": [
    "## Data Analysis"
   ]
  },
  {
   "cell_type": "code",
   "execution_count": null,
   "id": "87013a83-952f-4452-8671-8f2397d5b25d",
   "metadata": {},
   "outputs": [],
   "source": []
  }
 ],
 "metadata": {
  "kernelspec": {
   "display_name": "Python 3 (ipykernel)",
   "language": "python",
   "name": "python3"
  },
  "language_info": {
   "codemirror_mode": {
    "name": "ipython",
    "version": 3
   },
   "file_extension": ".py",
   "mimetype": "text/x-python",
   "name": "python",
   "nbconvert_exporter": "python",
   "pygments_lexer": "ipython3",
   "version": "3.11.7"
  }
 },
 "nbformat": 4,
 "nbformat_minor": 5
}
