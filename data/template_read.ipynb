{
 "cells": [
  {
   "cell_type": "code",
   "id": "initial_id",
   "metadata": {
    "collapsed": true,
    "ExecuteTime": {
     "end_time": "2024-10-24T04:58:05.538991Z",
     "start_time": "2024-10-24T04:58:05.533850Z"
    }
   },
   "source": [
    "import libs\n",
    "import numpy as np\n",
    "import pandas as pd\n",
    "import matplotlib.pyplot as plt\n",
    "from IPython.display import display\n",
    "\n",
    "import yfinance as yf\n",
    "import os"
   ],
   "outputs": [],
   "execution_count": 30
  },
  {
   "metadata": {},
   "cell_type": "code",
   "outputs": [],
   "execution_count": null,
   "source": [
    "# Parameters\n",
    "start_date = '2018-01-01'\n",
    "end_date = '2024-10-15'\n",
    "\n",
    "folders = [\n",
    "    \"stocks_to_company_names\",\n",
    "    \"stocks_to_keywords_broad\",\n",
    "    \"stocks_to_keywords_specific\",\n",
    "]\n",
    "\n",
    "root_in = \"input\"\n",
    "root_out = \"output\""
   ],
   "id": "cd4144b0258fc848"
  },
  {
   "metadata": {
    "ExecuteTime": {
     "end_time": "2024-10-24T11:38:36.834716Z",
     "start_time": "2024-10-24T11:38:36.828689Z"
    }
   },
   "cell_type": "code",
   "outputs": [
    {
     "data": {
      "text/plain": [
       "'\\nROOT IN IS INPUT, ROOT OUT IS OUTPUT FOLDERS\\nfor the assumed directory.\\n\\n\\ue5ff .\\n├── \\ue5ff filter\\n│  ├── \\ue5ff stocks_to_company_names\\n│  ├── \\ue5ff stocks_to_keywords_broad\\n│  └── \\ue5ff stocks_to_keywords_specific\\n├── \\ue5ff output\\n│  ├── \\ue5ff stocks_to_company_names\\n│  ├── \\ue5ff stocks_to_keywords_broad\\n│  └── \\ue5ff stocks_to_keywords_specific\\n└── \\ue678 template_read.ipynb\\n'"
      ]
     },
     "execution_count": 2,
     "metadata": {},
     "output_type": "execute_result"
    }
   ],
   "execution_count": 2,
   "source": [
    "\n",
    "\"\"\"\n",
    "ROOT IN IS INPUT, ROOT OUT IS OUTPUT FOLDERS\n",
    "for the assumed directory.\n",
    "\n",
    " .\n",
    "├──  filter\n",
    "│  ├──  stocks_to_company_names\n",
    "│  ├──  stocks_to_keywords_broad\n",
    "│  └──  stocks_to_keywords_specific\n",
    "├──  output\n",
    "│  ├──  stocks_to_company_names\n",
    "│  ├──  stocks_to_keywords_broad\n",
    "│  └──  stocks_to_keywords_specific\n",
    "└──  template_read.ipynb\n",
    "\"\"\"\n"
   ],
   "id": "917057cd87da016a"
  },
  {
   "metadata": {
    "ExecuteTime": {
     "end_time": "2024-10-24T04:58:08.214941Z",
     "start_time": "2024-10-24T04:58:08.209234Z"
    }
   },
   "cell_type": "code",
   "source": "",
   "id": "b961bcc59daa5a57",
   "outputs": [],
   "execution_count": 32
  },
  {
   "metadata": {
    "ExecuteTime": {
     "end_time": "2024-10-24T04:58:23.502963Z",
     "start_time": "2024-10-24T04:58:11.495334Z"
    }
   },
   "cell_type": "code",
   "source": [
    "for folder in folders:\n",
    "\n",
    "    folder_path_in = root_in + '/' + folder\n",
    "    folder_path_out = root_out + '/' + folder\n",
    "    input_source = [file for file in os.listdir(folder_path_in) if file.endswith('.csv')]\n",
    "    \n",
    "    for file in input_source:\n",
    "        stock_code = file.split('_')[0]\n",
    "        company_name = file.split('_')[1].split('.')[0]\n",
    "        print(f'Running: {stock_code}, {company_name.capitalize()}, {folder_path_out}')\n",
    "        \n",
    "        df = pd.read_csv(os.path.join(folder_path_in, file)) # article data\n",
    "        stock_data = yf.download(stock_code, start=start_date, end=end_date, progress=False)\n",
    "        \n",
    "        # df.to_csv(os.path.join(folder_path_out, file), index=False) # to save to root_out\n",
    "    print()"
   ],
   "id": "cc73c47fb3f5a731",
   "outputs": [
    {
     "name": "stdout",
     "output_type": "stream",
     "text": [
      "stocks_to_company_names\n",
      "Running: AAPL, Apple, processing/stocks_to_company_names\n",
      "Running: ABBV, Abbvie, processing/stocks_to_company_names\n",
      "Running: ADM, Archer-daniels, processing/stocks_to_company_names\n",
      "Running: BP, Bp, processing/stocks_to_company_names\n",
      "Running: COP, Conocophillips, processing/stocks_to_company_names\n",
      "Running: CTVA, Corteva, processing/stocks_to_company_names\n",
      "Running: CVX, Chevron, processing/stocks_to_company_names\n",
      "Running: DE, Deere, processing/stocks_to_company_names\n",
      "Running: DOW, Dow-jones, processing/stocks_to_company_names\n",
      "Running: FCX, Freeport-mcmoran, processing/stocks_to_company_names\n",
      "Running: JNJ, Johnson-and-johnson, processing/stocks_to_company_names\n",
      "Running: JPM, Jpmorgan-chase, processing/stocks_to_company_names\n",
      "Running: KO, Coca-cola, processing/stocks_to_company_names\n",
      "Running: MA, Mastercard, processing/stocks_to_company_names\n",
      "Running: MSFT, Microsoft, processing/stocks_to_company_names\n",
      "Running: NEM, Newmont-corporation, processing/stocks_to_company_names\n",
      "Running: NVDA, Nvidia, processing/stocks_to_company_names\n",
      "Running: PEP, Pepsico, processing/stocks_to_company_names\n",
      "Running: PFE, Pfizer, processing/stocks_to_company_names\n",
      "Running: PG, Procter-and-gamble, processing/stocks_to_company_names\n",
      "Running: TMUS, T-mobile, processing/stocks_to_company_names\n",
      "Running: T, Att, processing/stocks_to_company_names\n",
      "Running: VZ, Verizon, processing/stocks_to_company_names\n",
      "Running: V, Visa, processing/stocks_to_company_names\n",
      "Running: XOM, Exxon-mobil, processing/stocks_to_company_names\n",
      "\n",
      "stocks_to_keywords_broad\n",
      "Running: AAPL, Apple, processing/stocks_to_keywords_broad\n",
      "Running: ABBV, Abbvie, processing/stocks_to_keywords_broad\n",
      "Running: ADM, Archer-daniels, processing/stocks_to_keywords_broad\n",
      "Running: BP, Bp, processing/stocks_to_keywords_broad\n",
      "Running: COP, Conocophillips, processing/stocks_to_keywords_broad\n",
      "Running: CTVA, Corteva, processing/stocks_to_keywords_broad\n",
      "Running: CVX, Chevron, processing/stocks_to_keywords_broad\n",
      "Running: DE, Deere, processing/stocks_to_keywords_broad\n",
      "Running: DOW, Dow-jones, processing/stocks_to_keywords_broad\n",
      "Running: FCX, Freeport-mcmoran, processing/stocks_to_keywords_broad\n",
      "Running: JNJ, Johnson-and-johnson, processing/stocks_to_keywords_broad\n",
      "Running: JPM, Jpmorgan-chase, processing/stocks_to_keywords_broad\n",
      "Running: KO, Coca-cola, processing/stocks_to_keywords_broad\n",
      "Running: MA, Mastercard, processing/stocks_to_keywords_broad\n",
      "Running: MSFT, Microsoft, processing/stocks_to_keywords_broad\n",
      "Running: NEM, Newmont-corporation, processing/stocks_to_keywords_broad\n",
      "Running: NVDA, Nvidia, processing/stocks_to_keywords_broad\n",
      "Running: PEP, Pepsico, processing/stocks_to_keywords_broad\n",
      "Running: PFE, Pfizer, processing/stocks_to_keywords_broad\n",
      "Running: PG, Procter-and-gamble, processing/stocks_to_keywords_broad\n",
      "Running: TMUS, T-mobile, processing/stocks_to_keywords_broad\n",
      "Running: T, Att, processing/stocks_to_keywords_broad\n",
      "Running: VZ, Verizon, processing/stocks_to_keywords_broad\n",
      "Running: V, Visa, processing/stocks_to_keywords_broad\n",
      "Running: XOM, Exxon-mobil, processing/stocks_to_keywords_broad\n",
      "\n",
      "stocks_to_keywords_specific\n",
      "Running: AAPL, Apple, processing/stocks_to_keywords_specific\n",
      "Running: ABBV, Abbvie, processing/stocks_to_keywords_specific\n",
      "Running: ADM, Archer-daniels, processing/stocks_to_keywords_specific\n",
      "Running: BP, Bp, processing/stocks_to_keywords_specific\n",
      "Running: COP, Conocophillips, processing/stocks_to_keywords_specific\n",
      "Running: CTVA, Corteva, processing/stocks_to_keywords_specific\n",
      "Running: CVX, Chevron, processing/stocks_to_keywords_specific\n",
      "Running: DE, Deere, processing/stocks_to_keywords_specific\n",
      "Running: DOW, Dow-jones, processing/stocks_to_keywords_specific\n",
      "Running: FCX, Freeport-mcmoran, processing/stocks_to_keywords_specific\n",
      "Running: JNJ, Johnson-and-johnson, processing/stocks_to_keywords_specific\n",
      "Running: JPM, Jpmorgan-chase, processing/stocks_to_keywords_specific\n",
      "Running: KO, Coca-cola, processing/stocks_to_keywords_specific\n",
      "Running: MA, Mastercard, processing/stocks_to_keywords_specific\n",
      "Running: MSFT, Microsoft, processing/stocks_to_keywords_specific\n",
      "Running: NEM, Newmont-corporation, processing/stocks_to_keywords_specific\n",
      "Running: NVDA, Nvidia, processing/stocks_to_keywords_specific\n",
      "Running: PEP, Pepsico, processing/stocks_to_keywords_specific\n",
      "Running: PFE, Pfizer, processing/stocks_to_keywords_specific\n",
      "Running: PG, Procter-and-gamble, processing/stocks_to_keywords_specific\n",
      "Running: TMUS, T-mobile, processing/stocks_to_keywords_specific\n",
      "Running: T, Att, processing/stocks_to_keywords_specific\n",
      "Running: VZ, Verizon, processing/stocks_to_keywords_specific\n",
      "Running: V, Visa, processing/stocks_to_keywords_specific\n",
      "Running: XOM, Exxon-mobil, processing/stocks_to_keywords_specific\n",
      "\n"
     ]
    }
   ],
   "execution_count": 33
  }
 ],
 "metadata": {
  "kernelspec": {
   "display_name": "Python 3",
   "language": "python",
   "name": "python3"
  },
  "language_info": {
   "codemirror_mode": {
    "name": "ipython",
    "version": 2
   },
   "file_extension": ".py",
   "mimetype": "text/x-python",
   "name": "python",
   "nbconvert_exporter": "python",
   "pygments_lexer": "ipython2",
   "version": "2.7.6"
  }
 },
 "nbformat": 4,
 "nbformat_minor": 5
}
