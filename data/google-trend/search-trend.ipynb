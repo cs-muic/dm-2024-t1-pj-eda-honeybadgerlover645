{
 "cells": [
  {
   "cell_type": "markdown",
   "metadata": {},
   "source": [
    "# Searching Trends for Stock Markets"
   ]
  },
  {
   "cell_type": "code",
   "execution_count": 31,
   "metadata": {},
   "outputs": [],
   "source": [
    "! pip install pytrends --quiet"
   ]
  },
  {
   "cell_type": "code",
   "execution_count": 32,
   "metadata": {},
   "outputs": [],
   "source": [
    "from pytrends.request import TrendReq\n",
    "\n",
    "import os\n",
    "import pandas as pd\n",
    "import matplotlib.pyplot as plt"
   ]
  },
  {
   "cell_type": "markdown",
   "metadata": {},
   "source": [
    "## Define keywords for companies"
   ]
  },
  {
   "cell_type": "code",
   "execution_count": 33,
   "metadata": {},
   "outputs": [],
   "source": [
    "companies = {\n",
    "    # Technology\n",
    "    'apple': ['Apple Inc.', 'Apple', 'AAPL'],\n",
    "    'microsoft': ['Microsoft', 'MSFT', 'Microsoft Corporation'],\n",
    "    'nvda': ['Nvidia', 'NVDA', 'Nvidia Corporation'],\n",
    "    # Energy/Oil\n",
    "    'exxon': ['Exxon Mobil', 'Exxon', 'Exxon Mobil Corporation'],\n",
    "    'chevron': ['Chevron', 'Chevron Corporation'],\n",
    "    'bp': ['BP', 'BP plc'],\n",
    "    'cop': ['ConocoPhillips', 'ConocoPhillips Company'],\n",
    "    # Consumer Goods/Food & Beverage\n",
    "    'coca_cola': ['Coca-Cola', 'Coca-Cola Company', 'KO'],\n",
    "    'pepsi': ['Pepsi', 'PepsiCo', 'PepsiCo Inc.'],\n",
    "    'pg': ['Procter & Gamble', 'Procter & Gamble Company', 'PG'],\n",
    "    # Healthcare\n",
    "    'jnj': ['Johnson & Johnson', 'Johnson & Johnson Company', 'JNJ'],\n",
    "    'pfe': ['Pfizer', 'Pfizer Inc.', 'PFE'],\n",
    "    'abbv': ['AbbVie', 'AbbVie Inc.', 'ABBV'],\n",
    "    # Financial Services\n",
    "    'jpm': ['JPMorgan Chase', 'JPMorgan Chase & Co.', 'JPM'],\n",
    "    'v': ['Visa', 'Visa Inc.', 'V'],\n",
    "    'ma': ['Mastercard', 'Mastercard Incorporated', 'MA'],\n",
    "    # Agriculture\n",
    "    'de': ['Deere & Company', 'Deere', 'DE'],\n",
    "    'ctva': ['Corteva', 'Corteva Inc.', 'CTVA'],\n",
    "    'adm': ['ADM', 'ADM Company', 'Archer Daniels Midland Company'],\n",
    "    # Telecommunications\n",
    "    't': ['AT&T', 'AT&T Inc.', 'T'],\n",
    "    'vz': ['Verizon', 'Verizon Communications', 'VZ'],\n",
    "    'tmus': ['T-Mobile', 'T-Mobile US', 'TMUS'],\n",
    "    # Materials\n",
    "    'dow': ['Dow Inc.', 'Dow', 'DOW'],\n",
    "    'nem': ['Newmont', 'Newmont Corporation', 'NEM'],\n",
    "    'fcx': ['Freeport-McMoRan', 'Freeport-McMoRan Inc.', 'FCX'],\n",
    "}\n",
    "\n",
    "platforms = {\n",
    "    'web': '',\n",
    "    'youtube': 'youtube',\n",
    "    'news': 'news',\n",
    "    'images': 'images',\n",
    "}"
   ]
  },
  {
   "cell_type": "code",
   "execution_count": 34,
   "metadata": {},
   "outputs": [
    {
     "name": "stdout",
     "output_type": "stream",
     "text": [
      "Fetching data for: apple\n",
      "Fetching data for: microsoft\n",
      "Fetching data for: nvda\n",
      "Fetching data for: exxon\n",
      "Fetching data for: chevron\n",
      "Fetching data for: bp\n",
      "Fetching data for: cop\n",
      "Fetching data for: coca_cola\n",
      "Fetching data for: pepsi\n",
      "Fetching data for: pg\n",
      "Fetching data for: jnj\n",
      "Fetching data for: pfe\n",
      "Fetching data for: abbv\n",
      "Fetching data for: jpm\n",
      "Fetching data for: v\n",
      "Fetching data for: ma\n",
      "Fetching data for: de\n",
      "Fetching data for: ctva\n",
      "Fetching data for: adm\n",
      "Fetching data for: t\n",
      "Fetching data for: vz\n",
      "Fetching data for: tmus\n",
      "Fetching data for: dow\n",
      "Fetching data for: nem\n",
      "Fetching data for: fcx\n"
     ]
    }
   ],
   "source": [
    "# Initialize Pytrends\n",
    "pytrends = TrendReq(hl='en-US', tz=360)\n",
    "\n",
    "output_dir = 'data'\n",
    "os.makedirs(output_dir, exist_ok=True)\n",
    "image_dir = 'image'\n",
    "os.makedirs(image_dir, exist_ok=True)\n",
    "\n",
    "# Loop through each company and each platform to get trends data\n",
    "for company, keywords in companies.items():\n",
    "    print(f\"Fetching data for: {company}\")\n",
    "    \n",
    "    # Create a directory for the company\n",
    "    company_dir = os.path.join(output_dir, company)\n",
    "    os.makedirs(company_dir, exist_ok=True)\n",
    "    \n",
    "    # Initialize a DataFrame to store trends for all platforms\n",
    "    trends_data = {}\n",
    "\n",
    "    # Fetch trends for each platform\n",
    "    for platform, gprop in platforms.items():\n",
    "        # Build the payload\n",
    "        pytrends.build_payload(kw_list=keywords, timeframe='2020-01-01 2024-01-01', geo='', gprop=gprop)\n",
    "        \n",
    "        # Get interest over time data\n",
    "        data = pytrends.interest_over_time()\n",
    "        \n",
    "        # Store data for the current platform\n",
    "        trends_data[platform] = data[keywords[0]]  # Use the first keyword as representative\n",
    "\n",
    "        # Save to CSV in the new directory structure\n",
    "        data.to_csv(os.path.join(company_dir, f'{company}_{platform}.csv'))\n",
    "\n",
    "    # Plot trends for each platform separately\n",
    "    plt.figure(figsize=(12, 8))\n",
    "    for platform, trend in trends_data.items():\n",
    "        plt.plot(trend.index, trend, label=platform)\n",
    "\n",
    "    plt.title(f'Search Trends for {company} (2020-2024)')\n",
    "    plt.xlabel('Date')\n",
    "    plt.ylabel('Search Interest')\n",
    "    plt.legend(loc='upper left')\n",
    "    plt.xticks(rotation=45)\n",
    "    plt.tight_layout()\n",
    "    plt.grid()\n",
    "    plt.savefig(os.path.join(image_dir, f'{company}_search_trends.png'))  # Save the plot\n",
    "    plt.close()  # Close the plot to avoid displaying it immediately"
   ]
  }
 ],
 "metadata": {
  "kernelspec": {
   "display_name": "Python 3",
   "language": "python",
   "name": "python3"
  },
  "language_info": {
   "codemirror_mode": {
    "name": "ipython",
    "version": 3
   },
   "file_extension": ".py",
   "mimetype": "text/x-python",
   "name": "python",
   "nbconvert_exporter": "python",
   "pygments_lexer": "ipython3",
   "version": "3.12.2"
  }
 },
 "nbformat": 4,
 "nbformat_minor": 2
}
