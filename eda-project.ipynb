{
 "cells": [
  {
   "cell_type": "markdown",
   "id": "044d7336-876c-4286-8225-8cbd61577b3f",
   "metadata": {},
   "source": [
    "# Data Engineering EDA Project"
   ]
  },
  {
   "cell_type": "markdown",
   "id": "b651974d-c89f-4ffa-801d-584789da96d9",
   "metadata": {},
   "source": [
    "By Aommy, Austin, Ling, Tath (yippee)\n",
    "\n",
    "-----------------------"
   ]
  },
  {
   "cell_type": "markdown",
   "id": "4d16f69d-d599-45b3-a3f4-8fd91d3bb183",
   "metadata": {},
   "source": [
    "## Installing Dependencies"
   ]
  },
  {
   "cell_type": "markdown",
   "id": "fffb29b2-96bf-4a84-be9e-a351af7806d9",
   "metadata": {},
   "source": [
    "### Minio Object Store dependencies\n",
    "\n",
    "1. Install minio cli if not already installed.\n",
    "2. Create client\n",
    "3. Make bucket (if needed)\n",
    "\n",
    "# no longer needed!"
   ]
  },
  {
   "cell_type": "code",
   "execution_count": 43,
   "id": "3d6e0bf2-2517-4f44-be01-b05838be2107",
   "metadata": {},
   "outputs": [],
   "source": [
    "! pip install minio --quiet"
   ]
  },
  {
   "cell_type": "code",
   "execution_count": 44,
   "id": "fc89997d-97e2-48c0-9bc2-02392b4097c6",
   "metadata": {},
   "outputs": [],
   "source": [
    "# from minio import Minio\n",
    "\n",
    "# # Create client with access and secret key.\n",
    "# # client = Minio(\"s3.amazonaws.com\", \"ACCESS-KEY\", \"SECRET-KEY\")\n",
    "\n",
    "# # Create client with access key and secret key with specific region.\n",
    "# client = Minio(\n",
    "#     \"localhost:9000\",\n",
    "#     access_key=\"ROOTNAME\",\n",
    "#     secret_key=\"CHANGEME123\",\n",
    "#     secure=False\n",
    "# )\n",
    "\n",
    "# if client.bucket_exists(\"eda\"):\n",
    "#     print(\"Bucket exists.\")\n",
    "# else:\n",
    "#     client.make_bucket(\"eda\")\n",
    "#     print(\"Bucket created.\")"
   ]
  },
  {
   "cell_type": "markdown",
   "id": "1fd445ca-f692-4a6a-b530-de77b5a521b8",
   "metadata": {},
   "source": [
    "#### DuckDB dependencies"
   ]
  },
  {
   "cell_type": "code",
   "execution_count": 45,
   "id": "18974cdb-9f1b-4576-8cbf-95d1988ab6f3",
   "metadata": {},
   "outputs": [
    {
     "name": "stderr",
     "output_type": "stream",
     "text": [
      "WARNING: Skipping malloy as it is not installed.\n"
     ]
    }
   ],
   "source": [
    "!pip uninstall --quiet --yes malloy\n",
    "!pip install --quiet --upgrade duckdb\n",
    "!pip install --quiet jupysql==0.10.12\n",
    "!pip install --quiet duckdb-engine"
   ]
  },
  {
   "cell_type": "markdown",
   "id": "5926ca24-13eb-49e8-9fa1-9ac9766cc68b",
   "metadata": {},
   "source": [
    "## Importing libraries"
   ]
  },
  {
   "cell_type": "code",
   "execution_count": 46,
   "id": "c171e235-c19d-4ed8-a91e-34ec8093708d",
   "metadata": {},
   "outputs": [],
   "source": [
    "import pandas as pd\n",
    "import seaborn as sb\n",
    "import matplotlib.pyplot as plt\n",
    "\n",
    "import io\n",
    "from urllib.request import urlopen\n",
    "import zipfile\n",
    "import os"
   ]
  },
  {
   "cell_type": "code",
   "execution_count": 47,
   "id": "bc6be77b-bfa2-4b83-b241-0307b77acd4d",
   "metadata": {},
   "outputs": [],
   "source": [
    "!pip install --quiet yfinance --upgrade --no-cache-dir"
   ]
  },
  {
   "cell_type": "markdown",
   "id": "4963f7b8-244c-4cd0-b604-474a8d409ca1",
   "metadata": {},
   "source": [
    "---------------------"
   ]
  },
  {
   "cell_type": "markdown",
   "id": "c5d74562-5f18-48c9-83a1-d001b1b67a42",
   "metadata": {},
   "source": [
    "## Data Collection"
   ]
  },
  {
   "cell_type": "markdown",
   "id": "abe33d20-323f-4209-b33e-e0572637491d",
   "metadata": {},
   "source": [
    "### Data from Global Events\n",
    "\n",
    "Installing data from http://data.gdeltproject.org/events/index.html for global event data!"
   ]
  },
  {
   "cell_type": "code",
   "execution_count": 48,
   "id": "0040aeff-ceac-4718-a4b2-65c5a2fe2e4d",
   "metadata": {
    "scrolled": true
   },
   "outputs": [],
   "source": [
    "# for y in range(19, 25):\n",
    "#     for m in range(1, 13):\n",
    "#         if m < 10:\n",
    "#             m = \"0\" + str(m)\n",
    "#         for d in range(1, 32):\n",
    "#             if d < 10:\n",
    "#                 d = \"0\" + str(d)\n",
    "#             try:\n",
    "#                 response = client.get_object(\"eda\", \"gdelt-parquet/20{0}/{1}/{2}.export.CSV.zip\".format(y,m,d))\n",
    "#                 # Read data from response.\n",
    "#             except:\n",
    "#                 print(\"File doesn't exist!\")\n",
    "#                 try:\n",
    "#                     data = urlopen(\n",
    "#                         \"http://data.gdeltproject.org/events/20{0}{1}{2}.export.CSV.zip\".format(y,m,d),\n",
    "#                     )\n",
    "#                     print(\"Uploading file!\")\n",
    "#                     result = client.put_object(\n",
    "#                         \"eda\", \"gdelt-parquet/20{0}/{1}/{2}.export.CSV.zip\".format(y,m,d), data, length=-1, part_size=10*1024*1024,\n",
    "#                     )\n",
    "#                     print(\n",
    "#                         \"created {0} object; etag: {1}, version-id: {2}\".format(\n",
    "#                             result.object_name, result.etag, result.version_id,\n",
    "#                         ),\n",
    "#                     )\n",
    "#                 except:\n",
    "#                     print(\"No file to download!\")\n",
    "#             finally:\n",
    "#                 response.close()\n",
    "#                 response.release_conn()"
   ]
  },
  {
   "cell_type": "code",
   "execution_count": 49,
   "id": "2512ac8c-f305-4461-8f5d-3ccc6e28e1e9",
   "metadata": {},
   "outputs": [],
   "source": [
    "gdelt_headers = {\n",
    "    \"GlobalEventID\": int,\n",
    "    \"Day\": int,\n",
    "    \"MonthYear\": int,\n",
    "    \"Year\": int,\n",
    "    \"FractionDate\": float,\n",
    "    \"Actor1Code\": str,\n",
    "    \"Actor1Name\": str,\n",
    "    \"Actor1CountryCode\": str,\n",
    "    \"Actor1KnownGroupCode\": str,\n",
    "    \"Actor1EthnicCode\": str,\n",
    "    \"Actor1Religion1Code\": str,\n",
    "    \"Actor1Religion2Code\": str,\n",
    "    \"Actor1Type1Code\": str,\n",
    "    \"Actor1Type2Code\": str,\n",
    "    \"Actor1Type3Code\": str,\n",
    "    \"Actor2Code\": str,\n",
    "    \"Actor2Name\": str,\n",
    "    \"Actor2CountryCode\": str,\n",
    "    \"Actor2KnownGroupCode\": str,\n",
    "    \"Actor2EthnicCode\": str,\n",
    "    \"Actor2Religion1Code\": str,\n",
    "    \"Actor2Religion2Code\": str,\n",
    "    \"Actor2Type1Code\": str,\n",
    "    \"Actor2Type2Code\": str,\n",
    "    \"Actor2Type3Code\": str,\n",
    "    \"IsRootEvent\": bool,\n",
    "    \"EventCode\": str,\n",
    "    \"EventBaseCode\": str,\n",
    "    \"EventRootCode\": str,\n",
    "    \"QuadClass\": float,\n",
    "    \"GoldsteinScale\": float,\n",
    "    \"NumMentions\": float,\n",
    "    \"NumSources\": float,\n",
    "    \"NumArticles\": float,\n",
    "    \"AvgTone\": float,\n",
    "    \"Actor1Geo_Type\": float,\n",
    "    \"Actor1Geo_Fullname\": str,\n",
    "    \"Actor1Geo_CountryCode\": str,\n",
    "    \"Actor1Geo_ADM1Code\": str,\n",
    "    \"Actor1Geo_Lat\": float,\n",
    "    \"Actor1Geo_Long\": object,\n",
    "    \"Actor1Geo_FeatureID\": object,\n",
    "    \"Actor2Geo_Type\": float,\n",
    "    \"Actor2Geo_Fullname\": str,\n",
    "    \"Actor2Geo_CountryCode\": str,\n",
    "    \"Actor2Geo_ADM1Code\": str,\n",
    "    \"Actor2Geo_Lat\": float,\n",
    "    \"Actor2Geo_Long\": object,\n",
    "    \"Actor2Geo_FeatureID\": object,\n",
    "    \"ActionGeo_Type\": float,\n",
    "    \"ActionGeo_Fullname\": str,\n",
    "    \"ActionGeo_CountryCode\": str,\n",
    "    \"ActionGeo_ADM1Code\": str,\n",
    "    \"ActionGeo_Lat\": float,\n",
    "    \"ActionGeo_Long\": object,\n",
    "    \"ActionGeo_FeatureID\": object,\n",
    "    \"DateAdded\": float,\n",
    "    \"SOURCEURL\": str\n",
    "}"
   ]
  },
  {
   "cell_type": "code",
   "execution_count": 50,
   "id": "567d6e80-b697-4b31-a04f-fe4629554eea",
   "metadata": {},
   "outputs": [
    {
     "data": {
      "text/plain": [
       "58"
      ]
     },
     "execution_count": 50,
     "metadata": {},
     "output_type": "execute_result"
    }
   ],
   "source": [
    "len(gdelt_headers)"
   ]
  },
  {
   "cell_type": "code",
   "execution_count": 51,
   "id": "e71882af-db81-4bfa-9d39-a76f657b67a4",
   "metadata": {},
   "outputs": [
    {
     "data": {
      "text/plain": [
       "dict_keys(['GlobalEventID', 'Day', 'MonthYear', 'Year', 'FractionDate', 'Actor1Code', 'Actor1Name', 'Actor1CountryCode', 'Actor1KnownGroupCode', 'Actor1EthnicCode', 'Actor1Religion1Code', 'Actor1Religion2Code', 'Actor1Type1Code', 'Actor1Type2Code', 'Actor1Type3Code', 'Actor2Code', 'Actor2Name', 'Actor2CountryCode', 'Actor2KnownGroupCode', 'Actor2EthnicCode', 'Actor2Religion1Code', 'Actor2Religion2Code', 'Actor2Type1Code', 'Actor2Type2Code', 'Actor2Type3Code', 'IsRootEvent', 'EventCode', 'EventBaseCode', 'EventRootCode', 'QuadClass', 'GoldsteinScale', 'NumMentions', 'NumSources', 'NumArticles', 'AvgTone', 'Actor1Geo_Type', 'Actor1Geo_Fullname', 'Actor1Geo_CountryCode', 'Actor1Geo_ADM1Code', 'Actor1Geo_Lat', 'Actor1Geo_Long', 'Actor1Geo_FeatureID', 'Actor2Geo_Type', 'Actor2Geo_Fullname', 'Actor2Geo_CountryCode', 'Actor2Geo_ADM1Code', 'Actor2Geo_Lat', 'Actor2Geo_Long', 'Actor2Geo_FeatureID', 'ActionGeo_Type', 'ActionGeo_Fullname', 'ActionGeo_CountryCode', 'ActionGeo_ADM1Code', 'ActionGeo_Lat', 'ActionGeo_Long', 'ActionGeo_FeatureID', 'DateAdded', 'SOURCEURL'])"
      ]
     },
     "execution_count": 51,
     "metadata": {},
     "output_type": "execute_result"
    }
   ],
   "source": [
    "gdelt_headers.keys()"
   ]
  },
  {
   "cell_type": "markdown",
   "id": "fc89f093-fe2e-4cd3-9d89-e4b25ec352da",
   "metadata": {},
   "source": [
    "### Data from YahooFinance"
   ]
  },
  {
   "cell_type": "code",
   "execution_count": 52,
   "id": "c2ad4936-1ff5-482d-84c6-6e9ebf58d1ae",
   "metadata": {},
   "outputs": [],
   "source": [
    "import yfinance as yf\n",
    "\n",
    "companies = {\n",
    "    \"tech\": ['AAPL', 'MSFT', 'NVDA'],\n",
    "    \"energy\": ['XOM', 'CVX', 'BP', 'COP'],\n",
    "    \"food\": ['KO', 'PEP', 'PG'],\n",
    "    \"health\": ['JNJ', 'PFE', 'ABBV'],\n",
    "    \"finance\": ['JPM', 'V', 'MA'],\n",
    "    \"agriculture\": ['DE', 'CTVA', 'ADM'],\n",
    "    \"telecom\": ['T', 'VZ', 'TMUS'],\n",
    "    \"materials\": ['DOW', 'NEM', 'FCX']\n",
    "}"
   ]
  },
  {
   "cell_type": "code",
   "execution_count": 53,
   "id": "bfb67386-e852-4374-b895-f2dc379d3087",
   "metadata": {},
   "outputs": [],
   "source": [
    "# uploaded = False\n",
    "# for sector in companies:\n",
    "#     for stock in companies[sector]:\n",
    "#         try:\n",
    "#             response = client.get_object(\"eda\", \"yfinance/{0}/{1}.snappy.parquet\".format(sector,stock))\n",
    "#             # Read data from response.\n",
    "#         except:\n",
    "#             print(\"File doesn't exist!\")\n",
    "#             data = yf.download(stock, start=\"2019-01-01\", end=\"2024-10-15\", progress=False)\n",
    "#             result = client.put_object(\n",
    "#                 \"eda\", \"yfinance/{0}/{1}.snappy.parquet\".format(sector,stock), io.BytesIO(data.to_parquet(compression='snappy')), length=-1, part_size=10*1024*1024,\n",
    "#             )\n",
    "#             print(\n",
    "#                 \"created {0} object; etag: {1}, version-id: {2}\".format(\n",
    "#                     result.object_name, result.etag, result.version_id,\n",
    "#                 ),\n",
    "#             )\n",
    "#             uploaded = True\n",
    "#         finally:\n",
    "#             response.close()\n",
    "#             response.release_conn()\n",
    "# if (not uploaded):\n",
    "#     print(\"No changes to make.\")"
   ]
  },
  {
   "cell_type": "markdown",
   "id": "ce1297d8",
   "metadata": {},
   "source": [
    "### Data from Google Trend"
   ]
  },
  {
   "cell_type": "code",
   "execution_count": 54,
   "id": "6811d8e4",
   "metadata": {},
   "outputs": [],
   "source": [
    "! pip install pytrends --quiet"
   ]
  },
  {
   "cell_type": "code",
   "execution_count": 55,
   "id": "be1819b6",
   "metadata": {},
   "outputs": [],
   "source": [
    "# import os\n",
    "# import matplotlib.pyplot as plt\n",
    "# from pytrends.request import TrendReq\n",
    "# from minio import Minio\n",
    "# from minio.error import S3Error\n",
    "\n",
    "# companies = {\n",
    "#     # Technology\n",
    "#     'apple': ['Apple Inc.', 'Apple', 'AAPL', 'Apple Corporation'],\n",
    "#     'microsoft': ['Microsoft', 'MSFT', 'Microsoft Corporation'],\n",
    "#     'nvda': ['Nvidia', 'NVDA', 'Nvidia Corporation'],\n",
    "#     # Energy/Oil\n",
    "#     'exxon': ['Exxon Mobil', 'Exxon', 'Exxon Mobil Corporation'],\n",
    "#     'chevron': ['Chevron', 'Chevron Corporation'],\n",
    "#     'bp': ['BP', 'BP plc'],\n",
    "#     'cop': ['ConocoPhillips', 'ConocoPhillips Company'],\n",
    "#     # Consumer Goods/Food & Beverage\n",
    "#     'coca_cola': ['Coca-Cola', 'Coca-Cola Company', 'KO'],\n",
    "#     'pepsi': ['Pepsi', 'PepsiCo', 'PepsiCo Inc.'],\n",
    "#     'pg': ['Procter & Gamble', 'Procter & Gamble Company', 'PG'],\n",
    "#     # Healthcare\n",
    "#     'jnj': ['Johnson & Johnson', 'Johnson & Johnson Company', 'JNJ'],\n",
    "#     'pfe': ['Pfizer', 'Pfizer Inc.', 'PFE'],\n",
    "#     'abbv': ['AbbVie', 'AbbVie Inc.', 'ABBV'],\n",
    "#     # Financial Services\n",
    "#     'jpm': ['JPMorgan Chase', 'JPMorgan Chase & Co.', 'JPM'],\n",
    "#     'v': ['Visa', 'Visa Inc.', 'V'],\n",
    "#     'ma': ['Mastercard', 'Mastercard Incorporated', 'MA'],\n",
    "#     # Agriculture\n",
    "#     'de': ['Deere & Company', 'Deere', 'DE'],\n",
    "#     'ctva': ['Corteva', 'Corteva Inc.', 'CTVA'],\n",
    "#     'adm': ['ADM', 'ADM Company', 'Archer Daniels Midland Company'],\n",
    "#     # Telecommunications\n",
    "#     't': ['AT&T', 'AT&T Inc.', 'T'],\n",
    "#     'vz': ['Verizon', 'Verizon Communications', 'VZ'],\n",
    "#     'tmus': ['T-Mobile', 'T-Mobile US', 'TMUS'],\n",
    "#     # Materials\n",
    "#     'dow': ['Dow Inc.', 'Dow', 'DOW'],\n",
    "#     'nem': ['Newmont', 'Newmont Corporation', 'NEM'],\n",
    "#     'fcx': ['Freeport-McMoRan', 'Freeport-McMoRan Inc.', 'FCX'],\n",
    "# }\n",
    "\n",
    "# platforms = {\n",
    "#     'web': '',\n",
    "#     'youtube': 'youtube',\n",
    "#     'news': 'news',\n",
    "#     'images': 'images',\n",
    "# }\n",
    "\n",
    "# # Initialize Pytrends\n",
    "# pytrends = TrendReq(hl='en-US', tz=360)\n",
    "\n",
    "# output_dir = 'data'\n",
    "# os.makedirs(output_dir, exist_ok=True)\n",
    "# image_dir = 'image'\n",
    "# os.makedirs(image_dir, exist_ok=True)\n",
    "\n",
    "# # Loop through each company and platform to get trends data\n",
    "# for company, keywords in companies.items():\n",
    "#     print(f\"Fetching data for: {company}\")\n",
    "    \n",
    "#     # Create a directory for the company\n",
    "#     company_dir = os.path.join(output_dir, company)\n",
    "#     os.makedirs(company_dir, exist_ok=True)\n",
    "\n",
    "#     trends_data = {}  # Store trends for all platforms\n",
    "\n",
    "#     # Fetch trends data for each platform\n",
    "#     for platform, gprop in platforms.items():\n",
    "#         pytrends.build_payload(kw_list=keywords, timeframe='2019-01-01 2024-10-15', geo='', gprop=gprop)\n",
    "#         data = pytrends.interest_over_time()\n",
    "\n",
    "#         # print(f\"{platform} data:\\n\", data[keywords])\n",
    "\n",
    "#         data.fillna(0, inplace=True)\n",
    "\n",
    "#         # Sum all keyword trends for each platform\n",
    "#         trends_data[platform] = data[keywords].sum(axis=1)\n",
    "\n",
    "#         # Save platform data to CSV\n",
    "#         csv_path = os.path.join(company_dir, f'{company}_{platform}.csv')\n",
    "#         data.to_csv(csv_path)\n",
    "#         print(f\"Saved {csv_path}\")\n",
    "\n",
    "#     # Plot trends for each platform\n",
    "#     plt.figure(figsize=(12, 8))\n",
    "#     for platform, trend in trends_data.items():\n",
    "#         plt.plot(trend.index, trend, label=platform)\n",
    "\n",
    "#     plt.title(f'Search Trends for {company} (2019-2024)')\n",
    "#     plt.xlabel('Date')\n",
    "#     plt.ylabel('Search Interest')\n",
    "#     plt.legend(loc='upper left')\n",
    "#     plt.xticks(rotation=45)\n",
    "#     plt.tight_layout()\n",
    "#     plt.grid()\n",
    "\n",
    "#     # Save the plot as an image\n",
    "#     image_path = os.path.join(image_dir, f'{company}_search_trends.png')\n",
    "#     plt.savefig(image_path)\n",
    "#     plt.close()\n",
    "#     print(f\"Saved {image_path}\")"
   ]
  },
  {
   "cell_type": "code",
   "execution_count": 56,
   "id": "82851c27",
   "metadata": {},
   "outputs": [],
   "source": [
    "# bucket_name = \"eda\"\n",
    "\n",
    "# def upload_directory_to_minio(local_path, bucket, minio_path=\"\"):\n",
    "#     for root, _, files in os.walk(local_path):\n",
    "#         for file in files:\n",
    "#             local_file = os.path.join(root, file)\n",
    "#             relative_path = os.path.relpath(local_file, local_path)\n",
    "#             minio_file_path = os.path.join(minio_path, relative_path).replace(\"\\\\\", \"/\")\n",
    "\n",
    "#             try:\n",
    "#                 client.fput_object(bucket, minio_file_path, local_file)\n",
    "#                 print(f\"Uploaded '{local_file}' to '{minio_file_path}'\")\n",
    "#             except S3Error as e:\n",
    "#                 print(f\"Failed to upload '{local_file}': {e}\")\n",
    "\n",
    "# # Upload 'data' and 'image' directories to MinIO under the 'google-trend' folder\n",
    "# upload_directory_to_minio(output_dir, bucket_name, 'google-trend/data')\n",
    "# upload_directory_to_minio(image_dir, bucket_name, 'google-trend/image')\n",
    "\n",
    "# print(\"All files uploaded to MinIO under 'google-trend' folder.\")\n"
   ]
  },
  {
   "cell_type": "markdown",
   "id": "cf2071b3-1975-4062-934e-835bef6833af",
   "metadata": {},
   "source": [
    "----------------------"
   ]
  },
  {
   "cell_type": "markdown",
   "id": "b979c726-1198-4463-a966-edf552047cf0",
   "metadata": {},
   "source": [
    "## Data Processing"
   ]
  },
  {
   "cell_type": "markdown",
   "id": "873c2b39",
   "metadata": {},
   "source": [
    "Convering .CSV.zip to .snappy.parquet!"
   ]
  },
  {
   "cell_type": "code",
   "execution_count": 57,
   "id": "6c0617fe-bfda-497a-a289-f733082504c7",
   "metadata": {},
   "outputs": [],
   "source": [
    "# for y in range(19, 25):\n",
    "#     for m in range(1, 13):\n",
    "#         if m < 10:\n",
    "#             m = \"0\" + str(m)\n",
    "#         for d in range(1, 32):\n",
    "#             if d < 10:\n",
    "#                 d = \"0\" + str(d)\n",
    "#             try:\n",
    "#                 response = client.get_object(\"eda\", \"gdelt-parquet/20{0}/{1}/{2}.snappy.parquet\".format(y,m,d))\n",
    "#                 # Read data from response.\n",
    "#             except:\n",
    "#                 print(\"File doesn't exist! 20{0}/{1}/{2}\".format(y,m,d))\n",
    "#                 try:\n",
    "#                     response = client.get_object(\"eda\", \"gdelt/20{0}/{1}/{2}.export.CSV.zip\".format(y,m,d))\n",
    "#                     client.fget_object(\"eda\", \"gdelt/20{0}/{1}/{2}.export.CSV.zip\".format(y,m,d), \n",
    "#                                        \"./data/gdelt/20{0}{1}{2}.export.CSV.zip\".format(y,m,d))\n",
    "#                     with zipfile.ZipFile(\"./data/gdelt/20{0}{1}{2}.export.CSV.zip\".format(y,m,d),\"r\") as zip_ref:\n",
    "#                         zip_ref.extractall(\"./data/gdelt/temp\")\n",
    "#                     data = pd.read_csv(\"./data/gdelt/temp/20{0}{1}{2}.export.CSV\".format(y,m,d), sep='\\t', header=None, names=gdelt_headers.keys(), dtype=gdelt_headers, on_bad_lines='warn')\n",
    "#                     result = client.put_object(\n",
    "#                         \"eda\", \"gdelt-parquet/20{0}/{1}/{2}.snappy.parquet\".format(y,m,d), io.BytesIO(data.to_parquet(compression='snappy')), length=-1, part_size=10*1024*1024,\n",
    "#                     )\n",
    "#                     print(\n",
    "#                         \"created {0} object; etag: {1}, version-id: {2}\".format(\n",
    "#                             result.object_name, result.etag, result.version_id,\n",
    "#                         ),\n",
    "#                     )\n",
    "#                     os.remove(\"./data/gdelt/temp/20{0}{1}{2}.export.CSV\".format(y,m,d))\n",
    "#                     os.remove(\"./data/gdelt/20{0}{1}{2}.export.CSV.zip\".format(y,m,d))\n",
    "#                 except:\n",
    "#                     print(\"This date does not exist!!!\")"
   ]
  },
  {
   "cell_type": "code",
   "execution_count": 58,
   "id": "8970f4aa-efc5-416d-8dd7-ad0e778f038f",
   "metadata": {},
   "outputs": [],
   "source": [
    "# data"
   ]
  },
  {
   "cell_type": "markdown",
   "id": "a21664d7-a2d7-402b-b878-f60dff89e1ee",
   "metadata": {},
   "source": [
    "----------------------"
   ]
  },
  {
   "cell_type": "markdown",
   "id": "bd06d8da-17e0-4922-a602-d4dbe2916d73",
   "metadata": {},
   "source": [
    "## Data Analysis"
   ]
  },
  {
   "cell_type": "code",
   "execution_count": 59,
   "id": "b9bd8bdd-18eb-4245-a1f5-05e028dd1b04",
   "metadata": {},
   "outputs": [],
   "source": [
    "import duckdb as ddb"
   ]
  },
  {
   "cell_type": "code",
   "execution_count": 60,
   "id": "bb6a9d23-5da9-4326-a703-893e8f8c89e0",
   "metadata": {},
   "outputs": [
    {
     "name": "stdout",
     "output_type": "stream",
     "text": [
      "The sql extension is already loaded. To reload it, use:\n",
      "  %reload_ext sql\n"
     ]
    }
   ],
   "source": [
    "! pip install pyarrow --quiet\n",
    "%load_ext sql"
   ]
  },
  {
   "cell_type": "code",
   "execution_count": 61,
   "id": "30f0f89b-0a31-4aa9-aaa6-2190f2bb07f3",
   "metadata": {},
   "outputs": [],
   "source": [
    "# %sql ROLLBACK"
   ]
  },
  {
   "cell_type": "code",
   "execution_count": 62,
   "id": "52d70028-fe2b-4ff9-85df-395af9c873c5",
   "metadata": {},
   "outputs": [],
   "source": [
    "%config SqlMagic.autopandas = True\n",
    "%config SqlMagic.feedback = False\n",
    "%config SqlMagic.displaycon = False"
   ]
  },
  {
   "cell_type": "markdown",
   "id": "0adb1934",
   "metadata": {},
   "source": [
    "# SPECIFY WHERE YOUR DDB IS !!!\n",
    "\n",
    "`%sql duckdb:///<path to ur duckdb relative to where this .ipynb file is>`"
   ]
  },
  {
   "cell_type": "code",
   "execution_count": 63,
   "id": "73f8096f-5338-454f-a59a-32883e530d9a",
   "metadata": {},
   "outputs": [],
   "source": [
    "%sql duckdb:///eda-ddb/eda-gdelt.ddb"
   ]
  },
  {
   "cell_type": "markdown",
   "id": "77ce1659",
   "metadata": {},
   "source": [
    "No longer need to run the cell below! Already done with minIO part"
   ]
  },
  {
   "cell_type": "code",
   "execution_count": 64,
   "id": "ba4b26d8-68c2-4bd1-a2e0-008554574605",
   "metadata": {},
   "outputs": [],
   "source": [
    "# %%sql\n",
    "# INSTALL httpfs;\n",
    "# LOAD httpfs;\n",
    "# SET s3_region='us-east-1';\n",
    "# SET s3_url_style='path';\n",
    "# SET s3_endpoint='localhost:9000';\n",
    "# SET s3_access_key_id='ROOTNAME' ;\n",
    "# SET s3_secret_access_key='CHANGEME123';\n",
    "# SET s3_use_ssl = false;"
   ]
  },
  {
   "cell_type": "code",
   "execution_count": 65,
   "id": "4fc8e1bc-54b9-455d-827a-9563cf0c4e05",
   "metadata": {},
   "outputs": [],
   "source": [
    "# %%sql\n",
    "# SELECT *\n",
    "# FROM 's3://eda/gdelt-parquet/2019/01/01.snappy.parquet'"
   ]
  },
  {
   "cell_type": "code",
   "execution_count": 66,
   "id": "640881d7-87b0-47bc-aff4-d71c887986bd",
   "metadata": {},
   "outputs": [],
   "source": [
    "# %sql DROP TABLE gdelt"
   ]
  },
  {
   "cell_type": "code",
   "execution_count": 67,
   "id": "c7d61573-db34-47a8-ad75-4da4e8388064",
   "metadata": {},
   "outputs": [],
   "source": [
    "# %sql CREATE TABLE gdelt AS SELECT * FROM read_parquet('s3://eda/gdelt-parquet/2019/*/*.snappy.parquet', union_by_name=True);"
   ]
  },
  {
   "cell_type": "code",
   "execution_count": 68,
   "id": "5803de30-74ac-41fb-84a5-f0b9a0841ad0",
   "metadata": {},
   "outputs": [],
   "source": [
    "# %sql SELECT * FROM gdelt"
   ]
  },
  {
   "cell_type": "code",
   "execution_count": 69,
   "id": "f50f1d40-a618-4a7a-accd-92ffba55e236",
   "metadata": {},
   "outputs": [],
   "source": [
    "# %sql SELECT count(*) FROM gdelt"
   ]
  },
  {
   "cell_type": "code",
   "execution_count": 70,
   "id": "b68db982-4bc4-4182-94d0-05feb937a47c",
   "metadata": {},
   "outputs": [],
   "source": [
    "# %sql create table yfinance as select * from read_parquet(\"s3://eda/yfinance/*/*.snappy.parquet\")"
   ]
  },
  {
   "cell_type": "code",
   "execution_count": 71,
   "id": "23c6158c-e852-44b2-ac2c-6fe4493e696e",
   "metadata": {},
   "outputs": [],
   "source": [
    "# %sql SELECT count(*) FROM yfinance"
   ]
  },
  {
   "cell_type": "code",
   "execution_count": 72,
   "id": "a4a000e2-e9b8-4d8e-b500-661fe8075ca5",
   "metadata": {},
   "outputs": [],
   "source": [
    "# %sql INSERT INTO gdelt SELECT * FROM read_parquet(\"s3://eda/gdelt-parquet/2020/*/*.snappy.parquet\")"
   ]
  },
  {
   "cell_type": "code",
   "execution_count": 73,
   "id": "298c7c9d-b95d-410b-b741-f811b448e9ee",
   "metadata": {},
   "outputs": [],
   "source": [
    "# %sql INSERT INTO gdelt SELECT * FROM read_parquet(\"s3://eda/gdelt-parquet/2021/*/*.snappy.parquet\")"
   ]
  },
  {
   "cell_type": "code",
   "execution_count": 74,
   "id": "1bbce882-6bad-4116-8280-21f555363764",
   "metadata": {},
   "outputs": [],
   "source": [
    "# %sql INSERT INTO gdelt SELECT * FROM read_parquet(\"s3://eda/gdelt-parquet/2022/*/*.snappy.parquet\")"
   ]
  },
  {
   "cell_type": "code",
   "execution_count": 75,
   "id": "9c06037b-6742-48ca-aefb-df6448713a6b",
   "metadata": {},
   "outputs": [],
   "source": [
    "# %sql INSERT INTO gdelt SELECT * FROM read_parquet(\"s3://eda/gdelt-parquet/2023/*/*.snappy.parquet\")"
   ]
  },
  {
   "cell_type": "code",
   "execution_count": 76,
   "id": "9693a390-1eae-4bd9-bb9a-6cd6f9af7e2d",
   "metadata": {},
   "outputs": [],
   "source": [
    "# %sql INSERT INTO gdelt SELECT * FROM read_parquet(\"s3://eda/gdelt-parquet/2024/*/*.snappy.parquet\")"
   ]
  },
  {
   "cell_type": "code",
   "execution_count": 77,
   "id": "2d79184b-9489-46a7-95b3-e468a3d0b864",
   "metadata": {},
   "outputs": [
    {
     "data": {
      "text/html": [
       "<div>\n",
       "<style scoped>\n",
       "    .dataframe tbody tr th:only-of-type {\n",
       "        vertical-align: middle;\n",
       "    }\n",
       "\n",
       "    .dataframe tbody tr th {\n",
       "        vertical-align: top;\n",
       "    }\n",
       "\n",
       "    .dataframe thead th {\n",
       "        text-align: right;\n",
       "    }\n",
       "</style>\n",
       "<table border=\"1\" class=\"dataframe\">\n",
       "  <thead>\n",
       "    <tr style=\"text-align: right;\">\n",
       "      <th></th>\n",
       "      <th>count_star()</th>\n",
       "    </tr>\n",
       "  </thead>\n",
       "  <tbody>\n",
       "    <tr>\n",
       "      <th>0</th>\n",
       "      <td>260658282</td>\n",
       "    </tr>\n",
       "  </tbody>\n",
       "</table>\n",
       "</div>"
      ],
      "text/plain": [
       "   count_star()\n",
       "0     260658282"
      ]
     },
     "execution_count": 77,
     "metadata": {},
     "output_type": "execute_result"
    }
   ],
   "source": [
    "%sql SELECT count(*) from gdelt"
   ]
  },
  {
   "cell_type": "code",
   "execution_count": 78,
   "id": "90327a88",
   "metadata": {},
   "outputs": [
    {
     "data": {
      "text/html": [
       "<div>\n",
       "<style scoped>\n",
       "    .dataframe tbody tr th:only-of-type {\n",
       "        vertical-align: middle;\n",
       "    }\n",
       "\n",
       "    .dataframe tbody tr th {\n",
       "        vertical-align: top;\n",
       "    }\n",
       "\n",
       "    .dataframe thead th {\n",
       "        text-align: right;\n",
       "    }\n",
       "</style>\n",
       "<table border=\"1\" class=\"dataframe\">\n",
       "  <thead>\n",
       "    <tr style=\"text-align: right;\">\n",
       "      <th></th>\n",
       "      <th>GlobalEventID</th>\n",
       "      <th>Day</th>\n",
       "      <th>MonthYear</th>\n",
       "      <th>Year</th>\n",
       "      <th>FractionDate</th>\n",
       "      <th>Actor1Code</th>\n",
       "      <th>Actor1Name</th>\n",
       "      <th>Actor1CountryCode</th>\n",
       "      <th>Actor1KnownGroupCode</th>\n",
       "      <th>Actor2Code</th>\n",
       "      <th>...</th>\n",
       "      <th>NumSources</th>\n",
       "      <th>NumArticles</th>\n",
       "      <th>AvgTone</th>\n",
       "      <th>Actor1Geo_Type</th>\n",
       "      <th>Actor1Geo_CountryCode</th>\n",
       "      <th>Actor2Geo_Type</th>\n",
       "      <th>Actor2Geo_CountryCode</th>\n",
       "      <th>ActionGeo_Type</th>\n",
       "      <th>ActionGeo_CountryCode</th>\n",
       "      <th>SOURCEURL</th>\n",
       "    </tr>\n",
       "  </thead>\n",
       "  <tbody>\n",
       "    <tr>\n",
       "      <th>0</th>\n",
       "      <td>813415774</td>\n",
       "      <td>20180101</td>\n",
       "      <td>201801</td>\n",
       "      <td>2018</td>\n",
       "      <td>2018.0027</td>\n",
       "      <td>None</td>\n",
       "      <td>None</td>\n",
       "      <td>None</td>\n",
       "      <td>None</td>\n",
       "      <td>AGR</td>\n",
       "      <td>...</td>\n",
       "      <td>6.0</td>\n",
       "      <td>45.0</td>\n",
       "      <td>-1.070367</td>\n",
       "      <td>0.0</td>\n",
       "      <td>None</td>\n",
       "      <td>4.0</td>\n",
       "      <td>CA</td>\n",
       "      <td>4.0</td>\n",
       "      <td>CA</td>\n",
       "      <td>https://www.weyburnreview.com/cn-rail-and-cp-r...</td>\n",
       "    </tr>\n",
       "    <tr>\n",
       "      <th>1</th>\n",
       "      <td>813415775</td>\n",
       "      <td>20180101</td>\n",
       "      <td>201801</td>\n",
       "      <td>2018</td>\n",
       "      <td>2018.0027</td>\n",
       "      <td>None</td>\n",
       "      <td>None</td>\n",
       "      <td>None</td>\n",
       "      <td>None</td>\n",
       "      <td>USA</td>\n",
       "      <td>...</td>\n",
       "      <td>1.0</td>\n",
       "      <td>8.0</td>\n",
       "      <td>-1.333333</td>\n",
       "      <td>0.0</td>\n",
       "      <td>None</td>\n",
       "      <td>3.0</td>\n",
       "      <td>US</td>\n",
       "      <td>3.0</td>\n",
       "      <td>US</td>\n",
       "      <td>http://www.startribune.com/arcelormittal-takes...</td>\n",
       "    </tr>\n",
       "    <tr>\n",
       "      <th>2</th>\n",
       "      <td>813415776</td>\n",
       "      <td>20180101</td>\n",
       "      <td>201801</td>\n",
       "      <td>2018</td>\n",
       "      <td>2018.0027</td>\n",
       "      <td>AGR</td>\n",
       "      <td>FARMER</td>\n",
       "      <td>None</td>\n",
       "      <td>None</td>\n",
       "      <td>None</td>\n",
       "      <td>...</td>\n",
       "      <td>3.0</td>\n",
       "      <td>15.0</td>\n",
       "      <td>-1.112403</td>\n",
       "      <td>4.0</td>\n",
       "      <td>CA</td>\n",
       "      <td>0.0</td>\n",
       "      <td>None</td>\n",
       "      <td>4.0</td>\n",
       "      <td>CA</td>\n",
       "      <td>https://www.weyburnreview.com/cn-rail-and-cp-r...</td>\n",
       "    </tr>\n",
       "  </tbody>\n",
       "</table>\n",
       "<p>3 rows × 30 columns</p>\n",
       "</div>"
      ],
      "text/plain": [
       "   GlobalEventID       Day  MonthYear  Year  FractionDate Actor1Code  \\\n",
       "0      813415774  20180101     201801  2018     2018.0027       None   \n",
       "1      813415775  20180101     201801  2018     2018.0027       None   \n",
       "2      813415776  20180101     201801  2018     2018.0027        AGR   \n",
       "\n",
       "  Actor1Name Actor1CountryCode Actor1KnownGroupCode Actor2Code  ...  \\\n",
       "0       None              None                 None        AGR  ...   \n",
       "1       None              None                 None        USA  ...   \n",
       "2     FARMER              None                 None       None  ...   \n",
       "\n",
       "  NumSources NumArticles   AvgTone  Actor1Geo_Type Actor1Geo_CountryCode  \\\n",
       "0        6.0        45.0 -1.070367             0.0                  None   \n",
       "1        1.0         8.0 -1.333333             0.0                  None   \n",
       "2        3.0        15.0 -1.112403             4.0                    CA   \n",
       "\n",
       "  Actor2Geo_Type Actor2Geo_CountryCode  ActionGeo_Type  ActionGeo_CountryCode  \\\n",
       "0            4.0                    CA             4.0                     CA   \n",
       "1            3.0                    US             3.0                     US   \n",
       "2            0.0                  None             4.0                     CA   \n",
       "\n",
       "                                           SOURCEURL  \n",
       "0  https://www.weyburnreview.com/cn-rail-and-cp-r...  \n",
       "1  http://www.startribune.com/arcelormittal-takes...  \n",
       "2  https://www.weyburnreview.com/cn-rail-and-cp-r...  \n",
       "\n",
       "[3 rows x 30 columns]"
      ]
     },
     "execution_count": 78,
     "metadata": {},
     "output_type": "execute_result"
    }
   ],
   "source": [
    "%sql SELECT * FROM gdelt LIMIT 3;"
   ]
  },
  {
   "cell_type": "code",
   "execution_count": 79,
   "id": "75dbc472",
   "metadata": {},
   "outputs": [],
   "source": [
    "# %%sql\n",
    "# ALTER TABLE gdelt DROP COLUMN DateAdded;\n",
    "# ALTER TABLE gdelt DROP COLUMN ActionGeo_Lat;\n",
    "# ALTER TABLE gdelt DROP COLUMN ActionGeo_Long;\n",
    "# ALTER TABLE gdelt DROP COLUMN ActionGeo_FeatureID;\n",
    "# ALTER TABLE gdelt DROP COLUMN ActionGeo_ADM1Code;\n",
    "# ALTER TABLE gdelt DROP COLUMN ActionGeo_Fullname;\n",
    "# ALTER TABLE gdelt DROP COLUMN Actor2Geo_ADM1Code;\n",
    "# ALTER TABLE gdelt DROP COLUMN Actor2Geo_Lat;\n",
    "# ALTER TABLE gdelt DROP COLUMN Actor2Geo_Long;\n",
    "# ALTER TABLE gdelt DROP COLUMN Actor2Geo_FeatureID;\n",
    "# ALTER TABLE gdelt DROP COLUMN Actor2Geo_Fullname;\n",
    "# ALTER TABLE gdelt DROP COLUMN Actor1Geo_ADM1Code;\n",
    "# ALTER TABLE gdelt DROP COLUMN Actor1Geo_Lat;\n",
    "# ALTER TABLE gdelt DROP COLUMN Actor1Geo_Long;\n",
    "# ALTER TABLE gdelt DROP COLUMN Actor1Geo_FeatureID;\n",
    "# ALTER TABLE gdelt DROP COLUMN Actor1Geo_Fullname;\n",
    "# ALTER TABLE gdelt DROP COLUMN Actor1EthnicCode;\n",
    "# ALTER TABLE gdelt DROP COLUMN Actor2EthnicCode;\n",
    "# ALTER TABLE gdelt DROP COLUMN Actor1Religion1Code;\n",
    "# ALTER TABLE gdelt DROP COLUMN Actor1Religion2Code;\n",
    "# ALTER TABLE gdelt DROP COLUMN Actor2Religion1Code;\n",
    "# ALTER TABLE gdelt DROP COLUMN Actor2Religion2Code;\n",
    "# ALTER TABLE gdelt DROP COLUMN Actor1Type1Code;\n",
    "# ALTER TABLE gdelt DROP COLUMN Actor1Type2Code;\n",
    "# ALTER TABLE gdelt DROP COLUMN Actor1Type3Code;\n",
    "# ALTER TABLE gdelt DROP COLUMN Actor2Type1Code;\n",
    "# ALTER TABLE gdelt DROP COLUMN Actor2Type2Code;\n",
    "# ALTER TABLE gdelt DROP COLUMN Actor2Type3Code;"
   ]
  },
  {
   "cell_type": "code",
   "execution_count": 80,
   "id": "230ffb2d",
   "metadata": {},
   "outputs": [
    {
     "data": {
      "text/html": [
       "<div>\n",
       "<style scoped>\n",
       "    .dataframe tbody tr th:only-of-type {\n",
       "        vertical-align: middle;\n",
       "    }\n",
       "\n",
       "    .dataframe tbody tr th {\n",
       "        vertical-align: top;\n",
       "    }\n",
       "\n",
       "    .dataframe thead th {\n",
       "        text-align: right;\n",
       "    }\n",
       "</style>\n",
       "<table border=\"1\" class=\"dataframe\">\n",
       "  <thead>\n",
       "    <tr style=\"text-align: right;\">\n",
       "      <th></th>\n",
       "      <th>GlobalEventID</th>\n",
       "      <th>Day</th>\n",
       "      <th>MonthYear</th>\n",
       "      <th>Year</th>\n",
       "      <th>FractionDate</th>\n",
       "      <th>Actor1Code</th>\n",
       "      <th>Actor1Name</th>\n",
       "      <th>Actor1CountryCode</th>\n",
       "      <th>Actor1KnownGroupCode</th>\n",
       "      <th>Actor2Code</th>\n",
       "      <th>...</th>\n",
       "      <th>NumSources</th>\n",
       "      <th>NumArticles</th>\n",
       "      <th>AvgTone</th>\n",
       "      <th>Actor1Geo_Type</th>\n",
       "      <th>Actor1Geo_CountryCode</th>\n",
       "      <th>Actor2Geo_Type</th>\n",
       "      <th>Actor2Geo_CountryCode</th>\n",
       "      <th>ActionGeo_Type</th>\n",
       "      <th>ActionGeo_CountryCode</th>\n",
       "      <th>SOURCEURL</th>\n",
       "    </tr>\n",
       "  </thead>\n",
       "  <tbody>\n",
       "    <tr>\n",
       "      <th>0</th>\n",
       "      <td>813415774</td>\n",
       "      <td>20180101</td>\n",
       "      <td>201801</td>\n",
       "      <td>2018</td>\n",
       "      <td>2018.0027</td>\n",
       "      <td>None</td>\n",
       "      <td>None</td>\n",
       "      <td>None</td>\n",
       "      <td>None</td>\n",
       "      <td>AGR</td>\n",
       "      <td>...</td>\n",
       "      <td>6.0</td>\n",
       "      <td>45.0</td>\n",
       "      <td>-1.070367</td>\n",
       "      <td>0.0</td>\n",
       "      <td>None</td>\n",
       "      <td>4.0</td>\n",
       "      <td>CA</td>\n",
       "      <td>4.0</td>\n",
       "      <td>CA</td>\n",
       "      <td>https://www.weyburnreview.com/cn-rail-and-cp-r...</td>\n",
       "    </tr>\n",
       "    <tr>\n",
       "      <th>1</th>\n",
       "      <td>813415775</td>\n",
       "      <td>20180101</td>\n",
       "      <td>201801</td>\n",
       "      <td>2018</td>\n",
       "      <td>2018.0027</td>\n",
       "      <td>None</td>\n",
       "      <td>None</td>\n",
       "      <td>None</td>\n",
       "      <td>None</td>\n",
       "      <td>USA</td>\n",
       "      <td>...</td>\n",
       "      <td>1.0</td>\n",
       "      <td>8.0</td>\n",
       "      <td>-1.333333</td>\n",
       "      <td>0.0</td>\n",
       "      <td>None</td>\n",
       "      <td>3.0</td>\n",
       "      <td>US</td>\n",
       "      <td>3.0</td>\n",
       "      <td>US</td>\n",
       "      <td>http://www.startribune.com/arcelormittal-takes...</td>\n",
       "    </tr>\n",
       "    <tr>\n",
       "      <th>2</th>\n",
       "      <td>813415776</td>\n",
       "      <td>20180101</td>\n",
       "      <td>201801</td>\n",
       "      <td>2018</td>\n",
       "      <td>2018.0027</td>\n",
       "      <td>AGR</td>\n",
       "      <td>FARMER</td>\n",
       "      <td>None</td>\n",
       "      <td>None</td>\n",
       "      <td>None</td>\n",
       "      <td>...</td>\n",
       "      <td>3.0</td>\n",
       "      <td>15.0</td>\n",
       "      <td>-1.112403</td>\n",
       "      <td>4.0</td>\n",
       "      <td>CA</td>\n",
       "      <td>0.0</td>\n",
       "      <td>None</td>\n",
       "      <td>4.0</td>\n",
       "      <td>CA</td>\n",
       "      <td>https://www.weyburnreview.com/cn-rail-and-cp-r...</td>\n",
       "    </tr>\n",
       "  </tbody>\n",
       "</table>\n",
       "<p>3 rows × 30 columns</p>\n",
       "</div>"
      ],
      "text/plain": [
       "   GlobalEventID       Day  MonthYear  Year  FractionDate Actor1Code  \\\n",
       "0      813415774  20180101     201801  2018     2018.0027       None   \n",
       "1      813415775  20180101     201801  2018     2018.0027       None   \n",
       "2      813415776  20180101     201801  2018     2018.0027        AGR   \n",
       "\n",
       "  Actor1Name Actor1CountryCode Actor1KnownGroupCode Actor2Code  ...  \\\n",
       "0       None              None                 None        AGR  ...   \n",
       "1       None              None                 None        USA  ...   \n",
       "2     FARMER              None                 None       None  ...   \n",
       "\n",
       "  NumSources NumArticles   AvgTone  Actor1Geo_Type Actor1Geo_CountryCode  \\\n",
       "0        6.0        45.0 -1.070367             0.0                  None   \n",
       "1        1.0         8.0 -1.333333             0.0                  None   \n",
       "2        3.0        15.0 -1.112403             4.0                    CA   \n",
       "\n",
       "  Actor2Geo_Type Actor2Geo_CountryCode  ActionGeo_Type  ActionGeo_CountryCode  \\\n",
       "0            4.0                    CA             4.0                     CA   \n",
       "1            3.0                    US             3.0                     US   \n",
       "2            0.0                  None             4.0                     CA   \n",
       "\n",
       "                                           SOURCEURL  \n",
       "0  https://www.weyburnreview.com/cn-rail-and-cp-r...  \n",
       "1  http://www.startribune.com/arcelormittal-takes...  \n",
       "2  https://www.weyburnreview.com/cn-rail-and-cp-r...  \n",
       "\n",
       "[3 rows x 30 columns]"
      ]
     },
     "execution_count": 80,
     "metadata": {},
     "output_type": "execute_result"
    }
   ],
   "source": [
    "%sql SELECT * FROM gdelt LIMIT 3;"
   ]
  },
  {
   "cell_type": "code",
   "execution_count": 81,
   "id": "1c8f2652",
   "metadata": {},
   "outputs": [
    {
     "data": {
      "text/html": [
       "<div>\n",
       "<style scoped>\n",
       "    .dataframe tbody tr th:only-of-type {\n",
       "        vertical-align: middle;\n",
       "    }\n",
       "\n",
       "    .dataframe tbody tr th {\n",
       "        vertical-align: top;\n",
       "    }\n",
       "\n",
       "    .dataframe thead th {\n",
       "        text-align: right;\n",
       "    }\n",
       "</style>\n",
       "<table border=\"1\" class=\"dataframe\">\n",
       "  <thead>\n",
       "    <tr style=\"text-align: right;\">\n",
       "      <th></th>\n",
       "      <th>table_catalog</th>\n",
       "      <th>table_schema</th>\n",
       "      <th>table_name</th>\n",
       "      <th>column_name</th>\n",
       "      <th>ordinal_position</th>\n",
       "      <th>column_default</th>\n",
       "      <th>is_nullable</th>\n",
       "      <th>data_type</th>\n",
       "      <th>character_maximum_length</th>\n",
       "      <th>character_octet_length</th>\n",
       "      <th>...</th>\n",
       "      <th>identity_generation</th>\n",
       "      <th>identity_start</th>\n",
       "      <th>identity_increment</th>\n",
       "      <th>identity_maximum</th>\n",
       "      <th>identity_minimum</th>\n",
       "      <th>identity_cycle</th>\n",
       "      <th>is_generated</th>\n",
       "      <th>generation_expression</th>\n",
       "      <th>is_updatable</th>\n",
       "      <th>COLUMN_COMMENT</th>\n",
       "    </tr>\n",
       "  </thead>\n",
       "  <tbody>\n",
       "    <tr>\n",
       "      <th>0</th>\n",
       "      <td>eda-gdelt</td>\n",
       "      <td>main</td>\n",
       "      <td>gdelt</td>\n",
       "      <td>GlobalEventID</td>\n",
       "      <td>1</td>\n",
       "      <td>None</td>\n",
       "      <td>YES</td>\n",
       "      <td>BIGINT</td>\n",
       "      <td>NaN</td>\n",
       "      <td>NaN</td>\n",
       "      <td>...</td>\n",
       "      <td>None</td>\n",
       "      <td>None</td>\n",
       "      <td>None</td>\n",
       "      <td>None</td>\n",
       "      <td>None</td>\n",
       "      <td>NaN</td>\n",
       "      <td>None</td>\n",
       "      <td>None</td>\n",
       "      <td>NaN</td>\n",
       "      <td>None</td>\n",
       "    </tr>\n",
       "    <tr>\n",
       "      <th>1</th>\n",
       "      <td>eda-gdelt</td>\n",
       "      <td>main</td>\n",
       "      <td>gdelt</td>\n",
       "      <td>Day</td>\n",
       "      <td>2</td>\n",
       "      <td>None</td>\n",
       "      <td>YES</td>\n",
       "      <td>BIGINT</td>\n",
       "      <td>NaN</td>\n",
       "      <td>NaN</td>\n",
       "      <td>...</td>\n",
       "      <td>None</td>\n",
       "      <td>None</td>\n",
       "      <td>None</td>\n",
       "      <td>None</td>\n",
       "      <td>None</td>\n",
       "      <td>NaN</td>\n",
       "      <td>None</td>\n",
       "      <td>None</td>\n",
       "      <td>NaN</td>\n",
       "      <td>None</td>\n",
       "    </tr>\n",
       "    <tr>\n",
       "      <th>2</th>\n",
       "      <td>eda-gdelt</td>\n",
       "      <td>main</td>\n",
       "      <td>gdelt</td>\n",
       "      <td>MonthYear</td>\n",
       "      <td>3</td>\n",
       "      <td>None</td>\n",
       "      <td>YES</td>\n",
       "      <td>BIGINT</td>\n",
       "      <td>NaN</td>\n",
       "      <td>NaN</td>\n",
       "      <td>...</td>\n",
       "      <td>None</td>\n",
       "      <td>None</td>\n",
       "      <td>None</td>\n",
       "      <td>None</td>\n",
       "      <td>None</td>\n",
       "      <td>NaN</td>\n",
       "      <td>None</td>\n",
       "      <td>None</td>\n",
       "      <td>NaN</td>\n",
       "      <td>None</td>\n",
       "    </tr>\n",
       "    <tr>\n",
       "      <th>3</th>\n",
       "      <td>eda-gdelt</td>\n",
       "      <td>main</td>\n",
       "      <td>gdelt</td>\n",
       "      <td>Year</td>\n",
       "      <td>4</td>\n",
       "      <td>None</td>\n",
       "      <td>YES</td>\n",
       "      <td>BIGINT</td>\n",
       "      <td>NaN</td>\n",
       "      <td>NaN</td>\n",
       "      <td>...</td>\n",
       "      <td>None</td>\n",
       "      <td>None</td>\n",
       "      <td>None</td>\n",
       "      <td>None</td>\n",
       "      <td>None</td>\n",
       "      <td>NaN</td>\n",
       "      <td>None</td>\n",
       "      <td>None</td>\n",
       "      <td>NaN</td>\n",
       "      <td>None</td>\n",
       "    </tr>\n",
       "    <tr>\n",
       "      <th>4</th>\n",
       "      <td>eda-gdelt</td>\n",
       "      <td>main</td>\n",
       "      <td>gdelt</td>\n",
       "      <td>FractionDate</td>\n",
       "      <td>5</td>\n",
       "      <td>None</td>\n",
       "      <td>YES</td>\n",
       "      <td>DOUBLE</td>\n",
       "      <td>NaN</td>\n",
       "      <td>NaN</td>\n",
       "      <td>...</td>\n",
       "      <td>None</td>\n",
       "      <td>None</td>\n",
       "      <td>None</td>\n",
       "      <td>None</td>\n",
       "      <td>None</td>\n",
       "      <td>NaN</td>\n",
       "      <td>None</td>\n",
       "      <td>None</td>\n",
       "      <td>NaN</td>\n",
       "      <td>None</td>\n",
       "    </tr>\n",
       "    <tr>\n",
       "      <th>5</th>\n",
       "      <td>eda-gdelt</td>\n",
       "      <td>main</td>\n",
       "      <td>gdelt</td>\n",
       "      <td>Actor1Code</td>\n",
       "      <td>6</td>\n",
       "      <td>None</td>\n",
       "      <td>YES</td>\n",
       "      <td>VARCHAR</td>\n",
       "      <td>NaN</td>\n",
       "      <td>NaN</td>\n",
       "      <td>...</td>\n",
       "      <td>None</td>\n",
       "      <td>None</td>\n",
       "      <td>None</td>\n",
       "      <td>None</td>\n",
       "      <td>None</td>\n",
       "      <td>NaN</td>\n",
       "      <td>None</td>\n",
       "      <td>None</td>\n",
       "      <td>NaN</td>\n",
       "      <td>None</td>\n",
       "    </tr>\n",
       "    <tr>\n",
       "      <th>6</th>\n",
       "      <td>eda-gdelt</td>\n",
       "      <td>main</td>\n",
       "      <td>gdelt</td>\n",
       "      <td>Actor1Name</td>\n",
       "      <td>7</td>\n",
       "      <td>None</td>\n",
       "      <td>YES</td>\n",
       "      <td>VARCHAR</td>\n",
       "      <td>NaN</td>\n",
       "      <td>NaN</td>\n",
       "      <td>...</td>\n",
       "      <td>None</td>\n",
       "      <td>None</td>\n",
       "      <td>None</td>\n",
       "      <td>None</td>\n",
       "      <td>None</td>\n",
       "      <td>NaN</td>\n",
       "      <td>None</td>\n",
       "      <td>None</td>\n",
       "      <td>NaN</td>\n",
       "      <td>None</td>\n",
       "    </tr>\n",
       "    <tr>\n",
       "      <th>7</th>\n",
       "      <td>eda-gdelt</td>\n",
       "      <td>main</td>\n",
       "      <td>gdelt</td>\n",
       "      <td>Actor1CountryCode</td>\n",
       "      <td>8</td>\n",
       "      <td>None</td>\n",
       "      <td>YES</td>\n",
       "      <td>VARCHAR</td>\n",
       "      <td>NaN</td>\n",
       "      <td>NaN</td>\n",
       "      <td>...</td>\n",
       "      <td>None</td>\n",
       "      <td>None</td>\n",
       "      <td>None</td>\n",
       "      <td>None</td>\n",
       "      <td>None</td>\n",
       "      <td>NaN</td>\n",
       "      <td>None</td>\n",
       "      <td>None</td>\n",
       "      <td>NaN</td>\n",
       "      <td>None</td>\n",
       "    </tr>\n",
       "    <tr>\n",
       "      <th>8</th>\n",
       "      <td>eda-gdelt</td>\n",
       "      <td>main</td>\n",
       "      <td>gdelt</td>\n",
       "      <td>Actor1KnownGroupCode</td>\n",
       "      <td>9</td>\n",
       "      <td>None</td>\n",
       "      <td>YES</td>\n",
       "      <td>VARCHAR</td>\n",
       "      <td>NaN</td>\n",
       "      <td>NaN</td>\n",
       "      <td>...</td>\n",
       "      <td>None</td>\n",
       "      <td>None</td>\n",
       "      <td>None</td>\n",
       "      <td>None</td>\n",
       "      <td>None</td>\n",
       "      <td>NaN</td>\n",
       "      <td>None</td>\n",
       "      <td>None</td>\n",
       "      <td>NaN</td>\n",
       "      <td>None</td>\n",
       "    </tr>\n",
       "    <tr>\n",
       "      <th>9</th>\n",
       "      <td>eda-gdelt</td>\n",
       "      <td>main</td>\n",
       "      <td>gdelt</td>\n",
       "      <td>Actor2Code</td>\n",
       "      <td>10</td>\n",
       "      <td>None</td>\n",
       "      <td>YES</td>\n",
       "      <td>VARCHAR</td>\n",
       "      <td>NaN</td>\n",
       "      <td>NaN</td>\n",
       "      <td>...</td>\n",
       "      <td>None</td>\n",
       "      <td>None</td>\n",
       "      <td>None</td>\n",
       "      <td>None</td>\n",
       "      <td>None</td>\n",
       "      <td>NaN</td>\n",
       "      <td>None</td>\n",
       "      <td>None</td>\n",
       "      <td>NaN</td>\n",
       "      <td>None</td>\n",
       "    </tr>\n",
       "    <tr>\n",
       "      <th>10</th>\n",
       "      <td>eda-gdelt</td>\n",
       "      <td>main</td>\n",
       "      <td>gdelt</td>\n",
       "      <td>Actor2Name</td>\n",
       "      <td>11</td>\n",
       "      <td>None</td>\n",
       "      <td>YES</td>\n",
       "      <td>VARCHAR</td>\n",
       "      <td>NaN</td>\n",
       "      <td>NaN</td>\n",
       "      <td>...</td>\n",
       "      <td>None</td>\n",
       "      <td>None</td>\n",
       "      <td>None</td>\n",
       "      <td>None</td>\n",
       "      <td>None</td>\n",
       "      <td>NaN</td>\n",
       "      <td>None</td>\n",
       "      <td>None</td>\n",
       "      <td>NaN</td>\n",
       "      <td>None</td>\n",
       "    </tr>\n",
       "    <tr>\n",
       "      <th>11</th>\n",
       "      <td>eda-gdelt</td>\n",
       "      <td>main</td>\n",
       "      <td>gdelt</td>\n",
       "      <td>Actor2CountryCode</td>\n",
       "      <td>12</td>\n",
       "      <td>None</td>\n",
       "      <td>YES</td>\n",
       "      <td>VARCHAR</td>\n",
       "      <td>NaN</td>\n",
       "      <td>NaN</td>\n",
       "      <td>...</td>\n",
       "      <td>None</td>\n",
       "      <td>None</td>\n",
       "      <td>None</td>\n",
       "      <td>None</td>\n",
       "      <td>None</td>\n",
       "      <td>NaN</td>\n",
       "      <td>None</td>\n",
       "      <td>None</td>\n",
       "      <td>NaN</td>\n",
       "      <td>None</td>\n",
       "    </tr>\n",
       "    <tr>\n",
       "      <th>12</th>\n",
       "      <td>eda-gdelt</td>\n",
       "      <td>main</td>\n",
       "      <td>gdelt</td>\n",
       "      <td>Actor2KnownGroupCode</td>\n",
       "      <td>13</td>\n",
       "      <td>None</td>\n",
       "      <td>YES</td>\n",
       "      <td>VARCHAR</td>\n",
       "      <td>NaN</td>\n",
       "      <td>NaN</td>\n",
       "      <td>...</td>\n",
       "      <td>None</td>\n",
       "      <td>None</td>\n",
       "      <td>None</td>\n",
       "      <td>None</td>\n",
       "      <td>None</td>\n",
       "      <td>NaN</td>\n",
       "      <td>None</td>\n",
       "      <td>None</td>\n",
       "      <td>NaN</td>\n",
       "      <td>None</td>\n",
       "    </tr>\n",
       "    <tr>\n",
       "      <th>13</th>\n",
       "      <td>eda-gdelt</td>\n",
       "      <td>main</td>\n",
       "      <td>gdelt</td>\n",
       "      <td>IsRootEvent</td>\n",
       "      <td>14</td>\n",
       "      <td>None</td>\n",
       "      <td>YES</td>\n",
       "      <td>BOOLEAN</td>\n",
       "      <td>NaN</td>\n",
       "      <td>NaN</td>\n",
       "      <td>...</td>\n",
       "      <td>None</td>\n",
       "      <td>None</td>\n",
       "      <td>None</td>\n",
       "      <td>None</td>\n",
       "      <td>None</td>\n",
       "      <td>NaN</td>\n",
       "      <td>None</td>\n",
       "      <td>None</td>\n",
       "      <td>NaN</td>\n",
       "      <td>None</td>\n",
       "    </tr>\n",
       "    <tr>\n",
       "      <th>14</th>\n",
       "      <td>eda-gdelt</td>\n",
       "      <td>main</td>\n",
       "      <td>gdelt</td>\n",
       "      <td>EventCode</td>\n",
       "      <td>15</td>\n",
       "      <td>None</td>\n",
       "      <td>YES</td>\n",
       "      <td>VARCHAR</td>\n",
       "      <td>NaN</td>\n",
       "      <td>NaN</td>\n",
       "      <td>...</td>\n",
       "      <td>None</td>\n",
       "      <td>None</td>\n",
       "      <td>None</td>\n",
       "      <td>None</td>\n",
       "      <td>None</td>\n",
       "      <td>NaN</td>\n",
       "      <td>None</td>\n",
       "      <td>None</td>\n",
       "      <td>NaN</td>\n",
       "      <td>None</td>\n",
       "    </tr>\n",
       "    <tr>\n",
       "      <th>15</th>\n",
       "      <td>eda-gdelt</td>\n",
       "      <td>main</td>\n",
       "      <td>gdelt</td>\n",
       "      <td>EventBaseCode</td>\n",
       "      <td>16</td>\n",
       "      <td>None</td>\n",
       "      <td>YES</td>\n",
       "      <td>VARCHAR</td>\n",
       "      <td>NaN</td>\n",
       "      <td>NaN</td>\n",
       "      <td>...</td>\n",
       "      <td>None</td>\n",
       "      <td>None</td>\n",
       "      <td>None</td>\n",
       "      <td>None</td>\n",
       "      <td>None</td>\n",
       "      <td>NaN</td>\n",
       "      <td>None</td>\n",
       "      <td>None</td>\n",
       "      <td>NaN</td>\n",
       "      <td>None</td>\n",
       "    </tr>\n",
       "    <tr>\n",
       "      <th>16</th>\n",
       "      <td>eda-gdelt</td>\n",
       "      <td>main</td>\n",
       "      <td>gdelt</td>\n",
       "      <td>EventRootCode</td>\n",
       "      <td>17</td>\n",
       "      <td>None</td>\n",
       "      <td>YES</td>\n",
       "      <td>VARCHAR</td>\n",
       "      <td>NaN</td>\n",
       "      <td>NaN</td>\n",
       "      <td>...</td>\n",
       "      <td>None</td>\n",
       "      <td>None</td>\n",
       "      <td>None</td>\n",
       "      <td>None</td>\n",
       "      <td>None</td>\n",
       "      <td>NaN</td>\n",
       "      <td>None</td>\n",
       "      <td>None</td>\n",
       "      <td>NaN</td>\n",
       "      <td>None</td>\n",
       "    </tr>\n",
       "    <tr>\n",
       "      <th>17</th>\n",
       "      <td>eda-gdelt</td>\n",
       "      <td>main</td>\n",
       "      <td>gdelt</td>\n",
       "      <td>QuadClass</td>\n",
       "      <td>18</td>\n",
       "      <td>None</td>\n",
       "      <td>YES</td>\n",
       "      <td>DOUBLE</td>\n",
       "      <td>NaN</td>\n",
       "      <td>NaN</td>\n",
       "      <td>...</td>\n",
       "      <td>None</td>\n",
       "      <td>None</td>\n",
       "      <td>None</td>\n",
       "      <td>None</td>\n",
       "      <td>None</td>\n",
       "      <td>NaN</td>\n",
       "      <td>None</td>\n",
       "      <td>None</td>\n",
       "      <td>NaN</td>\n",
       "      <td>None</td>\n",
       "    </tr>\n",
       "    <tr>\n",
       "      <th>18</th>\n",
       "      <td>eda-gdelt</td>\n",
       "      <td>main</td>\n",
       "      <td>gdelt</td>\n",
       "      <td>GoldsteinScale</td>\n",
       "      <td>19</td>\n",
       "      <td>None</td>\n",
       "      <td>YES</td>\n",
       "      <td>DOUBLE</td>\n",
       "      <td>NaN</td>\n",
       "      <td>NaN</td>\n",
       "      <td>...</td>\n",
       "      <td>None</td>\n",
       "      <td>None</td>\n",
       "      <td>None</td>\n",
       "      <td>None</td>\n",
       "      <td>None</td>\n",
       "      <td>NaN</td>\n",
       "      <td>None</td>\n",
       "      <td>None</td>\n",
       "      <td>NaN</td>\n",
       "      <td>None</td>\n",
       "    </tr>\n",
       "    <tr>\n",
       "      <th>19</th>\n",
       "      <td>eda-gdelt</td>\n",
       "      <td>main</td>\n",
       "      <td>gdelt</td>\n",
       "      <td>NumMentions</td>\n",
       "      <td>20</td>\n",
       "      <td>None</td>\n",
       "      <td>YES</td>\n",
       "      <td>DOUBLE</td>\n",
       "      <td>NaN</td>\n",
       "      <td>NaN</td>\n",
       "      <td>...</td>\n",
       "      <td>None</td>\n",
       "      <td>None</td>\n",
       "      <td>None</td>\n",
       "      <td>None</td>\n",
       "      <td>None</td>\n",
       "      <td>NaN</td>\n",
       "      <td>None</td>\n",
       "      <td>None</td>\n",
       "      <td>NaN</td>\n",
       "      <td>None</td>\n",
       "    </tr>\n",
       "    <tr>\n",
       "      <th>20</th>\n",
       "      <td>eda-gdelt</td>\n",
       "      <td>main</td>\n",
       "      <td>gdelt</td>\n",
       "      <td>NumSources</td>\n",
       "      <td>21</td>\n",
       "      <td>None</td>\n",
       "      <td>YES</td>\n",
       "      <td>DOUBLE</td>\n",
       "      <td>NaN</td>\n",
       "      <td>NaN</td>\n",
       "      <td>...</td>\n",
       "      <td>None</td>\n",
       "      <td>None</td>\n",
       "      <td>None</td>\n",
       "      <td>None</td>\n",
       "      <td>None</td>\n",
       "      <td>NaN</td>\n",
       "      <td>None</td>\n",
       "      <td>None</td>\n",
       "      <td>NaN</td>\n",
       "      <td>None</td>\n",
       "    </tr>\n",
       "    <tr>\n",
       "      <th>21</th>\n",
       "      <td>eda-gdelt</td>\n",
       "      <td>main</td>\n",
       "      <td>gdelt</td>\n",
       "      <td>NumArticles</td>\n",
       "      <td>22</td>\n",
       "      <td>None</td>\n",
       "      <td>YES</td>\n",
       "      <td>DOUBLE</td>\n",
       "      <td>NaN</td>\n",
       "      <td>NaN</td>\n",
       "      <td>...</td>\n",
       "      <td>None</td>\n",
       "      <td>None</td>\n",
       "      <td>None</td>\n",
       "      <td>None</td>\n",
       "      <td>None</td>\n",
       "      <td>NaN</td>\n",
       "      <td>None</td>\n",
       "      <td>None</td>\n",
       "      <td>NaN</td>\n",
       "      <td>None</td>\n",
       "    </tr>\n",
       "    <tr>\n",
       "      <th>22</th>\n",
       "      <td>eda-gdelt</td>\n",
       "      <td>main</td>\n",
       "      <td>gdelt</td>\n",
       "      <td>AvgTone</td>\n",
       "      <td>23</td>\n",
       "      <td>None</td>\n",
       "      <td>YES</td>\n",
       "      <td>DOUBLE</td>\n",
       "      <td>NaN</td>\n",
       "      <td>NaN</td>\n",
       "      <td>...</td>\n",
       "      <td>None</td>\n",
       "      <td>None</td>\n",
       "      <td>None</td>\n",
       "      <td>None</td>\n",
       "      <td>None</td>\n",
       "      <td>NaN</td>\n",
       "      <td>None</td>\n",
       "      <td>None</td>\n",
       "      <td>NaN</td>\n",
       "      <td>None</td>\n",
       "    </tr>\n",
       "    <tr>\n",
       "      <th>23</th>\n",
       "      <td>eda-gdelt</td>\n",
       "      <td>main</td>\n",
       "      <td>gdelt</td>\n",
       "      <td>Actor1Geo_Type</td>\n",
       "      <td>24</td>\n",
       "      <td>None</td>\n",
       "      <td>YES</td>\n",
       "      <td>DOUBLE</td>\n",
       "      <td>NaN</td>\n",
       "      <td>NaN</td>\n",
       "      <td>...</td>\n",
       "      <td>None</td>\n",
       "      <td>None</td>\n",
       "      <td>None</td>\n",
       "      <td>None</td>\n",
       "      <td>None</td>\n",
       "      <td>NaN</td>\n",
       "      <td>None</td>\n",
       "      <td>None</td>\n",
       "      <td>NaN</td>\n",
       "      <td>None</td>\n",
       "    </tr>\n",
       "    <tr>\n",
       "      <th>24</th>\n",
       "      <td>eda-gdelt</td>\n",
       "      <td>main</td>\n",
       "      <td>gdelt</td>\n",
       "      <td>Actor1Geo_CountryCode</td>\n",
       "      <td>25</td>\n",
       "      <td>None</td>\n",
       "      <td>YES</td>\n",
       "      <td>VARCHAR</td>\n",
       "      <td>NaN</td>\n",
       "      <td>NaN</td>\n",
       "      <td>...</td>\n",
       "      <td>None</td>\n",
       "      <td>None</td>\n",
       "      <td>None</td>\n",
       "      <td>None</td>\n",
       "      <td>None</td>\n",
       "      <td>NaN</td>\n",
       "      <td>None</td>\n",
       "      <td>None</td>\n",
       "      <td>NaN</td>\n",
       "      <td>None</td>\n",
       "    </tr>\n",
       "    <tr>\n",
       "      <th>25</th>\n",
       "      <td>eda-gdelt</td>\n",
       "      <td>main</td>\n",
       "      <td>gdelt</td>\n",
       "      <td>Actor2Geo_Type</td>\n",
       "      <td>26</td>\n",
       "      <td>None</td>\n",
       "      <td>YES</td>\n",
       "      <td>DOUBLE</td>\n",
       "      <td>NaN</td>\n",
       "      <td>NaN</td>\n",
       "      <td>...</td>\n",
       "      <td>None</td>\n",
       "      <td>None</td>\n",
       "      <td>None</td>\n",
       "      <td>None</td>\n",
       "      <td>None</td>\n",
       "      <td>NaN</td>\n",
       "      <td>None</td>\n",
       "      <td>None</td>\n",
       "      <td>NaN</td>\n",
       "      <td>None</td>\n",
       "    </tr>\n",
       "    <tr>\n",
       "      <th>26</th>\n",
       "      <td>eda-gdelt</td>\n",
       "      <td>main</td>\n",
       "      <td>gdelt</td>\n",
       "      <td>Actor2Geo_CountryCode</td>\n",
       "      <td>27</td>\n",
       "      <td>None</td>\n",
       "      <td>YES</td>\n",
       "      <td>VARCHAR</td>\n",
       "      <td>NaN</td>\n",
       "      <td>NaN</td>\n",
       "      <td>...</td>\n",
       "      <td>None</td>\n",
       "      <td>None</td>\n",
       "      <td>None</td>\n",
       "      <td>None</td>\n",
       "      <td>None</td>\n",
       "      <td>NaN</td>\n",
       "      <td>None</td>\n",
       "      <td>None</td>\n",
       "      <td>NaN</td>\n",
       "      <td>None</td>\n",
       "    </tr>\n",
       "    <tr>\n",
       "      <th>27</th>\n",
       "      <td>eda-gdelt</td>\n",
       "      <td>main</td>\n",
       "      <td>gdelt</td>\n",
       "      <td>ActionGeo_Type</td>\n",
       "      <td>28</td>\n",
       "      <td>None</td>\n",
       "      <td>YES</td>\n",
       "      <td>DOUBLE</td>\n",
       "      <td>NaN</td>\n",
       "      <td>NaN</td>\n",
       "      <td>...</td>\n",
       "      <td>None</td>\n",
       "      <td>None</td>\n",
       "      <td>None</td>\n",
       "      <td>None</td>\n",
       "      <td>None</td>\n",
       "      <td>NaN</td>\n",
       "      <td>None</td>\n",
       "      <td>None</td>\n",
       "      <td>NaN</td>\n",
       "      <td>None</td>\n",
       "    </tr>\n",
       "    <tr>\n",
       "      <th>28</th>\n",
       "      <td>eda-gdelt</td>\n",
       "      <td>main</td>\n",
       "      <td>gdelt</td>\n",
       "      <td>ActionGeo_CountryCode</td>\n",
       "      <td>29</td>\n",
       "      <td>None</td>\n",
       "      <td>YES</td>\n",
       "      <td>VARCHAR</td>\n",
       "      <td>NaN</td>\n",
       "      <td>NaN</td>\n",
       "      <td>...</td>\n",
       "      <td>None</td>\n",
       "      <td>None</td>\n",
       "      <td>None</td>\n",
       "      <td>None</td>\n",
       "      <td>None</td>\n",
       "      <td>NaN</td>\n",
       "      <td>None</td>\n",
       "      <td>None</td>\n",
       "      <td>NaN</td>\n",
       "      <td>None</td>\n",
       "    </tr>\n",
       "    <tr>\n",
       "      <th>29</th>\n",
       "      <td>eda-gdelt</td>\n",
       "      <td>main</td>\n",
       "      <td>gdelt</td>\n",
       "      <td>SOURCEURL</td>\n",
       "      <td>30</td>\n",
       "      <td>None</td>\n",
       "      <td>YES</td>\n",
       "      <td>VARCHAR</td>\n",
       "      <td>NaN</td>\n",
       "      <td>NaN</td>\n",
       "      <td>...</td>\n",
       "      <td>None</td>\n",
       "      <td>None</td>\n",
       "      <td>None</td>\n",
       "      <td>None</td>\n",
       "      <td>None</td>\n",
       "      <td>NaN</td>\n",
       "      <td>None</td>\n",
       "      <td>None</td>\n",
       "      <td>NaN</td>\n",
       "      <td>None</td>\n",
       "    </tr>\n",
       "  </tbody>\n",
       "</table>\n",
       "<p>30 rows × 45 columns</p>\n",
       "</div>"
      ],
      "text/plain": [
       "   table_catalog table_schema table_name            column_name  \\\n",
       "0      eda-gdelt         main      gdelt          GlobalEventID   \n",
       "1      eda-gdelt         main      gdelt                    Day   \n",
       "2      eda-gdelt         main      gdelt              MonthYear   \n",
       "3      eda-gdelt         main      gdelt                   Year   \n",
       "4      eda-gdelt         main      gdelt           FractionDate   \n",
       "5      eda-gdelt         main      gdelt             Actor1Code   \n",
       "6      eda-gdelt         main      gdelt             Actor1Name   \n",
       "7      eda-gdelt         main      gdelt      Actor1CountryCode   \n",
       "8      eda-gdelt         main      gdelt   Actor1KnownGroupCode   \n",
       "9      eda-gdelt         main      gdelt             Actor2Code   \n",
       "10     eda-gdelt         main      gdelt             Actor2Name   \n",
       "11     eda-gdelt         main      gdelt      Actor2CountryCode   \n",
       "12     eda-gdelt         main      gdelt   Actor2KnownGroupCode   \n",
       "13     eda-gdelt         main      gdelt            IsRootEvent   \n",
       "14     eda-gdelt         main      gdelt              EventCode   \n",
       "15     eda-gdelt         main      gdelt          EventBaseCode   \n",
       "16     eda-gdelt         main      gdelt          EventRootCode   \n",
       "17     eda-gdelt         main      gdelt              QuadClass   \n",
       "18     eda-gdelt         main      gdelt         GoldsteinScale   \n",
       "19     eda-gdelt         main      gdelt            NumMentions   \n",
       "20     eda-gdelt         main      gdelt             NumSources   \n",
       "21     eda-gdelt         main      gdelt            NumArticles   \n",
       "22     eda-gdelt         main      gdelt                AvgTone   \n",
       "23     eda-gdelt         main      gdelt         Actor1Geo_Type   \n",
       "24     eda-gdelt         main      gdelt  Actor1Geo_CountryCode   \n",
       "25     eda-gdelt         main      gdelt         Actor2Geo_Type   \n",
       "26     eda-gdelt         main      gdelt  Actor2Geo_CountryCode   \n",
       "27     eda-gdelt         main      gdelt         ActionGeo_Type   \n",
       "28     eda-gdelt         main      gdelt  ActionGeo_CountryCode   \n",
       "29     eda-gdelt         main      gdelt              SOURCEURL   \n",
       "\n",
       "    ordinal_position column_default is_nullable data_type  \\\n",
       "0                  1           None         YES    BIGINT   \n",
       "1                  2           None         YES    BIGINT   \n",
       "2                  3           None         YES    BIGINT   \n",
       "3                  4           None         YES    BIGINT   \n",
       "4                  5           None         YES    DOUBLE   \n",
       "5                  6           None         YES   VARCHAR   \n",
       "6                  7           None         YES   VARCHAR   \n",
       "7                  8           None         YES   VARCHAR   \n",
       "8                  9           None         YES   VARCHAR   \n",
       "9                 10           None         YES   VARCHAR   \n",
       "10                11           None         YES   VARCHAR   \n",
       "11                12           None         YES   VARCHAR   \n",
       "12                13           None         YES   VARCHAR   \n",
       "13                14           None         YES   BOOLEAN   \n",
       "14                15           None         YES   VARCHAR   \n",
       "15                16           None         YES   VARCHAR   \n",
       "16                17           None         YES   VARCHAR   \n",
       "17                18           None         YES    DOUBLE   \n",
       "18                19           None         YES    DOUBLE   \n",
       "19                20           None         YES    DOUBLE   \n",
       "20                21           None         YES    DOUBLE   \n",
       "21                22           None         YES    DOUBLE   \n",
       "22                23           None         YES    DOUBLE   \n",
       "23                24           None         YES    DOUBLE   \n",
       "24                25           None         YES   VARCHAR   \n",
       "25                26           None         YES    DOUBLE   \n",
       "26                27           None         YES   VARCHAR   \n",
       "27                28           None         YES    DOUBLE   \n",
       "28                29           None         YES   VARCHAR   \n",
       "29                30           None         YES   VARCHAR   \n",
       "\n",
       "    character_maximum_length  character_octet_length  ...  \\\n",
       "0                        NaN                     NaN  ...   \n",
       "1                        NaN                     NaN  ...   \n",
       "2                        NaN                     NaN  ...   \n",
       "3                        NaN                     NaN  ...   \n",
       "4                        NaN                     NaN  ...   \n",
       "5                        NaN                     NaN  ...   \n",
       "6                        NaN                     NaN  ...   \n",
       "7                        NaN                     NaN  ...   \n",
       "8                        NaN                     NaN  ...   \n",
       "9                        NaN                     NaN  ...   \n",
       "10                       NaN                     NaN  ...   \n",
       "11                       NaN                     NaN  ...   \n",
       "12                       NaN                     NaN  ...   \n",
       "13                       NaN                     NaN  ...   \n",
       "14                       NaN                     NaN  ...   \n",
       "15                       NaN                     NaN  ...   \n",
       "16                       NaN                     NaN  ...   \n",
       "17                       NaN                     NaN  ...   \n",
       "18                       NaN                     NaN  ...   \n",
       "19                       NaN                     NaN  ...   \n",
       "20                       NaN                     NaN  ...   \n",
       "21                       NaN                     NaN  ...   \n",
       "22                       NaN                     NaN  ...   \n",
       "23                       NaN                     NaN  ...   \n",
       "24                       NaN                     NaN  ...   \n",
       "25                       NaN                     NaN  ...   \n",
       "26                       NaN                     NaN  ...   \n",
       "27                       NaN                     NaN  ...   \n",
       "28                       NaN                     NaN  ...   \n",
       "29                       NaN                     NaN  ...   \n",
       "\n",
       "    identity_generation  identity_start  identity_increment  identity_maximum  \\\n",
       "0                  None            None                None              None   \n",
       "1                  None            None                None              None   \n",
       "2                  None            None                None              None   \n",
       "3                  None            None                None              None   \n",
       "4                  None            None                None              None   \n",
       "5                  None            None                None              None   \n",
       "6                  None            None                None              None   \n",
       "7                  None            None                None              None   \n",
       "8                  None            None                None              None   \n",
       "9                  None            None                None              None   \n",
       "10                 None            None                None              None   \n",
       "11                 None            None                None              None   \n",
       "12                 None            None                None              None   \n",
       "13                 None            None                None              None   \n",
       "14                 None            None                None              None   \n",
       "15                 None            None                None              None   \n",
       "16                 None            None                None              None   \n",
       "17                 None            None                None              None   \n",
       "18                 None            None                None              None   \n",
       "19                 None            None                None              None   \n",
       "20                 None            None                None              None   \n",
       "21                 None            None                None              None   \n",
       "22                 None            None                None              None   \n",
       "23                 None            None                None              None   \n",
       "24                 None            None                None              None   \n",
       "25                 None            None                None              None   \n",
       "26                 None            None                None              None   \n",
       "27                 None            None                None              None   \n",
       "28                 None            None                None              None   \n",
       "29                 None            None                None              None   \n",
       "\n",
       "   identity_minimum  identity_cycle is_generated generation_expression  \\\n",
       "0              None             NaN         None                  None   \n",
       "1              None             NaN         None                  None   \n",
       "2              None             NaN         None                  None   \n",
       "3              None             NaN         None                  None   \n",
       "4              None             NaN         None                  None   \n",
       "5              None             NaN         None                  None   \n",
       "6              None             NaN         None                  None   \n",
       "7              None             NaN         None                  None   \n",
       "8              None             NaN         None                  None   \n",
       "9              None             NaN         None                  None   \n",
       "10             None             NaN         None                  None   \n",
       "11             None             NaN         None                  None   \n",
       "12             None             NaN         None                  None   \n",
       "13             None             NaN         None                  None   \n",
       "14             None             NaN         None                  None   \n",
       "15             None             NaN         None                  None   \n",
       "16             None             NaN         None                  None   \n",
       "17             None             NaN         None                  None   \n",
       "18             None             NaN         None                  None   \n",
       "19             None             NaN         None                  None   \n",
       "20             None             NaN         None                  None   \n",
       "21             None             NaN         None                  None   \n",
       "22             None             NaN         None                  None   \n",
       "23             None             NaN         None                  None   \n",
       "24             None             NaN         None                  None   \n",
       "25             None             NaN         None                  None   \n",
       "26             None             NaN         None                  None   \n",
       "27             None             NaN         None                  None   \n",
       "28             None             NaN         None                  None   \n",
       "29             None             NaN         None                  None   \n",
       "\n",
       "   is_updatable COLUMN_COMMENT  \n",
       "0           NaN           None  \n",
       "1           NaN           None  \n",
       "2           NaN           None  \n",
       "3           NaN           None  \n",
       "4           NaN           None  \n",
       "5           NaN           None  \n",
       "6           NaN           None  \n",
       "7           NaN           None  \n",
       "8           NaN           None  \n",
       "9           NaN           None  \n",
       "10          NaN           None  \n",
       "11          NaN           None  \n",
       "12          NaN           None  \n",
       "13          NaN           None  \n",
       "14          NaN           None  \n",
       "15          NaN           None  \n",
       "16          NaN           None  \n",
       "17          NaN           None  \n",
       "18          NaN           None  \n",
       "19          NaN           None  \n",
       "20          NaN           None  \n",
       "21          NaN           None  \n",
       "22          NaN           None  \n",
       "23          NaN           None  \n",
       "24          NaN           None  \n",
       "25          NaN           None  \n",
       "26          NaN           None  \n",
       "27          NaN           None  \n",
       "28          NaN           None  \n",
       "29          NaN           None  \n",
       "\n",
       "[30 rows x 45 columns]"
      ]
     },
     "execution_count": 81,
     "metadata": {},
     "output_type": "execute_result"
    }
   ],
   "source": [
    "%%sql\n",
    "select *\n",
    "from INFORMATION_SCHEMA.COLUMNS\n",
    "where TABLE_NAME='gdelt'"
   ]
  },
  {
   "cell_type": "markdown",
   "id": "6475ef81",
   "metadata": {},
   "source": [
    "# Exploratory Data Analysis"
   ]
  },
  {
   "cell_type": "code",
   "execution_count": 1,
   "id": "6753d593",
   "metadata": {},
   "outputs": [],
   "source": [
    "! pip install plotly --quiet\n",
    "\n",
    "import duckdb\n",
    "import pandas as pd\n",
    "import seaborn as sns\n",
    "import matplotlib.pyplot as plt\n",
    "import plotly.express as px"
   ]
  },
  {
   "cell_type": "code",
   "execution_count": 2,
   "id": "6d773f98",
   "metadata": {},
   "outputs": [],
   "source": [
    "con = duckdb.connect('eda-ddb/eda-gdelt.ddb')"
   ]
  },
  {
   "cell_type": "markdown",
   "id": "5385f26c",
   "metadata": {},
   "source": [
    "## Focusing on 2019 data"
   ]
  },
  {
   "cell_type": "markdown",
   "id": "2a90af47",
   "metadata": {},
   "source": [
    "### Actor Insights"
   ]
  },
  {
   "cell_type": "markdown",
   "id": "cfd261d1",
   "metadata": {},
   "source": [
    "**Top Actors Involved in Events**\n",
    "- We can find the top actors (both Actor1 and Actor2) involved in events and see the distribution of their involvement."
   ]
  },
  {
   "cell_type": "code",
   "execution_count": 3,
   "id": "89fdfa02",
   "metadata": {},
   "outputs": [],
   "source": [
    "query = '''\n",
    "SELECT Actor1Name, Actor2Name\n",
    "FROM gdelt\n",
    "WHERE Year = 2019;\n",
    "'''\n",
    "\n",
    "df_2019 = con.execute(query).fetchdf()"
   ]
  },
  {
   "cell_type": "code",
   "execution_count": 4,
   "id": "3abf8fcd",
   "metadata": {},
   "outputs": [],
   "source": [
    "# Top Actor1 and Actor2 involved in the most events\n",
    "actor1_count = df_2019['Actor1Name'].value_counts().reset_index().rename(columns={'index': 'Actor', 'Actor1Name': 'Actor'})\n",
    "actor2_count = df_2019['Actor2Name'].value_counts().reset_index().rename(columns={'index': 'Actor', 'Actor2Name': 'Actor'})"
   ]
  },
  {
   "cell_type": "code",
   "execution_count": 5,
   "id": "6e402ce7",
   "metadata": {},
   "outputs": [],
   "source": [
    "top_actors = pd.concat([actor1_count, actor2_count]).groupby('Actor')['count'].sum().reset_index()\n",
    "top_actors = top_actors.sort_values(by='count', ascending=False)"
   ]
  },
  {
   "cell_type": "code",
   "execution_count": 6,
   "id": "2ff16d42",
   "metadata": {},
   "outputs": [
    {
     "data": {
      "application/vnd.plotly.v1+json": {
       "config": {
        "plotlyServerURL": "https://plot.ly"
       },
       "data": [
        {
         "alignmentgroup": "True",
         "hovertemplate": "Actor=%{x}<br>count=%{y}<extra></extra>",
         "legendgroup": "",
         "marker": {
          "color": "#636efa",
          "pattern": {
           "shape": ""
          }
         },
         "name": "",
         "offsetgroup": "",
         "orientation": "v",
         "showlegend": false,
         "textposition": "auto",
         "type": "bar",
         "x": [
          "UNITED STATES",
          "UNITED KINGDOM",
          "POLICE",
          "PRESIDENT",
          "GOVERNMENT",
          "CHINA",
          "SCHOOL",
          "RUSSIA",
          "CANADA",
          "ISRAEL"
         ],
         "xaxis": "x",
         "y": [
          9977815,
          1820848,
          1670266,
          1653585,
          1388951,
          1248674,
          1154515,
          993236,
          902489,
          828227
         ],
         "yaxis": "y"
        }
       ],
       "layout": {
        "barmode": "relative",
        "legend": {
         "tracegroupgap": 0
        },
        "template": {
         "data": {
          "bar": [
           {
            "error_x": {
             "color": "#2a3f5f"
            },
            "error_y": {
             "color": "#2a3f5f"
            },
            "marker": {
             "line": {
              "color": "#E5ECF6",
              "width": 0.5
             },
             "pattern": {
              "fillmode": "overlay",
              "size": 10,
              "solidity": 0.2
             }
            },
            "type": "bar"
           }
          ],
          "barpolar": [
           {
            "marker": {
             "line": {
              "color": "#E5ECF6",
              "width": 0.5
             },
             "pattern": {
              "fillmode": "overlay",
              "size": 10,
              "solidity": 0.2
             }
            },
            "type": "barpolar"
           }
          ],
          "carpet": [
           {
            "aaxis": {
             "endlinecolor": "#2a3f5f",
             "gridcolor": "white",
             "linecolor": "white",
             "minorgridcolor": "white",
             "startlinecolor": "#2a3f5f"
            },
            "baxis": {
             "endlinecolor": "#2a3f5f",
             "gridcolor": "white",
             "linecolor": "white",
             "minorgridcolor": "white",
             "startlinecolor": "#2a3f5f"
            },
            "type": "carpet"
           }
          ],
          "choropleth": [
           {
            "colorbar": {
             "outlinewidth": 0,
             "ticks": ""
            },
            "type": "choropleth"
           }
          ],
          "contour": [
           {
            "colorbar": {
             "outlinewidth": 0,
             "ticks": ""
            },
            "colorscale": [
             [
              0,
              "#0d0887"
             ],
             [
              0.1111111111111111,
              "#46039f"
             ],
             [
              0.2222222222222222,
              "#7201a8"
             ],
             [
              0.3333333333333333,
              "#9c179e"
             ],
             [
              0.4444444444444444,
              "#bd3786"
             ],
             [
              0.5555555555555556,
              "#d8576b"
             ],
             [
              0.6666666666666666,
              "#ed7953"
             ],
             [
              0.7777777777777778,
              "#fb9f3a"
             ],
             [
              0.8888888888888888,
              "#fdca26"
             ],
             [
              1,
              "#f0f921"
             ]
            ],
            "type": "contour"
           }
          ],
          "contourcarpet": [
           {
            "colorbar": {
             "outlinewidth": 0,
             "ticks": ""
            },
            "type": "contourcarpet"
           }
          ],
          "heatmap": [
           {
            "colorbar": {
             "outlinewidth": 0,
             "ticks": ""
            },
            "colorscale": [
             [
              0,
              "#0d0887"
             ],
             [
              0.1111111111111111,
              "#46039f"
             ],
             [
              0.2222222222222222,
              "#7201a8"
             ],
             [
              0.3333333333333333,
              "#9c179e"
             ],
             [
              0.4444444444444444,
              "#bd3786"
             ],
             [
              0.5555555555555556,
              "#d8576b"
             ],
             [
              0.6666666666666666,
              "#ed7953"
             ],
             [
              0.7777777777777778,
              "#fb9f3a"
             ],
             [
              0.8888888888888888,
              "#fdca26"
             ],
             [
              1,
              "#f0f921"
             ]
            ],
            "type": "heatmap"
           }
          ],
          "heatmapgl": [
           {
            "colorbar": {
             "outlinewidth": 0,
             "ticks": ""
            },
            "colorscale": [
             [
              0,
              "#0d0887"
             ],
             [
              0.1111111111111111,
              "#46039f"
             ],
             [
              0.2222222222222222,
              "#7201a8"
             ],
             [
              0.3333333333333333,
              "#9c179e"
             ],
             [
              0.4444444444444444,
              "#bd3786"
             ],
             [
              0.5555555555555556,
              "#d8576b"
             ],
             [
              0.6666666666666666,
              "#ed7953"
             ],
             [
              0.7777777777777778,
              "#fb9f3a"
             ],
             [
              0.8888888888888888,
              "#fdca26"
             ],
             [
              1,
              "#f0f921"
             ]
            ],
            "type": "heatmapgl"
           }
          ],
          "histogram": [
           {
            "marker": {
             "pattern": {
              "fillmode": "overlay",
              "size": 10,
              "solidity": 0.2
             }
            },
            "type": "histogram"
           }
          ],
          "histogram2d": [
           {
            "colorbar": {
             "outlinewidth": 0,
             "ticks": ""
            },
            "colorscale": [
             [
              0,
              "#0d0887"
             ],
             [
              0.1111111111111111,
              "#46039f"
             ],
             [
              0.2222222222222222,
              "#7201a8"
             ],
             [
              0.3333333333333333,
              "#9c179e"
             ],
             [
              0.4444444444444444,
              "#bd3786"
             ],
             [
              0.5555555555555556,
              "#d8576b"
             ],
             [
              0.6666666666666666,
              "#ed7953"
             ],
             [
              0.7777777777777778,
              "#fb9f3a"
             ],
             [
              0.8888888888888888,
              "#fdca26"
             ],
             [
              1,
              "#f0f921"
             ]
            ],
            "type": "histogram2d"
           }
          ],
          "histogram2dcontour": [
           {
            "colorbar": {
             "outlinewidth": 0,
             "ticks": ""
            },
            "colorscale": [
             [
              0,
              "#0d0887"
             ],
             [
              0.1111111111111111,
              "#46039f"
             ],
             [
              0.2222222222222222,
              "#7201a8"
             ],
             [
              0.3333333333333333,
              "#9c179e"
             ],
             [
              0.4444444444444444,
              "#bd3786"
             ],
             [
              0.5555555555555556,
              "#d8576b"
             ],
             [
              0.6666666666666666,
              "#ed7953"
             ],
             [
              0.7777777777777778,
              "#fb9f3a"
             ],
             [
              0.8888888888888888,
              "#fdca26"
             ],
             [
              1,
              "#f0f921"
             ]
            ],
            "type": "histogram2dcontour"
           }
          ],
          "mesh3d": [
           {
            "colorbar": {
             "outlinewidth": 0,
             "ticks": ""
            },
            "type": "mesh3d"
           }
          ],
          "parcoords": [
           {
            "line": {
             "colorbar": {
              "outlinewidth": 0,
              "ticks": ""
             }
            },
            "type": "parcoords"
           }
          ],
          "pie": [
           {
            "automargin": true,
            "type": "pie"
           }
          ],
          "scatter": [
           {
            "fillpattern": {
             "fillmode": "overlay",
             "size": 10,
             "solidity": 0.2
            },
            "type": "scatter"
           }
          ],
          "scatter3d": [
           {
            "line": {
             "colorbar": {
              "outlinewidth": 0,
              "ticks": ""
             }
            },
            "marker": {
             "colorbar": {
              "outlinewidth": 0,
              "ticks": ""
             }
            },
            "type": "scatter3d"
           }
          ],
          "scattercarpet": [
           {
            "marker": {
             "colorbar": {
              "outlinewidth": 0,
              "ticks": ""
             }
            },
            "type": "scattercarpet"
           }
          ],
          "scattergeo": [
           {
            "marker": {
             "colorbar": {
              "outlinewidth": 0,
              "ticks": ""
             }
            },
            "type": "scattergeo"
           }
          ],
          "scattergl": [
           {
            "marker": {
             "colorbar": {
              "outlinewidth": 0,
              "ticks": ""
             }
            },
            "type": "scattergl"
           }
          ],
          "scattermapbox": [
           {
            "marker": {
             "colorbar": {
              "outlinewidth": 0,
              "ticks": ""
             }
            },
            "type": "scattermapbox"
           }
          ],
          "scatterpolar": [
           {
            "marker": {
             "colorbar": {
              "outlinewidth": 0,
              "ticks": ""
             }
            },
            "type": "scatterpolar"
           }
          ],
          "scatterpolargl": [
           {
            "marker": {
             "colorbar": {
              "outlinewidth": 0,
              "ticks": ""
             }
            },
            "type": "scatterpolargl"
           }
          ],
          "scatterternary": [
           {
            "marker": {
             "colorbar": {
              "outlinewidth": 0,
              "ticks": ""
             }
            },
            "type": "scatterternary"
           }
          ],
          "surface": [
           {
            "colorbar": {
             "outlinewidth": 0,
             "ticks": ""
            },
            "colorscale": [
             [
              0,
              "#0d0887"
             ],
             [
              0.1111111111111111,
              "#46039f"
             ],
             [
              0.2222222222222222,
              "#7201a8"
             ],
             [
              0.3333333333333333,
              "#9c179e"
             ],
             [
              0.4444444444444444,
              "#bd3786"
             ],
             [
              0.5555555555555556,
              "#d8576b"
             ],
             [
              0.6666666666666666,
              "#ed7953"
             ],
             [
              0.7777777777777778,
              "#fb9f3a"
             ],
             [
              0.8888888888888888,
              "#fdca26"
             ],
             [
              1,
              "#f0f921"
             ]
            ],
            "type": "surface"
           }
          ],
          "table": [
           {
            "cells": {
             "fill": {
              "color": "#EBF0F8"
             },
             "line": {
              "color": "white"
             }
            },
            "header": {
             "fill": {
              "color": "#C8D4E3"
             },
             "line": {
              "color": "white"
             }
            },
            "type": "table"
           }
          ]
         },
         "layout": {
          "annotationdefaults": {
           "arrowcolor": "#2a3f5f",
           "arrowhead": 0,
           "arrowwidth": 1
          },
          "autotypenumbers": "strict",
          "coloraxis": {
           "colorbar": {
            "outlinewidth": 0,
            "ticks": ""
           }
          },
          "colorscale": {
           "diverging": [
            [
             0,
             "#8e0152"
            ],
            [
             0.1,
             "#c51b7d"
            ],
            [
             0.2,
             "#de77ae"
            ],
            [
             0.3,
             "#f1b6da"
            ],
            [
             0.4,
             "#fde0ef"
            ],
            [
             0.5,
             "#f7f7f7"
            ],
            [
             0.6,
             "#e6f5d0"
            ],
            [
             0.7,
             "#b8e186"
            ],
            [
             0.8,
             "#7fbc41"
            ],
            [
             0.9,
             "#4d9221"
            ],
            [
             1,
             "#276419"
            ]
           ],
           "sequential": [
            [
             0,
             "#0d0887"
            ],
            [
             0.1111111111111111,
             "#46039f"
            ],
            [
             0.2222222222222222,
             "#7201a8"
            ],
            [
             0.3333333333333333,
             "#9c179e"
            ],
            [
             0.4444444444444444,
             "#bd3786"
            ],
            [
             0.5555555555555556,
             "#d8576b"
            ],
            [
             0.6666666666666666,
             "#ed7953"
            ],
            [
             0.7777777777777778,
             "#fb9f3a"
            ],
            [
             0.8888888888888888,
             "#fdca26"
            ],
            [
             1,
             "#f0f921"
            ]
           ],
           "sequentialminus": [
            [
             0,
             "#0d0887"
            ],
            [
             0.1111111111111111,
             "#46039f"
            ],
            [
             0.2222222222222222,
             "#7201a8"
            ],
            [
             0.3333333333333333,
             "#9c179e"
            ],
            [
             0.4444444444444444,
             "#bd3786"
            ],
            [
             0.5555555555555556,
             "#d8576b"
            ],
            [
             0.6666666666666666,
             "#ed7953"
            ],
            [
             0.7777777777777778,
             "#fb9f3a"
            ],
            [
             0.8888888888888888,
             "#fdca26"
            ],
            [
             1,
             "#f0f921"
            ]
           ]
          },
          "colorway": [
           "#636efa",
           "#EF553B",
           "#00cc96",
           "#ab63fa",
           "#FFA15A",
           "#19d3f3",
           "#FF6692",
           "#B6E880",
           "#FF97FF",
           "#FECB52"
          ],
          "font": {
           "color": "#2a3f5f"
          },
          "geo": {
           "bgcolor": "white",
           "lakecolor": "white",
           "landcolor": "#E5ECF6",
           "showlakes": true,
           "showland": true,
           "subunitcolor": "white"
          },
          "hoverlabel": {
           "align": "left"
          },
          "hovermode": "closest",
          "mapbox": {
           "style": "light"
          },
          "paper_bgcolor": "white",
          "plot_bgcolor": "#E5ECF6",
          "polar": {
           "angularaxis": {
            "gridcolor": "white",
            "linecolor": "white",
            "ticks": ""
           },
           "bgcolor": "#E5ECF6",
           "radialaxis": {
            "gridcolor": "white",
            "linecolor": "white",
            "ticks": ""
           }
          },
          "scene": {
           "xaxis": {
            "backgroundcolor": "#E5ECF6",
            "gridcolor": "white",
            "gridwidth": 2,
            "linecolor": "white",
            "showbackground": true,
            "ticks": "",
            "zerolinecolor": "white"
           },
           "yaxis": {
            "backgroundcolor": "#E5ECF6",
            "gridcolor": "white",
            "gridwidth": 2,
            "linecolor": "white",
            "showbackground": true,
            "ticks": "",
            "zerolinecolor": "white"
           },
           "zaxis": {
            "backgroundcolor": "#E5ECF6",
            "gridcolor": "white",
            "gridwidth": 2,
            "linecolor": "white",
            "showbackground": true,
            "ticks": "",
            "zerolinecolor": "white"
           }
          },
          "shapedefaults": {
           "line": {
            "color": "#2a3f5f"
           }
          },
          "ternary": {
           "aaxis": {
            "gridcolor": "white",
            "linecolor": "white",
            "ticks": ""
           },
           "baxis": {
            "gridcolor": "white",
            "linecolor": "white",
            "ticks": ""
           },
           "bgcolor": "#E5ECF6",
           "caxis": {
            "gridcolor": "white",
            "linecolor": "white",
            "ticks": ""
           }
          },
          "title": {
           "x": 0.05
          },
          "xaxis": {
           "automargin": true,
           "gridcolor": "white",
           "linecolor": "white",
           "ticks": "",
           "title": {
            "standoff": 15
           },
           "zerolinecolor": "white",
           "zerolinewidth": 2
          },
          "yaxis": {
           "automargin": true,
           "gridcolor": "white",
           "linecolor": "white",
           "ticks": "",
           "title": {
            "standoff": 15
           },
           "zerolinecolor": "white",
           "zerolinewidth": 2
          }
         }
        },
        "title": {
         "text": "Top 10 Actors Involved in Events (2019)"
        },
        "xaxis": {
         "anchor": "y",
         "domain": [
          0,
          1
         ],
         "title": {
          "text": "Actor"
         }
        },
        "yaxis": {
         "anchor": "x",
         "domain": [
          0,
          1
         ],
         "title": {
          "text": "count"
         }
        }
       }
      }
     },
     "metadata": {},
     "output_type": "display_data"
    }
   ],
   "source": [
    "fig = px.bar(top_actors.head(10), x='Actor', y='count', \n",
    "             title='Top 10 Actors Involved in Events (2019)', \n",
    "             labels={'Count': 'Number of Events'})\n",
    "fig.show()"
   ]
  },
  {
   "cell_type": "markdown",
   "id": "5be8e35b",
   "metadata": {},
   "source": [
    "### Geographical Insights"
   ]
  },
  {
   "cell_type": "markdown",
   "id": "6d980774",
   "metadata": {},
   "source": [
    "**Events by Country**\n",
    "- Analyze the distribution of events based on countries for both Actor1 and Actor2, and the geographical location of the event (ActionGeo)."
   ]
  },
  {
   "cell_type": "code",
   "execution_count": 9,
   "id": "7d670e92",
   "metadata": {},
   "outputs": [],
   "source": [
    "query = '''\n",
    "SELECT Actor1Geo_CountryCode, Actor2Geo_CountryCode, ActionGeo_CountryCode\n",
    "FROM gdelt\n",
    "WHERE Year = 2019;\n",
    "'''\n",
    "\n",
    "df_2019 = con.execute(query).fetchdf()"
   ]
  },
  {
   "cell_type": "code",
   "execution_count": 12,
   "id": "3ee17856",
   "metadata": {},
   "outputs": [],
   "source": [
    "actor1_geo_country = df_2019['Actor1Geo_CountryCode'].value_counts().reset_index().rename(columns={'index': 'Country', 'Actor1Geo_CountryCode': 'CountryCode'})\n",
    "actor2_geo_country = df_2019['Actor2Geo_CountryCode'].value_counts().reset_index().rename(columns={'index': 'Country', 'Actor2Geo_CountryCode': 'CountryCode'})\n",
    "action_geo_country = df_2019['ActionGeo_CountryCode'].value_counts().reset_index().rename(columns={'index': 'Country', 'ActionGeo_CountryCode': 'CountryCode'})"
   ]
  },
  {
   "cell_type": "code",
   "execution_count": 15,
   "id": "ac8b47ef",
   "metadata": {},
   "outputs": [
    {
     "data": {
      "application/vnd.plotly.v1+json": {
       "config": {
        "plotlyServerURL": "https://plot.ly"
       },
       "data": [
        {
         "alignmentgroup": "True",
         "hovertemplate": "CountryCode=%{x}<br>count=%{y}<extra></extra>",
         "legendgroup": "",
         "marker": {
          "color": "#636efa",
          "pattern": {
           "shape": ""
          }
         },
         "name": "",
         "offsetgroup": "",
         "orientation": "v",
         "showlegend": false,
         "textposition": "auto",
         "type": "bar",
         "x": [
          "US",
          "UK",
          "IN",
          "CH",
          "CA",
          "NI",
          "RS",
          "IS",
          "AS",
          "PK"
         ],
         "xaxis": "x",
         "y": [
          48218186,
          7846089,
          6077531,
          4419626,
          3774948,
          3639853,
          3408494,
          3097023,
          3088681,
          2821999
         ],
         "yaxis": "y"
        }
       ],
       "layout": {
        "barmode": "relative",
        "legend": {
         "tracegroupgap": 0
        },
        "template": {
         "data": {
          "bar": [
           {
            "error_x": {
             "color": "#2a3f5f"
            },
            "error_y": {
             "color": "#2a3f5f"
            },
            "marker": {
             "line": {
              "color": "#E5ECF6",
              "width": 0.5
             },
             "pattern": {
              "fillmode": "overlay",
              "size": 10,
              "solidity": 0.2
             }
            },
            "type": "bar"
           }
          ],
          "barpolar": [
           {
            "marker": {
             "line": {
              "color": "#E5ECF6",
              "width": 0.5
             },
             "pattern": {
              "fillmode": "overlay",
              "size": 10,
              "solidity": 0.2
             }
            },
            "type": "barpolar"
           }
          ],
          "carpet": [
           {
            "aaxis": {
             "endlinecolor": "#2a3f5f",
             "gridcolor": "white",
             "linecolor": "white",
             "minorgridcolor": "white",
             "startlinecolor": "#2a3f5f"
            },
            "baxis": {
             "endlinecolor": "#2a3f5f",
             "gridcolor": "white",
             "linecolor": "white",
             "minorgridcolor": "white",
             "startlinecolor": "#2a3f5f"
            },
            "type": "carpet"
           }
          ],
          "choropleth": [
           {
            "colorbar": {
             "outlinewidth": 0,
             "ticks": ""
            },
            "type": "choropleth"
           }
          ],
          "contour": [
           {
            "colorbar": {
             "outlinewidth": 0,
             "ticks": ""
            },
            "colorscale": [
             [
              0,
              "#0d0887"
             ],
             [
              0.1111111111111111,
              "#46039f"
             ],
             [
              0.2222222222222222,
              "#7201a8"
             ],
             [
              0.3333333333333333,
              "#9c179e"
             ],
             [
              0.4444444444444444,
              "#bd3786"
             ],
             [
              0.5555555555555556,
              "#d8576b"
             ],
             [
              0.6666666666666666,
              "#ed7953"
             ],
             [
              0.7777777777777778,
              "#fb9f3a"
             ],
             [
              0.8888888888888888,
              "#fdca26"
             ],
             [
              1,
              "#f0f921"
             ]
            ],
            "type": "contour"
           }
          ],
          "contourcarpet": [
           {
            "colorbar": {
             "outlinewidth": 0,
             "ticks": ""
            },
            "type": "contourcarpet"
           }
          ],
          "heatmap": [
           {
            "colorbar": {
             "outlinewidth": 0,
             "ticks": ""
            },
            "colorscale": [
             [
              0,
              "#0d0887"
             ],
             [
              0.1111111111111111,
              "#46039f"
             ],
             [
              0.2222222222222222,
              "#7201a8"
             ],
             [
              0.3333333333333333,
              "#9c179e"
             ],
             [
              0.4444444444444444,
              "#bd3786"
             ],
             [
              0.5555555555555556,
              "#d8576b"
             ],
             [
              0.6666666666666666,
              "#ed7953"
             ],
             [
              0.7777777777777778,
              "#fb9f3a"
             ],
             [
              0.8888888888888888,
              "#fdca26"
             ],
             [
              1,
              "#f0f921"
             ]
            ],
            "type": "heatmap"
           }
          ],
          "heatmapgl": [
           {
            "colorbar": {
             "outlinewidth": 0,
             "ticks": ""
            },
            "colorscale": [
             [
              0,
              "#0d0887"
             ],
             [
              0.1111111111111111,
              "#46039f"
             ],
             [
              0.2222222222222222,
              "#7201a8"
             ],
             [
              0.3333333333333333,
              "#9c179e"
             ],
             [
              0.4444444444444444,
              "#bd3786"
             ],
             [
              0.5555555555555556,
              "#d8576b"
             ],
             [
              0.6666666666666666,
              "#ed7953"
             ],
             [
              0.7777777777777778,
              "#fb9f3a"
             ],
             [
              0.8888888888888888,
              "#fdca26"
             ],
             [
              1,
              "#f0f921"
             ]
            ],
            "type": "heatmapgl"
           }
          ],
          "histogram": [
           {
            "marker": {
             "pattern": {
              "fillmode": "overlay",
              "size": 10,
              "solidity": 0.2
             }
            },
            "type": "histogram"
           }
          ],
          "histogram2d": [
           {
            "colorbar": {
             "outlinewidth": 0,
             "ticks": ""
            },
            "colorscale": [
             [
              0,
              "#0d0887"
             ],
             [
              0.1111111111111111,
              "#46039f"
             ],
             [
              0.2222222222222222,
              "#7201a8"
             ],
             [
              0.3333333333333333,
              "#9c179e"
             ],
             [
              0.4444444444444444,
              "#bd3786"
             ],
             [
              0.5555555555555556,
              "#d8576b"
             ],
             [
              0.6666666666666666,
              "#ed7953"
             ],
             [
              0.7777777777777778,
              "#fb9f3a"
             ],
             [
              0.8888888888888888,
              "#fdca26"
             ],
             [
              1,
              "#f0f921"
             ]
            ],
            "type": "histogram2d"
           }
          ],
          "histogram2dcontour": [
           {
            "colorbar": {
             "outlinewidth": 0,
             "ticks": ""
            },
            "colorscale": [
             [
              0,
              "#0d0887"
             ],
             [
              0.1111111111111111,
              "#46039f"
             ],
             [
              0.2222222222222222,
              "#7201a8"
             ],
             [
              0.3333333333333333,
              "#9c179e"
             ],
             [
              0.4444444444444444,
              "#bd3786"
             ],
             [
              0.5555555555555556,
              "#d8576b"
             ],
             [
              0.6666666666666666,
              "#ed7953"
             ],
             [
              0.7777777777777778,
              "#fb9f3a"
             ],
             [
              0.8888888888888888,
              "#fdca26"
             ],
             [
              1,
              "#f0f921"
             ]
            ],
            "type": "histogram2dcontour"
           }
          ],
          "mesh3d": [
           {
            "colorbar": {
             "outlinewidth": 0,
             "ticks": ""
            },
            "type": "mesh3d"
           }
          ],
          "parcoords": [
           {
            "line": {
             "colorbar": {
              "outlinewidth": 0,
              "ticks": ""
             }
            },
            "type": "parcoords"
           }
          ],
          "pie": [
           {
            "automargin": true,
            "type": "pie"
           }
          ],
          "scatter": [
           {
            "fillpattern": {
             "fillmode": "overlay",
             "size": 10,
             "solidity": 0.2
            },
            "type": "scatter"
           }
          ],
          "scatter3d": [
           {
            "line": {
             "colorbar": {
              "outlinewidth": 0,
              "ticks": ""
             }
            },
            "marker": {
             "colorbar": {
              "outlinewidth": 0,
              "ticks": ""
             }
            },
            "type": "scatter3d"
           }
          ],
          "scattercarpet": [
           {
            "marker": {
             "colorbar": {
              "outlinewidth": 0,
              "ticks": ""
             }
            },
            "type": "scattercarpet"
           }
          ],
          "scattergeo": [
           {
            "marker": {
             "colorbar": {
              "outlinewidth": 0,
              "ticks": ""
             }
            },
            "type": "scattergeo"
           }
          ],
          "scattergl": [
           {
            "marker": {
             "colorbar": {
              "outlinewidth": 0,
              "ticks": ""
             }
            },
            "type": "scattergl"
           }
          ],
          "scattermapbox": [
           {
            "marker": {
             "colorbar": {
              "outlinewidth": 0,
              "ticks": ""
             }
            },
            "type": "scattermapbox"
           }
          ],
          "scatterpolar": [
           {
            "marker": {
             "colorbar": {
              "outlinewidth": 0,
              "ticks": ""
             }
            },
            "type": "scatterpolar"
           }
          ],
          "scatterpolargl": [
           {
            "marker": {
             "colorbar": {
              "outlinewidth": 0,
              "ticks": ""
             }
            },
            "type": "scatterpolargl"
           }
          ],
          "scatterternary": [
           {
            "marker": {
             "colorbar": {
              "outlinewidth": 0,
              "ticks": ""
             }
            },
            "type": "scatterternary"
           }
          ],
          "surface": [
           {
            "colorbar": {
             "outlinewidth": 0,
             "ticks": ""
            },
            "colorscale": [
             [
              0,
              "#0d0887"
             ],
             [
              0.1111111111111111,
              "#46039f"
             ],
             [
              0.2222222222222222,
              "#7201a8"
             ],
             [
              0.3333333333333333,
              "#9c179e"
             ],
             [
              0.4444444444444444,
              "#bd3786"
             ],
             [
              0.5555555555555556,
              "#d8576b"
             ],
             [
              0.6666666666666666,
              "#ed7953"
             ],
             [
              0.7777777777777778,
              "#fb9f3a"
             ],
             [
              0.8888888888888888,
              "#fdca26"
             ],
             [
              1,
              "#f0f921"
             ]
            ],
            "type": "surface"
           }
          ],
          "table": [
           {
            "cells": {
             "fill": {
              "color": "#EBF0F8"
             },
             "line": {
              "color": "white"
             }
            },
            "header": {
             "fill": {
              "color": "#C8D4E3"
             },
             "line": {
              "color": "white"
             }
            },
            "type": "table"
           }
          ]
         },
         "layout": {
          "annotationdefaults": {
           "arrowcolor": "#2a3f5f",
           "arrowhead": 0,
           "arrowwidth": 1
          },
          "autotypenumbers": "strict",
          "coloraxis": {
           "colorbar": {
            "outlinewidth": 0,
            "ticks": ""
           }
          },
          "colorscale": {
           "diverging": [
            [
             0,
             "#8e0152"
            ],
            [
             0.1,
             "#c51b7d"
            ],
            [
             0.2,
             "#de77ae"
            ],
            [
             0.3,
             "#f1b6da"
            ],
            [
             0.4,
             "#fde0ef"
            ],
            [
             0.5,
             "#f7f7f7"
            ],
            [
             0.6,
             "#e6f5d0"
            ],
            [
             0.7,
             "#b8e186"
            ],
            [
             0.8,
             "#7fbc41"
            ],
            [
             0.9,
             "#4d9221"
            ],
            [
             1,
             "#276419"
            ]
           ],
           "sequential": [
            [
             0,
             "#0d0887"
            ],
            [
             0.1111111111111111,
             "#46039f"
            ],
            [
             0.2222222222222222,
             "#7201a8"
            ],
            [
             0.3333333333333333,
             "#9c179e"
            ],
            [
             0.4444444444444444,
             "#bd3786"
            ],
            [
             0.5555555555555556,
             "#d8576b"
            ],
            [
             0.6666666666666666,
             "#ed7953"
            ],
            [
             0.7777777777777778,
             "#fb9f3a"
            ],
            [
             0.8888888888888888,
             "#fdca26"
            ],
            [
             1,
             "#f0f921"
            ]
           ],
           "sequentialminus": [
            [
             0,
             "#0d0887"
            ],
            [
             0.1111111111111111,
             "#46039f"
            ],
            [
             0.2222222222222222,
             "#7201a8"
            ],
            [
             0.3333333333333333,
             "#9c179e"
            ],
            [
             0.4444444444444444,
             "#bd3786"
            ],
            [
             0.5555555555555556,
             "#d8576b"
            ],
            [
             0.6666666666666666,
             "#ed7953"
            ],
            [
             0.7777777777777778,
             "#fb9f3a"
            ],
            [
             0.8888888888888888,
             "#fdca26"
            ],
            [
             1,
             "#f0f921"
            ]
           ]
          },
          "colorway": [
           "#636efa",
           "#EF553B",
           "#00cc96",
           "#ab63fa",
           "#FFA15A",
           "#19d3f3",
           "#FF6692",
           "#B6E880",
           "#FF97FF",
           "#FECB52"
          ],
          "font": {
           "color": "#2a3f5f"
          },
          "geo": {
           "bgcolor": "white",
           "lakecolor": "white",
           "landcolor": "#E5ECF6",
           "showlakes": true,
           "showland": true,
           "subunitcolor": "white"
          },
          "hoverlabel": {
           "align": "left"
          },
          "hovermode": "closest",
          "mapbox": {
           "style": "light"
          },
          "paper_bgcolor": "white",
          "plot_bgcolor": "#E5ECF6",
          "polar": {
           "angularaxis": {
            "gridcolor": "white",
            "linecolor": "white",
            "ticks": ""
           },
           "bgcolor": "#E5ECF6",
           "radialaxis": {
            "gridcolor": "white",
            "linecolor": "white",
            "ticks": ""
           }
          },
          "scene": {
           "xaxis": {
            "backgroundcolor": "#E5ECF6",
            "gridcolor": "white",
            "gridwidth": 2,
            "linecolor": "white",
            "showbackground": true,
            "ticks": "",
            "zerolinecolor": "white"
           },
           "yaxis": {
            "backgroundcolor": "#E5ECF6",
            "gridcolor": "white",
            "gridwidth": 2,
            "linecolor": "white",
            "showbackground": true,
            "ticks": "",
            "zerolinecolor": "white"
           },
           "zaxis": {
            "backgroundcolor": "#E5ECF6",
            "gridcolor": "white",
            "gridwidth": 2,
            "linecolor": "white",
            "showbackground": true,
            "ticks": "",
            "zerolinecolor": "white"
           }
          },
          "shapedefaults": {
           "line": {
            "color": "#2a3f5f"
           }
          },
          "ternary": {
           "aaxis": {
            "gridcolor": "white",
            "linecolor": "white",
            "ticks": ""
           },
           "baxis": {
            "gridcolor": "white",
            "linecolor": "white",
            "ticks": ""
           },
           "bgcolor": "#E5ECF6",
           "caxis": {
            "gridcolor": "white",
            "linecolor": "white",
            "ticks": ""
           }
          },
          "title": {
           "x": 0.05
          },
          "xaxis": {
           "automargin": true,
           "gridcolor": "white",
           "linecolor": "white",
           "ticks": "",
           "title": {
            "standoff": 15
           },
           "zerolinecolor": "white",
           "zerolinewidth": 2
          },
          "yaxis": {
           "automargin": true,
           "gridcolor": "white",
           "linecolor": "white",
           "ticks": "",
           "title": {
            "standoff": 15
           },
           "zerolinecolor": "white",
           "zerolinewidth": 2
          }
         }
        },
        "title": {
         "text": "Top 10 Countries by Event Distribution (2019)"
        },
        "xaxis": {
         "anchor": "y",
         "domain": [
          0,
          1
         ],
         "title": {
          "text": "CountryCode"
         }
        },
        "yaxis": {
         "anchor": "x",
         "domain": [
          0,
          1
         ],
         "title": {
          "text": "count"
         }
        }
       }
      }
     },
     "metadata": {},
     "output_type": "display_data"
    }
   ],
   "source": [
    "geo_distribution = pd.concat([actor1_geo_country, actor2_geo_country, action_geo_country]).groupby('CountryCode')['count'].sum().reset_index().sort_values(by='count', ascending=False)\n",
    "\n",
    "fig = px.bar(geo_distribution.head(10), x='CountryCode', y='count', \n",
    "             title='Top 10 Countries by Event Distribution (2019)', \n",
    "             labels={'Count': 'Number of Events'})\n",
    "fig.show()"
   ]
  },
  {
   "cell_type": "markdown",
   "id": "e08c31c8",
   "metadata": {},
   "source": [
    "### Event Characteristics"
   ]
  },
  {
   "cell_type": "markdown",
   "id": "11aac86b",
   "metadata": {},
   "source": [
    "**Event Codes and QuadClass Analysis**\n",
    "- Understanding the type of events based on `EventCode`, `EventBaseCode`, and `QuadClass`. These can reveal the nature of events (e.g., protests, military actions, etc.)."
   ]
  },
  {
   "cell_type": "code",
   "execution_count": 4,
   "id": "8406b26b",
   "metadata": {},
   "outputs": [],
   "source": [
    "query = '''\n",
    "SELECT EventCode, EventRootCode, QuadClass\n",
    "FROM gdelt\n",
    "WHERE Year = 2019;\n",
    "'''\n",
    "df_2019 = con.execute(query).fetchdf()"
   ]
  },
  {
   "cell_type": "code",
   "execution_count": 19,
   "id": "45d3e32f",
   "metadata": {},
   "outputs": [],
   "source": [
    "event_code_count = df_2019['EventCode'].value_counts().reset_index().rename(columns={'index': 'EventCode', 'EventCode': 'EventCode'})"
   ]
  },
  {
   "cell_type": "code",
   "execution_count": 23,
   "id": "36254a3a",
   "metadata": {},
   "outputs": [],
   "source": [
    "# QuadClass distribution\n",
    "quad_class_count = df_2019['QuadClass'].value_counts().reset_index().rename(columns={'index': 'QuadClass', 'QuadClass': 'QuadClass'})"
   ]
  },
  {
   "cell_type": "code",
   "execution_count": 22,
   "id": "af08dfd7",
   "metadata": {},
   "outputs": [
    {
     "data": {
      "application/vnd.plotly.v1+json": {
       "config": {
        "plotlyServerURL": "https://plot.ly"
       },
       "data": [
        {
         "alignmentgroup": "True",
         "hovertemplate": "EventCode=%{x}<br>count=%{y}<extra></extra>",
         "legendgroup": "",
         "marker": {
          "color": "#636efa",
          "pattern": {
           "shape": ""
          }
         },
         "name": "",
         "offsetgroup": "",
         "orientation": "v",
         "showlegend": false,
         "textposition": "auto",
         "type": "bar",
         "x": [
          "042",
          "010",
          "043",
          "040",
          "020",
          "051",
          "036",
          "190",
          "173",
          "046"
         ],
         "xaxis": "x",
         "y": [
          4382310,
          4374510,
          4082145,
          3423149,
          3344947,
          3134394,
          2378923,
          2097258,
          1924093,
          1812531
         ],
         "yaxis": "y"
        }
       ],
       "layout": {
        "barmode": "relative",
        "legend": {
         "tracegroupgap": 0
        },
        "template": {
         "data": {
          "bar": [
           {
            "error_x": {
             "color": "#2a3f5f"
            },
            "error_y": {
             "color": "#2a3f5f"
            },
            "marker": {
             "line": {
              "color": "#E5ECF6",
              "width": 0.5
             },
             "pattern": {
              "fillmode": "overlay",
              "size": 10,
              "solidity": 0.2
             }
            },
            "type": "bar"
           }
          ],
          "barpolar": [
           {
            "marker": {
             "line": {
              "color": "#E5ECF6",
              "width": 0.5
             },
             "pattern": {
              "fillmode": "overlay",
              "size": 10,
              "solidity": 0.2
             }
            },
            "type": "barpolar"
           }
          ],
          "carpet": [
           {
            "aaxis": {
             "endlinecolor": "#2a3f5f",
             "gridcolor": "white",
             "linecolor": "white",
             "minorgridcolor": "white",
             "startlinecolor": "#2a3f5f"
            },
            "baxis": {
             "endlinecolor": "#2a3f5f",
             "gridcolor": "white",
             "linecolor": "white",
             "minorgridcolor": "white",
             "startlinecolor": "#2a3f5f"
            },
            "type": "carpet"
           }
          ],
          "choropleth": [
           {
            "colorbar": {
             "outlinewidth": 0,
             "ticks": ""
            },
            "type": "choropleth"
           }
          ],
          "contour": [
           {
            "colorbar": {
             "outlinewidth": 0,
             "ticks": ""
            },
            "colorscale": [
             [
              0,
              "#0d0887"
             ],
             [
              0.1111111111111111,
              "#46039f"
             ],
             [
              0.2222222222222222,
              "#7201a8"
             ],
             [
              0.3333333333333333,
              "#9c179e"
             ],
             [
              0.4444444444444444,
              "#bd3786"
             ],
             [
              0.5555555555555556,
              "#d8576b"
             ],
             [
              0.6666666666666666,
              "#ed7953"
             ],
             [
              0.7777777777777778,
              "#fb9f3a"
             ],
             [
              0.8888888888888888,
              "#fdca26"
             ],
             [
              1,
              "#f0f921"
             ]
            ],
            "type": "contour"
           }
          ],
          "contourcarpet": [
           {
            "colorbar": {
             "outlinewidth": 0,
             "ticks": ""
            },
            "type": "contourcarpet"
           }
          ],
          "heatmap": [
           {
            "colorbar": {
             "outlinewidth": 0,
             "ticks": ""
            },
            "colorscale": [
             [
              0,
              "#0d0887"
             ],
             [
              0.1111111111111111,
              "#46039f"
             ],
             [
              0.2222222222222222,
              "#7201a8"
             ],
             [
              0.3333333333333333,
              "#9c179e"
             ],
             [
              0.4444444444444444,
              "#bd3786"
             ],
             [
              0.5555555555555556,
              "#d8576b"
             ],
             [
              0.6666666666666666,
              "#ed7953"
             ],
             [
              0.7777777777777778,
              "#fb9f3a"
             ],
             [
              0.8888888888888888,
              "#fdca26"
             ],
             [
              1,
              "#f0f921"
             ]
            ],
            "type": "heatmap"
           }
          ],
          "heatmapgl": [
           {
            "colorbar": {
             "outlinewidth": 0,
             "ticks": ""
            },
            "colorscale": [
             [
              0,
              "#0d0887"
             ],
             [
              0.1111111111111111,
              "#46039f"
             ],
             [
              0.2222222222222222,
              "#7201a8"
             ],
             [
              0.3333333333333333,
              "#9c179e"
             ],
             [
              0.4444444444444444,
              "#bd3786"
             ],
             [
              0.5555555555555556,
              "#d8576b"
             ],
             [
              0.6666666666666666,
              "#ed7953"
             ],
             [
              0.7777777777777778,
              "#fb9f3a"
             ],
             [
              0.8888888888888888,
              "#fdca26"
             ],
             [
              1,
              "#f0f921"
             ]
            ],
            "type": "heatmapgl"
           }
          ],
          "histogram": [
           {
            "marker": {
             "pattern": {
              "fillmode": "overlay",
              "size": 10,
              "solidity": 0.2
             }
            },
            "type": "histogram"
           }
          ],
          "histogram2d": [
           {
            "colorbar": {
             "outlinewidth": 0,
             "ticks": ""
            },
            "colorscale": [
             [
              0,
              "#0d0887"
             ],
             [
              0.1111111111111111,
              "#46039f"
             ],
             [
              0.2222222222222222,
              "#7201a8"
             ],
             [
              0.3333333333333333,
              "#9c179e"
             ],
             [
              0.4444444444444444,
              "#bd3786"
             ],
             [
              0.5555555555555556,
              "#d8576b"
             ],
             [
              0.6666666666666666,
              "#ed7953"
             ],
             [
              0.7777777777777778,
              "#fb9f3a"
             ],
             [
              0.8888888888888888,
              "#fdca26"
             ],
             [
              1,
              "#f0f921"
             ]
            ],
            "type": "histogram2d"
           }
          ],
          "histogram2dcontour": [
           {
            "colorbar": {
             "outlinewidth": 0,
             "ticks": ""
            },
            "colorscale": [
             [
              0,
              "#0d0887"
             ],
             [
              0.1111111111111111,
              "#46039f"
             ],
             [
              0.2222222222222222,
              "#7201a8"
             ],
             [
              0.3333333333333333,
              "#9c179e"
             ],
             [
              0.4444444444444444,
              "#bd3786"
             ],
             [
              0.5555555555555556,
              "#d8576b"
             ],
             [
              0.6666666666666666,
              "#ed7953"
             ],
             [
              0.7777777777777778,
              "#fb9f3a"
             ],
             [
              0.8888888888888888,
              "#fdca26"
             ],
             [
              1,
              "#f0f921"
             ]
            ],
            "type": "histogram2dcontour"
           }
          ],
          "mesh3d": [
           {
            "colorbar": {
             "outlinewidth": 0,
             "ticks": ""
            },
            "type": "mesh3d"
           }
          ],
          "parcoords": [
           {
            "line": {
             "colorbar": {
              "outlinewidth": 0,
              "ticks": ""
             }
            },
            "type": "parcoords"
           }
          ],
          "pie": [
           {
            "automargin": true,
            "type": "pie"
           }
          ],
          "scatter": [
           {
            "fillpattern": {
             "fillmode": "overlay",
             "size": 10,
             "solidity": 0.2
            },
            "type": "scatter"
           }
          ],
          "scatter3d": [
           {
            "line": {
             "colorbar": {
              "outlinewidth": 0,
              "ticks": ""
             }
            },
            "marker": {
             "colorbar": {
              "outlinewidth": 0,
              "ticks": ""
             }
            },
            "type": "scatter3d"
           }
          ],
          "scattercarpet": [
           {
            "marker": {
             "colorbar": {
              "outlinewidth": 0,
              "ticks": ""
             }
            },
            "type": "scattercarpet"
           }
          ],
          "scattergeo": [
           {
            "marker": {
             "colorbar": {
              "outlinewidth": 0,
              "ticks": ""
             }
            },
            "type": "scattergeo"
           }
          ],
          "scattergl": [
           {
            "marker": {
             "colorbar": {
              "outlinewidth": 0,
              "ticks": ""
             }
            },
            "type": "scattergl"
           }
          ],
          "scattermapbox": [
           {
            "marker": {
             "colorbar": {
              "outlinewidth": 0,
              "ticks": ""
             }
            },
            "type": "scattermapbox"
           }
          ],
          "scatterpolar": [
           {
            "marker": {
             "colorbar": {
              "outlinewidth": 0,
              "ticks": ""
             }
            },
            "type": "scatterpolar"
           }
          ],
          "scatterpolargl": [
           {
            "marker": {
             "colorbar": {
              "outlinewidth": 0,
              "ticks": ""
             }
            },
            "type": "scatterpolargl"
           }
          ],
          "scatterternary": [
           {
            "marker": {
             "colorbar": {
              "outlinewidth": 0,
              "ticks": ""
             }
            },
            "type": "scatterternary"
           }
          ],
          "surface": [
           {
            "colorbar": {
             "outlinewidth": 0,
             "ticks": ""
            },
            "colorscale": [
             [
              0,
              "#0d0887"
             ],
             [
              0.1111111111111111,
              "#46039f"
             ],
             [
              0.2222222222222222,
              "#7201a8"
             ],
             [
              0.3333333333333333,
              "#9c179e"
             ],
             [
              0.4444444444444444,
              "#bd3786"
             ],
             [
              0.5555555555555556,
              "#d8576b"
             ],
             [
              0.6666666666666666,
              "#ed7953"
             ],
             [
              0.7777777777777778,
              "#fb9f3a"
             ],
             [
              0.8888888888888888,
              "#fdca26"
             ],
             [
              1,
              "#f0f921"
             ]
            ],
            "type": "surface"
           }
          ],
          "table": [
           {
            "cells": {
             "fill": {
              "color": "#EBF0F8"
             },
             "line": {
              "color": "white"
             }
            },
            "header": {
             "fill": {
              "color": "#C8D4E3"
             },
             "line": {
              "color": "white"
             }
            },
            "type": "table"
           }
          ]
         },
         "layout": {
          "annotationdefaults": {
           "arrowcolor": "#2a3f5f",
           "arrowhead": 0,
           "arrowwidth": 1
          },
          "autotypenumbers": "strict",
          "coloraxis": {
           "colorbar": {
            "outlinewidth": 0,
            "ticks": ""
           }
          },
          "colorscale": {
           "diverging": [
            [
             0,
             "#8e0152"
            ],
            [
             0.1,
             "#c51b7d"
            ],
            [
             0.2,
             "#de77ae"
            ],
            [
             0.3,
             "#f1b6da"
            ],
            [
             0.4,
             "#fde0ef"
            ],
            [
             0.5,
             "#f7f7f7"
            ],
            [
             0.6,
             "#e6f5d0"
            ],
            [
             0.7,
             "#b8e186"
            ],
            [
             0.8,
             "#7fbc41"
            ],
            [
             0.9,
             "#4d9221"
            ],
            [
             1,
             "#276419"
            ]
           ],
           "sequential": [
            [
             0,
             "#0d0887"
            ],
            [
             0.1111111111111111,
             "#46039f"
            ],
            [
             0.2222222222222222,
             "#7201a8"
            ],
            [
             0.3333333333333333,
             "#9c179e"
            ],
            [
             0.4444444444444444,
             "#bd3786"
            ],
            [
             0.5555555555555556,
             "#d8576b"
            ],
            [
             0.6666666666666666,
             "#ed7953"
            ],
            [
             0.7777777777777778,
             "#fb9f3a"
            ],
            [
             0.8888888888888888,
             "#fdca26"
            ],
            [
             1,
             "#f0f921"
            ]
           ],
           "sequentialminus": [
            [
             0,
             "#0d0887"
            ],
            [
             0.1111111111111111,
             "#46039f"
            ],
            [
             0.2222222222222222,
             "#7201a8"
            ],
            [
             0.3333333333333333,
             "#9c179e"
            ],
            [
             0.4444444444444444,
             "#bd3786"
            ],
            [
             0.5555555555555556,
             "#d8576b"
            ],
            [
             0.6666666666666666,
             "#ed7953"
            ],
            [
             0.7777777777777778,
             "#fb9f3a"
            ],
            [
             0.8888888888888888,
             "#fdca26"
            ],
            [
             1,
             "#f0f921"
            ]
           ]
          },
          "colorway": [
           "#636efa",
           "#EF553B",
           "#00cc96",
           "#ab63fa",
           "#FFA15A",
           "#19d3f3",
           "#FF6692",
           "#B6E880",
           "#FF97FF",
           "#FECB52"
          ],
          "font": {
           "color": "#2a3f5f"
          },
          "geo": {
           "bgcolor": "white",
           "lakecolor": "white",
           "landcolor": "#E5ECF6",
           "showlakes": true,
           "showland": true,
           "subunitcolor": "white"
          },
          "hoverlabel": {
           "align": "left"
          },
          "hovermode": "closest",
          "mapbox": {
           "style": "light"
          },
          "paper_bgcolor": "white",
          "plot_bgcolor": "#E5ECF6",
          "polar": {
           "angularaxis": {
            "gridcolor": "white",
            "linecolor": "white",
            "ticks": ""
           },
           "bgcolor": "#E5ECF6",
           "radialaxis": {
            "gridcolor": "white",
            "linecolor": "white",
            "ticks": ""
           }
          },
          "scene": {
           "xaxis": {
            "backgroundcolor": "#E5ECF6",
            "gridcolor": "white",
            "gridwidth": 2,
            "linecolor": "white",
            "showbackground": true,
            "ticks": "",
            "zerolinecolor": "white"
           },
           "yaxis": {
            "backgroundcolor": "#E5ECF6",
            "gridcolor": "white",
            "gridwidth": 2,
            "linecolor": "white",
            "showbackground": true,
            "ticks": "",
            "zerolinecolor": "white"
           },
           "zaxis": {
            "backgroundcolor": "#E5ECF6",
            "gridcolor": "white",
            "gridwidth": 2,
            "linecolor": "white",
            "showbackground": true,
            "ticks": "",
            "zerolinecolor": "white"
           }
          },
          "shapedefaults": {
           "line": {
            "color": "#2a3f5f"
           }
          },
          "ternary": {
           "aaxis": {
            "gridcolor": "white",
            "linecolor": "white",
            "ticks": ""
           },
           "baxis": {
            "gridcolor": "white",
            "linecolor": "white",
            "ticks": ""
           },
           "bgcolor": "#E5ECF6",
           "caxis": {
            "gridcolor": "white",
            "linecolor": "white",
            "ticks": ""
           }
          },
          "title": {
           "x": 0.05
          },
          "xaxis": {
           "automargin": true,
           "gridcolor": "white",
           "linecolor": "white",
           "ticks": "",
           "title": {
            "standoff": 15
           },
           "zerolinecolor": "white",
           "zerolinewidth": 2
          },
          "yaxis": {
           "automargin": true,
           "gridcolor": "white",
           "linecolor": "white",
           "ticks": "",
           "title": {
            "standoff": 15
           },
           "zerolinecolor": "white",
           "zerolinewidth": 2
          }
         }
        },
        "title": {
         "text": "Top 10 Event Codes (2019)"
        },
        "xaxis": {
         "anchor": "y",
         "domain": [
          0,
          1
         ],
         "title": {
          "text": "EventCode"
         }
        },
        "yaxis": {
         "anchor": "x",
         "domain": [
          0,
          1
         ],
         "title": {
          "text": "count"
         }
        }
       }
      }
     },
     "metadata": {},
     "output_type": "display_data"
    },
    {
     "data": {
      "application/vnd.plotly.v1+json": {
       "config": {
        "plotlyServerURL": "https://plot.ly"
       },
       "data": [
        {
         "domain": {
          "x": [
           0,
           1
          ],
          "y": [
           0,
           1
          ]
         },
         "hovertemplate": "QuadClass=%{label}<br>count=%{value}<extra></extra>",
         "labels": [
          1,
          4,
          3,
          2
         ],
         "legendgroup": "",
         "name": "",
         "showlegend": true,
         "type": "pie",
         "values": [
          34502929,
          7779569,
          7324352,
          6474567
         ]
        }
       ],
       "layout": {
        "legend": {
         "tracegroupgap": 0
        },
        "template": {
         "data": {
          "bar": [
           {
            "error_x": {
             "color": "#2a3f5f"
            },
            "error_y": {
             "color": "#2a3f5f"
            },
            "marker": {
             "line": {
              "color": "#E5ECF6",
              "width": 0.5
             },
             "pattern": {
              "fillmode": "overlay",
              "size": 10,
              "solidity": 0.2
             }
            },
            "type": "bar"
           }
          ],
          "barpolar": [
           {
            "marker": {
             "line": {
              "color": "#E5ECF6",
              "width": 0.5
             },
             "pattern": {
              "fillmode": "overlay",
              "size": 10,
              "solidity": 0.2
             }
            },
            "type": "barpolar"
           }
          ],
          "carpet": [
           {
            "aaxis": {
             "endlinecolor": "#2a3f5f",
             "gridcolor": "white",
             "linecolor": "white",
             "minorgridcolor": "white",
             "startlinecolor": "#2a3f5f"
            },
            "baxis": {
             "endlinecolor": "#2a3f5f",
             "gridcolor": "white",
             "linecolor": "white",
             "minorgridcolor": "white",
             "startlinecolor": "#2a3f5f"
            },
            "type": "carpet"
           }
          ],
          "choropleth": [
           {
            "colorbar": {
             "outlinewidth": 0,
             "ticks": ""
            },
            "type": "choropleth"
           }
          ],
          "contour": [
           {
            "colorbar": {
             "outlinewidth": 0,
             "ticks": ""
            },
            "colorscale": [
             [
              0,
              "#0d0887"
             ],
             [
              0.1111111111111111,
              "#46039f"
             ],
             [
              0.2222222222222222,
              "#7201a8"
             ],
             [
              0.3333333333333333,
              "#9c179e"
             ],
             [
              0.4444444444444444,
              "#bd3786"
             ],
             [
              0.5555555555555556,
              "#d8576b"
             ],
             [
              0.6666666666666666,
              "#ed7953"
             ],
             [
              0.7777777777777778,
              "#fb9f3a"
             ],
             [
              0.8888888888888888,
              "#fdca26"
             ],
             [
              1,
              "#f0f921"
             ]
            ],
            "type": "contour"
           }
          ],
          "contourcarpet": [
           {
            "colorbar": {
             "outlinewidth": 0,
             "ticks": ""
            },
            "type": "contourcarpet"
           }
          ],
          "heatmap": [
           {
            "colorbar": {
             "outlinewidth": 0,
             "ticks": ""
            },
            "colorscale": [
             [
              0,
              "#0d0887"
             ],
             [
              0.1111111111111111,
              "#46039f"
             ],
             [
              0.2222222222222222,
              "#7201a8"
             ],
             [
              0.3333333333333333,
              "#9c179e"
             ],
             [
              0.4444444444444444,
              "#bd3786"
             ],
             [
              0.5555555555555556,
              "#d8576b"
             ],
             [
              0.6666666666666666,
              "#ed7953"
             ],
             [
              0.7777777777777778,
              "#fb9f3a"
             ],
             [
              0.8888888888888888,
              "#fdca26"
             ],
             [
              1,
              "#f0f921"
             ]
            ],
            "type": "heatmap"
           }
          ],
          "heatmapgl": [
           {
            "colorbar": {
             "outlinewidth": 0,
             "ticks": ""
            },
            "colorscale": [
             [
              0,
              "#0d0887"
             ],
             [
              0.1111111111111111,
              "#46039f"
             ],
             [
              0.2222222222222222,
              "#7201a8"
             ],
             [
              0.3333333333333333,
              "#9c179e"
             ],
             [
              0.4444444444444444,
              "#bd3786"
             ],
             [
              0.5555555555555556,
              "#d8576b"
             ],
             [
              0.6666666666666666,
              "#ed7953"
             ],
             [
              0.7777777777777778,
              "#fb9f3a"
             ],
             [
              0.8888888888888888,
              "#fdca26"
             ],
             [
              1,
              "#f0f921"
             ]
            ],
            "type": "heatmapgl"
           }
          ],
          "histogram": [
           {
            "marker": {
             "pattern": {
              "fillmode": "overlay",
              "size": 10,
              "solidity": 0.2
             }
            },
            "type": "histogram"
           }
          ],
          "histogram2d": [
           {
            "colorbar": {
             "outlinewidth": 0,
             "ticks": ""
            },
            "colorscale": [
             [
              0,
              "#0d0887"
             ],
             [
              0.1111111111111111,
              "#46039f"
             ],
             [
              0.2222222222222222,
              "#7201a8"
             ],
             [
              0.3333333333333333,
              "#9c179e"
             ],
             [
              0.4444444444444444,
              "#bd3786"
             ],
             [
              0.5555555555555556,
              "#d8576b"
             ],
             [
              0.6666666666666666,
              "#ed7953"
             ],
             [
              0.7777777777777778,
              "#fb9f3a"
             ],
             [
              0.8888888888888888,
              "#fdca26"
             ],
             [
              1,
              "#f0f921"
             ]
            ],
            "type": "histogram2d"
           }
          ],
          "histogram2dcontour": [
           {
            "colorbar": {
             "outlinewidth": 0,
             "ticks": ""
            },
            "colorscale": [
             [
              0,
              "#0d0887"
             ],
             [
              0.1111111111111111,
              "#46039f"
             ],
             [
              0.2222222222222222,
              "#7201a8"
             ],
             [
              0.3333333333333333,
              "#9c179e"
             ],
             [
              0.4444444444444444,
              "#bd3786"
             ],
             [
              0.5555555555555556,
              "#d8576b"
             ],
             [
              0.6666666666666666,
              "#ed7953"
             ],
             [
              0.7777777777777778,
              "#fb9f3a"
             ],
             [
              0.8888888888888888,
              "#fdca26"
             ],
             [
              1,
              "#f0f921"
             ]
            ],
            "type": "histogram2dcontour"
           }
          ],
          "mesh3d": [
           {
            "colorbar": {
             "outlinewidth": 0,
             "ticks": ""
            },
            "type": "mesh3d"
           }
          ],
          "parcoords": [
           {
            "line": {
             "colorbar": {
              "outlinewidth": 0,
              "ticks": ""
             }
            },
            "type": "parcoords"
           }
          ],
          "pie": [
           {
            "automargin": true,
            "type": "pie"
           }
          ],
          "scatter": [
           {
            "fillpattern": {
             "fillmode": "overlay",
             "size": 10,
             "solidity": 0.2
            },
            "type": "scatter"
           }
          ],
          "scatter3d": [
           {
            "line": {
             "colorbar": {
              "outlinewidth": 0,
              "ticks": ""
             }
            },
            "marker": {
             "colorbar": {
              "outlinewidth": 0,
              "ticks": ""
             }
            },
            "type": "scatter3d"
           }
          ],
          "scattercarpet": [
           {
            "marker": {
             "colorbar": {
              "outlinewidth": 0,
              "ticks": ""
             }
            },
            "type": "scattercarpet"
           }
          ],
          "scattergeo": [
           {
            "marker": {
             "colorbar": {
              "outlinewidth": 0,
              "ticks": ""
             }
            },
            "type": "scattergeo"
           }
          ],
          "scattergl": [
           {
            "marker": {
             "colorbar": {
              "outlinewidth": 0,
              "ticks": ""
             }
            },
            "type": "scattergl"
           }
          ],
          "scattermapbox": [
           {
            "marker": {
             "colorbar": {
              "outlinewidth": 0,
              "ticks": ""
             }
            },
            "type": "scattermapbox"
           }
          ],
          "scatterpolar": [
           {
            "marker": {
             "colorbar": {
              "outlinewidth": 0,
              "ticks": ""
             }
            },
            "type": "scatterpolar"
           }
          ],
          "scatterpolargl": [
           {
            "marker": {
             "colorbar": {
              "outlinewidth": 0,
              "ticks": ""
             }
            },
            "type": "scatterpolargl"
           }
          ],
          "scatterternary": [
           {
            "marker": {
             "colorbar": {
              "outlinewidth": 0,
              "ticks": ""
             }
            },
            "type": "scatterternary"
           }
          ],
          "surface": [
           {
            "colorbar": {
             "outlinewidth": 0,
             "ticks": ""
            },
            "colorscale": [
             [
              0,
              "#0d0887"
             ],
             [
              0.1111111111111111,
              "#46039f"
             ],
             [
              0.2222222222222222,
              "#7201a8"
             ],
             [
              0.3333333333333333,
              "#9c179e"
             ],
             [
              0.4444444444444444,
              "#bd3786"
             ],
             [
              0.5555555555555556,
              "#d8576b"
             ],
             [
              0.6666666666666666,
              "#ed7953"
             ],
             [
              0.7777777777777778,
              "#fb9f3a"
             ],
             [
              0.8888888888888888,
              "#fdca26"
             ],
             [
              1,
              "#f0f921"
             ]
            ],
            "type": "surface"
           }
          ],
          "table": [
           {
            "cells": {
             "fill": {
              "color": "#EBF0F8"
             },
             "line": {
              "color": "white"
             }
            },
            "header": {
             "fill": {
              "color": "#C8D4E3"
             },
             "line": {
              "color": "white"
             }
            },
            "type": "table"
           }
          ]
         },
         "layout": {
          "annotationdefaults": {
           "arrowcolor": "#2a3f5f",
           "arrowhead": 0,
           "arrowwidth": 1
          },
          "autotypenumbers": "strict",
          "coloraxis": {
           "colorbar": {
            "outlinewidth": 0,
            "ticks": ""
           }
          },
          "colorscale": {
           "diverging": [
            [
             0,
             "#8e0152"
            ],
            [
             0.1,
             "#c51b7d"
            ],
            [
             0.2,
             "#de77ae"
            ],
            [
             0.3,
             "#f1b6da"
            ],
            [
             0.4,
             "#fde0ef"
            ],
            [
             0.5,
             "#f7f7f7"
            ],
            [
             0.6,
             "#e6f5d0"
            ],
            [
             0.7,
             "#b8e186"
            ],
            [
             0.8,
             "#7fbc41"
            ],
            [
             0.9,
             "#4d9221"
            ],
            [
             1,
             "#276419"
            ]
           ],
           "sequential": [
            [
             0,
             "#0d0887"
            ],
            [
             0.1111111111111111,
             "#46039f"
            ],
            [
             0.2222222222222222,
             "#7201a8"
            ],
            [
             0.3333333333333333,
             "#9c179e"
            ],
            [
             0.4444444444444444,
             "#bd3786"
            ],
            [
             0.5555555555555556,
             "#d8576b"
            ],
            [
             0.6666666666666666,
             "#ed7953"
            ],
            [
             0.7777777777777778,
             "#fb9f3a"
            ],
            [
             0.8888888888888888,
             "#fdca26"
            ],
            [
             1,
             "#f0f921"
            ]
           ],
           "sequentialminus": [
            [
             0,
             "#0d0887"
            ],
            [
             0.1111111111111111,
             "#46039f"
            ],
            [
             0.2222222222222222,
             "#7201a8"
            ],
            [
             0.3333333333333333,
             "#9c179e"
            ],
            [
             0.4444444444444444,
             "#bd3786"
            ],
            [
             0.5555555555555556,
             "#d8576b"
            ],
            [
             0.6666666666666666,
             "#ed7953"
            ],
            [
             0.7777777777777778,
             "#fb9f3a"
            ],
            [
             0.8888888888888888,
             "#fdca26"
            ],
            [
             1,
             "#f0f921"
            ]
           ]
          },
          "colorway": [
           "#636efa",
           "#EF553B",
           "#00cc96",
           "#ab63fa",
           "#FFA15A",
           "#19d3f3",
           "#FF6692",
           "#B6E880",
           "#FF97FF",
           "#FECB52"
          ],
          "font": {
           "color": "#2a3f5f"
          },
          "geo": {
           "bgcolor": "white",
           "lakecolor": "white",
           "landcolor": "#E5ECF6",
           "showlakes": true,
           "showland": true,
           "subunitcolor": "white"
          },
          "hoverlabel": {
           "align": "left"
          },
          "hovermode": "closest",
          "mapbox": {
           "style": "light"
          },
          "paper_bgcolor": "white",
          "plot_bgcolor": "#E5ECF6",
          "polar": {
           "angularaxis": {
            "gridcolor": "white",
            "linecolor": "white",
            "ticks": ""
           },
           "bgcolor": "#E5ECF6",
           "radialaxis": {
            "gridcolor": "white",
            "linecolor": "white",
            "ticks": ""
           }
          },
          "scene": {
           "xaxis": {
            "backgroundcolor": "#E5ECF6",
            "gridcolor": "white",
            "gridwidth": 2,
            "linecolor": "white",
            "showbackground": true,
            "ticks": "",
            "zerolinecolor": "white"
           },
           "yaxis": {
            "backgroundcolor": "#E5ECF6",
            "gridcolor": "white",
            "gridwidth": 2,
            "linecolor": "white",
            "showbackground": true,
            "ticks": "",
            "zerolinecolor": "white"
           },
           "zaxis": {
            "backgroundcolor": "#E5ECF6",
            "gridcolor": "white",
            "gridwidth": 2,
            "linecolor": "white",
            "showbackground": true,
            "ticks": "",
            "zerolinecolor": "white"
           }
          },
          "shapedefaults": {
           "line": {
            "color": "#2a3f5f"
           }
          },
          "ternary": {
           "aaxis": {
            "gridcolor": "white",
            "linecolor": "white",
            "ticks": ""
           },
           "baxis": {
            "gridcolor": "white",
            "linecolor": "white",
            "ticks": ""
           },
           "bgcolor": "#E5ECF6",
           "caxis": {
            "gridcolor": "white",
            "linecolor": "white",
            "ticks": ""
           }
          },
          "title": {
           "x": 0.05
          },
          "xaxis": {
           "automargin": true,
           "gridcolor": "white",
           "linecolor": "white",
           "ticks": "",
           "title": {
            "standoff": 15
           },
           "zerolinecolor": "white",
           "zerolinewidth": 2
          },
          "yaxis": {
           "automargin": true,
           "gridcolor": "white",
           "linecolor": "white",
           "ticks": "",
           "title": {
            "standoff": 15
           },
           "zerolinecolor": "white",
           "zerolinewidth": 2
          }
         }
        },
        "title": {
         "text": "Distribution of QuadClass (2019)"
        }
       }
      }
     },
     "metadata": {},
     "output_type": "display_data"
    }
   ],
   "source": [
    "# Plotting top 10 Event Codes\n",
    "fig = px.bar(event_code_count.head(10), x='EventCode', y='count', \n",
    "             title='Top 10 Event Codes (2019)', \n",
    "             labels={'Count': 'Number of Events'})\n",
    "fig.show()\n",
    "\n",
    "# Plotting QuadClass distribution\n",
    "fig = px.pie(quad_class_count, values='count', names='QuadClass', \n",
    "             title='Distribution of QuadClass (2019)')\n",
    "fig.show()"
   ]
  },
  {
   "cell_type": "markdown",
   "id": "928806ba",
   "metadata": {},
   "source": [
    "**Goldstein Scale and Tone**\n",
    "- Examine how event significance (GoldsteinScale) and tone (AvgTone) vary across different event types."
   ]
  },
  {
   "cell_type": "code",
   "execution_count": 3,
   "id": "3f621382",
   "metadata": {},
   "outputs": [],
   "source": [
    "query = '''\n",
    "SELECT GoldsteinScale, AvgTone, QuadClass\n",
    "FROM gdelt\n",
    "WHERE Year = 2019;\n",
    "'''\n",
    "\n",
    "df_2019 = con.execute(query).fetchdf()"
   ]
  },
  {
   "cell_type": "code",
   "execution_count": 13,
   "id": "95a85587",
   "metadata": {},
   "outputs": [],
   "source": [
    "aggregated_data = df_2019.groupby(['GoldsteinScale', 'QuadClass']).agg({'AvgTone': 'mean'}).reset_index()"
   ]
  },
  {
   "cell_type": "code",
   "execution_count": 14,
   "id": "a8edb9e8",
   "metadata": {},
   "outputs": [
    {
     "data": {
      "application/vnd.plotly.v1+json": {
       "config": {
        "plotlyServerURL": "https://plot.ly"
       },
       "data": [
        {
         "hovertemplate": "Goldstein Scale=%{x}<br>Average Tone=%{y}<br>Event Type=%{marker.color}<extra></extra>",
         "legendgroup": "",
         "marker": {
          "color": [
           4,
           4,
           4,
           4,
           4,
           3,
           4,
           3,
           4,
           3,
           4,
           3,
           4,
           3,
           4,
           3,
           3,
           4,
           1,
           2,
           3,
           1,
           1,
           1,
           1,
           1,
           1,
           1,
           1,
           1,
           1,
           1,
           1,
           1,
           1,
           1,
           1,
           1,
           2,
           1,
           1,
           2,
           2,
           1,
           2,
           2,
           1,
           2,
           2,
           2,
           2
          ],
          "coloraxis": "coloraxis",
          "symbol": "circle"
         },
         "mode": "markers",
         "name": "",
         "orientation": "v",
         "showlegend": false,
         "type": "scatter",
         "x": [
          -10,
          -9.5,
          -9.2,
          -9,
          -8,
          -7.5,
          -7.2,
          -7,
          -7,
          -6.5,
          -6.5,
          -5.8,
          -5.6,
          -5,
          -5,
          -4.4,
          -4,
          -4,
          -2,
          -2,
          -2,
          -0.4,
          -0.3,
          -0.1,
          0,
          0.4,
          1,
          1.9,
          2.5,
          2.8,
          3,
          3.2,
          3.4,
          3.5,
          3.8,
          4,
          4.5,
          5,
          5,
          5.2,
          6,
          6,
          6.4,
          7,
          7,
          7.4,
          8,
          8.3,
          8.5,
          9,
          10
         ],
         "xaxis": "x",
         "y": [
          -4.946893259128675,
          -3.523627551720185,
          -4.727050590368389,
          -6.329197922362847,
          -3.6484640895092246,
          -5.603997670576343,
          -2.6754134875688793,
          -4.159732605032104,
          -3.449061053362032,
          -3.5368711555812293,
          -2.364820921666658,
          -3.894464085407724,
          -2.9503433589027948,
          -2.785444380782913,
          -5.452800314870015,
          -3.536832074130815,
          -2.7548594692960515,
          -3.021041023709314,
          -5.501483546532578,
          -3.17767680319248,
          -3.605607884504383,
          -2.7715922149814163,
          -3.246258774862195,
          -3.3521049995767633,
          -2.1643620769184446,
          -1.8908154374529984,
          -1.1033921620385372,
          -0.9207621248756426,
          -0.6015824164291316,
          -0.8673259380310879,
          -1.7480369410359404,
          -1.2291909951243698,
          -0.08407757735008822,
          -1.0841640488932638,
          -2.646687717510969,
          -0.34932260916771973,
          -0.624979768766825,
          -0.805153607513143,
          -2.532376079240263,
          -0.18206878509185637,
          0.12082890866208129,
          -1.3025883346819906,
          -0.6188321147398148,
          -0.9203783955310828,
          -1.7943941861115433,
          -0.8836662075449588,
          -0.07333168075714767,
          -2.1704563830593786,
          -0.923546649920536,
          -3.0504311727576994,
          -2.5366362831400675
         ],
         "yaxis": "y"
        }
       ],
       "layout": {
        "coloraxis": {
         "colorbar": {
          "title": {
           "text": "Event Type"
          }
         },
         "colorscale": [
          [
           0,
           "#0d0887"
          ],
          [
           0.1111111111111111,
           "#46039f"
          ],
          [
           0.2222222222222222,
           "#7201a8"
          ],
          [
           0.3333333333333333,
           "#9c179e"
          ],
          [
           0.4444444444444444,
           "#bd3786"
          ],
          [
           0.5555555555555556,
           "#d8576b"
          ],
          [
           0.6666666666666666,
           "#ed7953"
          ],
          [
           0.7777777777777778,
           "#fb9f3a"
          ],
          [
           0.8888888888888888,
           "#fdca26"
          ],
          [
           1,
           "#f0f921"
          ]
         ]
        },
        "legend": {
         "tracegroupgap": 0
        },
        "template": {
         "data": {
          "bar": [
           {
            "error_x": {
             "color": "#2a3f5f"
            },
            "error_y": {
             "color": "#2a3f5f"
            },
            "marker": {
             "line": {
              "color": "#E5ECF6",
              "width": 0.5
             },
             "pattern": {
              "fillmode": "overlay",
              "size": 10,
              "solidity": 0.2
             }
            },
            "type": "bar"
           }
          ],
          "barpolar": [
           {
            "marker": {
             "line": {
              "color": "#E5ECF6",
              "width": 0.5
             },
             "pattern": {
              "fillmode": "overlay",
              "size": 10,
              "solidity": 0.2
             }
            },
            "type": "barpolar"
           }
          ],
          "carpet": [
           {
            "aaxis": {
             "endlinecolor": "#2a3f5f",
             "gridcolor": "white",
             "linecolor": "white",
             "minorgridcolor": "white",
             "startlinecolor": "#2a3f5f"
            },
            "baxis": {
             "endlinecolor": "#2a3f5f",
             "gridcolor": "white",
             "linecolor": "white",
             "minorgridcolor": "white",
             "startlinecolor": "#2a3f5f"
            },
            "type": "carpet"
           }
          ],
          "choropleth": [
           {
            "colorbar": {
             "outlinewidth": 0,
             "ticks": ""
            },
            "type": "choropleth"
           }
          ],
          "contour": [
           {
            "colorbar": {
             "outlinewidth": 0,
             "ticks": ""
            },
            "colorscale": [
             [
              0,
              "#0d0887"
             ],
             [
              0.1111111111111111,
              "#46039f"
             ],
             [
              0.2222222222222222,
              "#7201a8"
             ],
             [
              0.3333333333333333,
              "#9c179e"
             ],
             [
              0.4444444444444444,
              "#bd3786"
             ],
             [
              0.5555555555555556,
              "#d8576b"
             ],
             [
              0.6666666666666666,
              "#ed7953"
             ],
             [
              0.7777777777777778,
              "#fb9f3a"
             ],
             [
              0.8888888888888888,
              "#fdca26"
             ],
             [
              1,
              "#f0f921"
             ]
            ],
            "type": "contour"
           }
          ],
          "contourcarpet": [
           {
            "colorbar": {
             "outlinewidth": 0,
             "ticks": ""
            },
            "type": "contourcarpet"
           }
          ],
          "heatmap": [
           {
            "colorbar": {
             "outlinewidth": 0,
             "ticks": ""
            },
            "colorscale": [
             [
              0,
              "#0d0887"
             ],
             [
              0.1111111111111111,
              "#46039f"
             ],
             [
              0.2222222222222222,
              "#7201a8"
             ],
             [
              0.3333333333333333,
              "#9c179e"
             ],
             [
              0.4444444444444444,
              "#bd3786"
             ],
             [
              0.5555555555555556,
              "#d8576b"
             ],
             [
              0.6666666666666666,
              "#ed7953"
             ],
             [
              0.7777777777777778,
              "#fb9f3a"
             ],
             [
              0.8888888888888888,
              "#fdca26"
             ],
             [
              1,
              "#f0f921"
             ]
            ],
            "type": "heatmap"
           }
          ],
          "heatmapgl": [
           {
            "colorbar": {
             "outlinewidth": 0,
             "ticks": ""
            },
            "colorscale": [
             [
              0,
              "#0d0887"
             ],
             [
              0.1111111111111111,
              "#46039f"
             ],
             [
              0.2222222222222222,
              "#7201a8"
             ],
             [
              0.3333333333333333,
              "#9c179e"
             ],
             [
              0.4444444444444444,
              "#bd3786"
             ],
             [
              0.5555555555555556,
              "#d8576b"
             ],
             [
              0.6666666666666666,
              "#ed7953"
             ],
             [
              0.7777777777777778,
              "#fb9f3a"
             ],
             [
              0.8888888888888888,
              "#fdca26"
             ],
             [
              1,
              "#f0f921"
             ]
            ],
            "type": "heatmapgl"
           }
          ],
          "histogram": [
           {
            "marker": {
             "pattern": {
              "fillmode": "overlay",
              "size": 10,
              "solidity": 0.2
             }
            },
            "type": "histogram"
           }
          ],
          "histogram2d": [
           {
            "colorbar": {
             "outlinewidth": 0,
             "ticks": ""
            },
            "colorscale": [
             [
              0,
              "#0d0887"
             ],
             [
              0.1111111111111111,
              "#46039f"
             ],
             [
              0.2222222222222222,
              "#7201a8"
             ],
             [
              0.3333333333333333,
              "#9c179e"
             ],
             [
              0.4444444444444444,
              "#bd3786"
             ],
             [
              0.5555555555555556,
              "#d8576b"
             ],
             [
              0.6666666666666666,
              "#ed7953"
             ],
             [
              0.7777777777777778,
              "#fb9f3a"
             ],
             [
              0.8888888888888888,
              "#fdca26"
             ],
             [
              1,
              "#f0f921"
             ]
            ],
            "type": "histogram2d"
           }
          ],
          "histogram2dcontour": [
           {
            "colorbar": {
             "outlinewidth": 0,
             "ticks": ""
            },
            "colorscale": [
             [
              0,
              "#0d0887"
             ],
             [
              0.1111111111111111,
              "#46039f"
             ],
             [
              0.2222222222222222,
              "#7201a8"
             ],
             [
              0.3333333333333333,
              "#9c179e"
             ],
             [
              0.4444444444444444,
              "#bd3786"
             ],
             [
              0.5555555555555556,
              "#d8576b"
             ],
             [
              0.6666666666666666,
              "#ed7953"
             ],
             [
              0.7777777777777778,
              "#fb9f3a"
             ],
             [
              0.8888888888888888,
              "#fdca26"
             ],
             [
              1,
              "#f0f921"
             ]
            ],
            "type": "histogram2dcontour"
           }
          ],
          "mesh3d": [
           {
            "colorbar": {
             "outlinewidth": 0,
             "ticks": ""
            },
            "type": "mesh3d"
           }
          ],
          "parcoords": [
           {
            "line": {
             "colorbar": {
              "outlinewidth": 0,
              "ticks": ""
             }
            },
            "type": "parcoords"
           }
          ],
          "pie": [
           {
            "automargin": true,
            "type": "pie"
           }
          ],
          "scatter": [
           {
            "fillpattern": {
             "fillmode": "overlay",
             "size": 10,
             "solidity": 0.2
            },
            "type": "scatter"
           }
          ],
          "scatter3d": [
           {
            "line": {
             "colorbar": {
              "outlinewidth": 0,
              "ticks": ""
             }
            },
            "marker": {
             "colorbar": {
              "outlinewidth": 0,
              "ticks": ""
             }
            },
            "type": "scatter3d"
           }
          ],
          "scattercarpet": [
           {
            "marker": {
             "colorbar": {
              "outlinewidth": 0,
              "ticks": ""
             }
            },
            "type": "scattercarpet"
           }
          ],
          "scattergeo": [
           {
            "marker": {
             "colorbar": {
              "outlinewidth": 0,
              "ticks": ""
             }
            },
            "type": "scattergeo"
           }
          ],
          "scattergl": [
           {
            "marker": {
             "colorbar": {
              "outlinewidth": 0,
              "ticks": ""
             }
            },
            "type": "scattergl"
           }
          ],
          "scattermapbox": [
           {
            "marker": {
             "colorbar": {
              "outlinewidth": 0,
              "ticks": ""
             }
            },
            "type": "scattermapbox"
           }
          ],
          "scatterpolar": [
           {
            "marker": {
             "colorbar": {
              "outlinewidth": 0,
              "ticks": ""
             }
            },
            "type": "scatterpolar"
           }
          ],
          "scatterpolargl": [
           {
            "marker": {
             "colorbar": {
              "outlinewidth": 0,
              "ticks": ""
             }
            },
            "type": "scatterpolargl"
           }
          ],
          "scatterternary": [
           {
            "marker": {
             "colorbar": {
              "outlinewidth": 0,
              "ticks": ""
             }
            },
            "type": "scatterternary"
           }
          ],
          "surface": [
           {
            "colorbar": {
             "outlinewidth": 0,
             "ticks": ""
            },
            "colorscale": [
             [
              0,
              "#0d0887"
             ],
             [
              0.1111111111111111,
              "#46039f"
             ],
             [
              0.2222222222222222,
              "#7201a8"
             ],
             [
              0.3333333333333333,
              "#9c179e"
             ],
             [
              0.4444444444444444,
              "#bd3786"
             ],
             [
              0.5555555555555556,
              "#d8576b"
             ],
             [
              0.6666666666666666,
              "#ed7953"
             ],
             [
              0.7777777777777778,
              "#fb9f3a"
             ],
             [
              0.8888888888888888,
              "#fdca26"
             ],
             [
              1,
              "#f0f921"
             ]
            ],
            "type": "surface"
           }
          ],
          "table": [
           {
            "cells": {
             "fill": {
              "color": "#EBF0F8"
             },
             "line": {
              "color": "white"
             }
            },
            "header": {
             "fill": {
              "color": "#C8D4E3"
             },
             "line": {
              "color": "white"
             }
            },
            "type": "table"
           }
          ]
         },
         "layout": {
          "annotationdefaults": {
           "arrowcolor": "#2a3f5f",
           "arrowhead": 0,
           "arrowwidth": 1
          },
          "autotypenumbers": "strict",
          "coloraxis": {
           "colorbar": {
            "outlinewidth": 0,
            "ticks": ""
           }
          },
          "colorscale": {
           "diverging": [
            [
             0,
             "#8e0152"
            ],
            [
             0.1,
             "#c51b7d"
            ],
            [
             0.2,
             "#de77ae"
            ],
            [
             0.3,
             "#f1b6da"
            ],
            [
             0.4,
             "#fde0ef"
            ],
            [
             0.5,
             "#f7f7f7"
            ],
            [
             0.6,
             "#e6f5d0"
            ],
            [
             0.7,
             "#b8e186"
            ],
            [
             0.8,
             "#7fbc41"
            ],
            [
             0.9,
             "#4d9221"
            ],
            [
             1,
             "#276419"
            ]
           ],
           "sequential": [
            [
             0,
             "#0d0887"
            ],
            [
             0.1111111111111111,
             "#46039f"
            ],
            [
             0.2222222222222222,
             "#7201a8"
            ],
            [
             0.3333333333333333,
             "#9c179e"
            ],
            [
             0.4444444444444444,
             "#bd3786"
            ],
            [
             0.5555555555555556,
             "#d8576b"
            ],
            [
             0.6666666666666666,
             "#ed7953"
            ],
            [
             0.7777777777777778,
             "#fb9f3a"
            ],
            [
             0.8888888888888888,
             "#fdca26"
            ],
            [
             1,
             "#f0f921"
            ]
           ],
           "sequentialminus": [
            [
             0,
             "#0d0887"
            ],
            [
             0.1111111111111111,
             "#46039f"
            ],
            [
             0.2222222222222222,
             "#7201a8"
            ],
            [
             0.3333333333333333,
             "#9c179e"
            ],
            [
             0.4444444444444444,
             "#bd3786"
            ],
            [
             0.5555555555555556,
             "#d8576b"
            ],
            [
             0.6666666666666666,
             "#ed7953"
            ],
            [
             0.7777777777777778,
             "#fb9f3a"
            ],
            [
             0.8888888888888888,
             "#fdca26"
            ],
            [
             1,
             "#f0f921"
            ]
           ]
          },
          "colorway": [
           "#636efa",
           "#EF553B",
           "#00cc96",
           "#ab63fa",
           "#FFA15A",
           "#19d3f3",
           "#FF6692",
           "#B6E880",
           "#FF97FF",
           "#FECB52"
          ],
          "font": {
           "color": "#2a3f5f"
          },
          "geo": {
           "bgcolor": "white",
           "lakecolor": "white",
           "landcolor": "#E5ECF6",
           "showlakes": true,
           "showland": true,
           "subunitcolor": "white"
          },
          "hoverlabel": {
           "align": "left"
          },
          "hovermode": "closest",
          "mapbox": {
           "style": "light"
          },
          "paper_bgcolor": "white",
          "plot_bgcolor": "#E5ECF6",
          "polar": {
           "angularaxis": {
            "gridcolor": "white",
            "linecolor": "white",
            "ticks": ""
           },
           "bgcolor": "#E5ECF6",
           "radialaxis": {
            "gridcolor": "white",
            "linecolor": "white",
            "ticks": ""
           }
          },
          "scene": {
           "xaxis": {
            "backgroundcolor": "#E5ECF6",
            "gridcolor": "white",
            "gridwidth": 2,
            "linecolor": "white",
            "showbackground": true,
            "ticks": "",
            "zerolinecolor": "white"
           },
           "yaxis": {
            "backgroundcolor": "#E5ECF6",
            "gridcolor": "white",
            "gridwidth": 2,
            "linecolor": "white",
            "showbackground": true,
            "ticks": "",
            "zerolinecolor": "white"
           },
           "zaxis": {
            "backgroundcolor": "#E5ECF6",
            "gridcolor": "white",
            "gridwidth": 2,
            "linecolor": "white",
            "showbackground": true,
            "ticks": "",
            "zerolinecolor": "white"
           }
          },
          "shapedefaults": {
           "line": {
            "color": "#2a3f5f"
           }
          },
          "ternary": {
           "aaxis": {
            "gridcolor": "white",
            "linecolor": "white",
            "ticks": ""
           },
           "baxis": {
            "gridcolor": "white",
            "linecolor": "white",
            "ticks": ""
           },
           "bgcolor": "#E5ECF6",
           "caxis": {
            "gridcolor": "white",
            "linecolor": "white",
            "ticks": ""
           }
          },
          "title": {
           "x": 0.05
          },
          "xaxis": {
           "automargin": true,
           "gridcolor": "white",
           "linecolor": "white",
           "ticks": "",
           "title": {
            "standoff": 15
           },
           "zerolinecolor": "white",
           "zerolinewidth": 2
          },
          "yaxis": {
           "automargin": true,
           "gridcolor": "white",
           "linecolor": "white",
           "ticks": "",
           "title": {
            "standoff": 15
           },
           "zerolinecolor": "white",
           "zerolinewidth": 2
          }
         }
        },
        "title": {
         "text": "Goldstein Scale vs Average Tone (Aggregated, 2019)"
        },
        "xaxis": {
         "anchor": "y",
         "domain": [
          0,
          1
         ],
         "title": {
          "text": "Goldstein Scale"
         }
        },
        "yaxis": {
         "anchor": "x",
         "domain": [
          0,
          1
         ],
         "title": {
          "text": "Average Tone"
         }
        }
       }
      }
     },
     "metadata": {},
     "output_type": "display_data"
    }
   ],
   "source": [
    "fig = px.scatter(aggregated_data, x='GoldsteinScale', y='AvgTone', \n",
    "                 color='QuadClass', \n",
    "                 title='Goldstein Scale vs Average Tone (Aggregated, 2019)',\n",
    "                 labels={'GoldsteinScale': 'Goldstein Scale', 'AvgTone': 'Average Tone', 'QuadClass': 'Event Type'})\n",
    "fig.show()"
   ]
  },
  {
   "cell_type": "markdown",
   "id": "dc44aae0",
   "metadata": {},
   "source": [
    "### Temporal Analysis"
   ]
  },
  {
   "cell_type": "markdown",
   "id": "d58bef1e",
   "metadata": {},
   "source": [
    "**Events Over Time**\n",
    "- Analyze how the number of events fluctuates over months or days of the year 2019."
   ]
  },
  {
   "cell_type": "code",
   "execution_count": 20,
   "id": "c567f892",
   "metadata": {},
   "outputs": [],
   "source": [
    "query = '''\n",
    "SELECT Year, MonthYear, Actor1Name, Actor2Name, EventCode\n",
    "FROM gdelt\n",
    "WHERE Year = 2019;\n",
    "'''\n",
    "\n",
    "df_2019 = con.execute(query).fetchdf()"
   ]
  },
  {
   "cell_type": "code",
   "execution_count": 21,
   "id": "0b842f80",
   "metadata": {},
   "outputs": [
    {
     "data": {
      "application/vnd.plotly.v1+json": {
       "config": {
        "plotlyServerURL": "https://plot.ly"
       },
       "data": [
        {
         "hovertemplate": "Month=%{x}<br>Number of Events=%{y}<extra></extra>",
         "legendgroup": "",
         "line": {
          "color": "#636efa",
          "dash": "solid"
         },
         "marker": {
          "symbol": "circle"
         },
         "mode": "lines",
         "name": "",
         "orientation": "v",
         "showlegend": false,
         "type": "scatter",
         "x": [
          1,
          2,
          3,
          4,
          5,
          6,
          7,
          8,
          9,
          10,
          11,
          12
         ],
         "xaxis": "x",
         "y": [
          4743531,
          4759937,
          5183275,
          4828190,
          4948972,
          4648432,
          4654455,
          4585870,
          4580762,
          4825131,
          4295029,
          4027833
         ],
         "yaxis": "y"
        }
       ],
       "layout": {
        "legend": {
         "tracegroupgap": 0
        },
        "template": {
         "data": {
          "bar": [
           {
            "error_x": {
             "color": "#2a3f5f"
            },
            "error_y": {
             "color": "#2a3f5f"
            },
            "marker": {
             "line": {
              "color": "#E5ECF6",
              "width": 0.5
             },
             "pattern": {
              "fillmode": "overlay",
              "size": 10,
              "solidity": 0.2
             }
            },
            "type": "bar"
           }
          ],
          "barpolar": [
           {
            "marker": {
             "line": {
              "color": "#E5ECF6",
              "width": 0.5
             },
             "pattern": {
              "fillmode": "overlay",
              "size": 10,
              "solidity": 0.2
             }
            },
            "type": "barpolar"
           }
          ],
          "carpet": [
           {
            "aaxis": {
             "endlinecolor": "#2a3f5f",
             "gridcolor": "white",
             "linecolor": "white",
             "minorgridcolor": "white",
             "startlinecolor": "#2a3f5f"
            },
            "baxis": {
             "endlinecolor": "#2a3f5f",
             "gridcolor": "white",
             "linecolor": "white",
             "minorgridcolor": "white",
             "startlinecolor": "#2a3f5f"
            },
            "type": "carpet"
           }
          ],
          "choropleth": [
           {
            "colorbar": {
             "outlinewidth": 0,
             "ticks": ""
            },
            "type": "choropleth"
           }
          ],
          "contour": [
           {
            "colorbar": {
             "outlinewidth": 0,
             "ticks": ""
            },
            "colorscale": [
             [
              0,
              "#0d0887"
             ],
             [
              0.1111111111111111,
              "#46039f"
             ],
             [
              0.2222222222222222,
              "#7201a8"
             ],
             [
              0.3333333333333333,
              "#9c179e"
             ],
             [
              0.4444444444444444,
              "#bd3786"
             ],
             [
              0.5555555555555556,
              "#d8576b"
             ],
             [
              0.6666666666666666,
              "#ed7953"
             ],
             [
              0.7777777777777778,
              "#fb9f3a"
             ],
             [
              0.8888888888888888,
              "#fdca26"
             ],
             [
              1,
              "#f0f921"
             ]
            ],
            "type": "contour"
           }
          ],
          "contourcarpet": [
           {
            "colorbar": {
             "outlinewidth": 0,
             "ticks": ""
            },
            "type": "contourcarpet"
           }
          ],
          "heatmap": [
           {
            "colorbar": {
             "outlinewidth": 0,
             "ticks": ""
            },
            "colorscale": [
             [
              0,
              "#0d0887"
             ],
             [
              0.1111111111111111,
              "#46039f"
             ],
             [
              0.2222222222222222,
              "#7201a8"
             ],
             [
              0.3333333333333333,
              "#9c179e"
             ],
             [
              0.4444444444444444,
              "#bd3786"
             ],
             [
              0.5555555555555556,
              "#d8576b"
             ],
             [
              0.6666666666666666,
              "#ed7953"
             ],
             [
              0.7777777777777778,
              "#fb9f3a"
             ],
             [
              0.8888888888888888,
              "#fdca26"
             ],
             [
              1,
              "#f0f921"
             ]
            ],
            "type": "heatmap"
           }
          ],
          "heatmapgl": [
           {
            "colorbar": {
             "outlinewidth": 0,
             "ticks": ""
            },
            "colorscale": [
             [
              0,
              "#0d0887"
             ],
             [
              0.1111111111111111,
              "#46039f"
             ],
             [
              0.2222222222222222,
              "#7201a8"
             ],
             [
              0.3333333333333333,
              "#9c179e"
             ],
             [
              0.4444444444444444,
              "#bd3786"
             ],
             [
              0.5555555555555556,
              "#d8576b"
             ],
             [
              0.6666666666666666,
              "#ed7953"
             ],
             [
              0.7777777777777778,
              "#fb9f3a"
             ],
             [
              0.8888888888888888,
              "#fdca26"
             ],
             [
              1,
              "#f0f921"
             ]
            ],
            "type": "heatmapgl"
           }
          ],
          "histogram": [
           {
            "marker": {
             "pattern": {
              "fillmode": "overlay",
              "size": 10,
              "solidity": 0.2
             }
            },
            "type": "histogram"
           }
          ],
          "histogram2d": [
           {
            "colorbar": {
             "outlinewidth": 0,
             "ticks": ""
            },
            "colorscale": [
             [
              0,
              "#0d0887"
             ],
             [
              0.1111111111111111,
              "#46039f"
             ],
             [
              0.2222222222222222,
              "#7201a8"
             ],
             [
              0.3333333333333333,
              "#9c179e"
             ],
             [
              0.4444444444444444,
              "#bd3786"
             ],
             [
              0.5555555555555556,
              "#d8576b"
             ],
             [
              0.6666666666666666,
              "#ed7953"
             ],
             [
              0.7777777777777778,
              "#fb9f3a"
             ],
             [
              0.8888888888888888,
              "#fdca26"
             ],
             [
              1,
              "#f0f921"
             ]
            ],
            "type": "histogram2d"
           }
          ],
          "histogram2dcontour": [
           {
            "colorbar": {
             "outlinewidth": 0,
             "ticks": ""
            },
            "colorscale": [
             [
              0,
              "#0d0887"
             ],
             [
              0.1111111111111111,
              "#46039f"
             ],
             [
              0.2222222222222222,
              "#7201a8"
             ],
             [
              0.3333333333333333,
              "#9c179e"
             ],
             [
              0.4444444444444444,
              "#bd3786"
             ],
             [
              0.5555555555555556,
              "#d8576b"
             ],
             [
              0.6666666666666666,
              "#ed7953"
             ],
             [
              0.7777777777777778,
              "#fb9f3a"
             ],
             [
              0.8888888888888888,
              "#fdca26"
             ],
             [
              1,
              "#f0f921"
             ]
            ],
            "type": "histogram2dcontour"
           }
          ],
          "mesh3d": [
           {
            "colorbar": {
             "outlinewidth": 0,
             "ticks": ""
            },
            "type": "mesh3d"
           }
          ],
          "parcoords": [
           {
            "line": {
             "colorbar": {
              "outlinewidth": 0,
              "ticks": ""
             }
            },
            "type": "parcoords"
           }
          ],
          "pie": [
           {
            "automargin": true,
            "type": "pie"
           }
          ],
          "scatter": [
           {
            "fillpattern": {
             "fillmode": "overlay",
             "size": 10,
             "solidity": 0.2
            },
            "type": "scatter"
           }
          ],
          "scatter3d": [
           {
            "line": {
             "colorbar": {
              "outlinewidth": 0,
              "ticks": ""
             }
            },
            "marker": {
             "colorbar": {
              "outlinewidth": 0,
              "ticks": ""
             }
            },
            "type": "scatter3d"
           }
          ],
          "scattercarpet": [
           {
            "marker": {
             "colorbar": {
              "outlinewidth": 0,
              "ticks": ""
             }
            },
            "type": "scattercarpet"
           }
          ],
          "scattergeo": [
           {
            "marker": {
             "colorbar": {
              "outlinewidth": 0,
              "ticks": ""
             }
            },
            "type": "scattergeo"
           }
          ],
          "scattergl": [
           {
            "marker": {
             "colorbar": {
              "outlinewidth": 0,
              "ticks": ""
             }
            },
            "type": "scattergl"
           }
          ],
          "scattermapbox": [
           {
            "marker": {
             "colorbar": {
              "outlinewidth": 0,
              "ticks": ""
             }
            },
            "type": "scattermapbox"
           }
          ],
          "scatterpolar": [
           {
            "marker": {
             "colorbar": {
              "outlinewidth": 0,
              "ticks": ""
             }
            },
            "type": "scatterpolar"
           }
          ],
          "scatterpolargl": [
           {
            "marker": {
             "colorbar": {
              "outlinewidth": 0,
              "ticks": ""
             }
            },
            "type": "scatterpolargl"
           }
          ],
          "scatterternary": [
           {
            "marker": {
             "colorbar": {
              "outlinewidth": 0,
              "ticks": ""
             }
            },
            "type": "scatterternary"
           }
          ],
          "surface": [
           {
            "colorbar": {
             "outlinewidth": 0,
             "ticks": ""
            },
            "colorscale": [
             [
              0,
              "#0d0887"
             ],
             [
              0.1111111111111111,
              "#46039f"
             ],
             [
              0.2222222222222222,
              "#7201a8"
             ],
             [
              0.3333333333333333,
              "#9c179e"
             ],
             [
              0.4444444444444444,
              "#bd3786"
             ],
             [
              0.5555555555555556,
              "#d8576b"
             ],
             [
              0.6666666666666666,
              "#ed7953"
             ],
             [
              0.7777777777777778,
              "#fb9f3a"
             ],
             [
              0.8888888888888888,
              "#fdca26"
             ],
             [
              1,
              "#f0f921"
             ]
            ],
            "type": "surface"
           }
          ],
          "table": [
           {
            "cells": {
             "fill": {
              "color": "#EBF0F8"
             },
             "line": {
              "color": "white"
             }
            },
            "header": {
             "fill": {
              "color": "#C8D4E3"
             },
             "line": {
              "color": "white"
             }
            },
            "type": "table"
           }
          ]
         },
         "layout": {
          "annotationdefaults": {
           "arrowcolor": "#2a3f5f",
           "arrowhead": 0,
           "arrowwidth": 1
          },
          "autotypenumbers": "strict",
          "coloraxis": {
           "colorbar": {
            "outlinewidth": 0,
            "ticks": ""
           }
          },
          "colorscale": {
           "diverging": [
            [
             0,
             "#8e0152"
            ],
            [
             0.1,
             "#c51b7d"
            ],
            [
             0.2,
             "#de77ae"
            ],
            [
             0.3,
             "#f1b6da"
            ],
            [
             0.4,
             "#fde0ef"
            ],
            [
             0.5,
             "#f7f7f7"
            ],
            [
             0.6,
             "#e6f5d0"
            ],
            [
             0.7,
             "#b8e186"
            ],
            [
             0.8,
             "#7fbc41"
            ],
            [
             0.9,
             "#4d9221"
            ],
            [
             1,
             "#276419"
            ]
           ],
           "sequential": [
            [
             0,
             "#0d0887"
            ],
            [
             0.1111111111111111,
             "#46039f"
            ],
            [
             0.2222222222222222,
             "#7201a8"
            ],
            [
             0.3333333333333333,
             "#9c179e"
            ],
            [
             0.4444444444444444,
             "#bd3786"
            ],
            [
             0.5555555555555556,
             "#d8576b"
            ],
            [
             0.6666666666666666,
             "#ed7953"
            ],
            [
             0.7777777777777778,
             "#fb9f3a"
            ],
            [
             0.8888888888888888,
             "#fdca26"
            ],
            [
             1,
             "#f0f921"
            ]
           ],
           "sequentialminus": [
            [
             0,
             "#0d0887"
            ],
            [
             0.1111111111111111,
             "#46039f"
            ],
            [
             0.2222222222222222,
             "#7201a8"
            ],
            [
             0.3333333333333333,
             "#9c179e"
            ],
            [
             0.4444444444444444,
             "#bd3786"
            ],
            [
             0.5555555555555556,
             "#d8576b"
            ],
            [
             0.6666666666666666,
             "#ed7953"
            ],
            [
             0.7777777777777778,
             "#fb9f3a"
            ],
            [
             0.8888888888888888,
             "#fdca26"
            ],
            [
             1,
             "#f0f921"
            ]
           ]
          },
          "colorway": [
           "#636efa",
           "#EF553B",
           "#00cc96",
           "#ab63fa",
           "#FFA15A",
           "#19d3f3",
           "#FF6692",
           "#B6E880",
           "#FF97FF",
           "#FECB52"
          ],
          "font": {
           "color": "#2a3f5f"
          },
          "geo": {
           "bgcolor": "white",
           "lakecolor": "white",
           "landcolor": "#E5ECF6",
           "showlakes": true,
           "showland": true,
           "subunitcolor": "white"
          },
          "hoverlabel": {
           "align": "left"
          },
          "hovermode": "closest",
          "mapbox": {
           "style": "light"
          },
          "paper_bgcolor": "white",
          "plot_bgcolor": "#E5ECF6",
          "polar": {
           "angularaxis": {
            "gridcolor": "white",
            "linecolor": "white",
            "ticks": ""
           },
           "bgcolor": "#E5ECF6",
           "radialaxis": {
            "gridcolor": "white",
            "linecolor": "white",
            "ticks": ""
           }
          },
          "scene": {
           "xaxis": {
            "backgroundcolor": "#E5ECF6",
            "gridcolor": "white",
            "gridwidth": 2,
            "linecolor": "white",
            "showbackground": true,
            "ticks": "",
            "zerolinecolor": "white"
           },
           "yaxis": {
            "backgroundcolor": "#E5ECF6",
            "gridcolor": "white",
            "gridwidth": 2,
            "linecolor": "white",
            "showbackground": true,
            "ticks": "",
            "zerolinecolor": "white"
           },
           "zaxis": {
            "backgroundcolor": "#E5ECF6",
            "gridcolor": "white",
            "gridwidth": 2,
            "linecolor": "white",
            "showbackground": true,
            "ticks": "",
            "zerolinecolor": "white"
           }
          },
          "shapedefaults": {
           "line": {
            "color": "#2a3f5f"
           }
          },
          "ternary": {
           "aaxis": {
            "gridcolor": "white",
            "linecolor": "white",
            "ticks": ""
           },
           "baxis": {
            "gridcolor": "white",
            "linecolor": "white",
            "ticks": ""
           },
           "bgcolor": "#E5ECF6",
           "caxis": {
            "gridcolor": "white",
            "linecolor": "white",
            "ticks": ""
           }
          },
          "title": {
           "x": 0.05
          },
          "xaxis": {
           "automargin": true,
           "gridcolor": "white",
           "linecolor": "white",
           "ticks": "",
           "title": {
            "standoff": 15
           },
           "zerolinecolor": "white",
           "zerolinewidth": 2
          },
          "yaxis": {
           "automargin": true,
           "gridcolor": "white",
           "linecolor": "white",
           "ticks": "",
           "title": {
            "standoff": 15
           },
           "zerolinecolor": "white",
           "zerolinewidth": 2
          }
         }
        },
        "title": {
         "text": "Number of Events per Month in 2019"
        },
        "xaxis": {
         "anchor": "y",
         "domain": [
          0,
          1
         ],
         "title": {
          "text": "Month"
         }
        },
        "yaxis": {
         "anchor": "x",
         "domain": [
          0,
          1
         ],
         "title": {
          "text": "Number of Events"
         }
        }
       }
      }
     },
     "metadata": {},
     "output_type": "display_data"
    }
   ],
   "source": [
    "df_2019['Month'] = df_2019['MonthYear'] % 100  # Extracting month from MonthYear\n",
    "events_per_month = df_2019.groupby('Month')['EventCode'].count().reset_index()\n",
    "\n",
    "fig = px.line(events_per_month, x='Month', y='EventCode', \n",
    "             title='Number of Events per Month in 2019', \n",
    "             labels={'EventCode': 'Number of Events'})\n",
    "fig.show()"
   ]
  }
 ],
 "metadata": {
  "kernelspec": {
   "display_name": "Python 3",
   "language": "python",
   "name": "python3"
  },
  "language_info": {
   "codemirror_mode": {
    "name": "ipython",
    "version": 3
   },
   "file_extension": ".py",
   "mimetype": "text/x-python",
   "name": "python",
   "nbconvert_exporter": "python",
   "pygments_lexer": "ipython3",
   "version": "3.12.2"
  }
 },
 "nbformat": 4,
 "nbformat_minor": 5
}
