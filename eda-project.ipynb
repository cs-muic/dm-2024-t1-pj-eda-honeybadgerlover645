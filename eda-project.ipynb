{
 "cells": [
  {
   "cell_type": "markdown",
   "id": "044d7336-876c-4286-8225-8cbd61577b3f",
   "metadata": {},
   "source": [
    "# Data Engineering EDA Project"
   ]
  },
  {
   "cell_type": "markdown",
   "id": "b651974d-c89f-4ffa-801d-584789da96d9",
   "metadata": {},
   "source": [
    "By Aommy, Austin, Ling, Tath (yippee)\n",
    "\n",
    "-----------------------"
   ]
  },
  {
   "cell_type": "markdown",
   "id": "4d16f69d-d599-45b3-a3f4-8fd91d3bb183",
   "metadata": {},
   "source": [
    "## Installing Dependencies"
   ]
  },
  {
   "cell_type": "markdown",
   "id": "fffb29b2-96bf-4a84-be9e-a351af7806d9",
   "metadata": {},
   "source": [
    "### Minio Object Store dependencies\n",
    "\n",
    "1. Install minio cli if not already installed.\n",
    "2. Create client\n",
    "3. Make bucket (if needed)"
   ]
  },
  {
   "cell_type": "code",
   "execution_count": 10,
   "id": "3d6e0bf2-2517-4f44-be01-b05838be2107",
   "metadata": {},
   "outputs": [],
   "source": [
    "! pip install minio --quiet"
   ]
  },
  {
   "cell_type": "code",
   "execution_count": 1,
   "id": "fc89997d-97e2-48c0-9bc2-02392b4097c6",
   "metadata": {},
   "outputs": [
    {
     "name": "stdout",
     "output_type": "stream",
     "text": [
      "Bucket exists.\n"
     ]
    }
   ],
   "source": [
    "from minio import Minio\n",
    "\n",
    "# Create client with access and secret key.\n",
    "# client = Minio(\"s3.amazonaws.com\", \"ACCESS-KEY\", \"SECRET-KEY\")\n",
    "\n",
    "# Create client with access key and secret key with specific region.\n",
    "client = Minio(\n",
    "    \"localhost:9000\",\n",
    "    access_key=\"ROOTNAME\",\n",
    "    secret_key=\"CHANGEME123\",\n",
    "    secure=False\n",
    ")\n",
    "\n",
    "if client.bucket_exists(\"eda\"):\n",
    "    print(\"Bucket exists.\")\n",
    "else:\n",
    "    client.make_bucket(\"eda\")\n",
    "    print(\"Bucket created.\")"
   ]
  },
  {
   "cell_type": "markdown",
   "id": "5926ca24-13eb-49e8-9fa1-9ac9766cc68b",
   "metadata": {},
   "source": [
    "## Importing libraries"
   ]
  },
  {
   "cell_type": "code",
   "execution_count": 4,
   "id": "c171e235-c19d-4ed8-a91e-34ec8093708d",
   "metadata": {},
   "outputs": [],
   "source": [
    "import pandas as pd\n",
    "import seaborn as sb\n",
    "import matplotlib.pyplot as plt\n",
    "\n",
    "from urllib.request import urlopen"
   ]
  },
  {
   "cell_type": "code",
   "execution_count": null,
   "id": "bc6be77b-bfa2-4b83-b241-0307b77acd4d",
   "metadata": {},
   "outputs": [],
   "source": [
    "!pip install --quiet yfinance --upgrade --no-cache-dir"
   ]
  },
  {
   "cell_type": "markdown",
   "id": "4963f7b8-244c-4cd0-b604-474a8d409ca1",
   "metadata": {},
   "source": [
    "---------------------"
   ]
  },
  {
   "cell_type": "markdown",
   "id": "c5d74562-5f18-48c9-83a1-d001b1b67a42",
   "metadata": {},
   "source": [
    "## Data Collection"
   ]
  },
  {
   "cell_type": "markdown",
   "id": "abe33d20-323f-4209-b33e-e0572637491d",
   "metadata": {},
   "source": [
    "### Data from Global Events\n",
    "\n",
    "Installing data from http://data.gdeltproject.org/events/index.html for global event data!"
   ]
  },
  {
   "cell_type": "code",
   "execution_count": null,
   "id": "0040aeff-ceac-4718-a4b2-65c5a2fe2e4d",
   "metadata": {},
   "outputs": [
    {
     "name": "stdout",
     "output_type": "stream",
     "text": [
      "created 2019/01/01.export.CSV.zip object; etag: 9726973a868abe57032a5b94645f5048, version-id: None\n",
      "created 2019/01/02.export.CSV.zip object; etag: 751da6e7c5514f7fb5c311993a933cc8, version-id: None\n",
      "created 2019/01/03.export.CSV.zip object; etag: 7fffcedb71b319ccee911eb395259926, version-id: None\n",
      "created 2019/01/04.export.CSV.zip object; etag: 614e89ab74882afc3a3a561701ff72ba, version-id: None\n",
      "created 2019/01/05.export.CSV.zip object; etag: c0588fff107d2e900c8b224f49327788, version-id: None\n",
      "created 2019/01/06.export.CSV.zip object; etag: d475de8ad49e3d74ef48d3f6e2619861, version-id: None\n",
      "created 2019/01/07.export.CSV.zip object; etag: e94ef9105b5d519612a76ea5209b635f, version-id: None\n",
      "created 2019/01/08.export.CSV.zip object; etag: 9a8928ffa7d39490aeea27c0da85ef6c-2, version-id: None\n",
      "created 2019/01/09.export.CSV.zip object; etag: e5915bc3deed7171f7ffc4444e410ccb-2, version-id: None\n",
      "created 2019/01/10.export.CSV.zip object; etag: 067507611812408d87c1c00e369b02ab-2, version-id: None\n",
      "created 2019/01/11.export.CSV.zip object; etag: d7fadc62131c8a236a00af372d54b3d7-2, version-id: None\n",
      "created 2019/01/12.export.CSV.zip object; etag: 4186e22f632a3a13e11ea431b69aaa0a, version-id: None\n",
      "created 2019/01/13.export.CSV.zip object; etag: bd3b64eff854fe40749c100f10379889, version-id: None\n",
      "created 2019/01/14.export.CSV.zip object; etag: 096ad26e520afb39406610f83af68e24-2, version-id: None\n",
      "created 2019/01/15.export.CSV.zip object; etag: 4efb9fb45838407668753fe5fad42bef-2, version-id: None\n",
      "created 2019/01/16.export.CSV.zip object; etag: c484c53c0247963bc643088af868c2e6-2, version-id: None\n",
      "created 2019/01/17.export.CSV.zip object; etag: 201f727c6181d285d2f8f24025e6a28b-2, version-id: None\n",
      "created 2019/01/18.export.CSV.zip object; etag: 78b5bff52b2dffe296eb396a1b380843-2, version-id: None\n",
      "created 2019/01/19.export.CSV.zip object; etag: 0fb22e5c383fac0114cd7079869beed1, version-id: None\n",
      "created 2019/01/20.export.CSV.zip object; etag: a2e57ae18ba155ee5d641fef40f2eafb, version-id: None\n",
      "created 2019/01/21.export.CSV.zip object; etag: b02675a7164036852995851fbd79f8b5, version-id: None\n",
      "created 2019/01/22.export.CSV.zip object; etag: 78c2ff29f612325d7cd04a5d995cd749-2, version-id: None\n",
      "created 2019/01/23.export.CSV.zip object; etag: 050289e8906ada4187170278dde62aa4-2, version-id: None\n"
     ]
    }
   ],
   "source": [
    "for y in range(19, 20):\n",
    "    for m in range(1, 13):\n",
    "        if m < 10:\n",
    "            m = \"0\" + str(m)\n",
    "        for d in range(1, 32):\n",
    "            if d < 10:\n",
    "                d = \"0\" + str(d)\n",
    "            if \n",
    "            data = urlopen(\n",
    "                \"http://data.gdeltproject.org/events/20{0}{1}{2}.export.CSV.zip\".format(y,m,d),\n",
    "            )\n",
    "            result = client.put_object(\n",
    "                \"eda\", \"20{0}/{1}/{2}.export.CSV.zip\".format(y,m,d), data, length=-1, part_size=10*1024*1024,\n",
    "            )\n",
    "            print(\n",
    "                \"created {0} object; etag: {1}, version-id: {2}\".format(\n",
    "                    result.object_name, result.etag, result.version_id,\n",
    "                ),\n",
    "            )"
   ]
  },
  {
   "cell_type": "markdown",
   "id": "cf2071b3-1975-4062-934e-835bef6833af",
   "metadata": {},
   "source": [
    "----------------------"
   ]
  },
  {
   "cell_type": "markdown",
   "id": "b979c726-1198-4463-a966-edf552047cf0",
   "metadata": {},
   "source": [
    "## Data Processing"
   ]
  },
  {
   "cell_type": "code",
   "execution_count": null,
   "id": "998b5b96-800d-4e9c-9bcc-f40500aff3fa",
   "metadata": {},
   "outputs": [],
   "source": []
  },
  {
   "cell_type": "markdown",
   "id": "a21664d7-a2d7-402b-b878-f60dff89e1ee",
   "metadata": {},
   "source": [
    "----------------------"
   ]
  },
  {
   "cell_type": "markdown",
   "id": "bd06d8da-17e0-4922-a602-d4dbe2916d73",
   "metadata": {},
   "source": [
    "## Data Analysis"
   ]
  },
  {
   "cell_type": "code",
   "execution_count": null,
   "id": "87013a83-952f-4452-8671-8f2397d5b25d",
   "metadata": {},
   "outputs": [],
   "source": []
  }
 ],
 "metadata": {
  "kernelspec": {
   "display_name": "Python 3 (ipykernel)",
   "language": "python",
   "name": "python3"
  },
  "language_info": {
   "codemirror_mode": {
    "name": "ipython",
    "version": 3
   },
   "file_extension": ".py",
   "mimetype": "text/x-python",
   "name": "python",
   "nbconvert_exporter": "python",
   "pygments_lexer": "ipython3",
   "version": "3.11.7"
  }
 },
 "nbformat": 4,
 "nbformat_minor": 5
}
