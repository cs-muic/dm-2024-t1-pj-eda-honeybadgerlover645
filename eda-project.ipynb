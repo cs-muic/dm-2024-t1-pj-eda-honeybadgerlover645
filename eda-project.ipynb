{
 "cells": [
  {
   "cell_type": "markdown",
   "id": "044d7336-876c-4286-8225-8cbd61577b3f",
   "metadata": {},
   "source": [
    "# Data Engineering EDA Project"
   ]
  },
  {
   "cell_type": "markdown",
   "id": "b651974d-c89f-4ffa-801d-584789da96d9",
   "metadata": {},
   "source": [
    "By Aommy, Austin, Ling, Tath (yippee)\n",
    "\n",
    "-----------------------"
   ]
  },
  {
   "cell_type": "markdown",
   "id": "4d16f69d-d599-45b3-a3f4-8fd91d3bb183",
   "metadata": {},
   "source": [
    "## Installing Dependencies"
   ]
  },
  {
   "cell_type": "markdown",
   "id": "fffb29b2-96bf-4a84-be9e-a351af7806d9",
   "metadata": {},
   "source": [
    "### Minio Object Store dependencies\n",
    "\n",
    "1. Install minio cli if not already installed.\n",
    "2. Create client\n",
    "3. Make bucket (if needed)"
   ]
  },
  {
   "cell_type": "code",
   "execution_count": 3,
   "id": "3d6e0bf2-2517-4f44-be01-b05838be2107",
   "metadata": {},
   "outputs": [],
   "source": [
    "! pip install minio --quiet"
   ]
  },
  {
   "cell_type": "code",
   "execution_count": 11,
   "id": "fc89997d-97e2-48c0-9bc2-02392b4097c6",
   "metadata": {},
   "outputs": [
    {
     "name": "stdout",
     "output_type": "stream",
     "text": [
      "Bucket exists.\n"
     ]
    }
   ],
   "source": [
    "from minio import Minio\n",
    "\n",
    "# Create client with access and secret key.\n",
    "# client = Minio(\"s3.amazonaws.com\", \"ACCESS-KEY\", \"SECRET-KEY\")\n",
    "\n",
    "# Create client with access key and secret key with specific region.\n",
    "client = Minio(\n",
    "    \"localhost:9000\",\n",
    "    access_key=\"ROOTNAME\",\n",
    "    secret_key=\"CHANGEME123\",\n",
    "    secure=False\n",
    ")\n",
    "\n",
    "if client.bucket_exists(\"eda\"):\n",
    "    print(\"Bucket exists.\")\n",
    "else:\n",
    "    client.make_bucket(\"eda\")\n",
    "    print(\"Bucket created.\")"
   ]
  },
  {
   "cell_type": "markdown",
   "id": "5926ca24-13eb-49e8-9fa1-9ac9766cc68b",
   "metadata": {},
   "source": [
    "## Importing libraries"
   ]
  },
  {
   "cell_type": "code",
   "execution_count": 9,
   "id": "c171e235-c19d-4ed8-a91e-34ec8093708d",
   "metadata": {},
   "outputs": [],
   "source": [
    "import pandas as pd\n",
    "import seaborn as sb\n",
    "import matplotlib.pyplot as plt\n",
    "\n",
    "import io\n",
    "from urllib.request import urlopen"
   ]
  },
  {
   "cell_type": "code",
   "execution_count": 7,
   "id": "bc6be77b-bfa2-4b83-b241-0307b77acd4d",
   "metadata": {},
   "outputs": [],
   "source": [
    "!pip install --quiet yfinance --upgrade --no-cache-dir"
   ]
  },
  {
   "cell_type": "markdown",
   "id": "4963f7b8-244c-4cd0-b604-474a8d409ca1",
   "metadata": {},
   "source": [
    "---------------------"
   ]
  },
  {
   "cell_type": "markdown",
   "id": "c5d74562-5f18-48c9-83a1-d001b1b67a42",
   "metadata": {},
   "source": [
    "## Data Collection"
   ]
  },
  {
   "cell_type": "markdown",
   "id": "abe33d20-323f-4209-b33e-e0572637491d",
   "metadata": {},
   "source": [
    "### Data from Global Events\n",
    "\n",
    "Installing data from http://data.gdeltproject.org/events/index.html for global event data!"
   ]
  },
  {
   "cell_type": "code",
   "execution_count": 5,
   "id": "0040aeff-ceac-4718-a4b2-65c5a2fe2e4d",
   "metadata": {
    "scrolled": true
   },
   "outputs": [
    {
     "name": "stdout",
     "output_type": "stream",
     "text": [
      "File doesn't exist!\n",
      "No file to download!\n",
      "File doesn't exist!\n",
      "No file to download!\n",
      "File doesn't exist!\n",
      "No file to download!\n",
      "File doesn't exist!\n",
      "No file to download!\n",
      "File doesn't exist!\n",
      "No file to download!\n",
      "File doesn't exist!\n",
      "No file to download!\n",
      "File doesn't exist!\n",
      "No file to download!\n",
      "File doesn't exist!\n",
      "No file to download!\n",
      "File doesn't exist!\n",
      "No file to download!\n",
      "File doesn't exist!\n",
      "Uploading file!\n",
      "created gdelt/2020/04/09.export.CSV.zip object; etag: 5cf7553a7e25189741f5f55711b3a5f2, version-id: None\n",
      "File doesn't exist!\n",
      "No file to download!\n",
      "File doesn't exist!\n",
      "No file to download!\n",
      "File doesn't exist!\n",
      "No file to download!\n",
      "File doesn't exist!\n",
      "No file to download!\n",
      "File doesn't exist!\n",
      "No file to download!\n",
      "File doesn't exist!\n",
      "No file to download!\n",
      "File doesn't exist!\n",
      "No file to download!\n",
      "File doesn't exist!\n",
      "No file to download!\n",
      "File doesn't exist!\n",
      "No file to download!\n",
      "File doesn't exist!\n",
      "No file to download!\n",
      "File doesn't exist!\n",
      "No file to download!\n",
      "File doesn't exist!\n",
      "No file to download!\n",
      "File doesn't exist!\n",
      "No file to download!\n",
      "File doesn't exist!\n",
      "No file to download!\n",
      "File doesn't exist!\n",
      "No file to download!\n",
      "File doesn't exist!\n",
      "No file to download!\n",
      "File doesn't exist!\n",
      "Uploading file!\n",
      "created gdelt/2022/08/19.export.CSV.zip object; etag: 0b6a5b7a82960a4348ff9d89e54a1448, version-id: None\n",
      "File doesn't exist!\n",
      "No file to download!\n",
      "File doesn't exist!\n",
      "No file to download!\n",
      "File doesn't exist!\n",
      "No file to download!\n",
      "File doesn't exist!\n",
      "No file to download!\n",
      "File doesn't exist!\n",
      "No file to download!\n",
      "File doesn't exist!\n",
      "No file to download!\n",
      "File doesn't exist!\n",
      "No file to download!\n",
      "File doesn't exist!\n",
      "No file to download!\n",
      "File doesn't exist!\n",
      "No file to download!\n",
      "File doesn't exist!\n",
      "No file to download!\n",
      "File doesn't exist!\n",
      "No file to download!\n",
      "File doesn't exist!\n",
      "No file to download!\n",
      "File doesn't exist!\n",
      "No file to download!\n",
      "File doesn't exist!\n",
      "No file to download!\n",
      "File doesn't exist!\n",
      "No file to download!\n",
      "File doesn't exist!\n",
      "No file to download!\n",
      "File doesn't exist!\n",
      "No file to download!\n",
      "File doesn't exist!\n",
      "No file to download!\n",
      "File doesn't exist!\n",
      "No file to download!\n",
      "File doesn't exist!\n",
      "No file to download!\n",
      "File doesn't exist!\n",
      "No file to download!\n",
      "File doesn't exist!\n",
      "No file to download!\n",
      "File doesn't exist!\n",
      "No file to download!\n",
      "File doesn't exist!\n",
      "No file to download!\n",
      "File doesn't exist!\n",
      "No file to download!\n",
      "File doesn't exist!\n",
      "No file to download!\n",
      "File doesn't exist!\n",
      "No file to download!\n",
      "File doesn't exist!\n",
      "No file to download!\n",
      "File doesn't exist!\n",
      "No file to download!\n",
      "File doesn't exist!\n",
      "No file to download!\n",
      "File doesn't exist!\n",
      "No file to download!\n",
      "File doesn't exist!\n",
      "No file to download!\n",
      "File doesn't exist!\n",
      "No file to download!\n",
      "File doesn't exist!\n",
      "No file to download!\n",
      "File doesn't exist!\n",
      "No file to download!\n",
      "File doesn't exist!\n",
      "No file to download!\n",
      "File doesn't exist!\n",
      "No file to download!\n",
      "File doesn't exist!\n",
      "No file to download!\n",
      "File doesn't exist!\n",
      "No file to download!\n",
      "File doesn't exist!\n",
      "No file to download!\n",
      "File doesn't exist!\n",
      "No file to download!\n",
      "File doesn't exist!\n",
      "No file to download!\n",
      "File doesn't exist!\n",
      "No file to download!\n",
      "File doesn't exist!\n",
      "No file to download!\n",
      "File doesn't exist!\n",
      "No file to download!\n",
      "File doesn't exist!\n",
      "No file to download!\n",
      "File doesn't exist!\n",
      "No file to download!\n",
      "File doesn't exist!\n",
      "No file to download!\n",
      "File doesn't exist!\n",
      "No file to download!\n",
      "File doesn't exist!\n",
      "No file to download!\n",
      "File doesn't exist!\n",
      "No file to download!\n",
      "File doesn't exist!\n",
      "No file to download!\n",
      "File doesn't exist!\n",
      "No file to download!\n",
      "File doesn't exist!\n",
      "No file to download!\n",
      "File doesn't exist!\n",
      "No file to download!\n",
      "File doesn't exist!\n",
      "No file to download!\n",
      "File doesn't exist!\n",
      "No file to download!\n",
      "File doesn't exist!\n",
      "No file to download!\n",
      "File doesn't exist!\n",
      "No file to download!\n",
      "File doesn't exist!\n",
      "No file to download!\n",
      "File doesn't exist!\n",
      "No file to download!\n",
      "File doesn't exist!\n",
      "No file to download!\n",
      "File doesn't exist!\n",
      "No file to download!\n",
      "File doesn't exist!\n",
      "No file to download!\n",
      "File doesn't exist!\n",
      "No file to download!\n",
      "File doesn't exist!\n",
      "No file to download!\n",
      "File doesn't exist!\n",
      "No file to download!\n",
      "File doesn't exist!\n",
      "No file to download!\n",
      "File doesn't exist!\n",
      "No file to download!\n",
      "File doesn't exist!\n",
      "No file to download!\n",
      "File doesn't exist!\n",
      "No file to download!\n",
      "File doesn't exist!\n",
      "No file to download!\n",
      "File doesn't exist!\n",
      "No file to download!\n",
      "File doesn't exist!\n",
      "No file to download!\n",
      "File doesn't exist!\n",
      "No file to download!\n",
      "File doesn't exist!\n",
      "No file to download!\n",
      "File doesn't exist!\n",
      "No file to download!\n",
      "File doesn't exist!\n",
      "No file to download!\n",
      "File doesn't exist!\n",
      "No file to download!\n",
      "File doesn't exist!\n",
      "No file to download!\n",
      "File doesn't exist!\n",
      "No file to download!\n",
      "File doesn't exist!\n",
      "No file to download!\n",
      "File doesn't exist!\n",
      "No file to download!\n",
      "File doesn't exist!\n",
      "No file to download!\n",
      "File doesn't exist!\n",
      "No file to download!\n",
      "File doesn't exist!\n",
      "No file to download!\n",
      "File doesn't exist!\n",
      "No file to download!\n",
      "File doesn't exist!\n",
      "No file to download!\n",
      "File doesn't exist!\n",
      "No file to download!\n",
      "File doesn't exist!\n",
      "No file to download!\n",
      "File doesn't exist!\n",
      "No file to download!\n",
      "File doesn't exist!\n",
      "No file to download!\n",
      "File doesn't exist!\n",
      "No file to download!\n",
      "File doesn't exist!\n",
      "No file to download!\n"
     ]
    }
   ],
   "source": [
    "for y in range(19, 25):\n",
    "    for m in range(1, 13):\n",
    "        if m < 10:\n",
    "            m = \"0\" + str(m)\n",
    "        for d in range(1, 32):\n",
    "            if d < 10:\n",
    "                d = \"0\" + str(d)\n",
    "            try:\n",
    "                response = client.get_object(\"eda\", \"gdelt/20{0}/{1}/{2}.export.CSV.zip\".format(y,m,d))\n",
    "                # Read data from response.\n",
    "            except:\n",
    "                print(\"File doesn't exist!\")\n",
    "                try:\n",
    "                    data = urlopen(\n",
    "                        \"http://data.gdeltproject.org/events/20{0}{1}{2}.export.CSV.zip\".format(y,m,d),\n",
    "                    )\n",
    "                    print(\"Uploading file!\")\n",
    "                    result = client.put_object(\n",
    "                        \"eda\", \"gdelt/20{0}/{1}/{2}.export.CSV.zip\".format(y,m,d), data, length=-1, part_size=10*1024*1024,\n",
    "                    )\n",
    "                    print(\n",
    "                        \"created {0} object; etag: {1}, version-id: {2}\".format(\n",
    "                            result.object_name, result.etag, result.version_id,\n",
    "                        ),\n",
    "                    )\n",
    "                except:\n",
    "                    print(\"No file to download!\")\n",
    "            finally:\n",
    "                response.close()\n",
    "                response.release_conn()"
   ]
  },
  {
   "cell_type": "markdown",
   "id": "fc89f093-fe2e-4cd3-9d89-e4b25ec352da",
   "metadata": {},
   "source": [
    "### Data from YahooFinance"
   ]
  },
  {
   "cell_type": "code",
   "execution_count": 30,
   "id": "c2ad4936-1ff5-482d-84c6-6e9ebf58d1ae",
   "metadata": {},
   "outputs": [],
   "source": [
    "import yfinance as yf\n",
    "\n",
    "companies = {\n",
    "    \"tech\": ['AAPL', 'MSFT', 'NVDA'],\n",
    "    \"energy\": ['XOM', 'CVX', 'BP', 'COP'],\n",
    "    \"food\": ['KO', 'PEP', 'PG'],\n",
    "    \"health\": ['JNJ', 'PFE', 'ABBV'],\n",
    "    \"finance\": ['JPM', 'V', 'MA'],\n",
    "    \"agriculture\": ['DE', 'CTVA', 'ADM'],\n",
    "    \"telecom\": ['T', 'VZ', 'TMUS'],\n",
    "    \"materials\": ['DOW', 'NEM', 'FCX']\n",
    "}"
   ]
  },
  {
   "cell_type": "code",
   "execution_count": 37,
   "id": "bfb67386-e852-4374-b895-f2dc379d3087",
   "metadata": {},
   "outputs": [
    {
     "name": "stdout",
     "output_type": "stream",
     "text": [
      "No changes to make.\n"
     ]
    }
   ],
   "source": [
    "uploaded = False\n",
    "for sector in companies:\n",
    "    for stock in companies[sector]:\n",
    "        try:\n",
    "            response = client.get_object(\"eda\", \"yfinance/{0}/{1}.snappy.parquet\".format(sector,stock))\n",
    "            # Read data from response.\n",
    "        except:\n",
    "            print(\"File doesn't exist!\")\n",
    "            data = yf.download(stock, start=\"2019-01-01\", end=\"2024-10-15\", progress=False)\n",
    "            result = client.put_object(\n",
    "                \"eda\", \"yfinance/{0}/{1}.snappy.parquet\".format(sector,stock), io.BytesIO(data.to_parquet(compression='snappy')), length=-1, part_size=10*1024*1024,\n",
    "            )\n",
    "            print(\n",
    "                \"created {0} object; etag: {1}, version-id: {2}\".format(\n",
    "                    result.object_name, result.etag, result.version_id,\n",
    "                ),\n",
    "            )\n",
    "            uploaded = True\n",
    "        finally:\n",
    "            response.close()\n",
    "            response.release_conn()\n",
    "if (not uploaded):\n",
    "    print(\"No changes to make.\")"
   ]
  },
  {
   "cell_type": "markdown",
   "id": "ce1297d8",
   "metadata": {},
   "source": [
    "### Data from Google Trend"
   ]
  },
  {
   "cell_type": "code",
   "execution_count": 1,
   "id": "6811d8e4",
   "metadata": {},
   "outputs": [],
   "source": [
    "! pip install pytrends --quiet"
   ]
  },
  {
   "cell_type": "code",
   "execution_count": 12,
   "id": "be1819b6",
   "metadata": {},
   "outputs": [
    {
     "name": "stdout",
     "output_type": "stream",
     "text": [
      "Fetching data for: apple\n"
     ]
    },
    {
     "name": "stderr",
     "output_type": "stream",
     "text": [
      "C:\\Users\\lklin\\AppData\\Roaming\\Python\\Python312\\site-packages\\pytrends\\request.py:260: FutureWarning: Downcasting object dtype arrays on .fillna, .ffill, .bfill is deprecated and will change in a future version. Call result.infer_objects(copy=False) instead. To opt-in to the future behavior, set `pd.set_option('future.no_silent_downcasting', True)`\n",
      "  df = df.fillna(False)\n"
     ]
    },
    {
     "name": "stdout",
     "output_type": "stream",
     "text": [
      "Saved data\\apple\\apple_web.csv\n"
     ]
    },
    {
     "name": "stderr",
     "output_type": "stream",
     "text": [
      "C:\\Users\\lklin\\AppData\\Roaming\\Python\\Python312\\site-packages\\pytrends\\request.py:260: FutureWarning: Downcasting object dtype arrays on .fillna, .ffill, .bfill is deprecated and will change in a future version. Call result.infer_objects(copy=False) instead. To opt-in to the future behavior, set `pd.set_option('future.no_silent_downcasting', True)`\n",
      "  df = df.fillna(False)\n"
     ]
    },
    {
     "name": "stdout",
     "output_type": "stream",
     "text": [
      "Saved data\\apple\\apple_youtube.csv\n"
     ]
    },
    {
     "name": "stderr",
     "output_type": "stream",
     "text": [
      "C:\\Users\\lklin\\AppData\\Roaming\\Python\\Python312\\site-packages\\pytrends\\request.py:260: FutureWarning: Downcasting object dtype arrays on .fillna, .ffill, .bfill is deprecated and will change in a future version. Call result.infer_objects(copy=False) instead. To opt-in to the future behavior, set `pd.set_option('future.no_silent_downcasting', True)`\n",
      "  df = df.fillna(False)\n"
     ]
    },
    {
     "name": "stdout",
     "output_type": "stream",
     "text": [
      "Saved data\\apple\\apple_news.csv\n"
     ]
    },
    {
     "name": "stderr",
     "output_type": "stream",
     "text": [
      "C:\\Users\\lklin\\AppData\\Roaming\\Python\\Python312\\site-packages\\pytrends\\request.py:260: FutureWarning: Downcasting object dtype arrays on .fillna, .ffill, .bfill is deprecated and will change in a future version. Call result.infer_objects(copy=False) instead. To opt-in to the future behavior, set `pd.set_option('future.no_silent_downcasting', True)`\n",
      "  df = df.fillna(False)\n"
     ]
    },
    {
     "name": "stdout",
     "output_type": "stream",
     "text": [
      "Saved data\\apple\\apple_images.csv\n",
      "Saved image\\apple_search_trends.png\n",
      "Fetching data for: microsoft\n"
     ]
    },
    {
     "name": "stderr",
     "output_type": "stream",
     "text": [
      "C:\\Users\\lklin\\AppData\\Roaming\\Python\\Python312\\site-packages\\pytrends\\request.py:260: FutureWarning: Downcasting object dtype arrays on .fillna, .ffill, .bfill is deprecated and will change in a future version. Call result.infer_objects(copy=False) instead. To opt-in to the future behavior, set `pd.set_option('future.no_silent_downcasting', True)`\n",
      "  df = df.fillna(False)\n"
     ]
    },
    {
     "name": "stdout",
     "output_type": "stream",
     "text": [
      "Saved data\\microsoft\\microsoft_web.csv\n"
     ]
    },
    {
     "name": "stderr",
     "output_type": "stream",
     "text": [
      "C:\\Users\\lklin\\AppData\\Roaming\\Python\\Python312\\site-packages\\pytrends\\request.py:260: FutureWarning: Downcasting object dtype arrays on .fillna, .ffill, .bfill is deprecated and will change in a future version. Call result.infer_objects(copy=False) instead. To opt-in to the future behavior, set `pd.set_option('future.no_silent_downcasting', True)`\n",
      "  df = df.fillna(False)\n"
     ]
    },
    {
     "name": "stdout",
     "output_type": "stream",
     "text": [
      "Saved data\\microsoft\\microsoft_youtube.csv\n"
     ]
    },
    {
     "name": "stderr",
     "output_type": "stream",
     "text": [
      "C:\\Users\\lklin\\AppData\\Roaming\\Python\\Python312\\site-packages\\pytrends\\request.py:260: FutureWarning: Downcasting object dtype arrays on .fillna, .ffill, .bfill is deprecated and will change in a future version. Call result.infer_objects(copy=False) instead. To opt-in to the future behavior, set `pd.set_option('future.no_silent_downcasting', True)`\n",
      "  df = df.fillna(False)\n"
     ]
    },
    {
     "name": "stdout",
     "output_type": "stream",
     "text": [
      "Saved data\\microsoft\\microsoft_news.csv\n"
     ]
    },
    {
     "name": "stderr",
     "output_type": "stream",
     "text": [
      "C:\\Users\\lklin\\AppData\\Roaming\\Python\\Python312\\site-packages\\pytrends\\request.py:260: FutureWarning: Downcasting object dtype arrays on .fillna, .ffill, .bfill is deprecated and will change in a future version. Call result.infer_objects(copy=False) instead. To opt-in to the future behavior, set `pd.set_option('future.no_silent_downcasting', True)`\n",
      "  df = df.fillna(False)\n"
     ]
    },
    {
     "name": "stdout",
     "output_type": "stream",
     "text": [
      "Saved data\\microsoft\\microsoft_images.csv\n",
      "Saved image\\microsoft_search_trends.png\n",
      "Fetching data for: nvda\n"
     ]
    },
    {
     "name": "stderr",
     "output_type": "stream",
     "text": [
      "C:\\Users\\lklin\\AppData\\Roaming\\Python\\Python312\\site-packages\\pytrends\\request.py:260: FutureWarning: Downcasting object dtype arrays on .fillna, .ffill, .bfill is deprecated and will change in a future version. Call result.infer_objects(copy=False) instead. To opt-in to the future behavior, set `pd.set_option('future.no_silent_downcasting', True)`\n",
      "  df = df.fillna(False)\n"
     ]
    },
    {
     "name": "stdout",
     "output_type": "stream",
     "text": [
      "Saved data\\nvda\\nvda_web.csv\n"
     ]
    },
    {
     "name": "stderr",
     "output_type": "stream",
     "text": [
      "C:\\Users\\lklin\\AppData\\Roaming\\Python\\Python312\\site-packages\\pytrends\\request.py:260: FutureWarning: Downcasting object dtype arrays on .fillna, .ffill, .bfill is deprecated and will change in a future version. Call result.infer_objects(copy=False) instead. To opt-in to the future behavior, set `pd.set_option('future.no_silent_downcasting', True)`\n",
      "  df = df.fillna(False)\n"
     ]
    },
    {
     "name": "stdout",
     "output_type": "stream",
     "text": [
      "Saved data\\nvda\\nvda_youtube.csv\n"
     ]
    },
    {
     "name": "stderr",
     "output_type": "stream",
     "text": [
      "C:\\Users\\lklin\\AppData\\Roaming\\Python\\Python312\\site-packages\\pytrends\\request.py:260: FutureWarning: Downcasting object dtype arrays on .fillna, .ffill, .bfill is deprecated and will change in a future version. Call result.infer_objects(copy=False) instead. To opt-in to the future behavior, set `pd.set_option('future.no_silent_downcasting', True)`\n",
      "  df = df.fillna(False)\n"
     ]
    },
    {
     "name": "stdout",
     "output_type": "stream",
     "text": [
      "Saved data\\nvda\\nvda_news.csv\n"
     ]
    },
    {
     "name": "stderr",
     "output_type": "stream",
     "text": [
      "C:\\Users\\lklin\\AppData\\Roaming\\Python\\Python312\\site-packages\\pytrends\\request.py:260: FutureWarning: Downcasting object dtype arrays on .fillna, .ffill, .bfill is deprecated and will change in a future version. Call result.infer_objects(copy=False) instead. To opt-in to the future behavior, set `pd.set_option('future.no_silent_downcasting', True)`\n",
      "  df = df.fillna(False)\n"
     ]
    },
    {
     "name": "stdout",
     "output_type": "stream",
     "text": [
      "Saved data\\nvda\\nvda_images.csv\n",
      "Saved image\\nvda_search_trends.png\n",
      "Fetching data for: exxon\n"
     ]
    },
    {
     "name": "stderr",
     "output_type": "stream",
     "text": [
      "C:\\Users\\lklin\\AppData\\Roaming\\Python\\Python312\\site-packages\\pytrends\\request.py:260: FutureWarning: Downcasting object dtype arrays on .fillna, .ffill, .bfill is deprecated and will change in a future version. Call result.infer_objects(copy=False) instead. To opt-in to the future behavior, set `pd.set_option('future.no_silent_downcasting', True)`\n",
      "  df = df.fillna(False)\n"
     ]
    },
    {
     "name": "stdout",
     "output_type": "stream",
     "text": [
      "Saved data\\exxon\\exxon_web.csv\n"
     ]
    },
    {
     "name": "stderr",
     "output_type": "stream",
     "text": [
      "C:\\Users\\lklin\\AppData\\Roaming\\Python\\Python312\\site-packages\\pytrends\\request.py:260: FutureWarning: Downcasting object dtype arrays on .fillna, .ffill, .bfill is deprecated and will change in a future version. Call result.infer_objects(copy=False) instead. To opt-in to the future behavior, set `pd.set_option('future.no_silent_downcasting', True)`\n",
      "  df = df.fillna(False)\n"
     ]
    },
    {
     "name": "stdout",
     "output_type": "stream",
     "text": [
      "Saved data\\exxon\\exxon_youtube.csv\n"
     ]
    },
    {
     "name": "stderr",
     "output_type": "stream",
     "text": [
      "C:\\Users\\lklin\\AppData\\Roaming\\Python\\Python312\\site-packages\\pytrends\\request.py:260: FutureWarning: Downcasting object dtype arrays on .fillna, .ffill, .bfill is deprecated and will change in a future version. Call result.infer_objects(copy=False) instead. To opt-in to the future behavior, set `pd.set_option('future.no_silent_downcasting', True)`\n",
      "  df = df.fillna(False)\n"
     ]
    },
    {
     "name": "stdout",
     "output_type": "stream",
     "text": [
      "Saved data\\exxon\\exxon_news.csv\n"
     ]
    },
    {
     "name": "stderr",
     "output_type": "stream",
     "text": [
      "C:\\Users\\lklin\\AppData\\Roaming\\Python\\Python312\\site-packages\\pytrends\\request.py:260: FutureWarning: Downcasting object dtype arrays on .fillna, .ffill, .bfill is deprecated and will change in a future version. Call result.infer_objects(copy=False) instead. To opt-in to the future behavior, set `pd.set_option('future.no_silent_downcasting', True)`\n",
      "  df = df.fillna(False)\n"
     ]
    },
    {
     "name": "stdout",
     "output_type": "stream",
     "text": [
      "Saved data\\exxon\\exxon_images.csv\n",
      "Saved image\\exxon_search_trends.png\n",
      "Fetching data for: chevron\n"
     ]
    },
    {
     "name": "stderr",
     "output_type": "stream",
     "text": [
      "C:\\Users\\lklin\\AppData\\Roaming\\Python\\Python312\\site-packages\\pytrends\\request.py:260: FutureWarning: Downcasting object dtype arrays on .fillna, .ffill, .bfill is deprecated and will change in a future version. Call result.infer_objects(copy=False) instead. To opt-in to the future behavior, set `pd.set_option('future.no_silent_downcasting', True)`\n",
      "  df = df.fillna(False)\n"
     ]
    },
    {
     "name": "stdout",
     "output_type": "stream",
     "text": [
      "Saved data\\chevron\\chevron_web.csv\n"
     ]
    },
    {
     "name": "stderr",
     "output_type": "stream",
     "text": [
      "C:\\Users\\lklin\\AppData\\Roaming\\Python\\Python312\\site-packages\\pytrends\\request.py:260: FutureWarning: Downcasting object dtype arrays on .fillna, .ffill, .bfill is deprecated and will change in a future version. Call result.infer_objects(copy=False) instead. To opt-in to the future behavior, set `pd.set_option('future.no_silent_downcasting', True)`\n",
      "  df = df.fillna(False)\n"
     ]
    },
    {
     "name": "stdout",
     "output_type": "stream",
     "text": [
      "Saved data\\chevron\\chevron_youtube.csv\n"
     ]
    },
    {
     "name": "stderr",
     "output_type": "stream",
     "text": [
      "C:\\Users\\lklin\\AppData\\Roaming\\Python\\Python312\\site-packages\\pytrends\\request.py:260: FutureWarning: Downcasting object dtype arrays on .fillna, .ffill, .bfill is deprecated and will change in a future version. Call result.infer_objects(copy=False) instead. To opt-in to the future behavior, set `pd.set_option('future.no_silent_downcasting', True)`\n",
      "  df = df.fillna(False)\n"
     ]
    },
    {
     "name": "stdout",
     "output_type": "stream",
     "text": [
      "Saved data\\chevron\\chevron_news.csv\n"
     ]
    },
    {
     "name": "stderr",
     "output_type": "stream",
     "text": [
      "C:\\Users\\lklin\\AppData\\Roaming\\Python\\Python312\\site-packages\\pytrends\\request.py:260: FutureWarning: Downcasting object dtype arrays on .fillna, .ffill, .bfill is deprecated and will change in a future version. Call result.infer_objects(copy=False) instead. To opt-in to the future behavior, set `pd.set_option('future.no_silent_downcasting', True)`\n",
      "  df = df.fillna(False)\n"
     ]
    },
    {
     "name": "stdout",
     "output_type": "stream",
     "text": [
      "Saved data\\chevron\\chevron_images.csv\n",
      "Saved image\\chevron_search_trends.png\n",
      "Fetching data for: bp\n"
     ]
    },
    {
     "name": "stderr",
     "output_type": "stream",
     "text": [
      "C:\\Users\\lklin\\AppData\\Roaming\\Python\\Python312\\site-packages\\pytrends\\request.py:260: FutureWarning: Downcasting object dtype arrays on .fillna, .ffill, .bfill is deprecated and will change in a future version. Call result.infer_objects(copy=False) instead. To opt-in to the future behavior, set `pd.set_option('future.no_silent_downcasting', True)`\n",
      "  df = df.fillna(False)\n"
     ]
    },
    {
     "name": "stdout",
     "output_type": "stream",
     "text": [
      "Saved data\\bp\\bp_web.csv\n"
     ]
    },
    {
     "name": "stderr",
     "output_type": "stream",
     "text": [
      "C:\\Users\\lklin\\AppData\\Roaming\\Python\\Python312\\site-packages\\pytrends\\request.py:260: FutureWarning: Downcasting object dtype arrays on .fillna, .ffill, .bfill is deprecated and will change in a future version. Call result.infer_objects(copy=False) instead. To opt-in to the future behavior, set `pd.set_option('future.no_silent_downcasting', True)`\n",
      "  df = df.fillna(False)\n"
     ]
    },
    {
     "name": "stdout",
     "output_type": "stream",
     "text": [
      "Saved data\\bp\\bp_youtube.csv\n"
     ]
    },
    {
     "name": "stderr",
     "output_type": "stream",
     "text": [
      "C:\\Users\\lklin\\AppData\\Roaming\\Python\\Python312\\site-packages\\pytrends\\request.py:260: FutureWarning: Downcasting object dtype arrays on .fillna, .ffill, .bfill is deprecated and will change in a future version. Call result.infer_objects(copy=False) instead. To opt-in to the future behavior, set `pd.set_option('future.no_silent_downcasting', True)`\n",
      "  df = df.fillna(False)\n"
     ]
    },
    {
     "name": "stdout",
     "output_type": "stream",
     "text": [
      "Saved data\\bp\\bp_news.csv\n"
     ]
    },
    {
     "name": "stderr",
     "output_type": "stream",
     "text": [
      "C:\\Users\\lklin\\AppData\\Roaming\\Python\\Python312\\site-packages\\pytrends\\request.py:260: FutureWarning: Downcasting object dtype arrays on .fillna, .ffill, .bfill is deprecated and will change in a future version. Call result.infer_objects(copy=False) instead. To opt-in to the future behavior, set `pd.set_option('future.no_silent_downcasting', True)`\n",
      "  df = df.fillna(False)\n"
     ]
    },
    {
     "name": "stdout",
     "output_type": "stream",
     "text": [
      "Saved data\\bp\\bp_images.csv\n",
      "Saved image\\bp_search_trends.png\n",
      "Fetching data for: cop\n"
     ]
    },
    {
     "name": "stderr",
     "output_type": "stream",
     "text": [
      "C:\\Users\\lklin\\AppData\\Roaming\\Python\\Python312\\site-packages\\pytrends\\request.py:260: FutureWarning: Downcasting object dtype arrays on .fillna, .ffill, .bfill is deprecated and will change in a future version. Call result.infer_objects(copy=False) instead. To opt-in to the future behavior, set `pd.set_option('future.no_silent_downcasting', True)`\n",
      "  df = df.fillna(False)\n"
     ]
    },
    {
     "name": "stdout",
     "output_type": "stream",
     "text": [
      "Saved data\\cop\\cop_web.csv\n"
     ]
    },
    {
     "name": "stderr",
     "output_type": "stream",
     "text": [
      "C:\\Users\\lklin\\AppData\\Roaming\\Python\\Python312\\site-packages\\pytrends\\request.py:260: FutureWarning: Downcasting object dtype arrays on .fillna, .ffill, .bfill is deprecated and will change in a future version. Call result.infer_objects(copy=False) instead. To opt-in to the future behavior, set `pd.set_option('future.no_silent_downcasting', True)`\n",
      "  df = df.fillna(False)\n"
     ]
    },
    {
     "name": "stdout",
     "output_type": "stream",
     "text": [
      "Saved data\\cop\\cop_youtube.csv\n"
     ]
    },
    {
     "name": "stderr",
     "output_type": "stream",
     "text": [
      "C:\\Users\\lklin\\AppData\\Roaming\\Python\\Python312\\site-packages\\pytrends\\request.py:260: FutureWarning: Downcasting object dtype arrays on .fillna, .ffill, .bfill is deprecated and will change in a future version. Call result.infer_objects(copy=False) instead. To opt-in to the future behavior, set `pd.set_option('future.no_silent_downcasting', True)`\n",
      "  df = df.fillna(False)\n"
     ]
    },
    {
     "name": "stdout",
     "output_type": "stream",
     "text": [
      "Saved data\\cop\\cop_news.csv\n"
     ]
    },
    {
     "name": "stderr",
     "output_type": "stream",
     "text": [
      "C:\\Users\\lklin\\AppData\\Roaming\\Python\\Python312\\site-packages\\pytrends\\request.py:260: FutureWarning: Downcasting object dtype arrays on .fillna, .ffill, .bfill is deprecated and will change in a future version. Call result.infer_objects(copy=False) instead. To opt-in to the future behavior, set `pd.set_option('future.no_silent_downcasting', True)`\n",
      "  df = df.fillna(False)\n"
     ]
    },
    {
     "name": "stdout",
     "output_type": "stream",
     "text": [
      "Saved data\\cop\\cop_images.csv\n",
      "Saved image\\cop_search_trends.png\n",
      "Fetching data for: coca_cola\n"
     ]
    },
    {
     "name": "stderr",
     "output_type": "stream",
     "text": [
      "C:\\Users\\lklin\\AppData\\Roaming\\Python\\Python312\\site-packages\\pytrends\\request.py:260: FutureWarning: Downcasting object dtype arrays on .fillna, .ffill, .bfill is deprecated and will change in a future version. Call result.infer_objects(copy=False) instead. To opt-in to the future behavior, set `pd.set_option('future.no_silent_downcasting', True)`\n",
      "  df = df.fillna(False)\n"
     ]
    },
    {
     "name": "stdout",
     "output_type": "stream",
     "text": [
      "Saved data\\coca_cola\\coca_cola_web.csv\n"
     ]
    },
    {
     "name": "stderr",
     "output_type": "stream",
     "text": [
      "C:\\Users\\lklin\\AppData\\Roaming\\Python\\Python312\\site-packages\\pytrends\\request.py:260: FutureWarning: Downcasting object dtype arrays on .fillna, .ffill, .bfill is deprecated and will change in a future version. Call result.infer_objects(copy=False) instead. To opt-in to the future behavior, set `pd.set_option('future.no_silent_downcasting', True)`\n",
      "  df = df.fillna(False)\n"
     ]
    },
    {
     "name": "stdout",
     "output_type": "stream",
     "text": [
      "Saved data\\coca_cola\\coca_cola_youtube.csv\n"
     ]
    },
    {
     "name": "stderr",
     "output_type": "stream",
     "text": [
      "C:\\Users\\lklin\\AppData\\Roaming\\Python\\Python312\\site-packages\\pytrends\\request.py:260: FutureWarning: Downcasting object dtype arrays on .fillna, .ffill, .bfill is deprecated and will change in a future version. Call result.infer_objects(copy=False) instead. To opt-in to the future behavior, set `pd.set_option('future.no_silent_downcasting', True)`\n",
      "  df = df.fillna(False)\n"
     ]
    },
    {
     "name": "stdout",
     "output_type": "stream",
     "text": [
      "Saved data\\coca_cola\\coca_cola_news.csv\n"
     ]
    },
    {
     "name": "stderr",
     "output_type": "stream",
     "text": [
      "C:\\Users\\lklin\\AppData\\Roaming\\Python\\Python312\\site-packages\\pytrends\\request.py:260: FutureWarning: Downcasting object dtype arrays on .fillna, .ffill, .bfill is deprecated and will change in a future version. Call result.infer_objects(copy=False) instead. To opt-in to the future behavior, set `pd.set_option('future.no_silent_downcasting', True)`\n",
      "  df = df.fillna(False)\n"
     ]
    },
    {
     "name": "stdout",
     "output_type": "stream",
     "text": [
      "Saved data\\coca_cola\\coca_cola_images.csv\n",
      "Saved image\\coca_cola_search_trends.png\n",
      "Fetching data for: pepsi\n"
     ]
    },
    {
     "name": "stderr",
     "output_type": "stream",
     "text": [
      "C:\\Users\\lklin\\AppData\\Roaming\\Python\\Python312\\site-packages\\pytrends\\request.py:260: FutureWarning: Downcasting object dtype arrays on .fillna, .ffill, .bfill is deprecated and will change in a future version. Call result.infer_objects(copy=False) instead. To opt-in to the future behavior, set `pd.set_option('future.no_silent_downcasting', True)`\n",
      "  df = df.fillna(False)\n"
     ]
    },
    {
     "name": "stdout",
     "output_type": "stream",
     "text": [
      "Saved data\\pepsi\\pepsi_web.csv\n"
     ]
    },
    {
     "name": "stderr",
     "output_type": "stream",
     "text": [
      "C:\\Users\\lklin\\AppData\\Roaming\\Python\\Python312\\site-packages\\pytrends\\request.py:260: FutureWarning: Downcasting object dtype arrays on .fillna, .ffill, .bfill is deprecated and will change in a future version. Call result.infer_objects(copy=False) instead. To opt-in to the future behavior, set `pd.set_option('future.no_silent_downcasting', True)`\n",
      "  df = df.fillna(False)\n"
     ]
    },
    {
     "name": "stdout",
     "output_type": "stream",
     "text": [
      "Saved data\\pepsi\\pepsi_youtube.csv\n"
     ]
    },
    {
     "name": "stderr",
     "output_type": "stream",
     "text": [
      "C:\\Users\\lklin\\AppData\\Roaming\\Python\\Python312\\site-packages\\pytrends\\request.py:260: FutureWarning: Downcasting object dtype arrays on .fillna, .ffill, .bfill is deprecated and will change in a future version. Call result.infer_objects(copy=False) instead. To opt-in to the future behavior, set `pd.set_option('future.no_silent_downcasting', True)`\n",
      "  df = df.fillna(False)\n"
     ]
    },
    {
     "name": "stdout",
     "output_type": "stream",
     "text": [
      "Saved data\\pepsi\\pepsi_news.csv\n",
      "Saved data\\pepsi\\pepsi_images.csv\n",
      "Saved image\\pepsi_search_trends.png\n"
     ]
    },
    {
     "name": "stderr",
     "output_type": "stream",
     "text": [
      "C:\\Users\\lklin\\AppData\\Roaming\\Python\\Python312\\site-packages\\pytrends\\request.py:260: FutureWarning: Downcasting object dtype arrays on .fillna, .ffill, .bfill is deprecated and will change in a future version. Call result.infer_objects(copy=False) instead. To opt-in to the future behavior, set `pd.set_option('future.no_silent_downcasting', True)`\n",
      "  df = df.fillna(False)\n"
     ]
    }
   ],
   "source": [
    "import os\n",
    "import matplotlib.pyplot as plt\n",
    "from pytrends.request import TrendReq\n",
    "from minio import Minio\n",
    "from minio.error import S3Error\n",
    "\n",
    "# Companies and platforms data\n",
    "companies = {\n",
    "    'apple': ['Apple Inc.', 'Apple', 'AAPL', 'Apple Corporation'],\n",
    "    'microsoft': ['Microsoft', 'MSFT', 'Microsoft Corporation'],\n",
    "    'nvda': ['Nvidia', 'NVDA', 'Nvidia Corporation'],\n",
    "    'exxon': ['Exxon Mobil', 'Exxon', 'Exxon Mobil Corporation'],\n",
    "    'chevron': ['Chevron', 'Chevron Corporation'],\n",
    "    'bp': ['BP', 'BP plc'],\n",
    "    'cop': ['ConocoPhillips', 'ConocoPhillips Company'],\n",
    "    'coca_cola': ['Coca-Cola', 'Coca-Cola Company', 'KO'],\n",
    "    'pepsi': ['Pepsi', 'PepsiCo', 'PepsiCo Inc.'],\n",
    "}\n",
    "\n",
    "platforms = {\n",
    "    'web': '',\n",
    "    'youtube': 'youtube',\n",
    "    'news': 'news',\n",
    "    'images': 'images',\n",
    "}\n",
    "\n",
    "# Initialize Pytrends\n",
    "pytrends = TrendReq(hl='en-US', tz=360)\n",
    "\n",
    "output_dir = 'data'\n",
    "os.makedirs(output_dir, exist_ok=True)\n",
    "image_dir = 'image'\n",
    "os.makedirs(image_dir, exist_ok=True)\n",
    "\n",
    "# Loop through each company and platform to get trends data\n",
    "for company, keywords in companies.items():\n",
    "    print(f\"Fetching data for: {company}\")\n",
    "    \n",
    "    # Create a directory for the company\n",
    "    company_dir = os.path.join(output_dir, company)\n",
    "    os.makedirs(company_dir, exist_ok=True)\n",
    "\n",
    "    trends_data = {}  # Store trends for all platforms\n",
    "\n",
    "    # Fetch trends data for each platform\n",
    "    for platform, gprop in platforms.items():\n",
    "        pytrends.build_payload(kw_list=keywords, timeframe='2019-01-01 2024-10-15', geo='', gprop=gprop)\n",
    "        data = pytrends.interest_over_time()\n",
    "\n",
    "        # print(f\"{platform} data:\\n\", data[keywords])\n",
    "\n",
    "        data.fillna(0, inplace=True)\n",
    "\n",
    "        # Sum all keyword trends for each platform\n",
    "        trends_data[platform] = data[keywords].sum(axis=1)\n",
    "\n",
    "        # Save platform data to CSV\n",
    "        csv_path = os.path.join(company_dir, f'{company}_{platform}.csv')\n",
    "        data.to_csv(csv_path)\n",
    "        print(f\"Saved {csv_path}\")\n",
    "\n",
    "    # Plot trends for each platform\n",
    "    plt.figure(figsize=(12, 8))\n",
    "    for platform, trend in trends_data.items():\n",
    "        plt.plot(trend.index, trend, label=platform)\n",
    "\n",
    "    plt.title(f'Search Trends for {company} (2019-2024)')\n",
    "    plt.xlabel('Date')\n",
    "    plt.ylabel('Search Interest')\n",
    "    plt.legend(loc='upper left')\n",
    "    plt.xticks(rotation=45)\n",
    "    plt.tight_layout()\n",
    "    plt.grid()\n",
    "\n",
    "    # Save the plot as an image\n",
    "    image_path = os.path.join(image_dir, f'{company}_search_trends.png')\n",
    "    plt.savefig(image_path)\n",
    "    plt.close()\n",
    "    print(f\"Saved {image_path}\")"
   ]
  },
  {
   "cell_type": "code",
   "execution_count": 13,
   "id": "82851c27",
   "metadata": {},
   "outputs": [
    {
     "name": "stdout",
     "output_type": "stream",
     "text": [
      "Uploaded 'data\\apple\\apple_images.csv' to 'google-trend/data/apple/apple_images.csv'\n",
      "Uploaded 'data\\apple\\apple_news.csv' to 'google-trend/data/apple/apple_news.csv'\n",
      "Uploaded 'data\\apple\\apple_web.csv' to 'google-trend/data/apple/apple_web.csv'\n",
      "Uploaded 'data\\apple\\apple_youtube.csv' to 'google-trend/data/apple/apple_youtube.csv'\n",
      "Uploaded 'data\\bp\\bp_images.csv' to 'google-trend/data/bp/bp_images.csv'\n",
      "Uploaded 'data\\bp\\bp_news.csv' to 'google-trend/data/bp/bp_news.csv'\n",
      "Uploaded 'data\\bp\\bp_web.csv' to 'google-trend/data/bp/bp_web.csv'\n",
      "Uploaded 'data\\bp\\bp_youtube.csv' to 'google-trend/data/bp/bp_youtube.csv'\n",
      "Uploaded 'data\\chevron\\chevron_images.csv' to 'google-trend/data/chevron/chevron_images.csv'\n",
      "Uploaded 'data\\chevron\\chevron_news.csv' to 'google-trend/data/chevron/chevron_news.csv'\n",
      "Uploaded 'data\\chevron\\chevron_web.csv' to 'google-trend/data/chevron/chevron_web.csv'\n",
      "Uploaded 'data\\chevron\\chevron_youtube.csv' to 'google-trend/data/chevron/chevron_youtube.csv'\n",
      "Uploaded 'data\\coca_cola\\coca_cola_images.csv' to 'google-trend/data/coca_cola/coca_cola_images.csv'\n",
      "Uploaded 'data\\coca_cola\\coca_cola_news.csv' to 'google-trend/data/coca_cola/coca_cola_news.csv'\n",
      "Uploaded 'data\\coca_cola\\coca_cola_web.csv' to 'google-trend/data/coca_cola/coca_cola_web.csv'\n",
      "Uploaded 'data\\coca_cola\\coca_cola_youtube.csv' to 'google-trend/data/coca_cola/coca_cola_youtube.csv'\n",
      "Uploaded 'data\\cop\\cop_images.csv' to 'google-trend/data/cop/cop_images.csv'\n",
      "Uploaded 'data\\cop\\cop_news.csv' to 'google-trend/data/cop/cop_news.csv'\n",
      "Uploaded 'data\\cop\\cop_web.csv' to 'google-trend/data/cop/cop_web.csv'\n",
      "Uploaded 'data\\cop\\cop_youtube.csv' to 'google-trend/data/cop/cop_youtube.csv'\n",
      "Uploaded 'data\\exxon\\exxon_images.csv' to 'google-trend/data/exxon/exxon_images.csv'\n",
      "Uploaded 'data\\exxon\\exxon_news.csv' to 'google-trend/data/exxon/exxon_news.csv'\n",
      "Uploaded 'data\\exxon\\exxon_web.csv' to 'google-trend/data/exxon/exxon_web.csv'\n",
      "Uploaded 'data\\exxon\\exxon_youtube.csv' to 'google-trend/data/exxon/exxon_youtube.csv'\n",
      "Uploaded 'data\\google-trend\\search-trend.ipynb' to 'google-trend/data/google-trend/search-trend.ipynb'\n",
      "Uploaded 'data\\microsoft\\microsoft_images.csv' to 'google-trend/data/microsoft/microsoft_images.csv'\n",
      "Uploaded 'data\\microsoft\\microsoft_news.csv' to 'google-trend/data/microsoft/microsoft_news.csv'\n",
      "Uploaded 'data\\microsoft\\microsoft_web.csv' to 'google-trend/data/microsoft/microsoft_web.csv'\n",
      "Uploaded 'data\\microsoft\\microsoft_youtube.csv' to 'google-trend/data/microsoft/microsoft_youtube.csv'\n",
      "Uploaded 'data\\nvda\\nvda_images.csv' to 'google-trend/data/nvda/nvda_images.csv'\n",
      "Uploaded 'data\\nvda\\nvda_news.csv' to 'google-trend/data/nvda/nvda_news.csv'\n",
      "Uploaded 'data\\nvda\\nvda_web.csv' to 'google-trend/data/nvda/nvda_web.csv'\n",
      "Uploaded 'data\\nvda\\nvda_youtube.csv' to 'google-trend/data/nvda/nvda_youtube.csv'\n",
      "Uploaded 'data\\pepsi\\pepsi_images.csv' to 'google-trend/data/pepsi/pepsi_images.csv'\n",
      "Uploaded 'data\\pepsi\\pepsi_news.csv' to 'google-trend/data/pepsi/pepsi_news.csv'\n",
      "Uploaded 'data\\pepsi\\pepsi_web.csv' to 'google-trend/data/pepsi/pepsi_web.csv'\n",
      "Uploaded 'data\\pepsi\\pepsi_youtube.csv' to 'google-trend/data/pepsi/pepsi_youtube.csv'\n",
      "Uploaded 'data\\processed\\README.md' to 'google-trend/data/processed/README.md'\n",
      "Uploaded 'data\\raw\\README.md' to 'google-trend/data/raw/README.md'\n",
      "Uploaded 'data\\scraping\\media-scraping.ipynb' to 'google-trend/data/scraping/media-scraping.ipynb'\n",
      "Uploaded 'data\\scraping\\README.md' to 'google-trend/data/scraping/README.md'\n",
      "Uploaded 'data\\scraping\\test_social_media_scraping.ipynb' to 'google-trend/data/scraping/test_social_media_scraping.ipynb'\n",
      "Uploaded 'data\\scraping\\users\\elonmusk.csv' to 'google-trend/data/scraping/users/elonmusk.csv'\n",
      "Uploaded 'data\\temp\\README.md' to 'google-trend/data/temp/README.md'\n",
      "Uploaded 'image\\apple_search_trends.png' to 'google-trend/image/apple_search_trends.png'\n",
      "Uploaded 'image\\bp_search_trends.png' to 'google-trend/image/bp_search_trends.png'\n",
      "Uploaded 'image\\chevron_search_trends.png' to 'google-trend/image/chevron_search_trends.png'\n",
      "Uploaded 'image\\coca_cola_search_trends.png' to 'google-trend/image/coca_cola_search_trends.png'\n",
      "Uploaded 'image\\cop_search_trends.png' to 'google-trend/image/cop_search_trends.png'\n",
      "Uploaded 'image\\exxon_search_trends.png' to 'google-trend/image/exxon_search_trends.png'\n",
      "Uploaded 'image\\microsoft_search_trends.png' to 'google-trend/image/microsoft_search_trends.png'\n",
      "Uploaded 'image\\nvda_search_trends.png' to 'google-trend/image/nvda_search_trends.png'\n",
      "Uploaded 'image\\pepsi_search_trends.png' to 'google-trend/image/pepsi_search_trends.png'\n",
      "All files uploaded to MinIO under 'google-trend' folder.\n"
     ]
    }
   ],
   "source": [
    "bucket_name = \"eda\"\n",
    "\n",
    "def upload_directory_to_minio(local_path, bucket, minio_path=\"\"):\n",
    "    for root, _, files in os.walk(local_path):\n",
    "        for file in files:\n",
    "            local_file = os.path.join(root, file)\n",
    "            relative_path = os.path.relpath(local_file, local_path)\n",
    "            minio_file_path = os.path.join(minio_path, relative_path).replace(\"\\\\\", \"/\")\n",
    "\n",
    "            try:\n",
    "                client.fput_object(bucket, minio_file_path, local_file)\n",
    "                print(f\"Uploaded '{local_file}' to '{minio_file_path}'\")\n",
    "            except S3Error as e:\n",
    "                print(f\"Failed to upload '{local_file}': {e}\")\n",
    "\n",
    "# Upload 'data' and 'image' directories to MinIO under the 'google-trend' folder\n",
    "upload_directory_to_minio(output_dir, bucket_name, 'google-trend/data')\n",
    "upload_directory_to_minio(image_dir, bucket_name, 'google-trend/image')\n",
    "\n",
    "print(\"All files uploaded to MinIO under 'google-trend' folder.\")\n"
   ]
  },
  {
   "cell_type": "markdown",
   "id": "cf2071b3-1975-4062-934e-835bef6833af",
   "metadata": {},
   "source": [
    "----------------------"
   ]
  },
  {
   "cell_type": "markdown",
   "id": "b979c726-1198-4463-a966-edf552047cf0",
   "metadata": {},
   "source": [
    "## Data Processing"
   ]
  },
  {
   "cell_type": "code",
   "execution_count": 50,
   "id": "998b5b96-800d-4e9c-9bcc-f40500aff3fa",
   "metadata": {},
   "outputs": [],
   "source": [
    "# resp = client.get_object(\"eda\", \"gdelt/2019/01/01.export.CSV.zip\")\n",
    "# from io import BytesIO\n",
    "\n",
    "# df = pd.read_csv(BytesIO(resp.data))"
   ]
  },
  {
   "cell_type": "code",
   "execution_count": 49,
   "id": "7985e490-be6a-4b06-810f-9df637c474d8",
   "metadata": {},
   "outputs": [],
   "source": [
    "# df = pd.read_csv(urlopen(\"http://data.gdeltproject.org/events/20{0}{1}{2}.export.CSV.zip\".format(19,'01','01'),))"
   ]
  },
  {
   "cell_type": "markdown",
   "id": "a21664d7-a2d7-402b-b878-f60dff89e1ee",
   "metadata": {},
   "source": [
    "----------------------"
   ]
  },
  {
   "cell_type": "markdown",
   "id": "bd06d8da-17e0-4922-a602-d4dbe2916d73",
   "metadata": {},
   "source": [
    "## Data Analysis"
   ]
  },
  {
   "cell_type": "code",
   "execution_count": null,
   "id": "87013a83-952f-4452-8671-8f2397d5b25d",
   "metadata": {},
   "outputs": [],
   "source": []
  }
 ],
 "metadata": {
  "kernelspec": {
   "display_name": "Python 3",
   "language": "python",
   "name": "python3"
  },
  "language_info": {
   "codemirror_mode": {
    "name": "ipython",
    "version": 3
   },
   "file_extension": ".py",
   "mimetype": "text/x-python",
   "name": "python",
   "nbconvert_exporter": "python",
   "pygments_lexer": "ipython3",
   "version": "3.12.2"
  }
 },
 "nbformat": 4,
 "nbformat_minor": 5
}
