{
 "cells": [
  {
   "cell_type": "markdown",
   "id": "044d7336-876c-4286-8225-8cbd61577b3f",
   "metadata": {},
   "source": [
    "# Data Engineering EDA Project"
   ]
  },
  {
   "cell_type": "markdown",
   "id": "b651974d-c89f-4ffa-801d-584789da96d9",
   "metadata": {},
   "source": [
    "By Aommy, Austin, Ling, Tath (yippee)\n",
    "\n",
    "-----------------------"
   ]
  },
  {
   "cell_type": "markdown",
   "id": "4d16f69d-d599-45b3-a3f4-8fd91d3bb183",
   "metadata": {},
   "source": [
    "## Installing Dependencies"
   ]
  },
  {
   "cell_type": "markdown",
   "id": "fffb29b2-96bf-4a84-be9e-a351af7806d9",
   "metadata": {},
   "source": [
    "### Minio Object Store dependencies\n",
    "\n",
    "1. Install minio cli if not already installed.\n",
    "2. Create client\n",
    "3. Make bucket (if needed)"
   ]
  },
  {
   "cell_type": "code",
   "execution_count": 10,
   "id": "3d6e0bf2-2517-4f44-be01-b05838be2107",
   "metadata": {},
   "outputs": [],
   "source": [
    "! pip install minio --quiet"
   ]
  },
  {
   "cell_type": "code",
   "execution_count": 2,
   "id": "fc89997d-97e2-48c0-9bc2-02392b4097c6",
   "metadata": {},
   "outputs": [
    {
     "name": "stdout",
     "output_type": "stream",
     "text": [
      "Bucket exists.\n"
     ]
    }
   ],
   "source": [
    "from minio import Minio\n",
    "\n",
    "# Create client with access and secret key.\n",
    "# client = Minio(\"s3.amazonaws.com\", \"ACCESS-KEY\", \"SECRET-KEY\")\n",
    "\n",
    "# Create client with access key and secret key with specific region.\n",
    "client = Minio(\n",
    "    \"localhost:9000\",\n",
    "    access_key=\"ROOTNAME\",\n",
    "    secret_key=\"CHANGEME123\",\n",
    "    secure=False\n",
    ")\n",
    "\n",
    "if client.bucket_exists(\"eda\"):\n",
    "    print(\"Bucket exists.\")\n",
    "else:\n",
    "    client.make_bucket(\"eda\")\n",
    "    print(\"Bucket created.\")"
   ]
  },
  {
   "cell_type": "markdown",
   "id": "5926ca24-13eb-49e8-9fa1-9ac9766cc68b",
   "metadata": {},
   "source": [
    "## Importing libraries"
   ]
  },
  {
   "cell_type": "code",
   "execution_count": 23,
   "id": "c171e235-c19d-4ed8-a91e-34ec8093708d",
   "metadata": {},
   "outputs": [],
   "source": [
    "import pandas as pd\n",
    "import seaborn as sb\n",
    "import matplotlib.pyplot as plt\n",
    "\n",
    "import io\n",
    "from urllib.request import urlopen"
   ]
  },
  {
   "cell_type": "code",
   "execution_count": 7,
   "id": "bc6be77b-bfa2-4b83-b241-0307b77acd4d",
   "metadata": {},
   "outputs": [],
   "source": [
    "!pip install --quiet yfinance --upgrade --no-cache-dir"
   ]
  },
  {
   "cell_type": "markdown",
   "id": "4963f7b8-244c-4cd0-b604-474a8d409ca1",
   "metadata": {},
   "source": [
    "---------------------"
   ]
  },
  {
   "cell_type": "markdown",
   "id": "c5d74562-5f18-48c9-83a1-d001b1b67a42",
   "metadata": {},
   "source": [
    "## Data Collection"
   ]
  },
  {
   "cell_type": "markdown",
   "id": "abe33d20-323f-4209-b33e-e0572637491d",
   "metadata": {},
   "source": [
    "### Data from Global Events\n",
    "\n",
    "Installing data from http://data.gdeltproject.org/events/index.html for global event data!"
   ]
  },
  {
   "cell_type": "code",
   "execution_count": 5,
   "id": "0040aeff-ceac-4718-a4b2-65c5a2fe2e4d",
   "metadata": {
    "scrolled": true
   },
   "outputs": [
    {
     "name": "stdout",
     "output_type": "stream",
     "text": [
      "File doesn't exist!\n",
      "No file to download!\n",
      "File doesn't exist!\n",
      "No file to download!\n",
      "File doesn't exist!\n",
      "No file to download!\n",
      "File doesn't exist!\n",
      "No file to download!\n",
      "File doesn't exist!\n",
      "No file to download!\n",
      "File doesn't exist!\n",
      "No file to download!\n",
      "File doesn't exist!\n",
      "No file to download!\n",
      "File doesn't exist!\n",
      "No file to download!\n",
      "File doesn't exist!\n",
      "No file to download!\n",
      "File doesn't exist!\n",
      "Uploading file!\n",
      "created gdelt/2020/04/09.export.CSV.zip object; etag: 5cf7553a7e25189741f5f55711b3a5f2, version-id: None\n",
      "File doesn't exist!\n",
      "No file to download!\n",
      "File doesn't exist!\n",
      "No file to download!\n",
      "File doesn't exist!\n",
      "No file to download!\n",
      "File doesn't exist!\n",
      "No file to download!\n",
      "File doesn't exist!\n",
      "No file to download!\n",
      "File doesn't exist!\n",
      "No file to download!\n",
      "File doesn't exist!\n",
      "No file to download!\n",
      "File doesn't exist!\n",
      "No file to download!\n",
      "File doesn't exist!\n",
      "No file to download!\n",
      "File doesn't exist!\n",
      "No file to download!\n",
      "File doesn't exist!\n",
      "No file to download!\n",
      "File doesn't exist!\n",
      "No file to download!\n",
      "File doesn't exist!\n",
      "No file to download!\n",
      "File doesn't exist!\n",
      "No file to download!\n",
      "File doesn't exist!\n",
      "No file to download!\n",
      "File doesn't exist!\n",
      "No file to download!\n",
      "File doesn't exist!\n",
      "Uploading file!\n",
      "created gdelt/2022/08/19.export.CSV.zip object; etag: 0b6a5b7a82960a4348ff9d89e54a1448, version-id: None\n",
      "File doesn't exist!\n",
      "No file to download!\n",
      "File doesn't exist!\n",
      "No file to download!\n",
      "File doesn't exist!\n",
      "No file to download!\n",
      "File doesn't exist!\n",
      "No file to download!\n",
      "File doesn't exist!\n",
      "No file to download!\n",
      "File doesn't exist!\n",
      "No file to download!\n",
      "File doesn't exist!\n",
      "No file to download!\n",
      "File doesn't exist!\n",
      "No file to download!\n",
      "File doesn't exist!\n",
      "No file to download!\n",
      "File doesn't exist!\n",
      "No file to download!\n",
      "File doesn't exist!\n",
      "No file to download!\n",
      "File doesn't exist!\n",
      "No file to download!\n",
      "File doesn't exist!\n",
      "No file to download!\n",
      "File doesn't exist!\n",
      "No file to download!\n",
      "File doesn't exist!\n",
      "No file to download!\n",
      "File doesn't exist!\n",
      "No file to download!\n",
      "File doesn't exist!\n",
      "No file to download!\n",
      "File doesn't exist!\n",
      "No file to download!\n",
      "File doesn't exist!\n",
      "No file to download!\n",
      "File doesn't exist!\n",
      "No file to download!\n",
      "File doesn't exist!\n",
      "No file to download!\n",
      "File doesn't exist!\n",
      "No file to download!\n",
      "File doesn't exist!\n",
      "No file to download!\n",
      "File doesn't exist!\n",
      "No file to download!\n",
      "File doesn't exist!\n",
      "No file to download!\n",
      "File doesn't exist!\n",
      "No file to download!\n",
      "File doesn't exist!\n",
      "No file to download!\n",
      "File doesn't exist!\n",
      "No file to download!\n",
      "File doesn't exist!\n",
      "No file to download!\n",
      "File doesn't exist!\n",
      "No file to download!\n",
      "File doesn't exist!\n",
      "No file to download!\n",
      "File doesn't exist!\n",
      "No file to download!\n",
      "File doesn't exist!\n",
      "No file to download!\n",
      "File doesn't exist!\n",
      "No file to download!\n",
      "File doesn't exist!\n",
      "No file to download!\n",
      "File doesn't exist!\n",
      "No file to download!\n",
      "File doesn't exist!\n",
      "No file to download!\n",
      "File doesn't exist!\n",
      "No file to download!\n",
      "File doesn't exist!\n",
      "No file to download!\n",
      "File doesn't exist!\n",
      "No file to download!\n",
      "File doesn't exist!\n",
      "No file to download!\n",
      "File doesn't exist!\n",
      "No file to download!\n",
      "File doesn't exist!\n",
      "No file to download!\n",
      "File doesn't exist!\n",
      "No file to download!\n",
      "File doesn't exist!\n",
      "No file to download!\n",
      "File doesn't exist!\n",
      "No file to download!\n",
      "File doesn't exist!\n",
      "No file to download!\n",
      "File doesn't exist!\n",
      "No file to download!\n",
      "File doesn't exist!\n",
      "No file to download!\n",
      "File doesn't exist!\n",
      "No file to download!\n",
      "File doesn't exist!\n",
      "No file to download!\n",
      "File doesn't exist!\n",
      "No file to download!\n",
      "File doesn't exist!\n",
      "No file to download!\n",
      "File doesn't exist!\n",
      "No file to download!\n",
      "File doesn't exist!\n",
      "No file to download!\n",
      "File doesn't exist!\n",
      "No file to download!\n",
      "File doesn't exist!\n",
      "No file to download!\n",
      "File doesn't exist!\n",
      "No file to download!\n",
      "File doesn't exist!\n",
      "No file to download!\n",
      "File doesn't exist!\n",
      "No file to download!\n",
      "File doesn't exist!\n",
      "No file to download!\n",
      "File doesn't exist!\n",
      "No file to download!\n",
      "File doesn't exist!\n",
      "No file to download!\n",
      "File doesn't exist!\n",
      "No file to download!\n",
      "File doesn't exist!\n",
      "No file to download!\n",
      "File doesn't exist!\n",
      "No file to download!\n",
      "File doesn't exist!\n",
      "No file to download!\n",
      "File doesn't exist!\n",
      "No file to download!\n",
      "File doesn't exist!\n",
      "No file to download!\n",
      "File doesn't exist!\n",
      "No file to download!\n",
      "File doesn't exist!\n",
      "No file to download!\n",
      "File doesn't exist!\n",
      "No file to download!\n",
      "File doesn't exist!\n",
      "No file to download!\n",
      "File doesn't exist!\n",
      "No file to download!\n",
      "File doesn't exist!\n",
      "No file to download!\n",
      "File doesn't exist!\n",
      "No file to download!\n",
      "File doesn't exist!\n",
      "No file to download!\n",
      "File doesn't exist!\n",
      "No file to download!\n",
      "File doesn't exist!\n",
      "No file to download!\n",
      "File doesn't exist!\n",
      "No file to download!\n",
      "File doesn't exist!\n",
      "No file to download!\n",
      "File doesn't exist!\n",
      "No file to download!\n",
      "File doesn't exist!\n",
      "No file to download!\n",
      "File doesn't exist!\n",
      "No file to download!\n",
      "File doesn't exist!\n",
      "No file to download!\n",
      "File doesn't exist!\n",
      "No file to download!\n",
      "File doesn't exist!\n",
      "No file to download!\n",
      "File doesn't exist!\n",
      "No file to download!\n",
      "File doesn't exist!\n",
      "No file to download!\n",
      "File doesn't exist!\n",
      "No file to download!\n",
      "File doesn't exist!\n",
      "No file to download!\n",
      "File doesn't exist!\n",
      "No file to download!\n",
      "File doesn't exist!\n",
      "No file to download!\n",
      "File doesn't exist!\n",
      "No file to download!\n"
     ]
    }
   ],
   "source": [
    "for y in range(19, 25):\n",
    "    for m in range(1, 13):\n",
    "        if m < 10:\n",
    "            m = \"0\" + str(m)\n",
    "        for d in range(1, 32):\n",
    "            if d < 10:\n",
    "                d = \"0\" + str(d)\n",
    "            try:\n",
    "                response = client.get_object(\"eda\", \"gdelt/20{0}/{1}/{2}.export.CSV.zip\".format(y,m,d))\n",
    "                # Read data from response.\n",
    "            except:\n",
    "                print(\"File doesn't exist!\")\n",
    "                try:\n",
    "                    data = urlopen(\n",
    "                        \"http://data.gdeltproject.org/events/20{0}{1}{2}.export.CSV.zip\".format(y,m,d),\n",
    "                    )\n",
    "                    print(\"Uploading file!\")\n",
    "                    result = client.put_object(\n",
    "                        \"eda\", \"gdelt/20{0}/{1}/{2}.export.CSV.zip\".format(y,m,d), data, length=-1, part_size=10*1024*1024,\n",
    "                    )\n",
    "                    print(\n",
    "                        \"created {0} object; etag: {1}, version-id: {2}\".format(\n",
    "                            result.object_name, result.etag, result.version_id,\n",
    "                        ),\n",
    "                    )\n",
    "                except:\n",
    "                    print(\"No file to download!\")\n",
    "            finally:\n",
    "                response.close()\n",
    "                response.release_conn()"
   ]
  },
  {
   "cell_type": "markdown",
   "id": "fc89f093-fe2e-4cd3-9d89-e4b25ec352da",
   "metadata": {},
   "source": [
    "### Data from YahooFinance"
   ]
  },
  {
   "cell_type": "code",
   "execution_count": 30,
   "id": "c2ad4936-1ff5-482d-84c6-6e9ebf58d1ae",
   "metadata": {},
   "outputs": [],
   "source": [
    "import yfinance as yf\n",
    "\n",
    "companies = {\n",
    "    \"tech\": ['AAPL', 'MSFT', 'NVDA'],\n",
    "    \"energy\": ['XOM', 'CVX', 'BP', 'COP'],\n",
    "    \"food\": ['KO', 'PEP', 'PG'],\n",
    "    \"health\": ['JNJ', 'PFE', 'ABBV'],\n",
    "    \"finance\": ['JPM', 'V', 'MA'],\n",
    "    \"agriculture\": ['DE', 'CTVA', 'ADM'],\n",
    "    \"telecom\": ['T', 'VZ', 'TMUS'],\n",
    "    \"materials\": ['DOW', 'NEM', 'FCX']\n",
    "}"
   ]
  },
  {
   "cell_type": "code",
   "execution_count": 37,
   "id": "bfb67386-e852-4374-b895-f2dc379d3087",
   "metadata": {},
   "outputs": [
    {
     "name": "stdout",
     "output_type": "stream",
     "text": [
      "No changes to make.\n"
     ]
    }
   ],
   "source": [
    "uploaded = False\n",
    "for sector in companies:\n",
    "    for stock in companies[sector]:\n",
    "        try:\n",
    "            response = client.get_object(\"eda\", \"yfinance/{0}/{1}.snappy.parquet\".format(sector,stock))\n",
    "            # Read data from response.\n",
    "        except:\n",
    "            print(\"File doesn't exist!\")\n",
    "            data = yf.download(stock, start=\"2019-01-01\", end=\"2024-10-15\", progress=False)\n",
    "            result = client.put_object(\n",
    "                \"eda\", \"yfinance/{0}/{1}.snappy.parquet\".format(sector,stock), io.BytesIO(data.to_parquet(compression='snappy')), length=-1, part_size=10*1024*1024,\n",
    "            )\n",
    "            print(\n",
    "                \"created {0} object; etag: {1}, version-id: {2}\".format(\n",
    "                    result.object_name, result.etag, result.version_id,\n",
    "                ),\n",
    "            )\n",
    "            uploaded = True\n",
    "        finally:\n",
    "            response.close()\n",
    "            response.release_conn()\n",
    "if (not uploaded):\n",
    "    print(\"No changes to make.\")"
   ]
  },
  {
   "cell_type": "markdown",
   "id": "cf2071b3-1975-4062-934e-835bef6833af",
   "metadata": {},
   "source": [
    "----------------------"
   ]
  },
  {
   "cell_type": "markdown",
   "id": "b979c726-1198-4463-a966-edf552047cf0",
   "metadata": {},
   "source": [
    "## Data Processing"
   ]
  },
  {
   "cell_type": "code",
   "execution_count": 50,
   "id": "998b5b96-800d-4e9c-9bcc-f40500aff3fa",
   "metadata": {},
   "outputs": [],
   "source": [
    "# resp = client.get_object(\"eda\", \"gdelt/2019/01/01.export.CSV.zip\")\n",
    "# from io import BytesIO\n",
    "\n",
    "# df = pd.read_csv(BytesIO(resp.data))"
   ]
  },
  {
   "cell_type": "code",
   "execution_count": 49,
   "id": "7985e490-be6a-4b06-810f-9df637c474d8",
   "metadata": {},
   "outputs": [],
   "source": [
    "# df = pd.read_csv(urlopen(\"http://data.gdeltproject.org/events/20{0}{1}{2}.export.CSV.zip\".format(19,'01','01'),))"
   ]
  },
  {
   "cell_type": "markdown",
   "id": "a21664d7-a2d7-402b-b878-f60dff89e1ee",
   "metadata": {},
   "source": [
    "----------------------"
   ]
  },
  {
   "cell_type": "markdown",
   "id": "bd06d8da-17e0-4922-a602-d4dbe2916d73",
   "metadata": {},
   "source": [
    "## Data Analysis"
   ]
  },
  {
   "cell_type": "code",
   "execution_count": null,
   "id": "87013a83-952f-4452-8671-8f2397d5b25d",
   "metadata": {},
   "outputs": [],
   "source": []
  }
 ],
 "metadata": {
  "kernelspec": {
   "display_name": "Python 3 (ipykernel)",
   "language": "python",
   "name": "python3"
  },
  "language_info": {
   "codemirror_mode": {
    "name": "ipython",
    "version": 3
   },
   "file_extension": ".py",
   "mimetype": "text/x-python",
   "name": "python",
   "nbconvert_exporter": "python",
   "pygments_lexer": "ipython3",
   "version": "3.11.7"
  }
 },
 "nbformat": 4,
 "nbformat_minor": 5
}
